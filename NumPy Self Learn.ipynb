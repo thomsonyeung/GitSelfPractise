{
 "cells": [
  {
   "cell_type": "code",
   "execution_count": 1,
   "id": "508d500e",
   "metadata": {},
   "outputs": [],
   "source": [
    "import numpy as np"
   ]
  },
  {
   "cell_type": "code",
   "execution_count": 2,
   "id": "bad9858b",
   "metadata": {},
   "outputs": [],
   "source": [
    "x = np.array([[1, 2, 3], [4, 5, 6]], np.int32)"
   ]
  },
  {
   "cell_type": "code",
   "execution_count": 3,
   "id": "0030b9ac",
   "metadata": {},
   "outputs": [
    {
     "data": {
      "text/plain": [
       "numpy.ndarray"
      ]
     },
     "execution_count": 3,
     "metadata": {},
     "output_type": "execute_result"
    }
   ],
   "source": [
    "type(x)"
   ]
  },
  {
   "cell_type": "code",
   "execution_count": 5,
   "id": "5acd8e6f",
   "metadata": {},
   "outputs": [
    {
     "data": {
      "text/plain": [
       "6"
      ]
     },
     "execution_count": 5,
     "metadata": {},
     "output_type": "execute_result"
    }
   ],
   "source": [
    "x[1,2]\n",
    "#second row third column"
   ]
  },
  {
   "cell_type": "code",
   "execution_count": 6,
   "id": "377072fe",
   "metadata": {},
   "outputs": [
    {
     "data": {
      "text/plain": [
       "array([[1, 2, 3],\n",
       "       [4, 5, 6]])"
      ]
     },
     "execution_count": 6,
     "metadata": {},
     "output_type": "execute_result"
    }
   ],
   "source": [
    "x"
   ]
  },
  {
   "cell_type": "code",
   "execution_count": 7,
   "id": "72e97ebb",
   "metadata": {},
   "outputs": [
    {
     "data": {
      "text/plain": [
       "array([[4, 5]])"
      ]
     },
     "execution_count": 7,
     "metadata": {},
     "output_type": "execute_result"
    }
   ],
   "source": [
    "x[1:2,:2]"
   ]
  },
  {
   "cell_type": "code",
   "execution_count": 8,
   "id": "3442e383",
   "metadata": {},
   "outputs": [],
   "source": [
    "x1 = np.array([[3, 0, 0], [0, 4, 0], [5, 6, 0]])"
   ]
  },
  {
   "cell_type": "code",
   "execution_count": 9,
   "id": "0da1b2dc",
   "metadata": {},
   "outputs": [
    {
     "data": {
      "text/plain": [
       "array([[3, 0, 0],\n",
       "       [0, 4, 0],\n",
       "       [5, 6, 0]])"
      ]
     },
     "execution_count": 9,
     "metadata": {},
     "output_type": "execute_result"
    }
   ],
   "source": [
    "x1"
   ]
  },
  {
   "cell_type": "code",
   "execution_count": 10,
   "id": "55bc46db",
   "metadata": {},
   "outputs": [
    {
     "data": {
      "text/plain": [
       "(array([0, 1, 2, 2], dtype=int64), array([0, 1, 0, 1], dtype=int64))"
      ]
     },
     "execution_count": 10,
     "metadata": {},
     "output_type": "execute_result"
    }
   ],
   "source": [
    "np.nonzero(x1)"
   ]
  },
  {
   "cell_type": "markdown",
   "id": "0679c398",
   "metadata": {},
   "source": [
    "# axis"
   ]
  },
  {
   "cell_type": "code",
   "execution_count": 11,
   "id": "a8d323b5",
   "metadata": {},
   "outputs": [],
   "source": [
    "# https://docs.scipy.org/doc/numpy-1.10.0/glossary.html\n",
    "# A 2-dimensional array has two corresponding axes: \n",
    "# the first running vertically downwards across rows (axis 0),\n",
    "# and the second running horizontally across columns (axis 1)."
   ]
  },
  {
   "cell_type": "code",
   "execution_count": 12,
   "id": "9d7f2ea3",
   "metadata": {},
   "outputs": [
    {
     "data": {
      "text/plain": [
       "array([[ 0,  1,  2,  3],\n",
       "       [ 4,  5,  6,  7],\n",
       "       [ 8,  9, 10, 11]])"
      ]
     },
     "execution_count": 12,
     "metadata": {},
     "output_type": "execute_result"
    }
   ],
   "source": [
    "x3 = np.arange(12).reshape((3,4))\n",
    "x3"
   ]
  },
  {
   "cell_type": "code",
   "execution_count": 15,
   "id": "a3bf94bc",
   "metadata": {},
   "outputs": [
    {
     "data": {
      "text/plain": [
       "array([ 6, 22, 38])"
      ]
     },
     "execution_count": 15,
     "metadata": {},
     "output_type": "execute_result"
    }
   ],
   "source": [
    "x3.sum(axis=1)\n",
    "# sum horizontally"
   ]
  },
  {
   "cell_type": "code",
   "execution_count": 16,
   "id": "cfb46cbf",
   "metadata": {},
   "outputs": [
    {
     "data": {
      "text/plain": [
       "array([12, 15, 18, 21])"
      ]
     },
     "execution_count": 16,
     "metadata": {},
     "output_type": "execute_result"
    }
   ],
   "source": [
    "x3.sum(axis=0)\n",
    "# sum vertically"
   ]
  },
  {
   "cell_type": "code",
   "execution_count": 18,
   "id": "1e1fb6d9",
   "metadata": {},
   "outputs": [
    {
     "data": {
      "text/plain": [
       "66"
      ]
     },
     "execution_count": 18,
     "metadata": {},
     "output_type": "execute_result"
    }
   ],
   "source": [
    "x3.sum()\n",
    "# sum all"
   ]
  },
  {
   "cell_type": "markdown",
   "id": "0d98c396",
   "metadata": {},
   "source": [
    "# sort"
   ]
  },
  {
   "cell_type": "code",
   "execution_count": 22,
   "id": "353660ec",
   "metadata": {},
   "outputs": [
    {
     "data": {
      "text/plain": [
       "array([[1, 4],\n",
       "       [3, 1],\n",
       "       [6, 5]])"
      ]
     },
     "execution_count": 22,
     "metadata": {},
     "output_type": "execute_result"
    }
   ],
   "source": [
    "x4 = np.array([[1,4],[3,1],[6,5]])\n",
    "x4"
   ]
  },
  {
   "cell_type": "code",
   "execution_count": 25,
   "id": "a402df4f",
   "metadata": {},
   "outputs": [
    {
     "data": {
      "text/plain": [
       "array([[1, 4],\n",
       "       [1, 3],\n",
       "       [5, 6]])"
      ]
     },
     "execution_count": 25,
     "metadata": {},
     "output_type": "execute_result"
    }
   ],
   "source": [
    "np.sort(x4)\n",
    "# sort horizontally"
   ]
  },
  {
   "cell_type": "code",
   "execution_count": 26,
   "id": "4f78128d",
   "metadata": {},
   "outputs": [
    {
     "data": {
      "text/plain": [
       "array([[1, 4],\n",
       "       [1, 3],\n",
       "       [5, 6]])"
      ]
     },
     "execution_count": 26,
     "metadata": {},
     "output_type": "execute_result"
    }
   ],
   "source": [
    "np.sort(x4, axis=1)\n",
    "# sort horizontally"
   ]
  },
  {
   "cell_type": "code",
   "execution_count": 27,
   "id": "2aa09ad5",
   "metadata": {},
   "outputs": [
    {
     "data": {
      "text/plain": [
       "array([[1, 1],\n",
       "       [3, 4],\n",
       "       [6, 5]])"
      ]
     },
     "execution_count": 27,
     "metadata": {},
     "output_type": "execute_result"
    }
   ],
   "source": [
    "np.sort(x4, axis=0)\n",
    "# sort vertically"
   ]
  },
  {
   "cell_type": "code",
   "execution_count": 29,
   "id": "6318299d",
   "metadata": {},
   "outputs": [
    {
     "data": {
      "text/plain": [
       "array([1, 1, 3, 4, 5, 6])"
      ]
     },
     "execution_count": 29,
     "metadata": {},
     "output_type": "execute_result"
    }
   ],
   "source": [
    "np.sort(x4, axis=None)\n",
    "# sort flattened"
   ]
  },
  {
   "cell_type": "markdown",
   "id": "a50ad780",
   "metadata": {},
   "source": [
    "# where"
   ]
  },
  {
   "cell_type": "code",
   "execution_count": 30,
   "id": "23454a60",
   "metadata": {},
   "outputs": [
    {
     "data": {
      "text/plain": [
       "array([0, 1, 2, 3, 4, 5, 6, 7, 8, 9])"
      ]
     },
     "execution_count": 30,
     "metadata": {},
     "output_type": "execute_result"
    }
   ],
   "source": [
    "x5 = np.arange(10)\n",
    "x5"
   ]
  },
  {
   "cell_type": "code",
   "execution_count": 31,
   "id": "71aae4d4",
   "metadata": {},
   "outputs": [
    {
     "data": {
      "text/plain": [
       "array([ 0,  1,  2,  3,  4, 50, 60, 70, 80, 90])"
      ]
     },
     "execution_count": 31,
     "metadata": {},
     "output_type": "execute_result"
    }
   ],
   "source": [
    "np.where(x5<5, x5, x5 * 10)"
   ]
  },
  {
   "cell_type": "code",
   "execution_count": 32,
   "id": "c19a62fa",
   "metadata": {},
   "outputs": [
    {
     "data": {
      "text/plain": [
       "array([[1, 8],\n",
       "       [3, 4]])"
      ]
     },
     "execution_count": 32,
     "metadata": {},
     "output_type": "execute_result"
    }
   ],
   "source": [
    "np.where([[True, False], [True, True]],\n",
    "         [[1, 2], [3, 4]],\n",
    "         [[9, 8], [7, 6]])"
   ]
  },
  {
   "cell_type": "markdown",
   "id": "58a5c0a4",
   "metadata": {},
   "source": [
    "# isnan"
   ]
  },
  {
   "cell_type": "code",
   "execution_count": 38,
   "id": "797ff71d",
   "metadata": {},
   "outputs": [
    {
     "data": {
      "text/plain": [
       "array([ True, False, False])"
      ]
     },
     "execution_count": 38,
     "metadata": {},
     "output_type": "execute_result"
    }
   ],
   "source": [
    "x6 = np.array([np.nan, 1, -2])\n",
    "np.isnan(x6)"
   ]
  },
  {
   "cell_type": "markdown",
   "id": "d34b6816",
   "metadata": {},
   "source": [
    "# logical_and"
   ]
  },
  {
   "cell_type": "code",
   "execution_count": 39,
   "id": "bb5668cd",
   "metadata": {},
   "outputs": [
    {
     "data": {
      "text/plain": [
       "False"
      ]
     },
     "execution_count": 39,
     "metadata": {},
     "output_type": "execute_result"
    }
   ],
   "source": [
    "np.logical_and(True, False)"
   ]
  },
  {
   "cell_type": "code",
   "execution_count": 40,
   "id": "39a24ed5",
   "metadata": {},
   "outputs": [
    {
     "data": {
      "text/plain": [
       "True"
      ]
     },
     "execution_count": 40,
     "metadata": {},
     "output_type": "execute_result"
    }
   ],
   "source": [
    "np.logical_and(True, True)"
   ]
  },
  {
   "cell_type": "code",
   "execution_count": 41,
   "id": "21ff8e4c",
   "metadata": {},
   "outputs": [
    {
     "data": {
      "text/plain": [
       "False"
      ]
     },
     "execution_count": 41,
     "metadata": {},
     "output_type": "execute_result"
    }
   ],
   "source": [
    "np.logical_and(True, np.logical_and(False, True))"
   ]
  },
  {
   "cell_type": "code",
   "execution_count": 42,
   "id": "92055229",
   "metadata": {},
   "outputs": [
    {
     "data": {
      "text/plain": [
       "array([False, False])"
      ]
     },
     "execution_count": 42,
     "metadata": {},
     "output_type": "execute_result"
    }
   ],
   "source": [
    "np.logical_and([True,False], [False,True])"
   ]
  },
  {
   "cell_type": "code",
   "execution_count": 43,
   "id": "e82f618b",
   "metadata": {},
   "outputs": [
    {
     "data": {
      "text/plain": [
       "array([ True, False])"
      ]
     },
     "execution_count": 43,
     "metadata": {},
     "output_type": "execute_result"
    }
   ],
   "source": [
    "np.logical_and([True,False], [True,False])"
   ]
  },
  {
   "cell_type": "code",
   "execution_count": 44,
   "id": "c08a418a",
   "metadata": {},
   "outputs": [
    {
     "data": {
      "text/plain": [
       "array([0, 1, 2, 3, 4, 5, 6, 7, 8, 9])"
      ]
     },
     "execution_count": 44,
     "metadata": {},
     "output_type": "execute_result"
    }
   ],
   "source": [
    "x7 = np.arange(10)\n",
    "x7"
   ]
  },
  {
   "cell_type": "code",
   "execution_count": 45,
   "id": "13964d1c",
   "metadata": {},
   "outputs": [
    {
     "data": {
      "text/plain": [
       "array([False, False, False,  True,  True,  True,  True,  True, False,\n",
       "       False])"
      ]
     },
     "execution_count": 45,
     "metadata": {},
     "output_type": "execute_result"
    }
   ],
   "source": [
    "np.logical_and(x7>2,x7<8)"
   ]
  },
  {
   "cell_type": "code",
   "execution_count": 47,
   "id": "41d1eaa4",
   "metadata": {},
   "outputs": [
    {
     "data": {
      "text/plain": [
       "array([ True, False])"
      ]
     },
     "execution_count": 47,
     "metadata": {},
     "output_type": "execute_result"
    }
   ],
   "source": [
    "np.array([True, False]) & np.array([True, True]) \n",
    "# The & operator can be used as a shorthand for np.logical_and on boolean ndarrays."
   ]
  },
  {
   "cell_type": "code",
   "execution_count": 49,
   "id": "74580394",
   "metadata": {},
   "outputs": [
    {
     "data": {
      "text/plain": [
       "array([ True, False])"
      ]
     },
     "execution_count": 49,
     "metadata": {},
     "output_type": "execute_result"
    }
   ],
   "source": [
    "np.logical_and(np.array([True, False]), np.array([True, True]))"
   ]
  },
  {
   "cell_type": "code",
   "execution_count": 50,
   "id": "39e956b8",
   "metadata": {},
   "outputs": [
    {
     "ename": "TypeError",
     "evalue": "unsupported operand type(s) for &: 'list' and 'list'",
     "output_type": "error",
     "traceback": [
      "\u001b[1;31m---------------------------------------------------------------------------\u001b[0m",
      "\u001b[1;31mTypeError\u001b[0m                                 Traceback (most recent call last)",
      "Cell \u001b[1;32mIn[50], line 1\u001b[0m\n\u001b[1;32m----> 1\u001b[0m \u001b[43m[\u001b[49m\u001b[38;5;28;43;01mTrue\u001b[39;49;00m\u001b[43m,\u001b[49m\u001b[43m \u001b[49m\u001b[38;5;28;43;01mFalse\u001b[39;49;00m\u001b[43m]\u001b[49m\u001b[43m \u001b[49m\u001b[38;5;241;43m&\u001b[39;49m\u001b[43m \u001b[49m\u001b[43m[\u001b[49m\u001b[38;5;28;43;01mTrue\u001b[39;49;00m\u001b[43m,\u001b[49m\u001b[43m \u001b[49m\u001b[38;5;28;43;01mTrue\u001b[39;49;00m\u001b[43m]\u001b[49m\n",
      "\u001b[1;31mTypeError\u001b[0m: unsupported operand type(s) for &: 'list' and 'list'"
     ]
    }
   ],
   "source": [
    "[True, False] & [True, True]"
   ]
  },
  {
   "cell_type": "code",
   "execution_count": null,
   "id": "a20e281c",
   "metadata": {},
   "outputs": [],
   "source": []
  }
 ],
 "metadata": {
  "kernelspec": {
   "display_name": "Python 3 (ipykernel)",
   "language": "python",
   "name": "python3"
  },
  "language_info": {
   "codemirror_mode": {
    "name": "ipython",
    "version": 3
   },
   "file_extension": ".py",
   "mimetype": "text/x-python",
   "name": "python",
   "nbconvert_exporter": "python",
   "pygments_lexer": "ipython3",
   "version": "3.10.9"
  }
 },
 "nbformat": 4,
 "nbformat_minor": 5
}
