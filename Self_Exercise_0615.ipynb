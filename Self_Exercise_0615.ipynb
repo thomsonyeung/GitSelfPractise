{
 "cells": [
  {
   "cell_type": "code",
   "execution_count": 1,
   "id": "7028eea9",
   "metadata": {},
   "outputs": [],
   "source": [
    "# ! pip install yfinance"
   ]
  },
  {
   "cell_type": "code",
   "execution_count": 2,
   "id": "d9bfb50a",
   "metadata": {},
   "outputs": [],
   "source": [
    "import yfinance as yf\n",
    "import pandas as pd\n",
    "import numpy as np\n",
    "import warnings"
   ]
  },
  {
   "cell_type": "code",
   "execution_count": 3,
   "id": "951e274b",
   "metadata": {},
   "outputs": [
    {
     "name": "stdout",
     "output_type": "stream",
     "text": [
      "[*********************100%***********************]  1 of 1 completed\n"
     ]
    }
   ],
   "source": [
    "df=yf.download(\"^HSI\",\"2018-01-01\")"
   ]
  },
  {
   "cell_type": "code",
   "execution_count": 4,
   "id": "81adeb7e",
   "metadata": {},
   "outputs": [
    {
     "data": {
      "text/plain": [
       "pandas.core.frame.DataFrame"
      ]
     },
     "execution_count": 4,
     "metadata": {},
     "output_type": "execute_result"
    }
   ],
   "source": [
    "type(df)"
   ]
  },
  {
   "cell_type": "code",
   "execution_count": 5,
   "id": "67c77411",
   "metadata": {},
   "outputs": [
    {
     "data": {
      "text/plain": [
       "Date\n",
       "2018-01-02    30028.289062\n",
       "2018-01-03    30658.730469\n",
       "2018-01-04    30691.710938\n",
       "2018-01-05    30893.859375\n",
       "2018-01-08    30895.089844\n",
       "                  ...     \n",
       "2023-06-09    19333.429688\n",
       "2023-06-12    19440.990234\n",
       "2023-06-13    19355.650391\n",
       "2023-06-14    19547.580078\n",
       "2023-06-15    19626.800781\n",
       "Name: Open, Length: 1343, dtype: float64"
      ]
     },
     "execution_count": 5,
     "metadata": {},
     "output_type": "execute_result"
    }
   ],
   "source": [
    "df[\"Open\"]"
   ]
  },
  {
   "cell_type": "code",
   "execution_count": 6,
   "id": "0fafef63",
   "metadata": {},
   "outputs": [
    {
     "data": {
      "text/plain": [
       "pandas.core.series.Series"
      ]
     },
     "execution_count": 6,
     "metadata": {},
     "output_type": "execute_result"
    }
   ],
   "source": [
    "type(df[\"Open\"])"
   ]
  },
  {
   "cell_type": "markdown",
   "id": "9ae49a9a",
   "metadata": {},
   "source": [
    "### Series constructor from numpy array"
   ]
  },
  {
   "cell_type": "code",
   "execution_count": 7,
   "id": "a959c898",
   "metadata": {},
   "outputs": [],
   "source": [
    "data = np.array(['python','php','java'])"
   ]
  },
  {
   "cell_type": "code",
   "execution_count": 8,
   "id": "0b7aed63",
   "metadata": {},
   "outputs": [
    {
     "data": {
      "text/plain": [
       "numpy.ndarray"
      ]
     },
     "execution_count": 8,
     "metadata": {},
     "output_type": "execute_result"
    }
   ],
   "source": [
    "type(data)"
   ]
  },
  {
   "cell_type": "code",
   "execution_count": 9,
   "id": "580c7868",
   "metadata": {},
   "outputs": [],
   "source": [
    "series = pd.Series(data)"
   ]
  },
  {
   "cell_type": "code",
   "execution_count": 10,
   "id": "f9df7036",
   "metadata": {},
   "outputs": [
    {
     "data": {
      "text/plain": [
       "0    python\n",
       "1       php\n",
       "2      java\n",
       "dtype: object"
      ]
     },
     "execution_count": 10,
     "metadata": {},
     "output_type": "execute_result"
    }
   ],
   "source": [
    "series"
   ]
  },
  {
   "cell_type": "code",
   "execution_count": 11,
   "id": "72bafbbe",
   "metadata": {},
   "outputs": [
    {
     "data": {
      "text/plain": [
       "pandas.core.series.Series"
      ]
     },
     "execution_count": 11,
     "metadata": {},
     "output_type": "execute_result"
    }
   ],
   "source": [
    "type(series)"
   ]
  },
  {
   "cell_type": "markdown",
   "id": "9de848ee",
   "metadata": {},
   "source": [
    "### Series constructor from Dict"
   ]
  },
  {
   "cell_type": "code",
   "execution_count": 12,
   "id": "2b0b4e1b",
   "metadata": {},
   "outputs": [],
   "source": [
    "data = {'Courses' :\"pandas\", 'Fees' : 20000, 'Duration' : \"30days\"}\n",
    "s2 = pd.Series(data)"
   ]
  },
  {
   "cell_type": "code",
   "execution_count": 13,
   "id": "5fbf4563",
   "metadata": {},
   "outputs": [
    {
     "data": {
      "text/plain": [
       "pandas.core.series.Series"
      ]
     },
     "execution_count": 13,
     "metadata": {},
     "output_type": "execute_result"
    }
   ],
   "source": [
    "type(s2)"
   ]
  },
  {
   "cell_type": "markdown",
   "id": "6ecc6a96",
   "metadata": {},
   "source": [
    "### Series constructor from List"
   ]
  },
  {
   "cell_type": "code",
   "execution_count": 14,
   "id": "2d84c725",
   "metadata": {},
   "outputs": [
    {
     "data": {
      "text/plain": [
       "pandas.core.series.Series"
      ]
     },
     "execution_count": 14,
     "metadata": {},
     "output_type": "execute_result"
    }
   ],
   "source": [
    "data = ['python','php','java']\n",
    "s3 = pd.Series(data, index=['r1', 'r2','r3'])\n",
    "type(s3)"
   ]
  },
  {
   "cell_type": "code",
   "execution_count": 15,
   "id": "0347e1df",
   "metadata": {
    "scrolled": true
   },
   "outputs": [
    {
     "data": {
      "text/plain": [
       "r1    python\n",
       "r2       php\n",
       "r3      java\n",
       "dtype: object"
      ]
     },
     "execution_count": 15,
     "metadata": {},
     "output_type": "execute_result"
    }
   ],
   "source": [
    "s3"
   ]
  },
  {
   "cell_type": "code",
   "execution_count": 16,
   "id": "c30fa000",
   "metadata": {},
   "outputs": [
    {
     "data": {
      "text/plain": [
       "DatetimeIndex(['2018-01-02', '2018-01-03', '2018-01-04', '2018-01-05',\n",
       "               '2018-01-08', '2018-01-09', '2018-01-10', '2018-01-11',\n",
       "               '2018-01-12', '2018-01-15',\n",
       "               ...\n",
       "               '2023-06-02', '2023-06-05', '2023-06-06', '2023-06-07',\n",
       "               '2023-06-08', '2023-06-09', '2023-06-12', '2023-06-13',\n",
       "               '2023-06-14', '2023-06-15'],\n",
       "              dtype='datetime64[ns]', name='Date', length=1343, freq=None)"
      ]
     },
     "execution_count": 16,
     "metadata": {},
     "output_type": "execute_result"
    }
   ],
   "source": [
    "df.index"
   ]
  },
  {
   "cell_type": "code",
   "execution_count": 17,
   "id": "c8950c8a",
   "metadata": {},
   "outputs": [
    {
     "data": {
      "text/plain": [
       "pandas.core.indexes.datetimes.DatetimeIndex"
      ]
     },
     "execution_count": 17,
     "metadata": {},
     "output_type": "execute_result"
    }
   ],
   "source": [
    "type(df.index)"
   ]
  },
  {
   "cell_type": "code",
   "execution_count": 18,
   "id": "4a9690b0",
   "metadata": {},
   "outputs": [
    {
     "data": {
      "text/plain": [
       "Index(['Open', 'High', 'Low', 'Close', 'Adj Close', 'Volume'], dtype='object')"
      ]
     },
     "execution_count": 18,
     "metadata": {},
     "output_type": "execute_result"
    }
   ],
   "source": [
    "df.columns"
   ]
  },
  {
   "cell_type": "code",
   "execution_count": 19,
   "id": "5dc1dac6",
   "metadata": {},
   "outputs": [
    {
     "data": {
      "text/html": [
       "<div>\n",
       "<style scoped>\n",
       "    .dataframe tbody tr th:only-of-type {\n",
       "        vertical-align: middle;\n",
       "    }\n",
       "\n",
       "    .dataframe tbody tr th {\n",
       "        vertical-align: top;\n",
       "    }\n",
       "\n",
       "    .dataframe thead th {\n",
       "        text-align: right;\n",
       "    }\n",
       "</style>\n",
       "<table border=\"1\" class=\"dataframe\">\n",
       "  <thead>\n",
       "    <tr style=\"text-align: right;\">\n",
       "      <th></th>\n",
       "      <th>Courses</th>\n",
       "      <th>Fee</th>\n",
       "      <th>Duration</th>\n",
       "    </tr>\n",
       "  </thead>\n",
       "  <tbody>\n",
       "    <tr>\n",
       "      <th>a</th>\n",
       "      <td>Spark</td>\n",
       "      <td>20000</td>\n",
       "      <td>30days</td>\n",
       "    </tr>\n",
       "    <tr>\n",
       "      <th>b</th>\n",
       "      <td>pandas</td>\n",
       "      <td>20000</td>\n",
       "      <td>40days</td>\n",
       "    </tr>\n",
       "  </tbody>\n",
       "</table>\n",
       "</div>"
      ],
      "text/plain": [
       "  Courses    Fee Duration\n",
       "a   Spark  20000   30days\n",
       "b  pandas  20000   40days"
      ]
     },
     "execution_count": 19,
     "metadata": {},
     "output_type": "execute_result"
    }
   ],
   "source": [
    "technologies = [ [\"Spark\",20000, \"30days\"], \n",
    "                 [\"pandas\",20000, \"40days\"], \n",
    "               ]\n",
    "df=pd.DataFrame(technologies)\n",
    "\n",
    "column_names=[\"Courses\",\"Fee\",\"Duration\"]\n",
    "row_label=[\"a\",\"b\"]\n",
    "df=pd.DataFrame(technologies,columns=column_names,index=row_label)\n",
    "df"
   ]
  },
  {
   "cell_type": "code",
   "execution_count": 20,
   "id": "a4a31f93",
   "metadata": {},
   "outputs": [
    {
     "data": {
      "text/plain": [
       "Courses     object\n",
       "Fee          int64\n",
       "Duration    object\n",
       "dtype: object"
      ]
     },
     "execution_count": 20,
     "metadata": {},
     "output_type": "execute_result"
    }
   ],
   "source": [
    "df.dtypes"
   ]
  },
  {
   "cell_type": "code",
   "execution_count": 21,
   "id": "4e0c968f",
   "metadata": {},
   "outputs": [],
   "source": [
    "types={'Courses': str,'Fee':float,'Duration':str}\n",
    "df=df.astype(types)"
   ]
  },
  {
   "cell_type": "code",
   "execution_count": 22,
   "id": "827f75ab",
   "metadata": {},
   "outputs": [
    {
     "data": {
      "text/plain": [
       "Courses      object\n",
       "Fee         float64\n",
       "Duration     object\n",
       "dtype: object"
      ]
     },
     "execution_count": 22,
     "metadata": {},
     "output_type": "execute_result"
    }
   ],
   "source": [
    "df.dtypes"
   ]
  },
  {
   "cell_type": "code",
   "execution_count": 23,
   "id": "cd28030c",
   "metadata": {},
   "outputs": [],
   "source": [
    "# Create DataFrame from Dictionary\n",
    "technologies_dict = {\n",
    "    'Courses':[\"Spark\",\"PySpark\",\"Hadoop\"],\n",
    "    'Fee' :[20000,25000,26000],\n",
    "    'Duration':['30day','40days','35days'],\n",
    "    'Discount':[1000,2300,1500]\n",
    "              }\n",
    "df = pd.DataFrame(technologies_dict)"
   ]
  },
  {
   "cell_type": "code",
   "execution_count": 24,
   "id": "6f4d7e64",
   "metadata": {},
   "outputs": [
    {
     "data": {
      "text/html": [
       "<div>\n",
       "<style scoped>\n",
       "    .dataframe tbody tr th:only-of-type {\n",
       "        vertical-align: middle;\n",
       "    }\n",
       "\n",
       "    .dataframe tbody tr th {\n",
       "        vertical-align: top;\n",
       "    }\n",
       "\n",
       "    .dataframe thead th {\n",
       "        text-align: right;\n",
       "    }\n",
       "</style>\n",
       "<table border=\"1\" class=\"dataframe\">\n",
       "  <thead>\n",
       "    <tr style=\"text-align: right;\">\n",
       "      <th></th>\n",
       "      <th>Courses</th>\n",
       "      <th>Fee</th>\n",
       "      <th>Duration</th>\n",
       "      <th>Discount</th>\n",
       "    </tr>\n",
       "  </thead>\n",
       "  <tbody>\n",
       "    <tr>\n",
       "      <th>0</th>\n",
       "      <td>Spark</td>\n",
       "      <td>20000</td>\n",
       "      <td>30day</td>\n",
       "      <td>1000</td>\n",
       "    </tr>\n",
       "    <tr>\n",
       "      <th>1</th>\n",
       "      <td>PySpark</td>\n",
       "      <td>25000</td>\n",
       "      <td>40days</td>\n",
       "      <td>2300</td>\n",
       "    </tr>\n",
       "    <tr>\n",
       "      <th>2</th>\n",
       "      <td>Hadoop</td>\n",
       "      <td>26000</td>\n",
       "      <td>35days</td>\n",
       "      <td>1500</td>\n",
       "    </tr>\n",
       "  </tbody>\n",
       "</table>\n",
       "</div>"
      ],
      "text/plain": [
       "   Courses    Fee Duration  Discount\n",
       "0    Spark  20000    30day      1000\n",
       "1  PySpark  25000   40days      2300\n",
       "2   Hadoop  26000   35days      1500"
      ]
     },
     "execution_count": 24,
     "metadata": {},
     "output_type": "execute_result"
    }
   ],
   "source": [
    "df"
   ]
  },
  {
   "cell_type": "code",
   "execution_count": 25,
   "id": "045e07dd",
   "metadata": {},
   "outputs": [],
   "source": [
    "technologies_dict2   = ({\n",
    "    'Courses':[\"Spark\",\"PySpark\",\"Hadoop\",\"Python\",\"Pandas\",None,\"Spark\",\"Python\"],\n",
    "    'Fee' :[22000,25000,23000,24000,np.nan,25000,25000,22000],\n",
    "    'Duration':['30day','50days','55days','40days','60days','35day','','50days'],\n",
    "    'Discount':[1000,2300,1000,1200,2500,1300,1400,1600]\n",
    "          })\n",
    "row_labels=['r0','r1','r2','r3','r4','r5','r6','r7']\n",
    "df = pd.DataFrame(technologies_dict2, index=row_labels)"
   ]
  },
  {
   "cell_type": "code",
   "execution_count": 26,
   "id": "228c63f7",
   "metadata": {},
   "outputs": [
    {
     "data": {
      "text/plain": [
       "dict"
      ]
     },
     "execution_count": 26,
     "metadata": {},
     "output_type": "execute_result"
    }
   ],
   "source": [
    "type(technologies_dict2)"
   ]
  },
  {
   "cell_type": "code",
   "execution_count": 27,
   "id": "575f037f",
   "metadata": {},
   "outputs": [
    {
     "data": {
      "text/plain": [
       "list"
      ]
     },
     "execution_count": 27,
     "metadata": {},
     "output_type": "execute_result"
    }
   ],
   "source": [
    "type(row_labels)"
   ]
  },
  {
   "cell_type": "code",
   "execution_count": 28,
   "id": "6e57c061",
   "metadata": {},
   "outputs": [
    {
     "data": {
      "text/html": [
       "<div>\n",
       "<style scoped>\n",
       "    .dataframe tbody tr th:only-of-type {\n",
       "        vertical-align: middle;\n",
       "    }\n",
       "\n",
       "    .dataframe tbody tr th {\n",
       "        vertical-align: top;\n",
       "    }\n",
       "\n",
       "    .dataframe thead th {\n",
       "        text-align: right;\n",
       "    }\n",
       "</style>\n",
       "<table border=\"1\" class=\"dataframe\">\n",
       "  <thead>\n",
       "    <tr style=\"text-align: right;\">\n",
       "      <th></th>\n",
       "      <th>Courses</th>\n",
       "      <th>Fee</th>\n",
       "      <th>Duration</th>\n",
       "      <th>Discount</th>\n",
       "    </tr>\n",
       "  </thead>\n",
       "  <tbody>\n",
       "    <tr>\n",
       "      <th>r0</th>\n",
       "      <td>Spark</td>\n",
       "      <td>22000.0</td>\n",
       "      <td>30day</td>\n",
       "      <td>1000</td>\n",
       "    </tr>\n",
       "    <tr>\n",
       "      <th>r1</th>\n",
       "      <td>PySpark</td>\n",
       "      <td>25000.0</td>\n",
       "      <td>50days</td>\n",
       "      <td>2300</td>\n",
       "    </tr>\n",
       "    <tr>\n",
       "      <th>r2</th>\n",
       "      <td>Hadoop</td>\n",
       "      <td>23000.0</td>\n",
       "      <td>55days</td>\n",
       "      <td>1000</td>\n",
       "    </tr>\n",
       "    <tr>\n",
       "      <th>r3</th>\n",
       "      <td>Python</td>\n",
       "      <td>24000.0</td>\n",
       "      <td>40days</td>\n",
       "      <td>1200</td>\n",
       "    </tr>\n",
       "    <tr>\n",
       "      <th>r4</th>\n",
       "      <td>Pandas</td>\n",
       "      <td>NaN</td>\n",
       "      <td>60days</td>\n",
       "      <td>2500</td>\n",
       "    </tr>\n",
       "    <tr>\n",
       "      <th>r5</th>\n",
       "      <td>None</td>\n",
       "      <td>25000.0</td>\n",
       "      <td>35day</td>\n",
       "      <td>1300</td>\n",
       "    </tr>\n",
       "    <tr>\n",
       "      <th>r6</th>\n",
       "      <td>Spark</td>\n",
       "      <td>25000.0</td>\n",
       "      <td></td>\n",
       "      <td>1400</td>\n",
       "    </tr>\n",
       "    <tr>\n",
       "      <th>r7</th>\n",
       "      <td>Python</td>\n",
       "      <td>22000.0</td>\n",
       "      <td>50days</td>\n",
       "      <td>1600</td>\n",
       "    </tr>\n",
       "  </tbody>\n",
       "</table>\n",
       "</div>"
      ],
      "text/plain": [
       "    Courses      Fee Duration  Discount\n",
       "r0    Spark  22000.0    30day      1000\n",
       "r1  PySpark  25000.0   50days      2300\n",
       "r2   Hadoop  23000.0   55days      1000\n",
       "r3   Python  24000.0   40days      1200\n",
       "r4   Pandas      NaN   60days      2500\n",
       "r5     None  25000.0    35day      1300\n",
       "r6    Spark  25000.0               1400\n",
       "r7   Python  22000.0   50days      1600"
      ]
     },
     "execution_count": 28,
     "metadata": {},
     "output_type": "execute_result"
    }
   ],
   "source": [
    "df\n"
   ]
  },
  {
   "cell_type": "code",
   "execution_count": 29,
   "id": "b98ec2d5",
   "metadata": {},
   "outputs": [
    {
     "data": {
      "text/plain": [
       "(8, 4)"
      ]
     },
     "execution_count": 29,
     "metadata": {},
     "output_type": "execute_result"
    }
   ],
   "source": [
    "df.shape"
   ]
  },
  {
   "cell_type": "code",
   "execution_count": 30,
   "id": "b25da0ae",
   "metadata": {},
   "outputs": [
    {
     "data": {
      "text/plain": [
       "32"
      ]
     },
     "execution_count": 30,
     "metadata": {},
     "output_type": "execute_result"
    }
   ],
   "source": [
    "df.size"
   ]
  },
  {
   "cell_type": "code",
   "execution_count": 31,
   "id": "c919d560",
   "metadata": {},
   "outputs": [
    {
     "data": {
      "text/plain": [
       "False"
      ]
     },
     "execution_count": 31,
     "metadata": {},
     "output_type": "execute_result"
    }
   ],
   "source": [
    "df.empty"
   ]
  },
  {
   "cell_type": "code",
   "execution_count": 32,
   "id": "48886d56",
   "metadata": {},
   "outputs": [
    {
     "data": {
      "text/plain": [
       "Index(['Courses', 'Fee', 'Duration', 'Discount'], dtype='object')"
      ]
     },
     "execution_count": 32,
     "metadata": {},
     "output_type": "execute_result"
    }
   ],
   "source": [
    "df.columns"
   ]
  },
  {
   "cell_type": "code",
   "execution_count": 33,
   "id": "0812009c",
   "metadata": {},
   "outputs": [
    {
     "data": {
      "text/plain": [
       "array(['Courses', 'Fee', 'Duration', 'Discount'], dtype=object)"
      ]
     },
     "execution_count": 33,
     "metadata": {},
     "output_type": "execute_result"
    }
   ],
   "source": [
    "df.columns.values"
   ]
  },
  {
   "cell_type": "code",
   "execution_count": 34,
   "id": "d34e74c3",
   "metadata": {},
   "outputs": [
    {
     "data": {
      "text/plain": [
       "Index(['r0', 'r1', 'r2', 'r3', 'r4', 'r5', 'r6', 'r7'], dtype='object')"
      ]
     },
     "execution_count": 34,
     "metadata": {},
     "output_type": "execute_result"
    }
   ],
   "source": [
    "df.index\n"
   ]
  },
  {
   "cell_type": "code",
   "execution_count": 35,
   "id": "296cfde1",
   "metadata": {},
   "outputs": [
    {
     "data": {
      "text/plain": [
       "array(['r0', 'r1', 'r2', 'r3', 'r4', 'r5', 'r6', 'r7'], dtype=object)"
      ]
     },
     "execution_count": 35,
     "metadata": {},
     "output_type": "execute_result"
    }
   ],
   "source": [
    "df.index.values"
   ]
  },
  {
   "cell_type": "code",
   "execution_count": 36,
   "id": "450227a6",
   "metadata": {},
   "outputs": [
    {
     "data": {
      "text/plain": [
       "Courses      object\n",
       "Fee         float64\n",
       "Duration     object\n",
       "Discount      int64\n",
       "dtype: object"
      ]
     },
     "execution_count": 36,
     "metadata": {},
     "output_type": "execute_result"
    }
   ],
   "source": [
    "df.dtypes"
   ]
  },
  {
   "cell_type": "code",
   "execution_count": 37,
   "id": "4a6dc1b2",
   "metadata": {},
   "outputs": [
    {
     "data": {
      "text/plain": [
       "list"
      ]
     },
     "execution_count": 37,
     "metadata": {},
     "output_type": "execute_result"
    }
   ],
   "source": [
    "type(['Courses', 'Fee', 'Duration', 'Discount'])"
   ]
  },
  {
   "cell_type": "code",
   "execution_count": 38,
   "id": "2fa0afa6",
   "metadata": {},
   "outputs": [
    {
     "data": {
      "text/plain": [
       "r0    22000.0\n",
       "r1    25000.0\n",
       "r2    23000.0\n",
       "r3    24000.0\n",
       "r4        NaN\n",
       "r5    25000.0\n",
       "r6    25000.0\n",
       "r7    22000.0\n",
       "Name: Fee, dtype: float64"
      ]
     },
     "execution_count": 38,
     "metadata": {},
     "output_type": "execute_result"
    }
   ],
   "source": [
    "df['Fee']"
   ]
  },
  {
   "cell_type": "code",
   "execution_count": 39,
   "id": "3b3936a4",
   "metadata": {},
   "outputs": [
    {
     "data": {
      "text/plain": [
       "pandas.core.series.Series"
      ]
     },
     "execution_count": 39,
     "metadata": {},
     "output_type": "execute_result"
    }
   ],
   "source": [
    "type(df['Fee']) # When collect one column, it is a series"
   ]
  },
  {
   "cell_type": "code",
   "execution_count": 40,
   "id": "1e2c655a",
   "metadata": {},
   "outputs": [
    {
     "data": {
      "text/html": [
       "<div>\n",
       "<style scoped>\n",
       "    .dataframe tbody tr th:only-of-type {\n",
       "        vertical-align: middle;\n",
       "    }\n",
       "\n",
       "    .dataframe tbody tr th {\n",
       "        vertical-align: top;\n",
       "    }\n",
       "\n",
       "    .dataframe thead th {\n",
       "        text-align: right;\n",
       "    }\n",
       "</style>\n",
       "<table border=\"1\" class=\"dataframe\">\n",
       "  <thead>\n",
       "    <tr style=\"text-align: right;\">\n",
       "      <th></th>\n",
       "      <th>Fee</th>\n",
       "      <th>Duration</th>\n",
       "    </tr>\n",
       "  </thead>\n",
       "  <tbody>\n",
       "    <tr>\n",
       "      <th>r0</th>\n",
       "      <td>22000.0</td>\n",
       "      <td>30day</td>\n",
       "    </tr>\n",
       "    <tr>\n",
       "      <th>r1</th>\n",
       "      <td>25000.0</td>\n",
       "      <td>50days</td>\n",
       "    </tr>\n",
       "    <tr>\n",
       "      <th>r2</th>\n",
       "      <td>23000.0</td>\n",
       "      <td>55days</td>\n",
       "    </tr>\n",
       "    <tr>\n",
       "      <th>r3</th>\n",
       "      <td>24000.0</td>\n",
       "      <td>40days</td>\n",
       "    </tr>\n",
       "    <tr>\n",
       "      <th>r4</th>\n",
       "      <td>NaN</td>\n",
       "      <td>60days</td>\n",
       "    </tr>\n",
       "    <tr>\n",
       "      <th>r5</th>\n",
       "      <td>25000.0</td>\n",
       "      <td>35day</td>\n",
       "    </tr>\n",
       "    <tr>\n",
       "      <th>r6</th>\n",
       "      <td>25000.0</td>\n",
       "      <td></td>\n",
       "    </tr>\n",
       "    <tr>\n",
       "      <th>r7</th>\n",
       "      <td>22000.0</td>\n",
       "      <td>50days</td>\n",
       "    </tr>\n",
       "  </tbody>\n",
       "</table>\n",
       "</div>"
      ],
      "text/plain": [
       "        Fee Duration\n",
       "r0  22000.0    30day\n",
       "r1  25000.0   50days\n",
       "r2  23000.0   55days\n",
       "r3  24000.0   40days\n",
       "r4      NaN   60days\n",
       "r5  25000.0    35day\n",
       "r6  25000.0         \n",
       "r7  22000.0   50days"
      ]
     },
     "execution_count": 40,
     "metadata": {},
     "output_type": "execute_result"
    }
   ],
   "source": [
    "df[['Fee','Duration']]"
   ]
  },
  {
   "cell_type": "code",
   "execution_count": 41,
   "id": "98dd7566",
   "metadata": {},
   "outputs": [
    {
     "data": {
      "text/plain": [
       "pandas.core.frame.DataFrame"
      ]
     },
     "execution_count": 41,
     "metadata": {},
     "output_type": "execute_result"
    }
   ],
   "source": [
    "type(df[['Fee','Duration']]) # When collect one column, it is a dataframe"
   ]
  },
  {
   "cell_type": "code",
   "execution_count": 42,
   "id": "83a76a38",
   "metadata": {},
   "outputs": [
    {
     "data": {
      "text/html": [
       "<div>\n",
       "<style scoped>\n",
       "    .dataframe tbody tr th:only-of-type {\n",
       "        vertical-align: middle;\n",
       "    }\n",
       "\n",
       "    .dataframe tbody tr th {\n",
       "        vertical-align: top;\n",
       "    }\n",
       "\n",
       "    .dataframe thead th {\n",
       "        text-align: right;\n",
       "    }\n",
       "</style>\n",
       "<table border=\"1\" class=\"dataframe\">\n",
       "  <thead>\n",
       "    <tr style=\"text-align: right;\">\n",
       "      <th></th>\n",
       "      <th>Courses</th>\n",
       "      <th>Fee</th>\n",
       "      <th>Duration</th>\n",
       "      <th>Discount</th>\n",
       "    </tr>\n",
       "  </thead>\n",
       "  <tbody>\n",
       "    <tr>\n",
       "      <th>r0</th>\n",
       "      <td>Spark</td>\n",
       "      <td>22000.0</td>\n",
       "      <td>30day</td>\n",
       "      <td>1000</td>\n",
       "    </tr>\n",
       "    <tr>\n",
       "      <th>r7</th>\n",
       "      <td>Python</td>\n",
       "      <td>22000.0</td>\n",
       "      <td>50days</td>\n",
       "      <td>1600</td>\n",
       "    </tr>\n",
       "  </tbody>\n",
       "</table>\n",
       "</div>"
      ],
      "text/plain": [
       "   Courses      Fee Duration  Discount\n",
       "r0   Spark  22000.0    30day      1000\n",
       "r7  Python  22000.0   50days      1600"
      ]
     },
     "execution_count": 42,
     "metadata": {},
     "output_type": "execute_result"
    }
   ],
   "source": [
    "df[df['Fee'] == 22000] # where fee = 2000"
   ]
  },
  {
   "cell_type": "code",
   "execution_count": 43,
   "id": "b0df8089",
   "metadata": {},
   "outputs": [
    {
     "data": {
      "text/html": [
       "<div>\n",
       "<style scoped>\n",
       "    .dataframe tbody tr th:only-of-type {\n",
       "        vertical-align: middle;\n",
       "    }\n",
       "\n",
       "    .dataframe tbody tr th {\n",
       "        vertical-align: top;\n",
       "    }\n",
       "\n",
       "    .dataframe thead th {\n",
       "        text-align: right;\n",
       "    }\n",
       "</style>\n",
       "<table border=\"1\" class=\"dataframe\">\n",
       "  <thead>\n",
       "    <tr style=\"text-align: right;\">\n",
       "      <th></th>\n",
       "      <th>Courses</th>\n",
       "      <th>Fee</th>\n",
       "      <th>Duration</th>\n",
       "      <th>Discount</th>\n",
       "    </tr>\n",
       "  </thead>\n",
       "  <tbody>\n",
       "    <tr>\n",
       "      <th>r7</th>\n",
       "      <td>Python</td>\n",
       "      <td>22000.0</td>\n",
       "      <td>50days</td>\n",
       "      <td>1600</td>\n",
       "    </tr>\n",
       "  </tbody>\n",
       "</table>\n",
       "</div>"
      ],
      "text/plain": [
       "   Courses      Fee Duration  Discount\n",
       "r7  Python  22000.0   50days      1600"
      ]
     },
     "execution_count": 43,
     "metadata": {},
     "output_type": "execute_result"
    }
   ],
   "source": [
    "df[(df['Fee'] == 22000) & (df['Discount'] > 1500)] # where fee = 2000 and discount > 1500"
   ]
  },
  {
   "cell_type": "code",
   "execution_count": 44,
   "id": "e5730b4e",
   "metadata": {},
   "outputs": [
    {
     "data": {
      "text/html": [
       "<div>\n",
       "<style scoped>\n",
       "    .dataframe tbody tr th:only-of-type {\n",
       "        vertical-align: middle;\n",
       "    }\n",
       "\n",
       "    .dataframe tbody tr th {\n",
       "        vertical-align: top;\n",
       "    }\n",
       "\n",
       "    .dataframe thead th {\n",
       "        text-align: right;\n",
       "    }\n",
       "</style>\n",
       "<table border=\"1\" class=\"dataframe\">\n",
       "  <thead>\n",
       "    <tr style=\"text-align: right;\">\n",
       "      <th></th>\n",
       "      <th>Courses</th>\n",
       "      <th>Fee</th>\n",
       "      <th>Duration</th>\n",
       "      <th>Discount</th>\n",
       "    </tr>\n",
       "  </thead>\n",
       "  <tbody>\n",
       "    <tr>\n",
       "      <th>r7</th>\n",
       "      <td>Python</td>\n",
       "      <td>22000.0</td>\n",
       "      <td>50days</td>\n",
       "      <td>1600</td>\n",
       "    </tr>\n",
       "  </tbody>\n",
       "</table>\n",
       "</div>"
      ],
      "text/plain": [
       "   Courses      Fee Duration  Discount\n",
       "r7  Python  22000.0   50days      1600"
      ]
     },
     "execution_count": 44,
     "metadata": {},
     "output_type": "execute_result"
    }
   ],
   "source": [
    "df.iloc[list((df['Fee'] == 22000) & (df['Discount'] > 1500)) ] # where fee = 2000 and discount > 1500"
   ]
  },
  {
   "cell_type": "code",
   "execution_count": 45,
   "id": "e8ff89af",
   "metadata": {},
   "outputs": [
    {
     "data": {
      "text/html": [
       "<div>\n",
       "<style scoped>\n",
       "    .dataframe tbody tr th:only-of-type {\n",
       "        vertical-align: middle;\n",
       "    }\n",
       "\n",
       "    .dataframe tbody tr th {\n",
       "        vertical-align: top;\n",
       "    }\n",
       "\n",
       "    .dataframe thead th {\n",
       "        text-align: right;\n",
       "    }\n",
       "</style>\n",
       "<table border=\"1\" class=\"dataframe\">\n",
       "  <thead>\n",
       "    <tr style=\"text-align: right;\">\n",
       "      <th></th>\n",
       "      <th>Courses</th>\n",
       "      <th>Fee</th>\n",
       "      <th>Duration</th>\n",
       "      <th>Discount</th>\n",
       "    </tr>\n",
       "  </thead>\n",
       "  <tbody>\n",
       "    <tr>\n",
       "      <th>r0</th>\n",
       "      <td>Spark</td>\n",
       "      <td>22000.0</td>\n",
       "      <td>30day</td>\n",
       "      <td>1000</td>\n",
       "    </tr>\n",
       "    <tr>\n",
       "      <th>r1</th>\n",
       "      <td>PySpark</td>\n",
       "      <td>25000.0</td>\n",
       "      <td>50days</td>\n",
       "      <td>2300</td>\n",
       "    </tr>\n",
       "    <tr>\n",
       "      <th>r4</th>\n",
       "      <td>Pandas</td>\n",
       "      <td>NaN</td>\n",
       "      <td>60days</td>\n",
       "      <td>2500</td>\n",
       "    </tr>\n",
       "    <tr>\n",
       "      <th>r7</th>\n",
       "      <td>Python</td>\n",
       "      <td>22000.0</td>\n",
       "      <td>50days</td>\n",
       "      <td>1600</td>\n",
       "    </tr>\n",
       "  </tbody>\n",
       "</table>\n",
       "</div>"
      ],
      "text/plain": [
       "    Courses      Fee Duration  Discount\n",
       "r0    Spark  22000.0    30day      1000\n",
       "r1  PySpark  25000.0   50days      2300\n",
       "r4   Pandas      NaN   60days      2500\n",
       "r7   Python  22000.0   50days      1600"
      ]
     },
     "execution_count": 45,
     "metadata": {},
     "output_type": "execute_result"
    }
   ],
   "source": [
    "df[(df['Fee'] == 22000) | (df['Discount'] > 1500)] # where fee = 2000 or discount > 1500"
   ]
  },
  {
   "cell_type": "code",
   "execution_count": 46,
   "id": "4590ffbb",
   "metadata": {},
   "outputs": [
    {
     "data": {
      "text/html": [
       "<div>\n",
       "<style scoped>\n",
       "    .dataframe tbody tr th:only-of-type {\n",
       "        vertical-align: middle;\n",
       "    }\n",
       "\n",
       "    .dataframe tbody tr th {\n",
       "        vertical-align: top;\n",
       "    }\n",
       "\n",
       "    .dataframe thead th {\n",
       "        text-align: right;\n",
       "    }\n",
       "</style>\n",
       "<table border=\"1\" class=\"dataframe\">\n",
       "  <thead>\n",
       "    <tr style=\"text-align: right;\">\n",
       "      <th></th>\n",
       "      <th>Courses</th>\n",
       "      <th>Fee</th>\n",
       "      <th>Duration</th>\n",
       "      <th>Discount</th>\n",
       "    </tr>\n",
       "  </thead>\n",
       "  <tbody>\n",
       "    <tr>\n",
       "      <th>r4</th>\n",
       "      <td>Pandas</td>\n",
       "      <td>NaN</td>\n",
       "      <td>60days</td>\n",
       "      <td>2500</td>\n",
       "    </tr>\n",
       "    <tr>\n",
       "      <th>r7</th>\n",
       "      <td>Python</td>\n",
       "      <td>22000.0</td>\n",
       "      <td>50days</td>\n",
       "      <td>1600</td>\n",
       "    </tr>\n",
       "  </tbody>\n",
       "</table>\n",
       "</div>"
      ],
      "text/plain": [
       "   Courses      Fee Duration  Discount\n",
       "r4  Pandas      NaN   60days      2500\n",
       "r7  Python  22000.0   50days      1600"
      ]
     },
     "execution_count": 46,
     "metadata": {},
     "output_type": "execute_result"
    }
   ],
   "source": [
    "df[(df['Fee'] == 22000) | (df['Discount'] > 1500)].iloc[2:]"
   ]
  },
  {
   "cell_type": "code",
   "execution_count": 47,
   "id": "1ac3b4ea",
   "metadata": {},
   "outputs": [
    {
     "data": {
      "text/html": [
       "<div>\n",
       "<style scoped>\n",
       "    .dataframe tbody tr th:only-of-type {\n",
       "        vertical-align: middle;\n",
       "    }\n",
       "\n",
       "    .dataframe tbody tr th {\n",
       "        vertical-align: top;\n",
       "    }\n",
       "\n",
       "    .dataframe thead th {\n",
       "        text-align: right;\n",
       "    }\n",
       "</style>\n",
       "<table border=\"1\" class=\"dataframe\">\n",
       "  <thead>\n",
       "    <tr style=\"text-align: right;\">\n",
       "      <th></th>\n",
       "      <th>Fee</th>\n",
       "      <th>Duration</th>\n",
       "      <th>Discount</th>\n",
       "    </tr>\n",
       "  </thead>\n",
       "  <tbody>\n",
       "    <tr>\n",
       "      <th>r0</th>\n",
       "      <td>22000.0</td>\n",
       "      <td>30day</td>\n",
       "      <td>1000</td>\n",
       "    </tr>\n",
       "  </tbody>\n",
       "</table>\n",
       "</div>"
      ],
      "text/plain": [
       "        Fee Duration  Discount\n",
       "r0  22000.0    30day      1000"
      ]
     },
     "execution_count": 47,
     "metadata": {},
     "output_type": "execute_result"
    }
   ],
   "source": [
    "df[(df['Fee'] == 22000) | (df['Discount'] > 1500)].iloc[:1,1:]  # iloc[row range, column range]"
   ]
  },
  {
   "cell_type": "code",
   "execution_count": 48,
   "id": "81bfb4ea",
   "metadata": {},
   "outputs": [],
   "source": [
    "technologies_dict2   = ({\n",
    "    'Courses':[\"Spark\",\"PySpark\",\"Hadoop\",\"Python\",\"Pandas\",\"Hadoop\",\"Spark\",\"Python\",\"NA\"],\n",
    "    'Fee' :[22000,25000,23000,24000,26000,25000,25000,22000,1500],\n",
    "    'Duration':['30days','50days','55days','40days','60days','35days','30days','50days','40days'],\n",
    "    'Discount':[1000,2300,1000,1200,2500,None,1400,1600,0]\n",
    "          })\n",
    "df2 = pd.DataFrame(technologies_dict2)"
   ]
  },
  {
   "cell_type": "code",
   "execution_count": 49,
   "id": "8a8b2b7a",
   "metadata": {
    "scrolled": false
   },
   "outputs": [
    {
     "data": {
      "text/html": [
       "<div>\n",
       "<style scoped>\n",
       "    .dataframe tbody tr th:only-of-type {\n",
       "        vertical-align: middle;\n",
       "    }\n",
       "\n",
       "    .dataframe tbody tr th {\n",
       "        vertical-align: top;\n",
       "    }\n",
       "\n",
       "    .dataframe thead th {\n",
       "        text-align: right;\n",
       "    }\n",
       "</style>\n",
       "<table border=\"1\" class=\"dataframe\">\n",
       "  <thead>\n",
       "    <tr style=\"text-align: right;\">\n",
       "      <th></th>\n",
       "      <th>Courses</th>\n",
       "      <th>Fee</th>\n",
       "      <th>Duration</th>\n",
       "      <th>Discount</th>\n",
       "    </tr>\n",
       "  </thead>\n",
       "  <tbody>\n",
       "    <tr>\n",
       "      <th>0</th>\n",
       "      <td>Spark</td>\n",
       "      <td>22000</td>\n",
       "      <td>30days</td>\n",
       "      <td>1000.0</td>\n",
       "    </tr>\n",
       "    <tr>\n",
       "      <th>1</th>\n",
       "      <td>PySpark</td>\n",
       "      <td>25000</td>\n",
       "      <td>50days</td>\n",
       "      <td>2300.0</td>\n",
       "    </tr>\n",
       "    <tr>\n",
       "      <th>2</th>\n",
       "      <td>Hadoop</td>\n",
       "      <td>23000</td>\n",
       "      <td>55days</td>\n",
       "      <td>1000.0</td>\n",
       "    </tr>\n",
       "    <tr>\n",
       "      <th>3</th>\n",
       "      <td>Python</td>\n",
       "      <td>24000</td>\n",
       "      <td>40days</td>\n",
       "      <td>1200.0</td>\n",
       "    </tr>\n",
       "    <tr>\n",
       "      <th>4</th>\n",
       "      <td>Pandas</td>\n",
       "      <td>26000</td>\n",
       "      <td>60days</td>\n",
       "      <td>2500.0</td>\n",
       "    </tr>\n",
       "    <tr>\n",
       "      <th>5</th>\n",
       "      <td>Hadoop</td>\n",
       "      <td>25000</td>\n",
       "      <td>35days</td>\n",
       "      <td>NaN</td>\n",
       "    </tr>\n",
       "    <tr>\n",
       "      <th>6</th>\n",
       "      <td>Spark</td>\n",
       "      <td>25000</td>\n",
       "      <td>30days</td>\n",
       "      <td>1400.0</td>\n",
       "    </tr>\n",
       "    <tr>\n",
       "      <th>7</th>\n",
       "      <td>Python</td>\n",
       "      <td>22000</td>\n",
       "      <td>50days</td>\n",
       "      <td>1600.0</td>\n",
       "    </tr>\n",
       "    <tr>\n",
       "      <th>8</th>\n",
       "      <td>NA</td>\n",
       "      <td>1500</td>\n",
       "      <td>40days</td>\n",
       "      <td>0.0</td>\n",
       "    </tr>\n",
       "  </tbody>\n",
       "</table>\n",
       "</div>"
      ],
      "text/plain": [
       "   Courses    Fee Duration  Discount\n",
       "0    Spark  22000   30days    1000.0\n",
       "1  PySpark  25000   50days    2300.0\n",
       "2   Hadoop  23000   55days    1000.0\n",
       "3   Python  24000   40days    1200.0\n",
       "4   Pandas  26000   60days    2500.0\n",
       "5   Hadoop  25000   35days       NaN\n",
       "6    Spark  25000   30days    1400.0\n",
       "7   Python  22000   50days    1600.0\n",
       "8       NA   1500   40days       0.0"
      ]
     },
     "execution_count": 49,
     "metadata": {},
     "output_type": "execute_result"
    }
   ],
   "source": [
    "df2"
   ]
  },
  {
   "cell_type": "code",
   "execution_count": 50,
   "id": "a5d52547",
   "metadata": {},
   "outputs": [
    {
     "name": "stderr",
     "output_type": "stream",
     "text": [
      "C:\\Users\\Thomson Yeung\\AppData\\Local\\Temp\\ipykernel_11148\\976841659.py:1: FutureWarning: The default value of numeric_only in DataFrameGroupBy.sum is deprecated. In a future version, numeric_only will default to False. Either specify numeric_only or select only columns which should be valid for the function.\n",
      "  df2.groupby([\"Courses\"]).sum() ## select courses, sum(fee) from df2 group by courses\n"
     ]
    },
    {
     "data": {
      "text/html": [
       "<div>\n",
       "<style scoped>\n",
       "    .dataframe tbody tr th:only-of-type {\n",
       "        vertical-align: middle;\n",
       "    }\n",
       "\n",
       "    .dataframe tbody tr th {\n",
       "        vertical-align: top;\n",
       "    }\n",
       "\n",
       "    .dataframe thead th {\n",
       "        text-align: right;\n",
       "    }\n",
       "</style>\n",
       "<table border=\"1\" class=\"dataframe\">\n",
       "  <thead>\n",
       "    <tr style=\"text-align: right;\">\n",
       "      <th></th>\n",
       "      <th>Fee</th>\n",
       "      <th>Discount</th>\n",
       "    </tr>\n",
       "    <tr>\n",
       "      <th>Courses</th>\n",
       "      <th></th>\n",
       "      <th></th>\n",
       "    </tr>\n",
       "  </thead>\n",
       "  <tbody>\n",
       "    <tr>\n",
       "      <th>Hadoop</th>\n",
       "      <td>48000</td>\n",
       "      <td>1000.0</td>\n",
       "    </tr>\n",
       "    <tr>\n",
       "      <th>NA</th>\n",
       "      <td>1500</td>\n",
       "      <td>0.0</td>\n",
       "    </tr>\n",
       "    <tr>\n",
       "      <th>Pandas</th>\n",
       "      <td>26000</td>\n",
       "      <td>2500.0</td>\n",
       "    </tr>\n",
       "    <tr>\n",
       "      <th>PySpark</th>\n",
       "      <td>25000</td>\n",
       "      <td>2300.0</td>\n",
       "    </tr>\n",
       "    <tr>\n",
       "      <th>Python</th>\n",
       "      <td>46000</td>\n",
       "      <td>2800.0</td>\n",
       "    </tr>\n",
       "    <tr>\n",
       "      <th>Spark</th>\n",
       "      <td>47000</td>\n",
       "      <td>2400.0</td>\n",
       "    </tr>\n",
       "  </tbody>\n",
       "</table>\n",
       "</div>"
      ],
      "text/plain": [
       "           Fee  Discount\n",
       "Courses                 \n",
       "Hadoop   48000    1000.0\n",
       "NA        1500       0.0\n",
       "Pandas   26000    2500.0\n",
       "PySpark  25000    2300.0\n",
       "Python   46000    2800.0\n",
       "Spark    47000    2400.0"
      ]
     },
     "execution_count": 50,
     "metadata": {},
     "output_type": "execute_result"
    }
   ],
   "source": [
    "df2.groupby([\"Courses\"]).sum() ## select courses, sum(fee) from df2 group by courses"
   ]
  },
  {
   "cell_type": "code",
   "execution_count": 51,
   "id": "1605ed1a",
   "metadata": {},
   "outputs": [
    {
     "name": "stderr",
     "output_type": "stream",
     "text": [
      "C:\\Users\\Thomson Yeung\\AppData\\Local\\Temp\\ipykernel_11148\\1321169555.py:1: FutureWarning: The default value of numeric_only in DataFrameGroupBy.sum is deprecated. In a future version, numeric_only will default to False. Either specify numeric_only or select only columns which should be valid for the function.\n",
      "  type(df2.groupby([\"Courses\"]).sum())\n"
     ]
    },
    {
     "data": {
      "text/plain": [
       "pandas.core.frame.DataFrame"
      ]
     },
     "execution_count": 51,
     "metadata": {},
     "output_type": "execute_result"
    }
   ],
   "source": [
    "type(df2.groupby([\"Courses\"]).sum())"
   ]
  },
  {
   "cell_type": "code",
   "execution_count": 52,
   "id": "42994ee5",
   "metadata": {
    "scrolled": true
   },
   "outputs": [
    {
     "data": {
      "text/html": [
       "<div>\n",
       "<style scoped>\n",
       "    .dataframe tbody tr th:only-of-type {\n",
       "        vertical-align: middle;\n",
       "    }\n",
       "\n",
       "    .dataframe tbody tr th {\n",
       "        vertical-align: top;\n",
       "    }\n",
       "\n",
       "    .dataframe thead th {\n",
       "        text-align: right;\n",
       "    }\n",
       "</style>\n",
       "<table border=\"1\" class=\"dataframe\">\n",
       "  <thead>\n",
       "    <tr style=\"text-align: right;\">\n",
       "      <th></th>\n",
       "      <th>Courses</th>\n",
       "      <th>Duration</th>\n",
       "      <th>Fee</th>\n",
       "      <th>Discount</th>\n",
       "    </tr>\n",
       "  </thead>\n",
       "  <tbody>\n",
       "    <tr>\n",
       "      <th>0</th>\n",
       "      <td>Hadoop</td>\n",
       "      <td>35days</td>\n",
       "      <td>25000</td>\n",
       "      <td>0.0</td>\n",
       "    </tr>\n",
       "    <tr>\n",
       "      <th>1</th>\n",
       "      <td>Hadoop</td>\n",
       "      <td>55days</td>\n",
       "      <td>23000</td>\n",
       "      <td>1000.0</td>\n",
       "    </tr>\n",
       "    <tr>\n",
       "      <th>2</th>\n",
       "      <td>NA</td>\n",
       "      <td>40days</td>\n",
       "      <td>1500</td>\n",
       "      <td>0.0</td>\n",
       "    </tr>\n",
       "    <tr>\n",
       "      <th>3</th>\n",
       "      <td>Pandas</td>\n",
       "      <td>60days</td>\n",
       "      <td>26000</td>\n",
       "      <td>2500.0</td>\n",
       "    </tr>\n",
       "    <tr>\n",
       "      <th>4</th>\n",
       "      <td>PySpark</td>\n",
       "      <td>50days</td>\n",
       "      <td>25000</td>\n",
       "      <td>2300.0</td>\n",
       "    </tr>\n",
       "    <tr>\n",
       "      <th>5</th>\n",
       "      <td>Python</td>\n",
       "      <td>40days</td>\n",
       "      <td>24000</td>\n",
       "      <td>1200.0</td>\n",
       "    </tr>\n",
       "    <tr>\n",
       "      <th>6</th>\n",
       "      <td>Python</td>\n",
       "      <td>50days</td>\n",
       "      <td>22000</td>\n",
       "      <td>1600.0</td>\n",
       "    </tr>\n",
       "    <tr>\n",
       "      <th>7</th>\n",
       "      <td>Spark</td>\n",
       "      <td>30days</td>\n",
       "      <td>47000</td>\n",
       "      <td>2400.0</td>\n",
       "    </tr>\n",
       "  </tbody>\n",
       "</table>\n",
       "</div>"
      ],
      "text/plain": [
       "   Courses Duration    Fee  Discount\n",
       "0   Hadoop   35days  25000       0.0\n",
       "1   Hadoop   55days  23000    1000.0\n",
       "2       NA   40days   1500       0.0\n",
       "3   Pandas   60days  26000    2500.0\n",
       "4  PySpark   50days  25000    2300.0\n",
       "5   Python   40days  24000    1200.0\n",
       "6   Python   50days  22000    1600.0\n",
       "7    Spark   30days  47000    2400.0"
      ]
     },
     "execution_count": 52,
     "metadata": {},
     "output_type": "execute_result"
    }
   ],
   "source": [
    "df2.groupby(['Courses','Duration']).sum().reset_index()"
   ]
  },
  {
   "cell_type": "code",
   "execution_count": 53,
   "id": "086bcc07",
   "metadata": {},
   "outputs": [
    {
     "name": "stderr",
     "output_type": "stream",
     "text": [
      "C:\\Users\\Thomson Yeung\\AppData\\Local\\Temp\\ipykernel_11148\\2830196835.py:1: FutureWarning: The default value of numeric_only in DataFrameGroupBy.sum is deprecated. In a future version, numeric_only will default to False. Either specify numeric_only or select only columns which should be valid for the function.\n",
      "  df2.groupby(by=['Courses'], dropna=False).sum()\n"
     ]
    },
    {
     "data": {
      "text/html": [
       "<div>\n",
       "<style scoped>\n",
       "    .dataframe tbody tr th:only-of-type {\n",
       "        vertical-align: middle;\n",
       "    }\n",
       "\n",
       "    .dataframe tbody tr th {\n",
       "        vertical-align: top;\n",
       "    }\n",
       "\n",
       "    .dataframe thead th {\n",
       "        text-align: right;\n",
       "    }\n",
       "</style>\n",
       "<table border=\"1\" class=\"dataframe\">\n",
       "  <thead>\n",
       "    <tr style=\"text-align: right;\">\n",
       "      <th></th>\n",
       "      <th>Fee</th>\n",
       "      <th>Discount</th>\n",
       "    </tr>\n",
       "    <tr>\n",
       "      <th>Courses</th>\n",
       "      <th></th>\n",
       "      <th></th>\n",
       "    </tr>\n",
       "  </thead>\n",
       "  <tbody>\n",
       "    <tr>\n",
       "      <th>Hadoop</th>\n",
       "      <td>48000</td>\n",
       "      <td>1000.0</td>\n",
       "    </tr>\n",
       "    <tr>\n",
       "      <th>NA</th>\n",
       "      <td>1500</td>\n",
       "      <td>0.0</td>\n",
       "    </tr>\n",
       "    <tr>\n",
       "      <th>Pandas</th>\n",
       "      <td>26000</td>\n",
       "      <td>2500.0</td>\n",
       "    </tr>\n",
       "    <tr>\n",
       "      <th>PySpark</th>\n",
       "      <td>25000</td>\n",
       "      <td>2300.0</td>\n",
       "    </tr>\n",
       "    <tr>\n",
       "      <th>Python</th>\n",
       "      <td>46000</td>\n",
       "      <td>2800.0</td>\n",
       "    </tr>\n",
       "    <tr>\n",
       "      <th>Spark</th>\n",
       "      <td>47000</td>\n",
       "      <td>2400.0</td>\n",
       "    </tr>\n",
       "  </tbody>\n",
       "</table>\n",
       "</div>"
      ],
      "text/plain": [
       "           Fee  Discount\n",
       "Courses                 \n",
       "Hadoop   48000    1000.0\n",
       "NA        1500       0.0\n",
       "Pandas   26000    2500.0\n",
       "PySpark  25000    2300.0\n",
       "Python   46000    2800.0\n",
       "Spark    47000    2400.0"
      ]
     },
     "execution_count": 53,
     "metadata": {},
     "output_type": "execute_result"
    }
   ],
   "source": [
    "df2.groupby(by=['Courses'], dropna=False).sum()"
   ]
  },
  {
   "cell_type": "code",
   "execution_count": 54,
   "id": "de61e83d",
   "metadata": {
    "scrolled": true
   },
   "outputs": [
    {
     "name": "stderr",
     "output_type": "stream",
     "text": [
      "C:\\Users\\Thomson Yeung\\AppData\\Local\\Temp\\ipykernel_11148\\271784089.py:1: FutureWarning: The default value of numeric_only in DataFrameGroupBy.sum is deprecated. In a future version, numeric_only will default to False. Either specify numeric_only or select only columns which should be valid for the function.\n",
      "  df2.groupby(by=['Courses'], dropna=True).sum()  ## select courses, sum(fee) from df2\n"
     ]
    },
    {
     "data": {
      "text/html": [
       "<div>\n",
       "<style scoped>\n",
       "    .dataframe tbody tr th:only-of-type {\n",
       "        vertical-align: middle;\n",
       "    }\n",
       "\n",
       "    .dataframe tbody tr th {\n",
       "        vertical-align: top;\n",
       "    }\n",
       "\n",
       "    .dataframe thead th {\n",
       "        text-align: right;\n",
       "    }\n",
       "</style>\n",
       "<table border=\"1\" class=\"dataframe\">\n",
       "  <thead>\n",
       "    <tr style=\"text-align: right;\">\n",
       "      <th></th>\n",
       "      <th>Fee</th>\n",
       "      <th>Discount</th>\n",
       "    </tr>\n",
       "    <tr>\n",
       "      <th>Courses</th>\n",
       "      <th></th>\n",
       "      <th></th>\n",
       "    </tr>\n",
       "  </thead>\n",
       "  <tbody>\n",
       "    <tr>\n",
       "      <th>Hadoop</th>\n",
       "      <td>48000</td>\n",
       "      <td>1000.0</td>\n",
       "    </tr>\n",
       "    <tr>\n",
       "      <th>NA</th>\n",
       "      <td>1500</td>\n",
       "      <td>0.0</td>\n",
       "    </tr>\n",
       "    <tr>\n",
       "      <th>Pandas</th>\n",
       "      <td>26000</td>\n",
       "      <td>2500.0</td>\n",
       "    </tr>\n",
       "    <tr>\n",
       "      <th>PySpark</th>\n",
       "      <td>25000</td>\n",
       "      <td>2300.0</td>\n",
       "    </tr>\n",
       "    <tr>\n",
       "      <th>Python</th>\n",
       "      <td>46000</td>\n",
       "      <td>2800.0</td>\n",
       "    </tr>\n",
       "    <tr>\n",
       "      <th>Spark</th>\n",
       "      <td>47000</td>\n",
       "      <td>2400.0</td>\n",
       "    </tr>\n",
       "  </tbody>\n",
       "</table>\n",
       "</div>"
      ],
      "text/plain": [
       "           Fee  Discount\n",
       "Courses                 \n",
       "Hadoop   48000    1000.0\n",
       "NA        1500       0.0\n",
       "Pandas   26000    2500.0\n",
       "PySpark  25000    2300.0\n",
       "Python   46000    2800.0\n",
       "Spark    47000    2400.0"
      ]
     },
     "execution_count": 54,
     "metadata": {},
     "output_type": "execute_result"
    }
   ],
   "source": [
    "df2.groupby(by=['Courses'], dropna=True).sum()  ## select courses, sum(fee) from df2 \n",
    "## where courses is not null group by courses"
   ]
  },
  {
   "cell_type": "code",
   "execution_count": 55,
   "id": "70f6b93f",
   "metadata": {},
   "outputs": [
    {
     "name": "stderr",
     "output_type": "stream",
     "text": [
      "C:\\Users\\Thomson Yeung\\AppData\\Local\\Temp\\ipykernel_11148\\1055539439.py:1: FutureWarning: The default value of numeric_only in DataFrameGroupBy.sum is deprecated. In a future version, numeric_only will default to False. Either specify numeric_only or select only columns which should be valid for the function.\n",
      "  df2.groupby(by=['Courses'], sort=False).sum()\n"
     ]
    },
    {
     "data": {
      "text/html": [
       "<div>\n",
       "<style scoped>\n",
       "    .dataframe tbody tr th:only-of-type {\n",
       "        vertical-align: middle;\n",
       "    }\n",
       "\n",
       "    .dataframe tbody tr th {\n",
       "        vertical-align: top;\n",
       "    }\n",
       "\n",
       "    .dataframe thead th {\n",
       "        text-align: right;\n",
       "    }\n",
       "</style>\n",
       "<table border=\"1\" class=\"dataframe\">\n",
       "  <thead>\n",
       "    <tr style=\"text-align: right;\">\n",
       "      <th></th>\n",
       "      <th>Fee</th>\n",
       "      <th>Discount</th>\n",
       "    </tr>\n",
       "    <tr>\n",
       "      <th>Courses</th>\n",
       "      <th></th>\n",
       "      <th></th>\n",
       "    </tr>\n",
       "  </thead>\n",
       "  <tbody>\n",
       "    <tr>\n",
       "      <th>Spark</th>\n",
       "      <td>47000</td>\n",
       "      <td>2400.0</td>\n",
       "    </tr>\n",
       "    <tr>\n",
       "      <th>PySpark</th>\n",
       "      <td>25000</td>\n",
       "      <td>2300.0</td>\n",
       "    </tr>\n",
       "    <tr>\n",
       "      <th>Hadoop</th>\n",
       "      <td>48000</td>\n",
       "      <td>1000.0</td>\n",
       "    </tr>\n",
       "    <tr>\n",
       "      <th>Python</th>\n",
       "      <td>46000</td>\n",
       "      <td>2800.0</td>\n",
       "    </tr>\n",
       "    <tr>\n",
       "      <th>Pandas</th>\n",
       "      <td>26000</td>\n",
       "      <td>2500.0</td>\n",
       "    </tr>\n",
       "    <tr>\n",
       "      <th>NA</th>\n",
       "      <td>1500</td>\n",
       "      <td>0.0</td>\n",
       "    </tr>\n",
       "  </tbody>\n",
       "</table>\n",
       "</div>"
      ],
      "text/plain": [
       "           Fee  Discount\n",
       "Courses                 \n",
       "Spark    47000    2400.0\n",
       "PySpark  25000    2300.0\n",
       "Hadoop   48000    1000.0\n",
       "Python   46000    2800.0\n",
       "Pandas   26000    2500.0\n",
       "NA        1500       0.0"
      ]
     },
     "execution_count": 55,
     "metadata": {},
     "output_type": "execute_result"
    }
   ],
   "source": [
    "df2.groupby(by=['Courses'], sort=False).sum()"
   ]
  },
  {
   "cell_type": "code",
   "execution_count": 56,
   "id": "1a07fa68",
   "metadata": {},
   "outputs": [],
   "source": [
    "letters='abcdefghijklmnopqrstuvwxyz'"
   ]
  },
  {
   "cell_type": "code",
   "execution_count": 57,
   "id": "9454d8dc",
   "metadata": {},
   "outputs": [
    {
     "data": {
      "text/plain": [
       "26"
      ]
     },
     "execution_count": 57,
     "metadata": {},
     "output_type": "execute_result"
    }
   ],
   "source": [
    "len(letters)\n"
   ]
  },
  {
   "cell_type": "code",
   "execution_count": 58,
   "id": "5a0c2eb2",
   "metadata": {},
   "outputs": [
    {
     "data": {
      "text/plain": [
       "'a'"
      ]
     },
     "execution_count": 58,
     "metadata": {},
     "output_type": "execute_result"
    }
   ],
   "source": [
    "letters[0]"
   ]
  },
  {
   "cell_type": "code",
   "execution_count": 59,
   "id": "45579eca",
   "metadata": {},
   "outputs": [
    {
     "data": {
      "text/plain": [
       "'abc'"
      ]
     },
     "execution_count": 59,
     "metadata": {},
     "output_type": "execute_result"
    }
   ],
   "source": [
    "letters[0:3]"
   ]
  },
  {
   "cell_type": "code",
   "execution_count": 60,
   "id": "3838b3bf",
   "metadata": {},
   "outputs": [
    {
     "data": {
      "text/plain": [
       "'bc'"
      ]
     },
     "execution_count": 60,
     "metadata": {},
     "output_type": "execute_result"
    }
   ],
   "source": [
    "letters[1:3]"
   ]
  },
  {
   "cell_type": "code",
   "execution_count": 61,
   "id": "057a79c4",
   "metadata": {},
   "outputs": [
    {
     "data": {
      "text/plain": [
       "'b'"
      ]
     },
     "execution_count": 61,
     "metadata": {},
     "output_type": "execute_result"
    }
   ],
   "source": [
    "letters[1:2]"
   ]
  },
  {
   "cell_type": "code",
   "execution_count": 62,
   "id": "ec806f17",
   "metadata": {},
   "outputs": [
    {
     "data": {
      "text/plain": [
       "'bcdefghijklmnopqrstuvwxy'"
      ]
     },
     "execution_count": 62,
     "metadata": {},
     "output_type": "execute_result"
    }
   ],
   "source": [
    "letters[1:-1]"
   ]
  },
  {
   "cell_type": "code",
   "execution_count": 63,
   "id": "55443bb4",
   "metadata": {},
   "outputs": [
    {
     "data": {
      "text/plain": [
       "'bcdefghijklmnopqrstuvwxyz'"
      ]
     },
     "execution_count": 63,
     "metadata": {},
     "output_type": "execute_result"
    }
   ],
   "source": [
    "letters[1:]"
   ]
  },
  {
   "cell_type": "code",
   "execution_count": 64,
   "id": "e70d4c65",
   "metadata": {},
   "outputs": [
    {
     "data": {
      "text/plain": [
       "'a'"
      ]
     },
     "execution_count": 64,
     "metadata": {},
     "output_type": "execute_result"
    }
   ],
   "source": [
    "letters[0]"
   ]
  },
  {
   "cell_type": "code",
   "execution_count": 65,
   "id": "ddfefe4a",
   "metadata": {},
   "outputs": [
    {
     "data": {
      "text/plain": [
       "'c'"
      ]
     },
     "execution_count": 65,
     "metadata": {},
     "output_type": "execute_result"
    }
   ],
   "source": [
    "letters[2]"
   ]
  },
  {
   "cell_type": "code",
   "execution_count": 66,
   "id": "704cb92a",
   "metadata": {},
   "outputs": [
    {
     "data": {
      "text/plain": [
       "'bbcdefghijklmnopqrstuvwxyz'"
      ]
     },
     "execution_count": 66,
     "metadata": {},
     "output_type": "execute_result"
    }
   ],
   "source": [
    "'b' + letters[1:]"
   ]
  },
  {
   "cell_type": "code",
   "execution_count": 67,
   "id": "a57ea4bd",
   "metadata": {},
   "outputs": [
    {
     "data": {
      "text/plain": [
       "'bbcdefghijklmnopqrstuvwxyz'"
      ]
     },
     "execution_count": 67,
     "metadata": {},
     "output_type": "execute_result"
    }
   ],
   "source": [
    "letters.replace('a','b')"
   ]
  },
  {
   "cell_type": "code",
   "execution_count": 68,
   "id": "7f95d796",
   "metadata": {},
   "outputs": [
    {
     "data": {
      "text/plain": [
       "'abcdefghijklmnopqrstuvwxyz'"
      ]
     },
     "execution_count": 68,
     "metadata": {},
     "output_type": "execute_result"
    }
   ],
   "source": [
    "letters"
   ]
  },
  {
   "cell_type": "code",
   "execution_count": 69,
   "id": "50e34855",
   "metadata": {},
   "outputs": [
    {
     "data": {
      "text/plain": [
       "'bcdefghijklmnopqrstuvwxyz'"
      ]
     },
     "execution_count": 69,
     "metadata": {},
     "output_type": "execute_result"
    }
   ],
   "source": [
    "letters.strip(\"a\")"
   ]
  },
  {
   "cell_type": "code",
   "execution_count": 70,
   "id": "23f9db0f",
   "metadata": {},
   "outputs": [
    {
     "data": {
      "text/plain": [
       "'abcdefghijklmnopqrstuvwxyz'"
      ]
     },
     "execution_count": 70,
     "metadata": {},
     "output_type": "execute_result"
    }
   ],
   "source": [
    "letters\n"
   ]
  },
  {
   "cell_type": "code",
   "execution_count": 71,
   "id": "e77af34c",
   "metadata": {},
   "outputs": [
    {
     "data": {
      "text/plain": [
       "'cdefghijklmnopqrstuvwxy'"
      ]
     },
     "execution_count": 71,
     "metadata": {},
     "output_type": "execute_result"
    }
   ],
   "source": [
    "letters.strip(\"z\").strip(\"a\").strip(\"b\").strip(\"k\")"
   ]
  },
  {
   "cell_type": "code",
   "execution_count": 72,
   "id": "2c2def47",
   "metadata": {},
   "outputs": [
    {
     "data": {
      "text/plain": [
       "'cdefghijklmnopqrstuvwxyz'"
      ]
     },
     "execution_count": 72,
     "metadata": {},
     "output_type": "execute_result"
    }
   ],
   "source": [
    "letters.strip(\"a\").strip(\"b\")"
   ]
  },
  {
   "cell_type": "code",
   "execution_count": 73,
   "id": "f607d5ae",
   "metadata": {},
   "outputs": [],
   "source": [
    "letters=letters.strip(\"a\").strip(\"b\")"
   ]
  },
  {
   "cell_type": "code",
   "execution_count": 74,
   "id": "224ef140",
   "metadata": {},
   "outputs": [
    {
     "data": {
      "text/plain": [
       "'cdefghijklmnopqrstuvwxyz'"
      ]
     },
     "execution_count": 74,
     "metadata": {},
     "output_type": "execute_result"
    }
   ],
   "source": [
    "letters"
   ]
  },
  {
   "cell_type": "code",
   "execution_count": 75,
   "id": "97b423cc",
   "metadata": {},
   "outputs": [],
   "source": [
    "data=\"1;2;4;6;8\""
   ]
  },
  {
   "cell_type": "code",
   "execution_count": 76,
   "id": "f402a85e",
   "metadata": {},
   "outputs": [
    {
     "data": {
      "text/plain": [
       "['1', '2', '4', '6', '8']"
      ]
     },
     "execution_count": 76,
     "metadata": {},
     "output_type": "execute_result"
    }
   ],
   "source": [
    "data.split(\";\")"
   ]
  },
  {
   "cell_type": "code",
   "execution_count": 77,
   "id": "7362f108",
   "metadata": {},
   "outputs": [
    {
     "data": {
      "text/plain": [
       "list"
      ]
     },
     "execution_count": 77,
     "metadata": {},
     "output_type": "execute_result"
    }
   ],
   "source": [
    "type(data.split(\";\"))"
   ]
  },
  {
   "cell_type": "code",
   "execution_count": 78,
   "id": "d3aa2aa3",
   "metadata": {},
   "outputs": [
    {
     "data": {
      "text/plain": [
       "'1,2,4,6,8'"
      ]
     },
     "execution_count": 78,
     "metadata": {},
     "output_type": "execute_result"
    }
   ],
   "source": [
    "\",\".join(data.split(\";\"))"
   ]
  },
  {
   "cell_type": "code",
   "execution_count": 79,
   "id": "46b38092",
   "metadata": {},
   "outputs": [
    {
     "data": {
      "text/plain": [
       "str"
      ]
     },
     "execution_count": 79,
     "metadata": {},
     "output_type": "execute_result"
    }
   ],
   "source": [
    "type(\",\".join(data.split(\";\")))"
   ]
  },
  {
   "cell_type": "code",
   "execution_count": 80,
   "id": "dce1eb40",
   "metadata": {},
   "outputs": [
    {
     "data": {
      "text/plain": [
       "[1, 2, 3]"
      ]
     },
     "execution_count": 80,
     "metadata": {},
     "output_type": "execute_result"
    }
   ],
   "source": [
    "[1,2,3,4,5,6][0:3]"
   ]
  },
  {
   "cell_type": "code",
   "execution_count": 81,
   "id": "278fde49",
   "metadata": {},
   "outputs": [
    {
     "data": {
      "text/plain": [
       "[2, 3]"
      ]
     },
     "execution_count": 81,
     "metadata": {},
     "output_type": "execute_result"
    }
   ],
   "source": [
    "[1,2,3,4,5,6][1:3]"
   ]
  },
  {
   "cell_type": "code",
   "execution_count": 82,
   "id": "85713dd6",
   "metadata": {},
   "outputs": [
    {
     "data": {
      "text/plain": [
       "1"
      ]
     },
     "execution_count": 82,
     "metadata": {},
     "output_type": "execute_result"
    }
   ],
   "source": [
    "[1,2,3,4,5,6][0]"
   ]
  },
  {
   "cell_type": "code",
   "execution_count": 83,
   "id": "70ba29ee",
   "metadata": {},
   "outputs": [
    {
     "data": {
      "text/plain": [
       "int"
      ]
     },
     "execution_count": 83,
     "metadata": {},
     "output_type": "execute_result"
    }
   ],
   "source": [
    "type([1,2,3,4,5,6][0])"
   ]
  },
  {
   "cell_type": "code",
   "execution_count": 84,
   "id": "d0685558",
   "metadata": {},
   "outputs": [
    {
     "data": {
      "text/plain": [
       "list"
      ]
     },
     "execution_count": 84,
     "metadata": {},
     "output_type": "execute_result"
    }
   ],
   "source": [
    "type([1,2,3,4,5,6][0:3])"
   ]
  },
  {
   "cell_type": "code",
   "execution_count": 85,
   "id": "48b57b33",
   "metadata": {},
   "outputs": [
    {
     "data": {
      "text/plain": [
       "[4, 5, 6]"
      ]
     },
     "execution_count": 85,
     "metadata": {},
     "output_type": "execute_result"
    }
   ],
   "source": [
    "[[1,2,3],[4,5,6],[7,8,9]][1]"
   ]
  },
  {
   "cell_type": "code",
   "execution_count": 86,
   "id": "0a63d033",
   "metadata": {},
   "outputs": [
    {
     "data": {
      "text/plain": [
       "[4, 5]"
      ]
     },
     "execution_count": 86,
     "metadata": {},
     "output_type": "execute_result"
    }
   ],
   "source": [
    "[[1,2,3],[4,5,6],[7,8,9]][1][0:2]"
   ]
  },
  {
   "cell_type": "code",
   "execution_count": 87,
   "id": "b2e710b1",
   "metadata": {},
   "outputs": [
    {
     "data": {
      "text/plain": [
       "tuple"
      ]
     },
     "execution_count": 87,
     "metadata": {},
     "output_type": "execute_result"
    }
   ],
   "source": [
    "type((1,2,3))"
   ]
  },
  {
   "cell_type": "code",
   "execution_count": 88,
   "id": "b779dc9e",
   "metadata": {},
   "outputs": [],
   "source": [
    "dict8={\"Peter\": [1,2,3], \"Mary\": [4,5,6]}   # same like json with key, value pairing"
   ]
  },
  {
   "cell_type": "code",
   "execution_count": 89,
   "id": "496b04e6",
   "metadata": {},
   "outputs": [
    {
     "data": {
      "text/plain": [
       "[1, 2, 3]"
      ]
     },
     "execution_count": 89,
     "metadata": {},
     "output_type": "execute_result"
    }
   ],
   "source": [
    "dict8[\"Peter\"]"
   ]
  },
  {
   "cell_type": "code",
   "execution_count": 90,
   "id": "9f1cb4ce",
   "metadata": {},
   "outputs": [
    {
     "data": {
      "text/plain": [
       "3"
      ]
     },
     "execution_count": 90,
     "metadata": {},
     "output_type": "execute_result"
    }
   ],
   "source": [
    "dict8[\"Peter\"][2]"
   ]
  },
  {
   "cell_type": "code",
   "execution_count": 91,
   "id": "5da69346",
   "metadata": {},
   "outputs": [],
   "source": [
    "set8={\"Peter\",\"Alice\"}"
   ]
  },
  {
   "cell_type": "code",
   "execution_count": 92,
   "id": "6a452d6c",
   "metadata": {},
   "outputs": [
    {
     "data": {
      "text/plain": [
       "set"
      ]
     },
     "execution_count": 92,
     "metadata": {},
     "output_type": "execute_result"
    }
   ],
   "source": [
    "type(set8)"
   ]
  },
  {
   "cell_type": "code",
   "execution_count": 93,
   "id": "388272a7",
   "metadata": {},
   "outputs": [
    {
     "data": {
      "text/plain": [
       "{'Alice', 'Peter'}"
      ]
     },
     "execution_count": 93,
     "metadata": {},
     "output_type": "execute_result"
    }
   ],
   "source": [
    "set8"
   ]
  },
  {
   "cell_type": "code",
   "execution_count": 94,
   "id": "7569de2c",
   "metadata": {},
   "outputs": [
    {
     "data": {
      "text/plain": [
       "dict"
      ]
     },
     "execution_count": 94,
     "metadata": {},
     "output_type": "execute_result"
    }
   ],
   "source": [
    "type(dict8)"
   ]
  },
  {
   "cell_type": "code",
   "execution_count": 95,
   "id": "134099d1",
   "metadata": {},
   "outputs": [
    {
     "data": {
      "text/plain": [
       "pandas.core.frame.DataFrame"
      ]
     },
     "execution_count": 95,
     "metadata": {},
     "output_type": "execute_result"
    }
   ],
   "source": [
    "type(df)"
   ]
  },
  {
   "cell_type": "code",
   "execution_count": null,
   "id": "ca3bd068",
   "metadata": {},
   "outputs": [],
   "source": []
  },
  {
   "cell_type": "code",
   "execution_count": 96,
   "id": "b815242f",
   "metadata": {},
   "outputs": [
    {
     "data": {
      "text/plain": [
       "str"
      ]
     },
     "execution_count": 96,
     "metadata": {},
     "output_type": "execute_result"
    }
   ],
   "source": [
    "type(\"abc\")"
   ]
  },
  {
   "cell_type": "code",
   "execution_count": 97,
   "id": "5862b227",
   "metadata": {},
   "outputs": [],
   "source": [
    "listAppend=[1,2,3,4,5,6]"
   ]
  },
  {
   "cell_type": "code",
   "execution_count": 98,
   "id": "47eee1c6",
   "metadata": {},
   "outputs": [],
   "source": [
    "listAppend.append(7)"
   ]
  },
  {
   "cell_type": "code",
   "execution_count": 99,
   "id": "14be4e29",
   "metadata": {},
   "outputs": [
    {
     "data": {
      "text/plain": [
       "[1, 2, 3, 4, 5, 6, 7]"
      ]
     },
     "execution_count": 99,
     "metadata": {},
     "output_type": "execute_result"
    }
   ],
   "source": [
    "listAppend"
   ]
  },
  {
   "cell_type": "code",
   "execution_count": 100,
   "id": "570c4629",
   "metadata": {},
   "outputs": [],
   "source": [
    "listExtend=(8,9,10)"
   ]
  },
  {
   "cell_type": "code",
   "execution_count": 101,
   "id": "604af1d6",
   "metadata": {},
   "outputs": [],
   "source": [
    "listAppend.extend(listExtend)"
   ]
  },
  {
   "cell_type": "code",
   "execution_count": 102,
   "id": "9a3340f7",
   "metadata": {},
   "outputs": [
    {
     "data": {
      "text/plain": [
       "[1, 2, 3, 4, 5, 6, 7, 8, 9, 10]"
      ]
     },
     "execution_count": 102,
     "metadata": {},
     "output_type": "execute_result"
    }
   ],
   "source": [
    "listAppend"
   ]
  },
  {
   "cell_type": "code",
   "execution_count": 103,
   "id": "cf5d5b76",
   "metadata": {},
   "outputs": [],
   "source": [
    "vowel = ['a', 'e', 'i', 'u']\n"
   ]
  },
  {
   "cell_type": "code",
   "execution_count": 104,
   "id": "e914c050",
   "metadata": {},
   "outputs": [],
   "source": [
    "vowel.insert(3, 'o')"
   ]
  },
  {
   "cell_type": "code",
   "execution_count": 105,
   "id": "730e5a79",
   "metadata": {},
   "outputs": [
    {
     "data": {
      "text/plain": [
       "['a', 'e', 'i', 'o', 'u']"
      ]
     },
     "execution_count": 105,
     "metadata": {},
     "output_type": "execute_result"
    }
   ],
   "source": [
    "vowel"
   ]
  },
  {
   "cell_type": "code",
   "execution_count": 106,
   "id": "bef3c109",
   "metadata": {},
   "outputs": [],
   "source": [
    "prime_numbers = [2, 3, 5, 7, 9, 11]"
   ]
  },
  {
   "cell_type": "code",
   "execution_count": 107,
   "id": "a5f39c18",
   "metadata": {},
   "outputs": [],
   "source": [
    "prime_numbers.remove(9)"
   ]
  },
  {
   "cell_type": "code",
   "execution_count": 108,
   "id": "fdb5a280",
   "metadata": {},
   "outputs": [
    {
     "data": {
      "text/plain": [
       "[2, 3, 5, 7, 11]"
      ]
     },
     "execution_count": 108,
     "metadata": {},
     "output_type": "execute_result"
    }
   ],
   "source": [
    "prime_numbers"
   ]
  },
  {
   "cell_type": "code",
   "execution_count": 109,
   "id": "8763e881",
   "metadata": {},
   "outputs": [
    {
     "data": {
      "text/plain": [
       "5"
      ]
     },
     "execution_count": 109,
     "metadata": {},
     "output_type": "execute_result"
    }
   ],
   "source": [
    "prime_numbers.pop(2)"
   ]
  },
  {
   "cell_type": "code",
   "execution_count": 110,
   "id": "8f88c93a",
   "metadata": {},
   "outputs": [
    {
     "data": {
      "text/plain": [
       "[2, 3, 7, 11]"
      ]
     },
     "execution_count": 110,
     "metadata": {},
     "output_type": "execute_result"
    }
   ],
   "source": [
    "prime_numbers"
   ]
  },
  {
   "cell_type": "code",
   "execution_count": 111,
   "id": "d3adaebe",
   "metadata": {},
   "outputs": [],
   "source": [
    "prime_numbers.sort(reverse=True)"
   ]
  },
  {
   "cell_type": "code",
   "execution_count": 112,
   "id": "11d5d643",
   "metadata": {},
   "outputs": [
    {
     "data": {
      "text/plain": [
       "[11, 7, 3, 2]"
      ]
     },
     "execution_count": 112,
     "metadata": {},
     "output_type": "execute_result"
    }
   ],
   "source": [
    "prime_numbers"
   ]
  },
  {
   "cell_type": "code",
   "execution_count": 113,
   "id": "6f5b7cda",
   "metadata": {},
   "outputs": [],
   "source": [
    "prime_numbers.sort()"
   ]
  },
  {
   "cell_type": "code",
   "execution_count": 114,
   "id": "0ebe4dcb",
   "metadata": {},
   "outputs": [
    {
     "data": {
      "text/plain": [
       "[2, 3, 7, 11]"
      ]
     },
     "execution_count": 114,
     "metadata": {},
     "output_type": "execute_result"
    }
   ],
   "source": [
    "prime_numbers"
   ]
  },
  {
   "cell_type": "code",
   "execution_count": 115,
   "id": "17c92322",
   "metadata": {},
   "outputs": [
    {
     "data": {
      "text/plain": [
       "4"
      ]
     },
     "execution_count": 115,
     "metadata": {},
     "output_type": "execute_result"
    }
   ],
   "source": [
    "len(prime_numbers)"
   ]
  },
  {
   "cell_type": "code",
   "execution_count": 116,
   "id": "f2640cbe",
   "metadata": {},
   "outputs": [
    {
     "data": {
      "text/plain": [
       "1"
      ]
     },
     "execution_count": 116,
     "metadata": {},
     "output_type": "execute_result"
    }
   ],
   "source": [
    "prime_numbers.count(7)"
   ]
  },
  {
   "cell_type": "code",
   "execution_count": 117,
   "id": "3c3ae020",
   "metadata": {},
   "outputs": [
    {
     "data": {
      "text/plain": [
       "0"
      ]
     },
     "execution_count": 117,
     "metadata": {},
     "output_type": "execute_result"
    }
   ],
   "source": [
    "prime_numbers.count(17)"
   ]
  },
  {
   "cell_type": "code",
   "execution_count": 118,
   "id": "83b26118",
   "metadata": {},
   "outputs": [],
   "source": [
    "for i in prime_numbers:\n",
    "    if(i == 4):\n",
    "        print(\"Element Exists\")"
   ]
  },
  {
   "cell_type": "code",
   "execution_count": 119,
   "id": "2b33f3ca",
   "metadata": {},
   "outputs": [
    {
     "name": "stdout",
     "output_type": "stream",
     "text": [
      "Element Exists\n"
     ]
    }
   ],
   "source": [
    "for i in prime_numbers:\n",
    "    if(i == 11):\n",
    "        print(\"Element Exists\")"
   ]
  },
  {
   "cell_type": "code",
   "execution_count": 120,
   "id": "ab27e700",
   "metadata": {},
   "outputs": [
    {
     "data": {
      "text/plain": [
       "True"
      ]
     },
     "execution_count": 120,
     "metadata": {},
     "output_type": "execute_result"
    }
   ],
   "source": [
    "7 in prime_numbers"
   ]
  },
  {
   "cell_type": "code",
   "execution_count": 121,
   "id": "ccd55cc8",
   "metadata": {},
   "outputs": [
    {
     "data": {
      "text/plain": [
       "False"
      ]
     },
     "execution_count": 121,
     "metadata": {},
     "output_type": "execute_result"
    }
   ],
   "source": [
    "4 in prime_numbers"
   ]
  },
  {
   "cell_type": "code",
   "execution_count": 122,
   "id": "da9461a9",
   "metadata": {},
   "outputs": [],
   "source": [
    "days=[1,2,3,13,5,6,13,14]"
   ]
  },
  {
   "cell_type": "code",
   "execution_count": 123,
   "id": "797d8d6e",
   "metadata": {},
   "outputs": [],
   "source": [
    "n=days.count(13)"
   ]
  },
  {
   "cell_type": "code",
   "execution_count": 124,
   "id": "67306c70",
   "metadata": {},
   "outputs": [
    {
     "data": {
      "text/plain": [
       "2"
      ]
     },
     "execution_count": 124,
     "metadata": {},
     "output_type": "execute_result"
    }
   ],
   "source": [
    "n"
   ]
  },
  {
   "cell_type": "code",
   "execution_count": 125,
   "id": "f244e79b",
   "metadata": {},
   "outputs": [
    {
     "name": "stdout",
     "output_type": "stream",
     "text": [
      "['1', '2', '3', '5', '6', '14']\n"
     ]
    }
   ],
   "source": [
    "days=[\"1\",\"2\",\"3\",\"13\",\"5\",\"6\",\"13\",\"14\"]\n",
    "n = days.count(\"13\")\n",
    "i = 0\n",
    "while i < n:\n",
    "    days.remove(\"13\")\n",
    "    i += 1\n",
    "print(days)"
   ]
  },
  {
   "cell_type": "code",
   "execution_count": 126,
   "id": "91c36beb",
   "metadata": {},
   "outputs": [
    {
     "name": "stdout",
     "output_type": "stream",
     "text": [
      "['1', '2', '3', '5', '6', '14']\n"
     ]
    }
   ],
   "source": [
    "days=[\"1\",\"2\",\"3\",\"13\",\"5\",\"6\",\"13\",\"14\"]\n",
    "days2 = []\n",
    "for day in days:\n",
    "    if day != \"13\":\n",
    "        days2.append(day)\n",
    "print(days2)"
   ]
  },
  {
   "cell_type": "markdown",
   "id": "95ce746a",
   "metadata": {},
   "source": [
    "## 2023-06-8 Thursday"
   ]
  },
  {
   "cell_type": "code",
   "execution_count": 127,
   "id": "16c7fbde",
   "metadata": {},
   "outputs": [],
   "source": [
    "daySchDict = {\n",
    "\"Monday\":\"Shopping\",\n",
    "\"Tuesday\":\"Reading\",\n",
    "\"Wednesday\":\"Sleeping\",\n",
    "\"Thursday\":\"Working\",\n",
    "\"Friday\":\"Reading\"\n",
    "}"
   ]
  },
  {
   "cell_type": "code",
   "execution_count": 128,
   "id": "82d2d08b",
   "metadata": {},
   "outputs": [
    {
     "data": {
      "text/plain": [
       "dict"
      ]
     },
     "execution_count": 128,
     "metadata": {},
     "output_type": "execute_result"
    }
   ],
   "source": [
    "type(daySchDict)"
   ]
  },
  {
   "cell_type": "code",
   "execution_count": 129,
   "id": "495815e8",
   "metadata": {},
   "outputs": [
    {
     "data": {
      "text/plain": [
       "'Reading'"
      ]
     },
     "execution_count": 129,
     "metadata": {},
     "output_type": "execute_result"
    }
   ],
   "source": [
    "daySchDict[\"Tuesday\"]"
   ]
  },
  {
   "cell_type": "code",
   "execution_count": 130,
   "id": "e6702045",
   "metadata": {},
   "outputs": [
    {
     "name": "stdout",
     "output_type": "stream",
     "text": [
      "{'Monday': 'Shopping', 'Tuesday': 'Reading', 'Wednesday': 'Sleeping', 'Thursday': 'Working', 'Friday': 'Reading', 'Saturday': 'Playing', 'Sunday': 'Resting'}\n"
     ]
    }
   ],
   "source": [
    "daySchDict = {\n",
    "\"Monday\":\"Shopping\",\n",
    "\"Tuesday\":\"Reading\",\n",
    "\"Wednesday\":\"Sleeping\",\n",
    "\"Thursday\":\"Working\",\n",
    "\"Friday\":\"Reading\"\n",
    "}\n",
    "daySchDict[\"Saturday\"]=\"Playing\"  ## append new key-value pairs\n",
    "daySchDict[\"Sunday\"]=\"Resting\"\n",
    "print(daySchDict)\n",
    "\n"
   ]
  },
  {
   "cell_type": "code",
   "execution_count": 131,
   "id": "a49e70a4",
   "metadata": {},
   "outputs": [
    {
     "name": "stdout",
     "output_type": "stream",
     "text": [
      "{'Monday': 'Shopping', 'Tuesday': 'Walking', 'Wednesday': 'Sleeping', 'Thursday': 'Hiking', 'Friday': 'Reading'}\n"
     ]
    }
   ],
   "source": [
    "daySchDict = {\n",
    "\"Monday\":\"Shopping\",\n",
    "\"Tuesday\":\"Reading\",\n",
    "\"Wednesday\":\"Sleeping\",\n",
    "\"Thursday\":\"Working\",\n",
    "\"Friday\":\"Reading\"\n",
    "}\n",
    "daySchDict[\"Thursday\"]=\"Hiking\"  ## update key-value pairs\n",
    "daySchDict[\"Tuesday\"]=\"Walking\"\n",
    "print(daySchDict)\n"
   ]
  },
  {
   "cell_type": "code",
   "execution_count": 132,
   "id": "3e9feb99",
   "metadata": {},
   "outputs": [
    {
     "name": "stdout",
     "output_type": "stream",
     "text": [
      "{'Monday': 'Shopping', 'Tuesday': 'Reading', 'Wednesday': 'Sleeping', 'Thursday': 'Working', 'Friday': 'Reading', 'Saturday': 'Playing', 'Sunday': 'Resting'}\n"
     ]
    }
   ],
   "source": [
    "daySchDict = {\n",
    "\"Monday\":\"Shopping\",\n",
    "\"Tuesday\":\"Reading\",\n",
    "\"Wednesday\":\"Sleeping\",\n",
    "\"Thursday\":\"Working\",\n",
    "\"Friday\":\"Reading\"\n",
    "}\n",
    "# append by a new dict\n",
    "daySchNew = {\n",
    "\"Saturday\":\"Playing\",\n",
    "\"Sunday\":\"Resting\"\n",
    "}\n",
    "\n",
    "daySchDict.update(daySchNew)\n",
    "print(daySchDict)"
   ]
  },
  {
   "cell_type": "code",
   "execution_count": 133,
   "id": "32fda976",
   "metadata": {},
   "outputs": [
    {
     "name": "stdout",
     "output_type": "stream",
     "text": [
      "{'Monday': 'Shopping', 'Tuesday': 'Reading', 'Wednesday': 'Sleeping', 'Thursday': 'Working', 'Friday': 'Playing', 'Sunday': 'Resting'}\n"
     ]
    }
   ],
   "source": [
    "daySchDict = {\n",
    "\"Monday\":\"Shopping\",\n",
    "\"Tuesday\":\"Reading\",\n",
    "\"Wednesday\":\"Sleeping\",\n",
    "\"Thursday\":\"Working\",\n",
    "\"Friday\":\"Reading\"\n",
    "}\n",
    "# update by a new dict\n",
    "daySchNew = {\n",
    "\"Friday\":\"Playing\",\n",
    "\"Sunday\":\"Resting\"\n",
    "}\n",
    "\n",
    "daySchDict.update(daySchNew)\n",
    "print(daySchDict)"
   ]
  },
  {
   "cell_type": "code",
   "execution_count": 134,
   "id": "a59c6a1d",
   "metadata": {},
   "outputs": [
    {
     "name": "stdout",
     "output_type": "stream",
     "text": [
      "{'Monday': 'Shopping', 'Tuesday': 'Reading', 'Thursday': 'Working', 'Friday': 'Reading'}\n"
     ]
    }
   ],
   "source": [
    "daySchDict = {\n",
    "\"Monday\":\"Shopping\",\n",
    "\"Tuesday\":\"Reading\",\n",
    "\"Wednesday\":\"Sleeping\",\n",
    "\"Thursday\":\"Working\",\n",
    "\"Friday\":\"Reading\"\n",
    "}\n",
    "del daySchDict[\"Wednesday\"]   ## del a key\n",
    "print(daySchDict)"
   ]
  },
  {
   "cell_type": "code",
   "execution_count": 135,
   "id": "c7903cd2",
   "metadata": {},
   "outputs": [
    {
     "name": "stdout",
     "output_type": "stream",
     "text": [
      "Good Morning Thomson Yeung\n"
     ]
    }
   ],
   "source": [
    "def print_greeting(name):     ## define a funciton\n",
    "    sentence = \"Good Morning\" + \" \" + name\n",
    "    print(sentence)\n",
    "print_greeting(\"Thomson Yeung\")\n",
    "    "
   ]
  },
  {
   "cell_type": "markdown",
   "id": "a6c81f46",
   "metadata": {},
   "source": [
    "### Ndarray from numpy"
   ]
  },
  {
   "cell_type": "code",
   "execution_count": 136,
   "id": "6222e335",
   "metadata": {},
   "outputs": [
    {
     "data": {
      "text/plain": [
       "3.14"
      ]
     },
     "execution_count": 136,
     "metadata": {},
     "output_type": "execute_result"
    }
   ],
   "source": [
    "nums = np.array([3.14,4.00,2.00,3.00])\n",
    "nums[0]"
   ]
  },
  {
   "cell_type": "code",
   "execution_count": 137,
   "id": "66aebb10",
   "metadata": {},
   "outputs": [
    {
     "data": {
      "text/plain": [
       "4.0"
      ]
     },
     "execution_count": 137,
     "metadata": {},
     "output_type": "execute_result"
    }
   ],
   "source": [
    "nums[1]"
   ]
  },
  {
   "cell_type": "code",
   "execution_count": 138,
   "id": "0746f9fc",
   "metadata": {},
   "outputs": [
    {
     "data": {
      "text/plain": [
       "array([4., 2.])"
      ]
     },
     "execution_count": 138,
     "metadata": {},
     "output_type": "execute_result"
    }
   ],
   "source": [
    "nums[1:3]"
   ]
  },
  {
   "cell_type": "code",
   "execution_count": 139,
   "id": "47e71dfe",
   "metadata": {},
   "outputs": [
    {
     "data": {
      "text/plain": [
       "4.0"
      ]
     },
     "execution_count": 139,
     "metadata": {},
     "output_type": "execute_result"
    }
   ],
   "source": [
    "nums[1:3][0]"
   ]
  },
  {
   "cell_type": "code",
   "execution_count": 140,
   "id": "c5365696",
   "metadata": {},
   "outputs": [],
   "source": [
    "nums2 = np.array([[1,2,3],[4,5,6]])"
   ]
  },
  {
   "cell_type": "code",
   "execution_count": 141,
   "id": "6e88d0b4",
   "metadata": {},
   "outputs": [
    {
     "data": {
      "text/plain": [
       "array([1, 2, 3])"
      ]
     },
     "execution_count": 141,
     "metadata": {},
     "output_type": "execute_result"
    }
   ],
   "source": [
    "nums2[0]"
   ]
  },
  {
   "cell_type": "code",
   "execution_count": 142,
   "id": "065f22ae",
   "metadata": {},
   "outputs": [
    {
     "data": {
      "text/plain": [
       "array([5, 6])"
      ]
     },
     "execution_count": 142,
     "metadata": {},
     "output_type": "execute_result"
    }
   ],
   "source": [
    "nums2[1][1:3]"
   ]
  },
  {
   "cell_type": "code",
   "execution_count": 143,
   "id": "cccf11b3",
   "metadata": {},
   "outputs": [
    {
     "data": {
      "text/plain": [
       "numpy.ndarray"
      ]
     },
     "execution_count": 143,
     "metadata": {},
     "output_type": "execute_result"
    }
   ],
   "source": [
    "type(nums2)"
   ]
  },
  {
   "cell_type": "code",
   "execution_count": 144,
   "id": "a9ed43f9",
   "metadata": {},
   "outputs": [
    {
     "data": {
      "text/plain": [
       "2"
      ]
     },
     "execution_count": 144,
     "metadata": {},
     "output_type": "execute_result"
    }
   ],
   "source": [
    "nums2.ndim"
   ]
  },
  {
   "cell_type": "code",
   "execution_count": 145,
   "id": "d8d1ae32",
   "metadata": {},
   "outputs": [
    {
     "data": {
      "text/plain": [
       "(2, 3)"
      ]
     },
     "execution_count": 145,
     "metadata": {},
     "output_type": "execute_result"
    }
   ],
   "source": [
    "nums2.shape"
   ]
  },
  {
   "cell_type": "code",
   "execution_count": 146,
   "id": "3eab7f0f",
   "metadata": {},
   "outputs": [
    {
     "data": {
      "text/plain": [
       "6"
      ]
     },
     "execution_count": 146,
     "metadata": {},
     "output_type": "execute_result"
    }
   ],
   "source": [
    "nums2.size"
   ]
  },
  {
   "cell_type": "code",
   "execution_count": 147,
   "id": "85b5ac1d",
   "metadata": {},
   "outputs": [
    {
     "data": {
      "text/plain": [
       "range(2, 5)"
      ]
     },
     "execution_count": 147,
     "metadata": {},
     "output_type": "execute_result"
    }
   ],
   "source": [
    "range(2,5)"
   ]
  },
  {
   "cell_type": "code",
   "execution_count": 148,
   "id": "2fcc645d",
   "metadata": {},
   "outputs": [
    {
     "data": {
      "text/plain": [
       "range"
      ]
     },
     "execution_count": 148,
     "metadata": {},
     "output_type": "execute_result"
    }
   ],
   "source": [
    "type(range(2,5))"
   ]
  },
  {
   "cell_type": "markdown",
   "id": "d2726bdc",
   "metadata": {},
   "source": [
    "### The range() function returns a sequence of numbers, starting from 0 by default, and increments by 1 (by default), and stops before a specified number."
   ]
  },
  {
   "cell_type": "code",
   "execution_count": 149,
   "id": "0ffe810e",
   "metadata": {},
   "outputs": [
    {
     "name": "stdout",
     "output_type": "stream",
     "text": [
      "0\n",
      "1\n",
      "2\n",
      "3\n",
      "4\n",
      "5\n"
     ]
    }
   ],
   "source": [
    "x = range(6)\n",
    "for n in x:\n",
    "  print(n)"
   ]
  },
  {
   "cell_type": "code",
   "execution_count": 150,
   "id": "0577c808",
   "metadata": {},
   "outputs": [
    {
     "name": "stdout",
     "output_type": "stream",
     "text": [
      "1\n",
      "2\n",
      "3\n",
      "4\n",
      "5\n"
     ]
    }
   ],
   "source": [
    "x = range(1,6)\n",
    "for n in x:\n",
    "  print(n)"
   ]
  },
  {
   "cell_type": "code",
   "execution_count": 151,
   "id": "1002bcdc",
   "metadata": {},
   "outputs": [
    {
     "name": "stdout",
     "output_type": "stream",
     "text": [
      "3\n",
      "4\n",
      "5\n"
     ]
    }
   ],
   "source": [
    "x = range(3,6)\n",
    "for n in x:\n",
    "  print(n)"
   ]
  },
  {
   "cell_type": "code",
   "execution_count": 152,
   "id": "536d27d1",
   "metadata": {},
   "outputs": [
    {
     "name": "stdout",
     "output_type": "stream",
     "text": [
      "3\n",
      "4\n",
      "5\n"
     ]
    }
   ],
   "source": [
    "for n in range(3,6):\n",
    "  print(n)"
   ]
  },
  {
   "cell_type": "code",
   "execution_count": 153,
   "id": "3aa1bdbb",
   "metadata": {},
   "outputs": [],
   "source": [
    "x2=np.array([list(range(i,i+3)) for i in [2,4,6]])"
   ]
  },
  {
   "cell_type": "code",
   "execution_count": 154,
   "id": "8a376d3e",
   "metadata": {},
   "outputs": [
    {
     "data": {
      "text/plain": [
       "type[array([[2, 3, 4],\n",
       "       [4, 5, 6],\n",
       "       [6, 7, 8]])]"
      ]
     },
     "execution_count": 154,
     "metadata": {},
     "output_type": "execute_result"
    }
   ],
   "source": [
    "type[x2]"
   ]
  },
  {
   "cell_type": "code",
   "execution_count": 155,
   "id": "57dcd1dc",
   "metadata": {},
   "outputs": [
    {
     "data": {
      "text/plain": [
       "array([4, 5, 6])"
      ]
     },
     "execution_count": 155,
     "metadata": {},
     "output_type": "execute_result"
    }
   ],
   "source": [
    "x2[1]"
   ]
  },
  {
   "cell_type": "code",
   "execution_count": 156,
   "id": "616e0cb0",
   "metadata": {},
   "outputs": [
    {
     "data": {
      "text/plain": [
       "array([[2, 3, 4],\n",
       "       [4, 5, 6]])"
      ]
     },
     "execution_count": 156,
     "metadata": {},
     "output_type": "execute_result"
    }
   ],
   "source": [
    "x2[:2]"
   ]
  },
  {
   "cell_type": "code",
   "execution_count": 157,
   "id": "817e79bb",
   "metadata": {},
   "outputs": [
    {
     "data": {
      "text/plain": [
       "array([4, 6])"
      ]
     },
     "execution_count": 157,
     "metadata": {},
     "output_type": "execute_result"
    }
   ],
   "source": [
    "x2[:2,2]"
   ]
  },
  {
   "cell_type": "code",
   "execution_count": 158,
   "id": "6c607203",
   "metadata": {},
   "outputs": [
    {
     "data": {
      "text/plain": [
       "array([[10,  3,  4],\n",
       "       [ 4,  5,  6],\n",
       "       [ 6,  7,  8]])"
      ]
     },
     "execution_count": 158,
     "metadata": {},
     "output_type": "execute_result"
    }
   ],
   "source": [
    "x2=np.array([list(range(i,i+3)) for i in [2,4,6]])\n",
    "x2[0,0]=10\n",
    "x2"
   ]
  },
  {
   "cell_type": "code",
   "execution_count": 159,
   "id": "a0afbf91",
   "metadata": {},
   "outputs": [
    {
     "data": {
      "text/plain": [
       "array([[10,  3],\n",
       "       [ 4,  5]])"
      ]
     },
     "execution_count": 159,
     "metadata": {},
     "output_type": "execute_result"
    }
   ],
   "source": [
    "x3=x2[:2,:2]\n",
    "x3"
   ]
  },
  {
   "cell_type": "code",
   "execution_count": 160,
   "id": "91087c13",
   "metadata": {},
   "outputs": [
    {
     "data": {
      "text/plain": [
       "array([[20,  3],\n",
       "       [ 4,  5]])"
      ]
     },
     "execution_count": 160,
     "metadata": {},
     "output_type": "execute_result"
    }
   ],
   "source": [
    "x3[0,0]=20\n",
    "x3"
   ]
  },
  {
   "cell_type": "code",
   "execution_count": 161,
   "id": "468d29ad",
   "metadata": {},
   "outputs": [
    {
     "data": {
      "text/plain": [
       "array([[100,   3],\n",
       "       [  4,   5]])"
      ]
     },
     "execution_count": 161,
     "metadata": {},
     "output_type": "execute_result"
    }
   ],
   "source": [
    "x2=np.array([list(range(i,i+3)) for i in [2,4,6]])\n",
    "x4=x2[:2,:2]\n",
    "x4[0,0]=100\n",
    "x4"
   ]
  },
  {
   "cell_type": "code",
   "execution_count": 162,
   "id": "03f86456",
   "metadata": {},
   "outputs": [
    {
     "data": {
      "text/plain": [
       "array([[100,   3,   4],\n",
       "       [  4,   5,   6],\n",
       "       [  6,   7,   8]])"
      ]
     },
     "execution_count": 162,
     "metadata": {},
     "output_type": "execute_result"
    }
   ],
   "source": [
    "x2  ## changed"
   ]
  },
  {
   "cell_type": "code",
   "execution_count": 163,
   "id": "6db31acd",
   "metadata": {},
   "outputs": [
    {
     "data": {
      "text/plain": [
       "array([[100,   3],\n",
       "       [  4,   5]])"
      ]
     },
     "execution_count": 163,
     "metadata": {},
     "output_type": "execute_result"
    }
   ],
   "source": [
    "x2=np.array([list(range(i,i+3)) for i in [2,4,6]])\n",
    "x4=x2[:2,:2].copy()\n",
    "x4[0,0]=100\n",
    "x4"
   ]
  },
  {
   "cell_type": "code",
   "execution_count": 164,
   "id": "8ee54ad7",
   "metadata": {},
   "outputs": [
    {
     "data": {
      "text/plain": [
       "array([[2, 3, 4],\n",
       "       [4, 5, 6],\n",
       "       [6, 7, 8]])"
      ]
     },
     "execution_count": 164,
     "metadata": {},
     "output_type": "execute_result"
    }
   ],
   "source": [
    "x2  ## no change"
   ]
  },
  {
   "cell_type": "code",
   "execution_count": 165,
   "id": "a7f09ff0",
   "metadata": {},
   "outputs": [
    {
     "data": {
      "text/plain": [
       "array([[2, 3, 4],\n",
       "       [4, 5, 6],\n",
       "       [6, 7, 8]])"
      ]
     },
     "execution_count": 165,
     "metadata": {},
     "output_type": "execute_result"
    }
   ],
   "source": [
    "np.array([list(range(i,i+3)) for i in [2,4,6]])"
   ]
  },
  {
   "cell_type": "code",
   "execution_count": 166,
   "id": "964f581b",
   "metadata": {},
   "outputs": [
    {
     "data": {
      "text/plain": [
       "[[2, 3, 4], [4, 5, 6], [6, 7, 8]]"
      ]
     },
     "execution_count": 166,
     "metadata": {},
     "output_type": "execute_result"
    }
   ],
   "source": [
    "[\n",
    "    list(range(i,i+3))\n",
    "    for i in [2,4,6]\n",
    "]"
   ]
  },
  {
   "cell_type": "code",
   "execution_count": 167,
   "id": "3f17f16d",
   "metadata": {},
   "outputs": [
    {
     "data": {
      "text/plain": [
       "array([[2, 3, 4],\n",
       "       [4, 5, 6],\n",
       "       [6, 7, 8]])"
      ]
     },
     "execution_count": 167,
     "metadata": {},
     "output_type": "execute_result"
    }
   ],
   "source": [
    "np.array(\n",
    "[\n",
    "    list(range(i,i+3))\n",
    "    for i in [2,4,6]\n",
    "])\n"
   ]
  },
  {
   "cell_type": "code",
   "execution_count": 168,
   "id": "c1c569e9",
   "metadata": {
    "scrolled": true
   },
   "outputs": [
    {
     "data": {
      "text/plain": [
       "array([[1, 2, 3],\n",
       "       [4, 5, 6],\n",
       "       [7, 8, 9]])"
      ]
     },
     "execution_count": 168,
     "metadata": {},
     "output_type": "execute_result"
    }
   ],
   "source": [
    "grid=np.arange(1,10).reshape((3,3))\n",
    "grid"
   ]
  },
  {
   "cell_type": "code",
   "execution_count": 169,
   "id": "a0939d55",
   "metadata": {},
   "outputs": [
    {
     "data": {
      "text/plain": [
       "array([[ 1,  2,  3,  4],\n",
       "       [ 5,  6,  7,  8],\n",
       "       [ 9, 10, 11, 12]])"
      ]
     },
     "execution_count": 169,
     "metadata": {},
     "output_type": "execute_result"
    }
   ],
   "source": [
    "grid=np.arange(1,13).reshape((3,4))\n",
    "grid"
   ]
  },
  {
   "cell_type": "code",
   "execution_count": 170,
   "id": "fe52774a",
   "metadata": {},
   "outputs": [
    {
     "data": {
      "text/plain": [
       "array([[ 1,  2,  3],\n",
       "       [ 4,  5,  6],\n",
       "       [ 7,  8,  9],\n",
       "       [10, 11, 12]])"
      ]
     },
     "execution_count": 170,
     "metadata": {},
     "output_type": "execute_result"
    }
   ],
   "source": [
    "grid=np.arange(1,13).reshape((4,3))\n",
    "grid"
   ]
  },
  {
   "cell_type": "code",
   "execution_count": 171,
   "id": "70abe73e",
   "metadata": {},
   "outputs": [],
   "source": [
    "grid1=np.arange(1,10).reshape((3,3))\n",
    "grid2=np.arange(10,19).reshape((3,3))\n"
   ]
  },
  {
   "cell_type": "code",
   "execution_count": 172,
   "id": "a80c417c",
   "metadata": {},
   "outputs": [
    {
     "data": {
      "text/plain": [
       "array([[1, 2, 3],\n",
       "       [4, 5, 6],\n",
       "       [7, 8, 9]])"
      ]
     },
     "execution_count": 172,
     "metadata": {},
     "output_type": "execute_result"
    }
   ],
   "source": [
    "grid1"
   ]
  },
  {
   "cell_type": "code",
   "execution_count": 173,
   "id": "5d2f1756",
   "metadata": {},
   "outputs": [
    {
     "data": {
      "text/plain": [
       "array([[10, 11, 12],\n",
       "       [13, 14, 15],\n",
       "       [16, 17, 18]])"
      ]
     },
     "execution_count": 173,
     "metadata": {},
     "output_type": "execute_result"
    }
   ],
   "source": [
    "grid2"
   ]
  },
  {
   "cell_type": "code",
   "execution_count": 174,
   "id": "e7561f34",
   "metadata": {},
   "outputs": [
    {
     "data": {
      "text/plain": [
       "array([[ 1,  2,  3],\n",
       "       [ 4,  5,  6],\n",
       "       [ 7,  8,  9],\n",
       "       [10, 11, 12],\n",
       "       [13, 14, 15],\n",
       "       [16, 17, 18]])"
      ]
     },
     "execution_count": 174,
     "metadata": {},
     "output_type": "execute_result"
    }
   ],
   "source": [
    "gridSum=np.concatenate([grid1,grid2])\n",
    "gridSum"
   ]
  },
  {
   "cell_type": "code",
   "execution_count": 175,
   "id": "9421f8c5",
   "metadata": {},
   "outputs": [
    {
     "data": {
      "text/plain": [
       "array([[ 1,  2,  3],\n",
       "       [ 4,  5,  6],\n",
       "       [ 7,  8,  9],\n",
       "       [10, 11, 12],\n",
       "       [13, 14, 15],\n",
       "       [16, 17, 18]])"
      ]
     },
     "execution_count": 175,
     "metadata": {},
     "output_type": "execute_result"
    }
   ],
   "source": [
    "np.vstack([grid1,grid2])"
   ]
  },
  {
   "cell_type": "code",
   "execution_count": 176,
   "id": "9de55e9e",
   "metadata": {},
   "outputs": [
    {
     "data": {
      "text/plain": [
       "array([[ 1,  2,  3, 10, 11, 12],\n",
       "       [ 4,  5,  6, 13, 14, 15],\n",
       "       [ 7,  8,  9, 16, 17, 18]])"
      ]
     },
     "execution_count": 176,
     "metadata": {},
     "output_type": "execute_result"
    }
   ],
   "source": [
    "np.hstack([grid1,grid2])"
   ]
  },
  {
   "cell_type": "code",
   "execution_count": 177,
   "id": "233c7226",
   "metadata": {},
   "outputs": [
    {
     "data": {
      "text/plain": [
       "array([[11, 13, 15],\n",
       "       [17, 19, 21],\n",
       "       [23, 25, 27]])"
      ]
     },
     "execution_count": 177,
     "metadata": {},
     "output_type": "execute_result"
    }
   ],
   "source": [
    "grid1 + grid2"
   ]
  },
  {
   "cell_type": "code",
   "execution_count": 178,
   "id": "d8ee88aa",
   "metadata": {},
   "outputs": [
    {
     "data": {
      "text/plain": [
       "array([[9, 9, 9],\n",
       "       [9, 9, 9],\n",
       "       [9, 9, 9]])"
      ]
     },
     "execution_count": 178,
     "metadata": {},
     "output_type": "execute_result"
    }
   ],
   "source": [
    "grid2 - grid1"
   ]
  },
  {
   "cell_type": "code",
   "execution_count": 179,
   "id": "ad8845cd",
   "metadata": {},
   "outputs": [
    {
     "data": {
      "text/plain": [
       "array([[ True,  True,  True],\n",
       "       [ True,  True,  True],\n",
       "       [ True,  True,  True]])"
      ]
     },
     "execution_count": 179,
     "metadata": {},
     "output_type": "execute_result"
    }
   ],
   "source": [
    "grid2 > grid1"
   ]
  },
  {
   "cell_type": "code",
   "execution_count": 180,
   "id": "5bb0e0ef",
   "metadata": {},
   "outputs": [
    {
     "data": {
      "text/plain": [
       "array([[False, False, False],\n",
       "       [False, False, False],\n",
       "       [False, False, False]])"
      ]
     },
     "execution_count": 180,
     "metadata": {},
     "output_type": "execute_result"
    }
   ],
   "source": [
    "grid1 > grid2"
   ]
  },
  {
   "cell_type": "code",
   "execution_count": 181,
   "id": "e9977ef6",
   "metadata": {},
   "outputs": [
    {
     "data": {
      "text/plain": [
       "array([[ True,  True,  True],\n",
       "       [ True,  True,  True],\n",
       "       [ True,  True,  True]])"
      ]
     },
     "execution_count": 181,
     "metadata": {},
     "output_type": "execute_result"
    }
   ],
   "source": [
    "grid1 != grid2"
   ]
  },
  {
   "cell_type": "code",
   "execution_count": 182,
   "id": "127aa53a",
   "metadata": {},
   "outputs": [
    {
     "data": {
      "text/plain": [
       "array([[False, False, False],\n",
       "       [False, False, False],\n",
       "       [False, False, False]])"
      ]
     },
     "execution_count": 182,
     "metadata": {},
     "output_type": "execute_result"
    }
   ],
   "source": [
    "grid1 == grid2"
   ]
  },
  {
   "cell_type": "code",
   "execution_count": 183,
   "id": "47390947",
   "metadata": {},
   "outputs": [
    {
     "data": {
      "text/plain": [
       "array([0, 1, 2])"
      ]
     },
     "execution_count": 183,
     "metadata": {},
     "output_type": "execute_result"
    }
   ],
   "source": [
    "x1=np.array([0,1,2])\n",
    "x1+5\n",
    "x1"
   ]
  },
  {
   "cell_type": "code",
   "execution_count": 184,
   "id": "6e065052",
   "metadata": {},
   "outputs": [],
   "source": [
    "x1=np.arange(3).reshape((3,1))"
   ]
  },
  {
   "cell_type": "code",
   "execution_count": 185,
   "id": "06006db5",
   "metadata": {},
   "outputs": [
    {
     "data": {
      "text/plain": [
       "array([[0],\n",
       "       [1],\n",
       "       [2]])"
      ]
     },
     "execution_count": 185,
     "metadata": {},
     "output_type": "execute_result"
    }
   ],
   "source": [
    "x1"
   ]
  },
  {
   "cell_type": "code",
   "execution_count": 186,
   "id": "4d457b53",
   "metadata": {},
   "outputs": [
    {
     "data": {
      "text/plain": [
       "array([[5],\n",
       "       [6],\n",
       "       [7]])"
      ]
     },
     "execution_count": 186,
     "metadata": {},
     "output_type": "execute_result"
    }
   ],
   "source": [
    "x1+5"
   ]
  },
  {
   "cell_type": "code",
   "execution_count": 187,
   "id": "34b2ba54",
   "metadata": {},
   "outputs": [
    {
     "data": {
      "text/plain": [
       "array([[0],\n",
       "       [1],\n",
       "       [2]])"
      ]
     },
     "execution_count": 187,
     "metadata": {},
     "output_type": "execute_result"
    }
   ],
   "source": [
    "x1"
   ]
  },
  {
   "cell_type": "code",
   "execution_count": 188,
   "id": "2530a811",
   "metadata": {},
   "outputs": [
    {
     "data": {
      "text/plain": [
       "array([[  2.4,   8.7,  31.2],\n",
       "       [157.2,  70.8, 292. ],\n",
       "       [165.6,  95.1, 191.2],\n",
       "       [ 43.2,  33. ,  39.2]])"
      ]
     },
     "execution_count": 188,
     "metadata": {},
     "output_type": "execute_result"
    }
   ],
   "source": [
    "macros = np.array([\n",
    "  [0.8, 2.9, 3.9],\n",
    "  [52.4, 23.6, 36.5],\n",
    "  [55.2, 31.7, 23.9],\n",
    "  [14.4, 11, 4.9]\n",
    "   ])\n",
    "multiplier=np.array([3,3,8])\n",
    "macros * multiplier"
   ]
  },
  {
   "cell_type": "code",
   "execution_count": 189,
   "id": "11cb41ae",
   "metadata": {},
   "outputs": [
    {
     "data": {
      "text/plain": [
       "array([[  2.4,   8.7,  11.7],\n",
       "       [157.2,  70.8, 109.5],\n",
       "       [165.6,  95.1,  71.7],\n",
       "       [ 43.2,  33. ,  14.7]])"
      ]
     },
     "execution_count": 189,
     "metadata": {},
     "output_type": "execute_result"
    }
   ],
   "source": [
    "macros = np.array([\n",
    "  [0.8, 2.9, 3.9],\n",
    "  [52.4, 23.6, 36.5],\n",
    "  [55.2, 31.7, 23.9],\n",
    "  [14.4, 11, 4.9]\n",
    "   ])\n",
    "macros * 3"
   ]
  },
  {
   "cell_type": "markdown",
   "id": "f5d2f193",
   "metadata": {},
   "source": [
    "### Dictionary to Dataframe"
   ]
  },
  {
   "cell_type": "code",
   "execution_count": 190,
   "id": "647f73b0",
   "metadata": {},
   "outputs": [
    {
     "data": {
      "text/html": [
       "<div>\n",
       "<style scoped>\n",
       "    .dataframe tbody tr th:only-of-type {\n",
       "        vertical-align: middle;\n",
       "    }\n",
       "\n",
       "    .dataframe tbody tr th {\n",
       "        vertical-align: top;\n",
       "    }\n",
       "\n",
       "    .dataframe thead th {\n",
       "        text-align: right;\n",
       "    }\n",
       "</style>\n",
       "<table border=\"1\" class=\"dataframe\">\n",
       "  <thead>\n",
       "    <tr style=\"text-align: right;\">\n",
       "      <th></th>\n",
       "      <th>staff_name</th>\n",
       "      <th>dept</th>\n",
       "      <th>age</th>\n",
       "      <th>salary</th>\n",
       "    </tr>\n",
       "  </thead>\n",
       "  <tbody>\n",
       "    <tr>\n",
       "      <th>0</th>\n",
       "      <td>Thomson</td>\n",
       "      <td>MIS</td>\n",
       "      <td>40</td>\n",
       "      <td>30000.0</td>\n",
       "    </tr>\n",
       "    <tr>\n",
       "      <th>1</th>\n",
       "      <td>Tsz</td>\n",
       "      <td>MIS</td>\n",
       "      <td>50</td>\n",
       "      <td>20000.0</td>\n",
       "    </tr>\n",
       "    <tr>\n",
       "      <th>2</th>\n",
       "      <td>Eddie</td>\n",
       "      <td>WOM</td>\n",
       "      <td>60</td>\n",
       "      <td>35000.0</td>\n",
       "    </tr>\n",
       "    <tr>\n",
       "      <th>3</th>\n",
       "      <td>Bonnie</td>\n",
       "      <td>WOM</td>\n",
       "      <td>20</td>\n",
       "      <td>40000.0</td>\n",
       "    </tr>\n",
       "    <tr>\n",
       "      <th>4</th>\n",
       "      <td>Pauline</td>\n",
       "      <td>Finance</td>\n",
       "      <td>30</td>\n",
       "      <td>25000.0</td>\n",
       "    </tr>\n",
       "    <tr>\n",
       "      <th>5</th>\n",
       "      <td>Kitty</td>\n",
       "      <td>Finance</td>\n",
       "      <td>35</td>\n",
       "      <td>10000.0</td>\n",
       "    </tr>\n",
       "  </tbody>\n",
       "</table>\n",
       "</div>"
      ],
      "text/plain": [
       "  staff_name     dept  age   salary\n",
       "0    Thomson      MIS   40  30000.0\n",
       "1        Tsz      MIS   50  20000.0\n",
       "2      Eddie      WOM   60  35000.0\n",
       "3     Bonnie      WOM   20  40000.0\n",
       "4    Pauline  Finance   30  25000.0\n",
       "5      Kitty  Finance   35  10000.0"
      ]
     },
     "execution_count": 190,
     "metadata": {},
     "output_type": "execute_result"
    }
   ],
   "source": [
    "staff_dict = {\n",
    "    \"staff_name\" : [\"Thomson\",\"Tsz\",\"Eddie\",\"Bonnie\",\"Pauline\",\"Kitty\"],\n",
    "    \"dept\" : [\"MIS\",\"MIS\",\"WOM\",\"WOM\",\"Finance\",\"Finance\"],\n",
    "    \"age\" : [40, 50, 60, 20, 30, 35],\n",
    "    \"salary\" : [30000.00,20000.00,35000.00,40000.00,25000.00,10000.00]\n",
    "}\n",
    "staff_df = pd.DataFrame(staff_dict)\n",
    "staff_df"
   ]
  },
  {
   "cell_type": "markdown",
   "id": "1589589c",
   "metadata": {},
   "source": [
    "### List to Dataframe"
   ]
  },
  {
   "cell_type": "code",
   "execution_count": 191,
   "id": "a35ff397",
   "metadata": {},
   "outputs": [
    {
     "data": {
      "text/html": [
       "<div>\n",
       "<style scoped>\n",
       "    .dataframe tbody tr th:only-of-type {\n",
       "        vertical-align: middle;\n",
       "    }\n",
       "\n",
       "    .dataframe tbody tr th {\n",
       "        vertical-align: top;\n",
       "    }\n",
       "\n",
       "    .dataframe thead th {\n",
       "        text-align: right;\n",
       "    }\n",
       "</style>\n",
       "<table border=\"1\" class=\"dataframe\">\n",
       "  <thead>\n",
       "    <tr style=\"text-align: right;\">\n",
       "      <th></th>\n",
       "      <th>staff_name</th>\n",
       "      <th>dept</th>\n",
       "      <th>age</th>\n",
       "      <th>salary</th>\n",
       "    </tr>\n",
       "  </thead>\n",
       "  <tbody>\n",
       "    <tr>\n",
       "      <th>0</th>\n",
       "      <td>Thomson</td>\n",
       "      <td>MIS</td>\n",
       "      <td>40</td>\n",
       "      <td>30000.0</td>\n",
       "    </tr>\n",
       "    <tr>\n",
       "      <th>1</th>\n",
       "      <td>Tsz</td>\n",
       "      <td>MIS</td>\n",
       "      <td>50</td>\n",
       "      <td>20000.0</td>\n",
       "    </tr>\n",
       "    <tr>\n",
       "      <th>2</th>\n",
       "      <td>Eddie</td>\n",
       "      <td>WOM</td>\n",
       "      <td>60</td>\n",
       "      <td>35000.0</td>\n",
       "    </tr>\n",
       "    <tr>\n",
       "      <th>3</th>\n",
       "      <td>Bonnie</td>\n",
       "      <td>WOM</td>\n",
       "      <td>20</td>\n",
       "      <td>40000.0</td>\n",
       "    </tr>\n",
       "    <tr>\n",
       "      <th>4</th>\n",
       "      <td>Pauline</td>\n",
       "      <td>Finance</td>\n",
       "      <td>30</td>\n",
       "      <td>25000.0</td>\n",
       "    </tr>\n",
       "    <tr>\n",
       "      <th>5</th>\n",
       "      <td>Kitty</td>\n",
       "      <td>Finance</td>\n",
       "      <td>35</td>\n",
       "      <td>10000.0</td>\n",
       "    </tr>\n",
       "  </tbody>\n",
       "</table>\n",
       "</div>"
      ],
      "text/plain": [
       "  staff_name     dept  age   salary\n",
       "0    Thomson      MIS   40  30000.0\n",
       "1        Tsz      MIS   50  20000.0\n",
       "2      Eddie      WOM   60  35000.0\n",
       "3     Bonnie      WOM   20  40000.0\n",
       "4    Pauline  Finance   30  25000.0\n",
       "5      Kitty  Finance   35  10000.0"
      ]
     },
     "execution_count": 191,
     "metadata": {},
     "output_type": "execute_result"
    }
   ],
   "source": [
    "staff_list = (\n",
    "    {\"staff_name\":\"Thomson\",\"dept\":\"MIS\",\"age\":40,\"salary\":30000.00},\n",
    "    {\"staff_name\":\"Tsz\",\"dept\":\"MIS\",\"age\":50,\"salary\":20000.00},\n",
    "    {\"staff_name\":\"Eddie\",\"dept\":\"WOM\",\"age\":60,\"salary\":35000.00},\n",
    "    {\"staff_name\":\"Bonnie\",\"dept\":\"WOM\",\"age\":20,\"salary\":40000.00},\n",
    "    {\"staff_name\":\"Pauline\",\"dept\":\"Finance\",\"age\":30,\"salary\":25000.00},\n",
    "    {\"staff_name\":\"Kitty\",\"dept\":\"Finance\",\"age\":35,\"salary\":10000.00}\n",
    ")\n",
    "staff_df2 = pd.DataFrame.from_records(staff_list)\n",
    "staff_df2"
   ]
  },
  {
   "cell_type": "code",
   "execution_count": 192,
   "id": "69aa8a77",
   "metadata": {},
   "outputs": [
    {
     "data": {
      "text/html": [
       "<div>\n",
       "<style scoped>\n",
       "    .dataframe tbody tr th:only-of-type {\n",
       "        vertical-align: middle;\n",
       "    }\n",
       "\n",
       "    .dataframe tbody tr th {\n",
       "        vertical-align: top;\n",
       "    }\n",
       "\n",
       "    .dataframe thead th {\n",
       "        text-align: right;\n",
       "    }\n",
       "</style>\n",
       "<table border=\"1\" class=\"dataframe\">\n",
       "  <thead>\n",
       "    <tr style=\"text-align: right;\">\n",
       "      <th></th>\n",
       "      <th>staff_name</th>\n",
       "      <th>dept</th>\n",
       "      <th>age</th>\n",
       "      <th>salary</th>\n",
       "    </tr>\n",
       "  </thead>\n",
       "  <tbody>\n",
       "    <tr>\n",
       "      <th>1001</th>\n",
       "      <td>Thomson</td>\n",
       "      <td>MIS</td>\n",
       "      <td>40</td>\n",
       "      <td>30000.0</td>\n",
       "    </tr>\n",
       "    <tr>\n",
       "      <th>1002</th>\n",
       "      <td>Tsz</td>\n",
       "      <td>MIS</td>\n",
       "      <td>50</td>\n",
       "      <td>20000.0</td>\n",
       "    </tr>\n",
       "    <tr>\n",
       "      <th>1003</th>\n",
       "      <td>Eddie</td>\n",
       "      <td>WOM</td>\n",
       "      <td>60</td>\n",
       "      <td>35000.0</td>\n",
       "    </tr>\n",
       "    <tr>\n",
       "      <th>1004</th>\n",
       "      <td>Bonnie</td>\n",
       "      <td>WOM</td>\n",
       "      <td>20</td>\n",
       "      <td>40000.0</td>\n",
       "    </tr>\n",
       "    <tr>\n",
       "      <th>1005</th>\n",
       "      <td>Pauline</td>\n",
       "      <td>Finance</td>\n",
       "      <td>30</td>\n",
       "      <td>25000.0</td>\n",
       "    </tr>\n",
       "    <tr>\n",
       "      <th>1006</th>\n",
       "      <td>Kitty</td>\n",
       "      <td>Finance</td>\n",
       "      <td>35</td>\n",
       "      <td>10000.0</td>\n",
       "    </tr>\n",
       "  </tbody>\n",
       "</table>\n",
       "</div>"
      ],
      "text/plain": [
       "     staff_name     dept  age   salary\n",
       "1001    Thomson      MIS   40  30000.0\n",
       "1002        Tsz      MIS   50  20000.0\n",
       "1003      Eddie      WOM   60  35000.0\n",
       "1004     Bonnie      WOM   20  40000.0\n",
       "1005    Pauline  Finance   30  25000.0\n",
       "1006      Kitty  Finance   35  10000.0"
      ]
     },
     "execution_count": 192,
     "metadata": {},
     "output_type": "execute_result"
    }
   ],
   "source": [
    "staff_dict = {\n",
    "    \"staff_name\" : [\"Thomson\",\"Tsz\",\"Eddie\",\"Bonnie\",\"Pauline\",\"Kitty\"],\n",
    "    \"dept\" : [\"MIS\",\"MIS\",\"WOM\",\"WOM\",\"Finance\",\"Finance\"],\n",
    "    \"age\" : [40, 50, 60, 20, 30, 35],\n",
    "    \"salary\" : [30000.00,20000.00,35000.00,40000.00,25000.00,10000.00]\n",
    "}\n",
    "staff_df = pd.DataFrame(staff_dict, index=['1001','1002','1003','1004','1005','1006'])\n",
    "staff_df"
   ]
  },
  {
   "cell_type": "code",
   "execution_count": 193,
   "id": "57b7f9de",
   "metadata": {},
   "outputs": [
    {
     "data": {
      "text/html": [
       "<div>\n",
       "<style scoped>\n",
       "    .dataframe tbody tr th:only-of-type {\n",
       "        vertical-align: middle;\n",
       "    }\n",
       "\n",
       "    .dataframe tbody tr th {\n",
       "        vertical-align: top;\n",
       "    }\n",
       "\n",
       "    .dataframe thead th {\n",
       "        text-align: right;\n",
       "    }\n",
       "</style>\n",
       "<table border=\"1\" class=\"dataframe\">\n",
       "  <thead>\n",
       "    <tr style=\"text-align: right;\">\n",
       "      <th></th>\n",
       "      <th>staff_name</th>\n",
       "      <th>dept</th>\n",
       "      <th>age</th>\n",
       "      <th>salary</th>\n",
       "    </tr>\n",
       "  </thead>\n",
       "  <tbody>\n",
       "    <tr>\n",
       "      <th>1001</th>\n",
       "      <td>Thomson</td>\n",
       "      <td>MIS</td>\n",
       "      <td>40</td>\n",
       "      <td>30000.0</td>\n",
       "    </tr>\n",
       "    <tr>\n",
       "      <th>1002</th>\n",
       "      <td>Tsz</td>\n",
       "      <td>MIS</td>\n",
       "      <td>50</td>\n",
       "      <td>20000.0</td>\n",
       "    </tr>\n",
       "    <tr>\n",
       "      <th>1003</th>\n",
       "      <td>Eddie</td>\n",
       "      <td>WOM</td>\n",
       "      <td>60</td>\n",
       "      <td>35000.0</td>\n",
       "    </tr>\n",
       "    <tr>\n",
       "      <th>1004</th>\n",
       "      <td>Bonnie</td>\n",
       "      <td>WOM</td>\n",
       "      <td>20</td>\n",
       "      <td>40000.0</td>\n",
       "    </tr>\n",
       "    <tr>\n",
       "      <th>1005</th>\n",
       "      <td>Pauline</td>\n",
       "      <td>Finance</td>\n",
       "      <td>30</td>\n",
       "      <td>25000.0</td>\n",
       "    </tr>\n",
       "    <tr>\n",
       "      <th>1006</th>\n",
       "      <td>Kitty</td>\n",
       "      <td>Finance</td>\n",
       "      <td>35</td>\n",
       "      <td>10000.0</td>\n",
       "    </tr>\n",
       "  </tbody>\n",
       "</table>\n",
       "</div>"
      ],
      "text/plain": [
       "     staff_name     dept  age   salary\n",
       "1001    Thomson      MIS   40  30000.0\n",
       "1002        Tsz      MIS   50  20000.0\n",
       "1003      Eddie      WOM   60  35000.0\n",
       "1004     Bonnie      WOM   20  40000.0\n",
       "1005    Pauline  Finance   30  25000.0\n",
       "1006      Kitty  Finance   35  10000.0"
      ]
     },
     "execution_count": 193,
     "metadata": {},
     "output_type": "execute_result"
    }
   ],
   "source": [
    "staff_list = [\n",
    "    {\"staff_name\":\"Thomson\",\"dept\":\"MIS\",\"age\":40,\"salary\":30000.00},\n",
    "    {\"staff_name\":\"Tsz\",\"dept\":\"MIS\",\"age\":50,\"salary\":20000.00},\n",
    "    {\"staff_name\":\"Eddie\",\"dept\":\"WOM\",\"age\":60,\"salary\":35000.00},\n",
    "    {\"staff_name\":\"Bonnie\",\"dept\":\"WOM\",\"age\":20,\"salary\":40000.00},\n",
    "    {\"staff_name\":\"Pauline\",\"dept\":\"Finance\",\"age\":30,\"salary\":25000.00},\n",
    "    {\"staff_name\":\"Kitty\",\"dept\":\"Finance\",\"age\":35,\"salary\":10000.00}\n",
    "]\n",
    "staff_df2 = pd.DataFrame.from_records(staff_list, index=['1001','1002','1003','1004','1005','1006'])\n",
    "staff_df2"
   ]
  },
  {
   "cell_type": "code",
   "execution_count": 194,
   "id": "c0d8a0c4",
   "metadata": {},
   "outputs": [
    {
     "data": {
      "text/html": [
       "<div>\n",
       "<style scoped>\n",
       "    .dataframe tbody tr th:only-of-type {\n",
       "        vertical-align: middle;\n",
       "    }\n",
       "\n",
       "    .dataframe tbody tr th {\n",
       "        vertical-align: top;\n",
       "    }\n",
       "\n",
       "    .dataframe thead th {\n",
       "        text-align: right;\n",
       "    }\n",
       "</style>\n",
       "<table border=\"1\" class=\"dataframe\">\n",
       "  <thead>\n",
       "    <tr style=\"text-align: right;\">\n",
       "      <th></th>\n",
       "      <th>staff_name</th>\n",
       "      <th>dept</th>\n",
       "      <th>age</th>\n",
       "      <th>salary</th>\n",
       "    </tr>\n",
       "  </thead>\n",
       "  <tbody>\n",
       "    <tr>\n",
       "      <th>1001</th>\n",
       "      <td>Thomson</td>\n",
       "      <td>MIS</td>\n",
       "      <td>40</td>\n",
       "      <td>30000.0</td>\n",
       "    </tr>\n",
       "    <tr>\n",
       "      <th>1002</th>\n",
       "      <td>Tsz</td>\n",
       "      <td>MIS</td>\n",
       "      <td>50</td>\n",
       "      <td>20000.0</td>\n",
       "    </tr>\n",
       "    <tr>\n",
       "      <th>1003</th>\n",
       "      <td>Eddie</td>\n",
       "      <td>WOM</td>\n",
       "      <td>60</td>\n",
       "      <td>35000.0</td>\n",
       "    </tr>\n",
       "  </tbody>\n",
       "</table>\n",
       "</div>"
      ],
      "text/plain": [
       "     staff_name dept  age   salary\n",
       "1001    Thomson  MIS   40  30000.0\n",
       "1002        Tsz  MIS   50  20000.0\n",
       "1003      Eddie  WOM   60  35000.0"
      ]
     },
     "execution_count": 194,
     "metadata": {},
     "output_type": "execute_result"
    }
   ],
   "source": [
    "staff_df2[staff_df2[\"age\"]>= 40]"
   ]
  },
  {
   "cell_type": "code",
   "execution_count": 195,
   "id": "a74818db",
   "metadata": {},
   "outputs": [
    {
     "data": {
      "text/html": [
       "<div>\n",
       "<style scoped>\n",
       "    .dataframe tbody tr th:only-of-type {\n",
       "        vertical-align: middle;\n",
       "    }\n",
       "\n",
       "    .dataframe tbody tr th {\n",
       "        vertical-align: top;\n",
       "    }\n",
       "\n",
       "    .dataframe thead th {\n",
       "        text-align: right;\n",
       "    }\n",
       "</style>\n",
       "<table border=\"1\" class=\"dataframe\">\n",
       "  <thead>\n",
       "    <tr style=\"text-align: right;\">\n",
       "      <th></th>\n",
       "      <th>staff_name</th>\n",
       "      <th>dept</th>\n",
       "      <th>age</th>\n",
       "      <th>salary</th>\n",
       "    </tr>\n",
       "  </thead>\n",
       "  <tbody>\n",
       "    <tr>\n",
       "      <th>1001</th>\n",
       "      <td>Thomson</td>\n",
       "      <td>MIS</td>\n",
       "      <td>40</td>\n",
       "      <td>30000.0</td>\n",
       "    </tr>\n",
       "    <tr>\n",
       "      <th>1003</th>\n",
       "      <td>Eddie</td>\n",
       "      <td>WOM</td>\n",
       "      <td>60</td>\n",
       "      <td>35000.0</td>\n",
       "    </tr>\n",
       "  </tbody>\n",
       "</table>\n",
       "</div>"
      ],
      "text/plain": [
       "     staff_name dept  age   salary\n",
       "1001    Thomson  MIS   40  30000.0\n",
       "1003      Eddie  WOM   60  35000.0"
      ]
     },
     "execution_count": 195,
     "metadata": {},
     "output_type": "execute_result"
    }
   ],
   "source": [
    "staff_df2[(staff_df2[\"age\"]>= 40) & (staff_df2[\"salary\"]> 20000)]"
   ]
  },
  {
   "cell_type": "code",
   "execution_count": 196,
   "id": "004c6441",
   "metadata": {},
   "outputs": [
    {
     "data": {
      "text/html": [
       "<div>\n",
       "<style scoped>\n",
       "    .dataframe tbody tr th:only-of-type {\n",
       "        vertical-align: middle;\n",
       "    }\n",
       "\n",
       "    .dataframe tbody tr th {\n",
       "        vertical-align: top;\n",
       "    }\n",
       "\n",
       "    .dataframe thead th {\n",
       "        text-align: right;\n",
       "    }\n",
       "</style>\n",
       "<table border=\"1\" class=\"dataframe\">\n",
       "  <thead>\n",
       "    <tr style=\"text-align: right;\">\n",
       "      <th></th>\n",
       "      <th>staff_name</th>\n",
       "      <th>dept</th>\n",
       "      <th>salary</th>\n",
       "      <th>age</th>\n",
       "    </tr>\n",
       "  </thead>\n",
       "  <tbody>\n",
       "    <tr>\n",
       "      <th>1001</th>\n",
       "      <td>Thomson</td>\n",
       "      <td>MIS</td>\n",
       "      <td>30000.0</td>\n",
       "      <td>40</td>\n",
       "    </tr>\n",
       "    <tr>\n",
       "      <th>1002</th>\n",
       "      <td>Tsz</td>\n",
       "      <td>MIS</td>\n",
       "      <td>20000.0</td>\n",
       "      <td>50</td>\n",
       "    </tr>\n",
       "    <tr>\n",
       "      <th>1003</th>\n",
       "      <td>Eddie</td>\n",
       "      <td>WOM</td>\n",
       "      <td>35000.0</td>\n",
       "      <td>60</td>\n",
       "    </tr>\n",
       "    <tr>\n",
       "      <th>1004</th>\n",
       "      <td>Bonnie</td>\n",
       "      <td>WOM</td>\n",
       "      <td>40000.0</td>\n",
       "      <td>20</td>\n",
       "    </tr>\n",
       "    <tr>\n",
       "      <th>1005</th>\n",
       "      <td>Pauline</td>\n",
       "      <td>Finance</td>\n",
       "      <td>25000.0</td>\n",
       "      <td>30</td>\n",
       "    </tr>\n",
       "    <tr>\n",
       "      <th>1006</th>\n",
       "      <td>Kitty</td>\n",
       "      <td>Finance</td>\n",
       "      <td>10000.0</td>\n",
       "      <td>35</td>\n",
       "    </tr>\n",
       "  </tbody>\n",
       "</table>\n",
       "</div>"
      ],
      "text/plain": [
       "     staff_name     dept   salary  age\n",
       "1001    Thomson      MIS  30000.0   40\n",
       "1002        Tsz      MIS  20000.0   50\n",
       "1003      Eddie      WOM  35000.0   60\n",
       "1004     Bonnie      WOM  40000.0   20\n",
       "1005    Pauline  Finance  25000.0   30\n",
       "1006      Kitty  Finance  10000.0   35"
      ]
     },
     "execution_count": 196,
     "metadata": {},
     "output_type": "execute_result"
    }
   ],
   "source": [
    "# rearrange column order\n",
    "staff_df2=staff_df2[[\"staff_name\",\"dept\",\"salary\",\"age\"]]\n",
    "staff_df2"
   ]
  },
  {
   "cell_type": "code",
   "execution_count": 197,
   "id": "e8ed7439",
   "metadata": {},
   "outputs": [
    {
     "name": "stderr",
     "output_type": "stream",
     "text": [
      "C:\\Users\\Thomson Yeung\\AppData\\Local\\Temp\\ipykernel_11148\\193485113.py:1: SettingWithCopyWarning: \n",
      "A value is trying to be set on a copy of a slice from a DataFrame.\n",
      "Try using .loc[row_indexer,col_indexer] = value instead\n",
      "\n",
      "See the caveats in the documentation: https://pandas.pydata.org/pandas-docs/stable/user_guide/indexing.html#returning-a-view-versus-a-copy\n",
      "  staff_df2[\"Age_Group\"]=[\"Y\" if i<40 else \"M\" for i in staff_df2.age ]\n"
     ]
    },
    {
     "data": {
      "text/html": [
       "<div>\n",
       "<style scoped>\n",
       "    .dataframe tbody tr th:only-of-type {\n",
       "        vertical-align: middle;\n",
       "    }\n",
       "\n",
       "    .dataframe tbody tr th {\n",
       "        vertical-align: top;\n",
       "    }\n",
       "\n",
       "    .dataframe thead th {\n",
       "        text-align: right;\n",
       "    }\n",
       "</style>\n",
       "<table border=\"1\" class=\"dataframe\">\n",
       "  <thead>\n",
       "    <tr style=\"text-align: right;\">\n",
       "      <th></th>\n",
       "      <th>staff_name</th>\n",
       "      <th>dept</th>\n",
       "      <th>salary</th>\n",
       "      <th>age</th>\n",
       "      <th>Age_Group</th>\n",
       "    </tr>\n",
       "  </thead>\n",
       "  <tbody>\n",
       "    <tr>\n",
       "      <th>1001</th>\n",
       "      <td>Thomson</td>\n",
       "      <td>MIS</td>\n",
       "      <td>30000.0</td>\n",
       "      <td>40</td>\n",
       "      <td>M</td>\n",
       "    </tr>\n",
       "    <tr>\n",
       "      <th>1002</th>\n",
       "      <td>Tsz</td>\n",
       "      <td>MIS</td>\n",
       "      <td>20000.0</td>\n",
       "      <td>50</td>\n",
       "      <td>M</td>\n",
       "    </tr>\n",
       "    <tr>\n",
       "      <th>1003</th>\n",
       "      <td>Eddie</td>\n",
       "      <td>WOM</td>\n",
       "      <td>35000.0</td>\n",
       "      <td>60</td>\n",
       "      <td>M</td>\n",
       "    </tr>\n",
       "    <tr>\n",
       "      <th>1004</th>\n",
       "      <td>Bonnie</td>\n",
       "      <td>WOM</td>\n",
       "      <td>40000.0</td>\n",
       "      <td>20</td>\n",
       "      <td>Y</td>\n",
       "    </tr>\n",
       "    <tr>\n",
       "      <th>1005</th>\n",
       "      <td>Pauline</td>\n",
       "      <td>Finance</td>\n",
       "      <td>25000.0</td>\n",
       "      <td>30</td>\n",
       "      <td>Y</td>\n",
       "    </tr>\n",
       "    <tr>\n",
       "      <th>1006</th>\n",
       "      <td>Kitty</td>\n",
       "      <td>Finance</td>\n",
       "      <td>10000.0</td>\n",
       "      <td>35</td>\n",
       "      <td>Y</td>\n",
       "    </tr>\n",
       "  </tbody>\n",
       "</table>\n",
       "</div>"
      ],
      "text/plain": [
       "     staff_name     dept   salary  age Age_Group\n",
       "1001    Thomson      MIS  30000.0   40         M\n",
       "1002        Tsz      MIS  20000.0   50         M\n",
       "1003      Eddie      WOM  35000.0   60         M\n",
       "1004     Bonnie      WOM  40000.0   20         Y\n",
       "1005    Pauline  Finance  25000.0   30         Y\n",
       "1006      Kitty  Finance  10000.0   35         Y"
      ]
     },
     "execution_count": 197,
     "metadata": {},
     "output_type": "execute_result"
    }
   ],
   "source": [
    "staff_df2[\"Age_Group\"]=[\"Y\" if i<40 else \"M\" for i in staff_df2.age ]\n",
    "staff_df2"
   ]
  },
  {
   "cell_type": "code",
   "execution_count": 198,
   "id": "3d4fb56f",
   "metadata": {},
   "outputs": [
    {
     "name": "stderr",
     "output_type": "stream",
     "text": [
      "C:\\Users\\Thomson Yeung\\AppData\\Local\\Temp\\ipykernel_11148\\3180786873.py:1: SettingWithCopyWarning: \n",
      "A value is trying to be set on a copy of a slice from a DataFrame.\n",
      "Try using .loc[row_indexer,col_indexer] = value instead\n",
      "\n",
      "See the caveats in the documentation: https://pandas.pydata.org/pandas-docs/stable/user_guide/indexing.html#returning-a-view-versus-a-copy\n",
      "  staff_df2[\"Age_Group\"]=staff_df2[\"age\"]\n"
     ]
    },
    {
     "data": {
      "text/html": [
       "<div>\n",
       "<style scoped>\n",
       "    .dataframe tbody tr th:only-of-type {\n",
       "        vertical-align: middle;\n",
       "    }\n",
       "\n",
       "    .dataframe tbody tr th {\n",
       "        vertical-align: top;\n",
       "    }\n",
       "\n",
       "    .dataframe thead th {\n",
       "        text-align: right;\n",
       "    }\n",
       "</style>\n",
       "<table border=\"1\" class=\"dataframe\">\n",
       "  <thead>\n",
       "    <tr style=\"text-align: right;\">\n",
       "      <th></th>\n",
       "      <th>staff_name</th>\n",
       "      <th>dept</th>\n",
       "      <th>salary</th>\n",
       "      <th>age</th>\n",
       "      <th>Age_Group</th>\n",
       "    </tr>\n",
       "  </thead>\n",
       "  <tbody>\n",
       "    <tr>\n",
       "      <th>1001</th>\n",
       "      <td>Thomson</td>\n",
       "      <td>MIS</td>\n",
       "      <td>30000.0</td>\n",
       "      <td>40</td>\n",
       "      <td>40</td>\n",
       "    </tr>\n",
       "    <tr>\n",
       "      <th>1002</th>\n",
       "      <td>Tsz</td>\n",
       "      <td>MIS</td>\n",
       "      <td>20000.0</td>\n",
       "      <td>50</td>\n",
       "      <td>50</td>\n",
       "    </tr>\n",
       "    <tr>\n",
       "      <th>1003</th>\n",
       "      <td>Eddie</td>\n",
       "      <td>WOM</td>\n",
       "      <td>35000.0</td>\n",
       "      <td>60</td>\n",
       "      <td>60</td>\n",
       "    </tr>\n",
       "    <tr>\n",
       "      <th>1004</th>\n",
       "      <td>Bonnie</td>\n",
       "      <td>WOM</td>\n",
       "      <td>40000.0</td>\n",
       "      <td>20</td>\n",
       "      <td>20</td>\n",
       "    </tr>\n",
       "    <tr>\n",
       "      <th>1005</th>\n",
       "      <td>Pauline</td>\n",
       "      <td>Finance</td>\n",
       "      <td>25000.0</td>\n",
       "      <td>30</td>\n",
       "      <td>30</td>\n",
       "    </tr>\n",
       "    <tr>\n",
       "      <th>1006</th>\n",
       "      <td>Kitty</td>\n",
       "      <td>Finance</td>\n",
       "      <td>10000.0</td>\n",
       "      <td>35</td>\n",
       "      <td>35</td>\n",
       "    </tr>\n",
       "  </tbody>\n",
       "</table>\n",
       "</div>"
      ],
      "text/plain": [
       "     staff_name     dept   salary  age  Age_Group\n",
       "1001    Thomson      MIS  30000.0   40         40\n",
       "1002        Tsz      MIS  20000.0   50         50\n",
       "1003      Eddie      WOM  35000.0   60         60\n",
       "1004     Bonnie      WOM  40000.0   20         20\n",
       "1005    Pauline  Finance  25000.0   30         30\n",
       "1006      Kitty  Finance  10000.0   35         35"
      ]
     },
     "execution_count": 198,
     "metadata": {},
     "output_type": "execute_result"
    }
   ],
   "source": [
    "staff_df2[\"Age_Group\"]=staff_df2[\"age\"]\n",
    "staff_df2"
   ]
  },
  {
   "cell_type": "code",
   "execution_count": 199,
   "id": "6e499798",
   "metadata": {},
   "outputs": [
    {
     "data": {
      "text/plain": [
       "pandas.core.series.Series"
      ]
     },
     "execution_count": 199,
     "metadata": {},
     "output_type": "execute_result"
    }
   ],
   "source": [
    "type(staff_df2.loc[:,\"age\"])"
   ]
  },
  {
   "cell_type": "code",
   "execution_count": 200,
   "id": "b5c327a9",
   "metadata": {},
   "outputs": [
    {
     "name": "stderr",
     "output_type": "stream",
     "text": [
      "C:\\Users\\Thomson Yeung\\AppData\\Local\\Temp\\ipykernel_11148\\4097476831.py:1: SettingWithCopyWarning: \n",
      "A value is trying to be set on a copy of a slice from a DataFrame.\n",
      "Try using .loc[row_indexer,col_indexer] = value instead\n",
      "\n",
      "See the caveats in the documentation: https://pandas.pydata.org/pandas-docs/stable/user_guide/indexing.html#returning-a-view-versus-a-copy\n",
      "  staff_df2[\"Age_Group\"]=np.where(staff_df2[\"age\"]>=40,\"M\",\"Y\")\n"
     ]
    },
    {
     "data": {
      "text/html": [
       "<div>\n",
       "<style scoped>\n",
       "    .dataframe tbody tr th:only-of-type {\n",
       "        vertical-align: middle;\n",
       "    }\n",
       "\n",
       "    .dataframe tbody tr th {\n",
       "        vertical-align: top;\n",
       "    }\n",
       "\n",
       "    .dataframe thead th {\n",
       "        text-align: right;\n",
       "    }\n",
       "</style>\n",
       "<table border=\"1\" class=\"dataframe\">\n",
       "  <thead>\n",
       "    <tr style=\"text-align: right;\">\n",
       "      <th></th>\n",
       "      <th>staff_name</th>\n",
       "      <th>dept</th>\n",
       "      <th>salary</th>\n",
       "      <th>age</th>\n",
       "      <th>Age_Group</th>\n",
       "    </tr>\n",
       "  </thead>\n",
       "  <tbody>\n",
       "    <tr>\n",
       "      <th>1001</th>\n",
       "      <td>Thomson</td>\n",
       "      <td>MIS</td>\n",
       "      <td>30000.0</td>\n",
       "      <td>40</td>\n",
       "      <td>M</td>\n",
       "    </tr>\n",
       "    <tr>\n",
       "      <th>1002</th>\n",
       "      <td>Tsz</td>\n",
       "      <td>MIS</td>\n",
       "      <td>20000.0</td>\n",
       "      <td>50</td>\n",
       "      <td>M</td>\n",
       "    </tr>\n",
       "    <tr>\n",
       "      <th>1003</th>\n",
       "      <td>Eddie</td>\n",
       "      <td>WOM</td>\n",
       "      <td>35000.0</td>\n",
       "      <td>60</td>\n",
       "      <td>M</td>\n",
       "    </tr>\n",
       "    <tr>\n",
       "      <th>1004</th>\n",
       "      <td>Bonnie</td>\n",
       "      <td>WOM</td>\n",
       "      <td>40000.0</td>\n",
       "      <td>20</td>\n",
       "      <td>Y</td>\n",
       "    </tr>\n",
       "    <tr>\n",
       "      <th>1005</th>\n",
       "      <td>Pauline</td>\n",
       "      <td>Finance</td>\n",
       "      <td>25000.0</td>\n",
       "      <td>30</td>\n",
       "      <td>Y</td>\n",
       "    </tr>\n",
       "    <tr>\n",
       "      <th>1006</th>\n",
       "      <td>Kitty</td>\n",
       "      <td>Finance</td>\n",
       "      <td>10000.0</td>\n",
       "      <td>35</td>\n",
       "      <td>Y</td>\n",
       "    </tr>\n",
       "  </tbody>\n",
       "</table>\n",
       "</div>"
      ],
      "text/plain": [
       "     staff_name     dept   salary  age Age_Group\n",
       "1001    Thomson      MIS  30000.0   40         M\n",
       "1002        Tsz      MIS  20000.0   50         M\n",
       "1003      Eddie      WOM  35000.0   60         M\n",
       "1004     Bonnie      WOM  40000.0   20         Y\n",
       "1005    Pauline  Finance  25000.0   30         Y\n",
       "1006      Kitty  Finance  10000.0   35         Y"
      ]
     },
     "execution_count": 200,
     "metadata": {},
     "output_type": "execute_result"
    }
   ],
   "source": [
    "staff_df2[\"Age_Group\"]=np.where(staff_df2[\"age\"]>=40,\"M\",\"Y\")\n",
    "staff_df2"
   ]
  },
  {
   "cell_type": "code",
   "execution_count": 201,
   "id": "84dccd47",
   "metadata": {},
   "outputs": [],
   "source": [
    "sr=staff_df2[\"age\"]"
   ]
  },
  {
   "cell_type": "code",
   "execution_count": 202,
   "id": "afb897f9",
   "metadata": {},
   "outputs": [
    {
     "name": "stderr",
     "output_type": "stream",
     "text": [
      "C:\\Users\\Thomson Yeung\\AppData\\Local\\Temp\\ipykernel_11148\\3217085644.py:1: SettingWithCopyWarning: \n",
      "A value is trying to be set on a copy of a slice from a DataFrame.\n",
      "Try using .loc[row_indexer,col_indexer] = value instead\n",
      "\n",
      "See the caveats in the documentation: https://pandas.pydata.org/pandas-docs/stable/user_guide/indexing.html#returning-a-view-versus-a-copy\n",
      "  staff_df2.loc[:,\"age\"]=\"Y\"\n"
     ]
    },
    {
     "data": {
      "text/html": [
       "<div>\n",
       "<style scoped>\n",
       "    .dataframe tbody tr th:only-of-type {\n",
       "        vertical-align: middle;\n",
       "    }\n",
       "\n",
       "    .dataframe tbody tr th {\n",
       "        vertical-align: top;\n",
       "    }\n",
       "\n",
       "    .dataframe thead th {\n",
       "        text-align: right;\n",
       "    }\n",
       "</style>\n",
       "<table border=\"1\" class=\"dataframe\">\n",
       "  <thead>\n",
       "    <tr style=\"text-align: right;\">\n",
       "      <th></th>\n",
       "      <th>staff_name</th>\n",
       "      <th>dept</th>\n",
       "      <th>salary</th>\n",
       "      <th>age</th>\n",
       "      <th>Age_Group</th>\n",
       "    </tr>\n",
       "  </thead>\n",
       "  <tbody>\n",
       "    <tr>\n",
       "      <th>1001</th>\n",
       "      <td>Thomson</td>\n",
       "      <td>MIS</td>\n",
       "      <td>30000.0</td>\n",
       "      <td>Y</td>\n",
       "      <td>M</td>\n",
       "    </tr>\n",
       "    <tr>\n",
       "      <th>1002</th>\n",
       "      <td>Tsz</td>\n",
       "      <td>MIS</td>\n",
       "      <td>20000.0</td>\n",
       "      <td>Y</td>\n",
       "      <td>M</td>\n",
       "    </tr>\n",
       "    <tr>\n",
       "      <th>1003</th>\n",
       "      <td>Eddie</td>\n",
       "      <td>WOM</td>\n",
       "      <td>35000.0</td>\n",
       "      <td>Y</td>\n",
       "      <td>M</td>\n",
       "    </tr>\n",
       "    <tr>\n",
       "      <th>1004</th>\n",
       "      <td>Bonnie</td>\n",
       "      <td>WOM</td>\n",
       "      <td>40000.0</td>\n",
       "      <td>Y</td>\n",
       "      <td>Y</td>\n",
       "    </tr>\n",
       "    <tr>\n",
       "      <th>1005</th>\n",
       "      <td>Pauline</td>\n",
       "      <td>Finance</td>\n",
       "      <td>25000.0</td>\n",
       "      <td>Y</td>\n",
       "      <td>Y</td>\n",
       "    </tr>\n",
       "    <tr>\n",
       "      <th>1006</th>\n",
       "      <td>Kitty</td>\n",
       "      <td>Finance</td>\n",
       "      <td>10000.0</td>\n",
       "      <td>Y</td>\n",
       "      <td>Y</td>\n",
       "    </tr>\n",
       "  </tbody>\n",
       "</table>\n",
       "</div>"
      ],
      "text/plain": [
       "     staff_name     dept   salary age Age_Group\n",
       "1001    Thomson      MIS  30000.0   Y         M\n",
       "1002        Tsz      MIS  20000.0   Y         M\n",
       "1003      Eddie      WOM  35000.0   Y         M\n",
       "1004     Bonnie      WOM  40000.0   Y         Y\n",
       "1005    Pauline  Finance  25000.0   Y         Y\n",
       "1006      Kitty  Finance  10000.0   Y         Y"
      ]
     },
     "execution_count": 202,
     "metadata": {},
     "output_type": "execute_result"
    }
   ],
   "source": [
    "staff_df2.loc[:,\"age\"]=\"Y\"\n",
    "staff_df2"
   ]
  },
  {
   "cell_type": "code",
   "execution_count": 203,
   "id": "b1acbce7",
   "metadata": {},
   "outputs": [
    {
     "name": "stderr",
     "output_type": "stream",
     "text": [
      "C:\\Users\\Thomson Yeung\\AppData\\Local\\Temp\\ipykernel_11148\\1473796021.py:1: SettingWithCopyWarning: \n",
      "A value is trying to be set on a copy of a slice from a DataFrame.\n",
      "Try using .loc[row_indexer,col_indexer] = value instead\n",
      "\n",
      "See the caveats in the documentation: https://pandas.pydata.org/pandas-docs/stable/user_guide/indexing.html#returning-a-view-versus-a-copy\n",
      "  staff_df2[\"Age_Group\"]=\"Y\"\n"
     ]
    }
   ],
   "source": [
    "staff_df2[\"Age_Group\"]=\"Y\""
   ]
  },
  {
   "cell_type": "code",
   "execution_count": 204,
   "id": "75e4fc35",
   "metadata": {},
   "outputs": [
    {
     "data": {
      "text/html": [
       "<div>\n",
       "<style scoped>\n",
       "    .dataframe tbody tr th:only-of-type {\n",
       "        vertical-align: middle;\n",
       "    }\n",
       "\n",
       "    .dataframe tbody tr th {\n",
       "        vertical-align: top;\n",
       "    }\n",
       "\n",
       "    .dataframe thead th {\n",
       "        text-align: right;\n",
       "    }\n",
       "</style>\n",
       "<table border=\"1\" class=\"dataframe\">\n",
       "  <thead>\n",
       "    <tr style=\"text-align: right;\">\n",
       "      <th></th>\n",
       "      <th>staff_name</th>\n",
       "      <th>dept</th>\n",
       "      <th>salary</th>\n",
       "      <th>age</th>\n",
       "      <th>Age_Group</th>\n",
       "    </tr>\n",
       "  </thead>\n",
       "  <tbody>\n",
       "    <tr>\n",
       "      <th>1001</th>\n",
       "      <td>Thomson</td>\n",
       "      <td>MIS</td>\n",
       "      <td>30000.0</td>\n",
       "      <td>Y</td>\n",
       "      <td>Y</td>\n",
       "    </tr>\n",
       "    <tr>\n",
       "      <th>1002</th>\n",
       "      <td>Tsz</td>\n",
       "      <td>MIS</td>\n",
       "      <td>20000.0</td>\n",
       "      <td>Y</td>\n",
       "      <td>Y</td>\n",
       "    </tr>\n",
       "    <tr>\n",
       "      <th>1003</th>\n",
       "      <td>Eddie</td>\n",
       "      <td>WOM</td>\n",
       "      <td>35000.0</td>\n",
       "      <td>Y</td>\n",
       "      <td>Y</td>\n",
       "    </tr>\n",
       "    <tr>\n",
       "      <th>1004</th>\n",
       "      <td>Bonnie</td>\n",
       "      <td>WOM</td>\n",
       "      <td>40000.0</td>\n",
       "      <td>Y</td>\n",
       "      <td>Y</td>\n",
       "    </tr>\n",
       "    <tr>\n",
       "      <th>1005</th>\n",
       "      <td>Pauline</td>\n",
       "      <td>Finance</td>\n",
       "      <td>25000.0</td>\n",
       "      <td>Y</td>\n",
       "      <td>Y</td>\n",
       "    </tr>\n",
       "    <tr>\n",
       "      <th>1006</th>\n",
       "      <td>Kitty</td>\n",
       "      <td>Finance</td>\n",
       "      <td>10000.0</td>\n",
       "      <td>Y</td>\n",
       "      <td>Y</td>\n",
       "    </tr>\n",
       "  </tbody>\n",
       "</table>\n",
       "</div>"
      ],
      "text/plain": [
       "     staff_name     dept   salary age Age_Group\n",
       "1001    Thomson      MIS  30000.0   Y         Y\n",
       "1002        Tsz      MIS  20000.0   Y         Y\n",
       "1003      Eddie      WOM  35000.0   Y         Y\n",
       "1004     Bonnie      WOM  40000.0   Y         Y\n",
       "1005    Pauline  Finance  25000.0   Y         Y\n",
       "1006      Kitty  Finance  10000.0   Y         Y"
      ]
     },
     "execution_count": 204,
     "metadata": {},
     "output_type": "execute_result"
    }
   ],
   "source": [
    "staff_df2"
   ]
  },
  {
   "cell_type": "code",
   "execution_count": 205,
   "id": "f256a303",
   "metadata": {},
   "outputs": [
    {
     "data": {
      "text/html": [
       "<div>\n",
       "<style scoped>\n",
       "    .dataframe tbody tr th:only-of-type {\n",
       "        vertical-align: middle;\n",
       "    }\n",
       "\n",
       "    .dataframe tbody tr th {\n",
       "        vertical-align: top;\n",
       "    }\n",
       "\n",
       "    .dataframe thead th {\n",
       "        text-align: right;\n",
       "    }\n",
       "</style>\n",
       "<table border=\"1\" class=\"dataframe\">\n",
       "  <thead>\n",
       "    <tr style=\"text-align: right;\">\n",
       "      <th></th>\n",
       "      <th>staff_name</th>\n",
       "      <th>dept</th>\n",
       "      <th>age</th>\n",
       "      <th>salary</th>\n",
       "    </tr>\n",
       "  </thead>\n",
       "  <tbody>\n",
       "    <tr>\n",
       "      <th>0</th>\n",
       "      <td>Thomson</td>\n",
       "      <td>MIS</td>\n",
       "      <td>40</td>\n",
       "      <td>30000.0</td>\n",
       "    </tr>\n",
       "    <tr>\n",
       "      <th>1</th>\n",
       "      <td>Tsz</td>\n",
       "      <td>MIS</td>\n",
       "      <td>50</td>\n",
       "      <td>20000.0</td>\n",
       "    </tr>\n",
       "    <tr>\n",
       "      <th>2</th>\n",
       "      <td>Eddie</td>\n",
       "      <td>WOM</td>\n",
       "      <td>60</td>\n",
       "      <td>35000.0</td>\n",
       "    </tr>\n",
       "    <tr>\n",
       "      <th>3</th>\n",
       "      <td>Bonnie</td>\n",
       "      <td>WOM</td>\n",
       "      <td>20</td>\n",
       "      <td>40000.0</td>\n",
       "    </tr>\n",
       "    <tr>\n",
       "      <th>4</th>\n",
       "      <td>Pauline</td>\n",
       "      <td>Finance</td>\n",
       "      <td>30</td>\n",
       "      <td>25000.0</td>\n",
       "    </tr>\n",
       "    <tr>\n",
       "      <th>5</th>\n",
       "      <td>Kitty</td>\n",
       "      <td>Finance</td>\n",
       "      <td>35</td>\n",
       "      <td>10000.0</td>\n",
       "    </tr>\n",
       "  </tbody>\n",
       "</table>\n",
       "</div>"
      ],
      "text/plain": [
       "  staff_name     dept  age   salary\n",
       "0    Thomson      MIS   40  30000.0\n",
       "1        Tsz      MIS   50  20000.0\n",
       "2      Eddie      WOM   60  35000.0\n",
       "3     Bonnie      WOM   20  40000.0\n",
       "4    Pauline  Finance   30  25000.0\n",
       "5      Kitty  Finance   35  10000.0"
      ]
     },
     "execution_count": 205,
     "metadata": {},
     "output_type": "execute_result"
    }
   ],
   "source": [
    "staff_list = [\n",
    "    {\"staff_name\":\"Thomson\",\"dept\":\"MIS\",\"age\":40,\"salary\":30000.00},\n",
    "    {\"staff_name\":\"Tsz\",\"dept\":\"MIS\",\"age\":50,\"salary\":20000.00},\n",
    "    {\"staff_name\":\"Eddie\",\"dept\":\"WOM\",\"age\":60,\"salary\":35000.00},\n",
    "    {\"staff_name\":\"Bonnie\",\"dept\":\"WOM\",\"age\":20,\"salary\":40000.00},\n",
    "    {\"staff_name\":\"Pauline\",\"dept\":\"Finance\",\"age\":30,\"salary\":25000.00},\n",
    "    {\"staff_name\":\"Kitty\",\"dept\":\"Finance\",\"age\":35,\"salary\":10000.00}\n",
    "]\n",
    "staff_df3 = pd.DataFrame.from_records(staff_list)\n",
    "staff_df3"
   ]
  },
  {
   "cell_type": "code",
   "execution_count": 206,
   "id": "0dc90d10",
   "metadata": {},
   "outputs": [],
   "source": [
    "staff_df3[\"age_group\"]=\"Y\""
   ]
  },
  {
   "cell_type": "code",
   "execution_count": 207,
   "id": "08ef2b26",
   "metadata": {},
   "outputs": [
    {
     "data": {
      "text/html": [
       "<div>\n",
       "<style scoped>\n",
       "    .dataframe tbody tr th:only-of-type {\n",
       "        vertical-align: middle;\n",
       "    }\n",
       "\n",
       "    .dataframe tbody tr th {\n",
       "        vertical-align: top;\n",
       "    }\n",
       "\n",
       "    .dataframe thead th {\n",
       "        text-align: right;\n",
       "    }\n",
       "</style>\n",
       "<table border=\"1\" class=\"dataframe\">\n",
       "  <thead>\n",
       "    <tr style=\"text-align: right;\">\n",
       "      <th></th>\n",
       "      <th>staff_name</th>\n",
       "      <th>dept</th>\n",
       "      <th>age</th>\n",
       "      <th>salary</th>\n",
       "      <th>age_group</th>\n",
       "    </tr>\n",
       "  </thead>\n",
       "  <tbody>\n",
       "    <tr>\n",
       "      <th>0</th>\n",
       "      <td>Thomson</td>\n",
       "      <td>MIS</td>\n",
       "      <td>40</td>\n",
       "      <td>30000.0</td>\n",
       "      <td>M</td>\n",
       "    </tr>\n",
       "    <tr>\n",
       "      <th>1</th>\n",
       "      <td>Tsz</td>\n",
       "      <td>MIS</td>\n",
       "      <td>50</td>\n",
       "      <td>20000.0</td>\n",
       "      <td>M</td>\n",
       "    </tr>\n",
       "    <tr>\n",
       "      <th>2</th>\n",
       "      <td>Eddie</td>\n",
       "      <td>WOM</td>\n",
       "      <td>60</td>\n",
       "      <td>35000.0</td>\n",
       "      <td>M</td>\n",
       "    </tr>\n",
       "    <tr>\n",
       "      <th>3</th>\n",
       "      <td>Bonnie</td>\n",
       "      <td>WOM</td>\n",
       "      <td>20</td>\n",
       "      <td>40000.0</td>\n",
       "      <td>Y</td>\n",
       "    </tr>\n",
       "    <tr>\n",
       "      <th>4</th>\n",
       "      <td>Pauline</td>\n",
       "      <td>Finance</td>\n",
       "      <td>30</td>\n",
       "      <td>25000.0</td>\n",
       "      <td>Y</td>\n",
       "    </tr>\n",
       "    <tr>\n",
       "      <th>5</th>\n",
       "      <td>Kitty</td>\n",
       "      <td>Finance</td>\n",
       "      <td>35</td>\n",
       "      <td>10000.0</td>\n",
       "      <td>Y</td>\n",
       "    </tr>\n",
       "  </tbody>\n",
       "</table>\n",
       "</div>"
      ],
      "text/plain": [
       "  staff_name     dept  age   salary age_group\n",
       "0    Thomson      MIS   40  30000.0         M\n",
       "1        Tsz      MIS   50  20000.0         M\n",
       "2      Eddie      WOM   60  35000.0         M\n",
       "3     Bonnie      WOM   20  40000.0         Y\n",
       "4    Pauline  Finance   30  25000.0         Y\n",
       "5      Kitty  Finance   35  10000.0         Y"
      ]
     },
     "execution_count": 207,
     "metadata": {},
     "output_type": "execute_result"
    }
   ],
   "source": [
    "staff_df3[\"age_group\"]=np.where(staff_df3[\"age\"]>=40,\"M\",\"Y\")\n",
    "staff_df3"
   ]
  },
  {
   "cell_type": "code",
   "execution_count": 208,
   "id": "117a3284",
   "metadata": {},
   "outputs": [
    {
     "data": {
      "text/html": [
       "<div>\n",
       "<style scoped>\n",
       "    .dataframe tbody tr th:only-of-type {\n",
       "        vertical-align: middle;\n",
       "    }\n",
       "\n",
       "    .dataframe tbody tr th {\n",
       "        vertical-align: top;\n",
       "    }\n",
       "\n",
       "    .dataframe thead th {\n",
       "        text-align: right;\n",
       "    }\n",
       "</style>\n",
       "<table border=\"1\" class=\"dataframe\">\n",
       "  <thead>\n",
       "    <tr style=\"text-align: right;\">\n",
       "      <th></th>\n",
       "      <th>staff_name</th>\n",
       "      <th>dept</th>\n",
       "      <th>age</th>\n",
       "      <th>salary</th>\n",
       "      <th>age_group</th>\n",
       "    </tr>\n",
       "  </thead>\n",
       "  <tbody>\n",
       "    <tr>\n",
       "      <th>0</th>\n",
       "      <td>Thomson</td>\n",
       "      <td>MIS</td>\n",
       "      <td>40</td>\n",
       "      <td>30000.0</td>\n",
       "      <td>M</td>\n",
       "    </tr>\n",
       "    <tr>\n",
       "      <th>1</th>\n",
       "      <td>Tsz</td>\n",
       "      <td>MIS</td>\n",
       "      <td>50</td>\n",
       "      <td>20000.0</td>\n",
       "      <td>M</td>\n",
       "    </tr>\n",
       "    <tr>\n",
       "      <th>2</th>\n",
       "      <td>Eddie</td>\n",
       "      <td>WOM</td>\n",
       "      <td>60</td>\n",
       "      <td>35000.0</td>\n",
       "      <td>M</td>\n",
       "    </tr>\n",
       "    <tr>\n",
       "      <th>3</th>\n",
       "      <td>Bonnie</td>\n",
       "      <td>WOM</td>\n",
       "      <td>20</td>\n",
       "      <td>40000.0</td>\n",
       "      <td>Y</td>\n",
       "    </tr>\n",
       "    <tr>\n",
       "      <th>4</th>\n",
       "      <td>Pauline</td>\n",
       "      <td>Finance</td>\n",
       "      <td>30</td>\n",
       "      <td>25000.0</td>\n",
       "      <td>Y</td>\n",
       "    </tr>\n",
       "    <tr>\n",
       "      <th>5</th>\n",
       "      <td>Kitty</td>\n",
       "      <td>Finance</td>\n",
       "      <td>35</td>\n",
       "      <td>10000.0</td>\n",
       "      <td>Y</td>\n",
       "    </tr>\n",
       "  </tbody>\n",
       "</table>\n",
       "</div>"
      ],
      "text/plain": [
       "  staff_name     dept  age   salary age_group\n",
       "0    Thomson      MIS   40  30000.0         M\n",
       "1        Tsz      MIS   50  20000.0         M\n",
       "2      Eddie      WOM   60  35000.0         M\n",
       "3     Bonnie      WOM   20  40000.0         Y\n",
       "4    Pauline  Finance   30  25000.0         Y\n",
       "5      Kitty  Finance   35  10000.0         Y"
      ]
     },
     "execution_count": 208,
     "metadata": {},
     "output_type": "execute_result"
    }
   ],
   "source": [
    "staff_df3[\"age_group\"]=[\"Y\" if i<40 else \"M\" for i in staff_df3.age ]\n",
    "staff_df3"
   ]
  },
  {
   "cell_type": "code",
   "execution_count": 209,
   "id": "e8925be2",
   "metadata": {},
   "outputs": [],
   "source": [
    "df_dept=pd.DataFrame({\"dept\":[\"MIS\",\"WOM\",\"Finance\"],\n",
    "                      \"dept_name\":[\"Managemet Information System\",\"Work Order Management\",\"Finance and Admin\"],\n",
    "                      \"dept_head\":[\"Peter Lau\",\"Tomy Yip\",\"Jennifer Chan\"]})"
   ]
  },
  {
   "cell_type": "code",
   "execution_count": 210,
   "id": "e3cb3d66",
   "metadata": {},
   "outputs": [
    {
     "data": {
      "text/html": [
       "<div>\n",
       "<style scoped>\n",
       "    .dataframe tbody tr th:only-of-type {\n",
       "        vertical-align: middle;\n",
       "    }\n",
       "\n",
       "    .dataframe tbody tr th {\n",
       "        vertical-align: top;\n",
       "    }\n",
       "\n",
       "    .dataframe thead th {\n",
       "        text-align: right;\n",
       "    }\n",
       "</style>\n",
       "<table border=\"1\" class=\"dataframe\">\n",
       "  <thead>\n",
       "    <tr style=\"text-align: right;\">\n",
       "      <th></th>\n",
       "      <th>dept</th>\n",
       "      <th>dept_name</th>\n",
       "      <th>dept_head</th>\n",
       "    </tr>\n",
       "  </thead>\n",
       "  <tbody>\n",
       "    <tr>\n",
       "      <th>0</th>\n",
       "      <td>MIS</td>\n",
       "      <td>Managemet Information System</td>\n",
       "      <td>Peter Lau</td>\n",
       "    </tr>\n",
       "    <tr>\n",
       "      <th>1</th>\n",
       "      <td>WOM</td>\n",
       "      <td>Work Order Management</td>\n",
       "      <td>Tomy Yip</td>\n",
       "    </tr>\n",
       "    <tr>\n",
       "      <th>2</th>\n",
       "      <td>Finance</td>\n",
       "      <td>Finance and Admin</td>\n",
       "      <td>Jennifer Chan</td>\n",
       "    </tr>\n",
       "  </tbody>\n",
       "</table>\n",
       "</div>"
      ],
      "text/plain": [
       "      dept                     dept_name      dept_head\n",
       "0      MIS  Managemet Information System      Peter Lau\n",
       "1      WOM         Work Order Management       Tomy Yip\n",
       "2  Finance             Finance and Admin  Jennifer Chan"
      ]
     },
     "execution_count": 210,
     "metadata": {},
     "output_type": "execute_result"
    }
   ],
   "source": [
    "df_dept"
   ]
  },
  {
   "cell_type": "code",
   "execution_count": 211,
   "id": "930b2897",
   "metadata": {},
   "outputs": [
    {
     "data": {
      "text/html": [
       "<div>\n",
       "<style scoped>\n",
       "    .dataframe tbody tr th:only-of-type {\n",
       "        vertical-align: middle;\n",
       "    }\n",
       "\n",
       "    .dataframe tbody tr th {\n",
       "        vertical-align: top;\n",
       "    }\n",
       "\n",
       "    .dataframe thead th {\n",
       "        text-align: right;\n",
       "    }\n",
       "</style>\n",
       "<table border=\"1\" class=\"dataframe\">\n",
       "  <thead>\n",
       "    <tr style=\"text-align: right;\">\n",
       "      <th></th>\n",
       "      <th>staff_name</th>\n",
       "      <th>dept</th>\n",
       "      <th>age</th>\n",
       "      <th>salary</th>\n",
       "      <th>age_group</th>\n",
       "      <th>dept_name</th>\n",
       "      <th>dept_head</th>\n",
       "    </tr>\n",
       "  </thead>\n",
       "  <tbody>\n",
       "    <tr>\n",
       "      <th>0</th>\n",
       "      <td>Thomson</td>\n",
       "      <td>MIS</td>\n",
       "      <td>40</td>\n",
       "      <td>30000.0</td>\n",
       "      <td>M</td>\n",
       "      <td>Managemet Information System</td>\n",
       "      <td>Peter Lau</td>\n",
       "    </tr>\n",
       "    <tr>\n",
       "      <th>1</th>\n",
       "      <td>Tsz</td>\n",
       "      <td>MIS</td>\n",
       "      <td>50</td>\n",
       "      <td>20000.0</td>\n",
       "      <td>M</td>\n",
       "      <td>Managemet Information System</td>\n",
       "      <td>Peter Lau</td>\n",
       "    </tr>\n",
       "    <tr>\n",
       "      <th>2</th>\n",
       "      <td>Eddie</td>\n",
       "      <td>WOM</td>\n",
       "      <td>60</td>\n",
       "      <td>35000.0</td>\n",
       "      <td>M</td>\n",
       "      <td>Work Order Management</td>\n",
       "      <td>Tomy Yip</td>\n",
       "    </tr>\n",
       "    <tr>\n",
       "      <th>3</th>\n",
       "      <td>Bonnie</td>\n",
       "      <td>WOM</td>\n",
       "      <td>20</td>\n",
       "      <td>40000.0</td>\n",
       "      <td>Y</td>\n",
       "      <td>Work Order Management</td>\n",
       "      <td>Tomy Yip</td>\n",
       "    </tr>\n",
       "    <tr>\n",
       "      <th>4</th>\n",
       "      <td>Pauline</td>\n",
       "      <td>Finance</td>\n",
       "      <td>30</td>\n",
       "      <td>25000.0</td>\n",
       "      <td>Y</td>\n",
       "      <td>Finance and Admin</td>\n",
       "      <td>Jennifer Chan</td>\n",
       "    </tr>\n",
       "    <tr>\n",
       "      <th>5</th>\n",
       "      <td>Kitty</td>\n",
       "      <td>Finance</td>\n",
       "      <td>35</td>\n",
       "      <td>10000.0</td>\n",
       "      <td>Y</td>\n",
       "      <td>Finance and Admin</td>\n",
       "      <td>Jennifer Chan</td>\n",
       "    </tr>\n",
       "  </tbody>\n",
       "</table>\n",
       "</div>"
      ],
      "text/plain": [
       "  staff_name     dept  age   salary age_group                     dept_name  \\\n",
       "0    Thomson      MIS   40  30000.0         M  Managemet Information System   \n",
       "1        Tsz      MIS   50  20000.0         M  Managemet Information System   \n",
       "2      Eddie      WOM   60  35000.0         M         Work Order Management   \n",
       "3     Bonnie      WOM   20  40000.0         Y         Work Order Management   \n",
       "4    Pauline  Finance   30  25000.0         Y             Finance and Admin   \n",
       "5      Kitty  Finance   35  10000.0         Y             Finance and Admin   \n",
       "\n",
       "       dept_head  \n",
       "0      Peter Lau  \n",
       "1      Peter Lau  \n",
       "2       Tomy Yip  \n",
       "3       Tomy Yip  \n",
       "4  Jennifer Chan  \n",
       "5  Jennifer Chan  "
      ]
     },
     "execution_count": 211,
     "metadata": {},
     "output_type": "execute_result"
    }
   ],
   "source": [
    "# join two tables\n",
    "staff_df4=pd.merge(left=staff_df3,right=df_dept,how=\"inner\",left_on=\"dept\",right_on=\"dept\")\n",
    "#staff_df4=pd.merge(left=staff_df3,right=df_dept,how=\"left\",left_on=\"dept\",right_on=\"dept\")\n",
    "staff_df4"
   ]
  },
  {
   "cell_type": "code",
   "execution_count": 212,
   "id": "cc0a2cd2",
   "metadata": {},
   "outputs": [
    {
     "data": {
      "text/html": [
       "<div>\n",
       "<style scoped>\n",
       "    .dataframe tbody tr th:only-of-type {\n",
       "        vertical-align: middle;\n",
       "    }\n",
       "\n",
       "    .dataframe tbody tr th {\n",
       "        vertical-align: top;\n",
       "    }\n",
       "\n",
       "    .dataframe thead th {\n",
       "        text-align: right;\n",
       "    }\n",
       "</style>\n",
       "<table border=\"1\" class=\"dataframe\">\n",
       "  <thead>\n",
       "    <tr style=\"text-align: right;\">\n",
       "      <th></th>\n",
       "      <th>staff_name</th>\n",
       "      <th>dept</th>\n",
       "      <th>age</th>\n",
       "      <th>salary</th>\n",
       "      <th>age_group</th>\n",
       "      <th>dept_name</th>\n",
       "      <th>dept_head</th>\n",
       "    </tr>\n",
       "  </thead>\n",
       "  <tbody>\n",
       "    <tr>\n",
       "      <th>0</th>\n",
       "      <td>Thomson</td>\n",
       "      <td>MIS</td>\n",
       "      <td>40</td>\n",
       "      <td>30000.0</td>\n",
       "      <td>M</td>\n",
       "      <td>Managemet Information System</td>\n",
       "      <td>Peter Lau</td>\n",
       "    </tr>\n",
       "    <tr>\n",
       "      <th>1</th>\n",
       "      <td>Tsz</td>\n",
       "      <td>MIS</td>\n",
       "      <td>50</td>\n",
       "      <td>20000.0</td>\n",
       "      <td>M</td>\n",
       "      <td>Managemet Information System</td>\n",
       "      <td>Peter Lau</td>\n",
       "    </tr>\n",
       "    <tr>\n",
       "      <th>2</th>\n",
       "      <td>Eddie</td>\n",
       "      <td>WOM</td>\n",
       "      <td>60</td>\n",
       "      <td>35000.0</td>\n",
       "      <td>M</td>\n",
       "      <td>Work Order Management</td>\n",
       "      <td>Tomy Yip</td>\n",
       "    </tr>\n",
       "    <tr>\n",
       "      <th>3</th>\n",
       "      <td>Bonnie</td>\n",
       "      <td>WOM</td>\n",
       "      <td>20</td>\n",
       "      <td>40000.0</td>\n",
       "      <td>Y</td>\n",
       "      <td>Work Order Management</td>\n",
       "      <td>Tomy Yip</td>\n",
       "    </tr>\n",
       "    <tr>\n",
       "      <th>4</th>\n",
       "      <td>Pauline</td>\n",
       "      <td>Finance</td>\n",
       "      <td>30</td>\n",
       "      <td>25000.0</td>\n",
       "      <td>Y</td>\n",
       "      <td>Finance and Admin</td>\n",
       "      <td>Jennifer Chan</td>\n",
       "    </tr>\n",
       "    <tr>\n",
       "      <th>5</th>\n",
       "      <td>Kitty</td>\n",
       "      <td>Finance</td>\n",
       "      <td>35</td>\n",
       "      <td>10000.0</td>\n",
       "      <td>Y</td>\n",
       "      <td>Finance and Admin</td>\n",
       "      <td>Jennifer Chan</td>\n",
       "    </tr>\n",
       "  </tbody>\n",
       "</table>\n",
       "</div>"
      ],
      "text/plain": [
       "  staff_name     dept  age   salary age_group                     dept_name  \\\n",
       "0    Thomson      MIS   40  30000.0         M  Managemet Information System   \n",
       "1        Tsz      MIS   50  20000.0         M  Managemet Information System   \n",
       "2      Eddie      WOM   60  35000.0         M         Work Order Management   \n",
       "3     Bonnie      WOM   20  40000.0         Y         Work Order Management   \n",
       "4    Pauline  Finance   30  25000.0         Y             Finance and Admin   \n",
       "5      Kitty  Finance   35  10000.0         Y             Finance and Admin   \n",
       "\n",
       "       dept_head  \n",
       "0      Peter Lau  \n",
       "1      Peter Lau  \n",
       "2       Tomy Yip  \n",
       "3       Tomy Yip  \n",
       "4  Jennifer Chan  \n",
       "5  Jennifer Chan  "
      ]
     },
     "execution_count": 212,
     "metadata": {},
     "output_type": "execute_result"
    }
   ],
   "source": [
    "staff_df4"
   ]
  },
  {
   "cell_type": "code",
   "execution_count": 213,
   "id": "a333ebd7",
   "metadata": {},
   "outputs": [
    {
     "data": {
      "text/html": [
       "<div>\n",
       "<style scoped>\n",
       "    .dataframe tbody tr th:only-of-type {\n",
       "        vertical-align: middle;\n",
       "    }\n",
       "\n",
       "    .dataframe tbody tr th {\n",
       "        vertical-align: top;\n",
       "    }\n",
       "\n",
       "    .dataframe thead th {\n",
       "        text-align: right;\n",
       "    }\n",
       "</style>\n",
       "<table border=\"1\" class=\"dataframe\">\n",
       "  <thead>\n",
       "    <tr style=\"text-align: right;\">\n",
       "      <th></th>\n",
       "      <th>staff_name</th>\n",
       "      <th>dept</th>\n",
       "      <th>age</th>\n",
       "      <th>salary</th>\n",
       "      <th>age_group</th>\n",
       "      <th>dept_name</th>\n",
       "      <th>dept_head</th>\n",
       "    </tr>\n",
       "  </thead>\n",
       "  <tbody>\n",
       "    <tr>\n",
       "      <th>0</th>\n",
       "      <td>Thomson</td>\n",
       "      <td>MIS</td>\n",
       "      <td>40</td>\n",
       "      <td>30000.0</td>\n",
       "      <td>M</td>\n",
       "      <td>Managemet Information System</td>\n",
       "      <td>Peter Lau</td>\n",
       "    </tr>\n",
       "    <tr>\n",
       "      <th>1</th>\n",
       "      <td>Tsz</td>\n",
       "      <td>MIS</td>\n",
       "      <td>50</td>\n",
       "      <td>20000.0</td>\n",
       "      <td>M</td>\n",
       "      <td>Managemet Information System</td>\n",
       "      <td>Peter Lau</td>\n",
       "    </tr>\n",
       "    <tr>\n",
       "      <th>2</th>\n",
       "      <td>Eddie</td>\n",
       "      <td>WOM</td>\n",
       "      <td>60</td>\n",
       "      <td>35000.0</td>\n",
       "      <td>M</td>\n",
       "      <td>Work Order Management</td>\n",
       "      <td>Tomy Yip</td>\n",
       "    </tr>\n",
       "    <tr>\n",
       "      <th>3</th>\n",
       "      <td>Bonnie</td>\n",
       "      <td>WOM</td>\n",
       "      <td>20</td>\n",
       "      <td>40000.0</td>\n",
       "      <td>Y</td>\n",
       "      <td>Work Order Management</td>\n",
       "      <td>Tomy Yip</td>\n",
       "    </tr>\n",
       "    <tr>\n",
       "      <th>4</th>\n",
       "      <td>Pauline</td>\n",
       "      <td>Finance</td>\n",
       "      <td>30</td>\n",
       "      <td>25000.0</td>\n",
       "      <td>Y</td>\n",
       "      <td>Finance and Admin</td>\n",
       "      <td>Jennifer Chan</td>\n",
       "    </tr>\n",
       "    <tr>\n",
       "      <th>5</th>\n",
       "      <td>Kitty</td>\n",
       "      <td>Finance</td>\n",
       "      <td>35</td>\n",
       "      <td>10000.0</td>\n",
       "      <td>Y</td>\n",
       "      <td>Finance and Admin</td>\n",
       "      <td>Jennifer Chan</td>\n",
       "    </tr>\n",
       "  </tbody>\n",
       "</table>\n",
       "</div>"
      ],
      "text/plain": [
       "  staff_name     dept  age   salary age_group                     dept_name  \\\n",
       "0    Thomson      MIS   40  30000.0         M  Managemet Information System   \n",
       "1        Tsz      MIS   50  20000.0         M  Managemet Information System   \n",
       "2      Eddie      WOM   60  35000.0         M         Work Order Management   \n",
       "3     Bonnie      WOM   20  40000.0         Y         Work Order Management   \n",
       "4    Pauline  Finance   30  25000.0         Y             Finance and Admin   \n",
       "5      Kitty  Finance   35  10000.0         Y             Finance and Admin   \n",
       "\n",
       "       dept_head  \n",
       "0      Peter Lau  \n",
       "1      Peter Lau  \n",
       "2       Tomy Yip  \n",
       "3       Tomy Yip  \n",
       "4  Jennifer Chan  \n",
       "5  Jennifer Chan  "
      ]
     },
     "execution_count": 213,
     "metadata": {},
     "output_type": "execute_result"
    }
   ],
   "source": [
    "staff_df5=staff_df4\n",
    "staff_df5"
   ]
  },
  {
   "cell_type": "code",
   "execution_count": 214,
   "id": "d9ef71b9",
   "metadata": {},
   "outputs": [
    {
     "data": {
      "text/html": [
       "<div>\n",
       "<style scoped>\n",
       "    .dataframe tbody tr th:only-of-type {\n",
       "        vertical-align: middle;\n",
       "    }\n",
       "\n",
       "    .dataframe tbody tr th {\n",
       "        vertical-align: top;\n",
       "    }\n",
       "\n",
       "    .dataframe thead th {\n",
       "        text-align: right;\n",
       "    }\n",
       "</style>\n",
       "<table border=\"1\" class=\"dataframe\">\n",
       "  <thead>\n",
       "    <tr style=\"text-align: right;\">\n",
       "      <th></th>\n",
       "      <th>staff_name</th>\n",
       "      <th>dept</th>\n",
       "      <th>age</th>\n",
       "      <th>salary</th>\n",
       "      <th>age_group</th>\n",
       "      <th>dept_name</th>\n",
       "      <th>dept_head</th>\n",
       "    </tr>\n",
       "  </thead>\n",
       "  <tbody>\n",
       "    <tr>\n",
       "      <th>0</th>\n",
       "      <td>Thomson</td>\n",
       "      <td>MIS</td>\n",
       "      <td>40</td>\n",
       "      <td>30000.0</td>\n",
       "      <td>M</td>\n",
       "      <td>Managemet Information System</td>\n",
       "      <td>Peter Lau</td>\n",
       "    </tr>\n",
       "    <tr>\n",
       "      <th>1</th>\n",
       "      <td>Tsz</td>\n",
       "      <td>MIS</td>\n",
       "      <td>50</td>\n",
       "      <td>20000.0</td>\n",
       "      <td>M</td>\n",
       "      <td>Managemet Information System</td>\n",
       "      <td>Peter Lau</td>\n",
       "    </tr>\n",
       "    <tr>\n",
       "      <th>2</th>\n",
       "      <td>Eddie</td>\n",
       "      <td>WOM</td>\n",
       "      <td>60</td>\n",
       "      <td>35000.0</td>\n",
       "      <td>M</td>\n",
       "      <td>Work Order Management</td>\n",
       "      <td>Tomy Yip</td>\n",
       "    </tr>\n",
       "    <tr>\n",
       "      <th>3</th>\n",
       "      <td>Bonnie</td>\n",
       "      <td>WOM</td>\n",
       "      <td>20</td>\n",
       "      <td>40000.0</td>\n",
       "      <td>Y</td>\n",
       "      <td>Work Order Management</td>\n",
       "      <td>Tomy Yip</td>\n",
       "    </tr>\n",
       "    <tr>\n",
       "      <th>4</th>\n",
       "      <td>Pauline</td>\n",
       "      <td>Finance</td>\n",
       "      <td>30</td>\n",
       "      <td>25000.0</td>\n",
       "      <td>Y</td>\n",
       "      <td>Finance and Admin</td>\n",
       "      <td>Jennifer Chan</td>\n",
       "    </tr>\n",
       "    <tr>\n",
       "      <th>5</th>\n",
       "      <td>Kitty</td>\n",
       "      <td>Finance</td>\n",
       "      <td>35</td>\n",
       "      <td>10000.0</td>\n",
       "      <td>Y</td>\n",
       "      <td>Finance and Admin</td>\n",
       "      <td>Jennifer Chan</td>\n",
       "    </tr>\n",
       "    <tr>\n",
       "      <th>0</th>\n",
       "      <td>Thomson</td>\n",
       "      <td>MIS</td>\n",
       "      <td>40</td>\n",
       "      <td>30000.0</td>\n",
       "      <td>M</td>\n",
       "      <td>Managemet Information System</td>\n",
       "      <td>Peter Lau</td>\n",
       "    </tr>\n",
       "    <tr>\n",
       "      <th>1</th>\n",
       "      <td>Tsz</td>\n",
       "      <td>MIS</td>\n",
       "      <td>50</td>\n",
       "      <td>20000.0</td>\n",
       "      <td>M</td>\n",
       "      <td>Managemet Information System</td>\n",
       "      <td>Peter Lau</td>\n",
       "    </tr>\n",
       "    <tr>\n",
       "      <th>2</th>\n",
       "      <td>Eddie</td>\n",
       "      <td>WOM</td>\n",
       "      <td>60</td>\n",
       "      <td>35000.0</td>\n",
       "      <td>M</td>\n",
       "      <td>Work Order Management</td>\n",
       "      <td>Tomy Yip</td>\n",
       "    </tr>\n",
       "    <tr>\n",
       "      <th>3</th>\n",
       "      <td>Bonnie</td>\n",
       "      <td>WOM</td>\n",
       "      <td>20</td>\n",
       "      <td>40000.0</td>\n",
       "      <td>Y</td>\n",
       "      <td>Work Order Management</td>\n",
       "      <td>Tomy Yip</td>\n",
       "    </tr>\n",
       "    <tr>\n",
       "      <th>4</th>\n",
       "      <td>Pauline</td>\n",
       "      <td>Finance</td>\n",
       "      <td>30</td>\n",
       "      <td>25000.0</td>\n",
       "      <td>Y</td>\n",
       "      <td>Finance and Admin</td>\n",
       "      <td>Jennifer Chan</td>\n",
       "    </tr>\n",
       "    <tr>\n",
       "      <th>5</th>\n",
       "      <td>Kitty</td>\n",
       "      <td>Finance</td>\n",
       "      <td>35</td>\n",
       "      <td>10000.0</td>\n",
       "      <td>Y</td>\n",
       "      <td>Finance and Admin</td>\n",
       "      <td>Jennifer Chan</td>\n",
       "    </tr>\n",
       "  </tbody>\n",
       "</table>\n",
       "</div>"
      ],
      "text/plain": [
       "  staff_name     dept  age   salary age_group                     dept_name  \\\n",
       "0    Thomson      MIS   40  30000.0         M  Managemet Information System   \n",
       "1        Tsz      MIS   50  20000.0         M  Managemet Information System   \n",
       "2      Eddie      WOM   60  35000.0         M         Work Order Management   \n",
       "3     Bonnie      WOM   20  40000.0         Y         Work Order Management   \n",
       "4    Pauline  Finance   30  25000.0         Y             Finance and Admin   \n",
       "5      Kitty  Finance   35  10000.0         Y             Finance and Admin   \n",
       "0    Thomson      MIS   40  30000.0         M  Managemet Information System   \n",
       "1        Tsz      MIS   50  20000.0         M  Managemet Information System   \n",
       "2      Eddie      WOM   60  35000.0         M         Work Order Management   \n",
       "3     Bonnie      WOM   20  40000.0         Y         Work Order Management   \n",
       "4    Pauline  Finance   30  25000.0         Y             Finance and Admin   \n",
       "5      Kitty  Finance   35  10000.0         Y             Finance and Admin   \n",
       "\n",
       "       dept_head  \n",
       "0      Peter Lau  \n",
       "1      Peter Lau  \n",
       "2       Tomy Yip  \n",
       "3       Tomy Yip  \n",
       "4  Jennifer Chan  \n",
       "5  Jennifer Chan  \n",
       "0      Peter Lau  \n",
       "1      Peter Lau  \n",
       "2       Tomy Yip  \n",
       "3       Tomy Yip  \n",
       "4  Jennifer Chan  \n",
       "5  Jennifer Chan  "
      ]
     },
     "execution_count": 214,
     "metadata": {},
     "output_type": "execute_result"
    }
   ],
   "source": [
    "# Union all\n",
    "staff_df6=pd.concat([staff_df4,staff_df5],axis=0)\n",
    "staff_df6"
   ]
  },
  {
   "cell_type": "code",
   "execution_count": 215,
   "id": "c1bea5d7",
   "metadata": {},
   "outputs": [
    {
     "data": {
      "text/html": [
       "<div>\n",
       "<style scoped>\n",
       "    .dataframe tbody tr th:only-of-type {\n",
       "        vertical-align: middle;\n",
       "    }\n",
       "\n",
       "    .dataframe tbody tr th {\n",
       "        vertical-align: top;\n",
       "    }\n",
       "\n",
       "    .dataframe thead th {\n",
       "        text-align: right;\n",
       "    }\n",
       "</style>\n",
       "<table border=\"1\" class=\"dataframe\">\n",
       "  <thead>\n",
       "    <tr style=\"text-align: right;\">\n",
       "      <th></th>\n",
       "      <th>index</th>\n",
       "      <th>staff_name</th>\n",
       "      <th>dept</th>\n",
       "      <th>age</th>\n",
       "      <th>salary</th>\n",
       "      <th>age_group</th>\n",
       "      <th>dept_name</th>\n",
       "      <th>dept_head</th>\n",
       "    </tr>\n",
       "  </thead>\n",
       "  <tbody>\n",
       "    <tr>\n",
       "      <th>0</th>\n",
       "      <td>0</td>\n",
       "      <td>Thomson</td>\n",
       "      <td>MIS</td>\n",
       "      <td>40</td>\n",
       "      <td>30000.0</td>\n",
       "      <td>M</td>\n",
       "      <td>Managemet Information System</td>\n",
       "      <td>Peter Lau</td>\n",
       "    </tr>\n",
       "    <tr>\n",
       "      <th>1</th>\n",
       "      <td>1</td>\n",
       "      <td>Tsz</td>\n",
       "      <td>MIS</td>\n",
       "      <td>50</td>\n",
       "      <td>20000.0</td>\n",
       "      <td>M</td>\n",
       "      <td>Managemet Information System</td>\n",
       "      <td>Peter Lau</td>\n",
       "    </tr>\n",
       "    <tr>\n",
       "      <th>2</th>\n",
       "      <td>2</td>\n",
       "      <td>Eddie</td>\n",
       "      <td>WOM</td>\n",
       "      <td>60</td>\n",
       "      <td>35000.0</td>\n",
       "      <td>M</td>\n",
       "      <td>Work Order Management</td>\n",
       "      <td>Tomy Yip</td>\n",
       "    </tr>\n",
       "    <tr>\n",
       "      <th>3</th>\n",
       "      <td>3</td>\n",
       "      <td>Bonnie</td>\n",
       "      <td>WOM</td>\n",
       "      <td>20</td>\n",
       "      <td>40000.0</td>\n",
       "      <td>Y</td>\n",
       "      <td>Work Order Management</td>\n",
       "      <td>Tomy Yip</td>\n",
       "    </tr>\n",
       "    <tr>\n",
       "      <th>4</th>\n",
       "      <td>4</td>\n",
       "      <td>Pauline</td>\n",
       "      <td>Finance</td>\n",
       "      <td>30</td>\n",
       "      <td>25000.0</td>\n",
       "      <td>Y</td>\n",
       "      <td>Finance and Admin</td>\n",
       "      <td>Jennifer Chan</td>\n",
       "    </tr>\n",
       "    <tr>\n",
       "      <th>5</th>\n",
       "      <td>5</td>\n",
       "      <td>Kitty</td>\n",
       "      <td>Finance</td>\n",
       "      <td>35</td>\n",
       "      <td>10000.0</td>\n",
       "      <td>Y</td>\n",
       "      <td>Finance and Admin</td>\n",
       "      <td>Jennifer Chan</td>\n",
       "    </tr>\n",
       "    <tr>\n",
       "      <th>6</th>\n",
       "      <td>0</td>\n",
       "      <td>Thomson</td>\n",
       "      <td>MIS</td>\n",
       "      <td>40</td>\n",
       "      <td>30000.0</td>\n",
       "      <td>M</td>\n",
       "      <td>Managemet Information System</td>\n",
       "      <td>Peter Lau</td>\n",
       "    </tr>\n",
       "    <tr>\n",
       "      <th>7</th>\n",
       "      <td>1</td>\n",
       "      <td>Tsz</td>\n",
       "      <td>MIS</td>\n",
       "      <td>50</td>\n",
       "      <td>20000.0</td>\n",
       "      <td>M</td>\n",
       "      <td>Managemet Information System</td>\n",
       "      <td>Peter Lau</td>\n",
       "    </tr>\n",
       "    <tr>\n",
       "      <th>8</th>\n",
       "      <td>2</td>\n",
       "      <td>Eddie</td>\n",
       "      <td>WOM</td>\n",
       "      <td>60</td>\n",
       "      <td>35000.0</td>\n",
       "      <td>M</td>\n",
       "      <td>Work Order Management</td>\n",
       "      <td>Tomy Yip</td>\n",
       "    </tr>\n",
       "    <tr>\n",
       "      <th>9</th>\n",
       "      <td>3</td>\n",
       "      <td>Bonnie</td>\n",
       "      <td>WOM</td>\n",
       "      <td>20</td>\n",
       "      <td>40000.0</td>\n",
       "      <td>Y</td>\n",
       "      <td>Work Order Management</td>\n",
       "      <td>Tomy Yip</td>\n",
       "    </tr>\n",
       "    <tr>\n",
       "      <th>10</th>\n",
       "      <td>4</td>\n",
       "      <td>Pauline</td>\n",
       "      <td>Finance</td>\n",
       "      <td>30</td>\n",
       "      <td>25000.0</td>\n",
       "      <td>Y</td>\n",
       "      <td>Finance and Admin</td>\n",
       "      <td>Jennifer Chan</td>\n",
       "    </tr>\n",
       "    <tr>\n",
       "      <th>11</th>\n",
       "      <td>5</td>\n",
       "      <td>Kitty</td>\n",
       "      <td>Finance</td>\n",
       "      <td>35</td>\n",
       "      <td>10000.0</td>\n",
       "      <td>Y</td>\n",
       "      <td>Finance and Admin</td>\n",
       "      <td>Jennifer Chan</td>\n",
       "    </tr>\n",
       "  </tbody>\n",
       "</table>\n",
       "</div>"
      ],
      "text/plain": [
       "    index staff_name     dept  age   salary age_group  \\\n",
       "0       0    Thomson      MIS   40  30000.0         M   \n",
       "1       1        Tsz      MIS   50  20000.0         M   \n",
       "2       2      Eddie      WOM   60  35000.0         M   \n",
       "3       3     Bonnie      WOM   20  40000.0         Y   \n",
       "4       4    Pauline  Finance   30  25000.0         Y   \n",
       "5       5      Kitty  Finance   35  10000.0         Y   \n",
       "6       0    Thomson      MIS   40  30000.0         M   \n",
       "7       1        Tsz      MIS   50  20000.0         M   \n",
       "8       2      Eddie      WOM   60  35000.0         M   \n",
       "9       3     Bonnie      WOM   20  40000.0         Y   \n",
       "10      4    Pauline  Finance   30  25000.0         Y   \n",
       "11      5      Kitty  Finance   35  10000.0         Y   \n",
       "\n",
       "                       dept_name      dept_head  \n",
       "0   Managemet Information System      Peter Lau  \n",
       "1   Managemet Information System      Peter Lau  \n",
       "2          Work Order Management       Tomy Yip  \n",
       "3          Work Order Management       Tomy Yip  \n",
       "4              Finance and Admin  Jennifer Chan  \n",
       "5              Finance and Admin  Jennifer Chan  \n",
       "6   Managemet Information System      Peter Lau  \n",
       "7   Managemet Information System      Peter Lau  \n",
       "8          Work Order Management       Tomy Yip  \n",
       "9          Work Order Management       Tomy Yip  \n",
       "10             Finance and Admin  Jennifer Chan  \n",
       "11             Finance and Admin  Jennifer Chan  "
      ]
     },
     "execution_count": 215,
     "metadata": {},
     "output_type": "execute_result"
    }
   ],
   "source": [
    "staff_df6=pd.concat([staff_df4,staff_df5],axis=0)\n",
    "staff_df6.reset_index() # reset index from 0.. and backup old index to a new index column"
   ]
  },
  {
   "cell_type": "code",
   "execution_count": 216,
   "id": "cc2f5227",
   "metadata": {},
   "outputs": [
    {
     "data": {
      "text/html": [
       "<div>\n",
       "<style scoped>\n",
       "    .dataframe tbody tr th:only-of-type {\n",
       "        vertical-align: middle;\n",
       "    }\n",
       "\n",
       "    .dataframe tbody tr th {\n",
       "        vertical-align: top;\n",
       "    }\n",
       "\n",
       "    .dataframe thead th {\n",
       "        text-align: right;\n",
       "    }\n",
       "</style>\n",
       "<table border=\"1\" class=\"dataframe\">\n",
       "  <thead>\n",
       "    <tr style=\"text-align: right;\">\n",
       "      <th></th>\n",
       "      <th>staff_name</th>\n",
       "      <th>dept</th>\n",
       "      <th>age</th>\n",
       "      <th>salary</th>\n",
       "      <th>age_group</th>\n",
       "      <th>dept_name</th>\n",
       "      <th>dept_head</th>\n",
       "    </tr>\n",
       "  </thead>\n",
       "  <tbody>\n",
       "    <tr>\n",
       "      <th>0</th>\n",
       "      <td>Thomson</td>\n",
       "      <td>MIS</td>\n",
       "      <td>40</td>\n",
       "      <td>30000.0</td>\n",
       "      <td>M</td>\n",
       "      <td>Managemet Information System</td>\n",
       "      <td>Peter Lau</td>\n",
       "    </tr>\n",
       "    <tr>\n",
       "      <th>1</th>\n",
       "      <td>Tsz</td>\n",
       "      <td>MIS</td>\n",
       "      <td>50</td>\n",
       "      <td>20000.0</td>\n",
       "      <td>M</td>\n",
       "      <td>Managemet Information System</td>\n",
       "      <td>Peter Lau</td>\n",
       "    </tr>\n",
       "    <tr>\n",
       "      <th>2</th>\n",
       "      <td>Eddie</td>\n",
       "      <td>WOM</td>\n",
       "      <td>60</td>\n",
       "      <td>35000.0</td>\n",
       "      <td>M</td>\n",
       "      <td>Work Order Management</td>\n",
       "      <td>Tomy Yip</td>\n",
       "    </tr>\n",
       "    <tr>\n",
       "      <th>3</th>\n",
       "      <td>Bonnie</td>\n",
       "      <td>WOM</td>\n",
       "      <td>20</td>\n",
       "      <td>40000.0</td>\n",
       "      <td>Y</td>\n",
       "      <td>Work Order Management</td>\n",
       "      <td>Tomy Yip</td>\n",
       "    </tr>\n",
       "    <tr>\n",
       "      <th>4</th>\n",
       "      <td>Pauline</td>\n",
       "      <td>Finance</td>\n",
       "      <td>30</td>\n",
       "      <td>25000.0</td>\n",
       "      <td>Y</td>\n",
       "      <td>Finance and Admin</td>\n",
       "      <td>Jennifer Chan</td>\n",
       "    </tr>\n",
       "    <tr>\n",
       "      <th>5</th>\n",
       "      <td>Kitty</td>\n",
       "      <td>Finance</td>\n",
       "      <td>35</td>\n",
       "      <td>10000.0</td>\n",
       "      <td>Y</td>\n",
       "      <td>Finance and Admin</td>\n",
       "      <td>Jennifer Chan</td>\n",
       "    </tr>\n",
       "    <tr>\n",
       "      <th>6</th>\n",
       "      <td>Thomson</td>\n",
       "      <td>MIS</td>\n",
       "      <td>40</td>\n",
       "      <td>30000.0</td>\n",
       "      <td>M</td>\n",
       "      <td>Managemet Information System</td>\n",
       "      <td>Peter Lau</td>\n",
       "    </tr>\n",
       "    <tr>\n",
       "      <th>7</th>\n",
       "      <td>Tsz</td>\n",
       "      <td>MIS</td>\n",
       "      <td>50</td>\n",
       "      <td>20000.0</td>\n",
       "      <td>M</td>\n",
       "      <td>Managemet Information System</td>\n",
       "      <td>Peter Lau</td>\n",
       "    </tr>\n",
       "    <tr>\n",
       "      <th>8</th>\n",
       "      <td>Eddie</td>\n",
       "      <td>WOM</td>\n",
       "      <td>60</td>\n",
       "      <td>35000.0</td>\n",
       "      <td>M</td>\n",
       "      <td>Work Order Management</td>\n",
       "      <td>Tomy Yip</td>\n",
       "    </tr>\n",
       "    <tr>\n",
       "      <th>9</th>\n",
       "      <td>Bonnie</td>\n",
       "      <td>WOM</td>\n",
       "      <td>20</td>\n",
       "      <td>40000.0</td>\n",
       "      <td>Y</td>\n",
       "      <td>Work Order Management</td>\n",
       "      <td>Tomy Yip</td>\n",
       "    </tr>\n",
       "    <tr>\n",
       "      <th>10</th>\n",
       "      <td>Pauline</td>\n",
       "      <td>Finance</td>\n",
       "      <td>30</td>\n",
       "      <td>25000.0</td>\n",
       "      <td>Y</td>\n",
       "      <td>Finance and Admin</td>\n",
       "      <td>Jennifer Chan</td>\n",
       "    </tr>\n",
       "    <tr>\n",
       "      <th>11</th>\n",
       "      <td>Kitty</td>\n",
       "      <td>Finance</td>\n",
       "      <td>35</td>\n",
       "      <td>10000.0</td>\n",
       "      <td>Y</td>\n",
       "      <td>Finance and Admin</td>\n",
       "      <td>Jennifer Chan</td>\n",
       "    </tr>\n",
       "  </tbody>\n",
       "</table>\n",
       "</div>"
      ],
      "text/plain": [
       "   staff_name     dept  age   salary age_group                     dept_name  \\\n",
       "0     Thomson      MIS   40  30000.0         M  Managemet Information System   \n",
       "1         Tsz      MIS   50  20000.0         M  Managemet Information System   \n",
       "2       Eddie      WOM   60  35000.0         M         Work Order Management   \n",
       "3      Bonnie      WOM   20  40000.0         Y         Work Order Management   \n",
       "4     Pauline  Finance   30  25000.0         Y             Finance and Admin   \n",
       "5       Kitty  Finance   35  10000.0         Y             Finance and Admin   \n",
       "6     Thomson      MIS   40  30000.0         M  Managemet Information System   \n",
       "7         Tsz      MIS   50  20000.0         M  Managemet Information System   \n",
       "8       Eddie      WOM   60  35000.0         M         Work Order Management   \n",
       "9      Bonnie      WOM   20  40000.0         Y         Work Order Management   \n",
       "10    Pauline  Finance   30  25000.0         Y             Finance and Admin   \n",
       "11      Kitty  Finance   35  10000.0         Y             Finance and Admin   \n",
       "\n",
       "        dept_head  \n",
       "0       Peter Lau  \n",
       "1       Peter Lau  \n",
       "2        Tomy Yip  \n",
       "3        Tomy Yip  \n",
       "4   Jennifer Chan  \n",
       "5   Jennifer Chan  \n",
       "6       Peter Lau  \n",
       "7       Peter Lau  \n",
       "8        Tomy Yip  \n",
       "9        Tomy Yip  \n",
       "10  Jennifer Chan  \n",
       "11  Jennifer Chan  "
      ]
     },
     "execution_count": 216,
     "metadata": {},
     "output_type": "execute_result"
    }
   ],
   "source": [
    "staff_df6=pd.concat([staff_df4,staff_df5],axis=0)\n",
    "staff_df6.reset_index(drop=True) # reset index from 0.. only"
   ]
  },
  {
   "cell_type": "code",
   "execution_count": 217,
   "id": "4bbacdda",
   "metadata": {},
   "outputs": [
    {
     "data": {
      "text/html": [
       "<div>\n",
       "<style scoped>\n",
       "    .dataframe tbody tr th:only-of-type {\n",
       "        vertical-align: middle;\n",
       "    }\n",
       "\n",
       "    .dataframe tbody tr th {\n",
       "        vertical-align: top;\n",
       "    }\n",
       "\n",
       "    .dataframe thead th {\n",
       "        text-align: right;\n",
       "    }\n",
       "</style>\n",
       "<table border=\"1\" class=\"dataframe\">\n",
       "  <thead>\n",
       "    <tr style=\"text-align: right;\">\n",
       "      <th></th>\n",
       "      <th>staff_name</th>\n",
       "      <th>dept</th>\n",
       "      <th>age</th>\n",
       "      <th>salary</th>\n",
       "      <th>age_group</th>\n",
       "      <th>dept_name</th>\n",
       "      <th>dept_head</th>\n",
       "    </tr>\n",
       "  </thead>\n",
       "  <tbody>\n",
       "    <tr>\n",
       "      <th>0</th>\n",
       "      <td>Thomson</td>\n",
       "      <td>MIS</td>\n",
       "      <td>40</td>\n",
       "      <td>30000.0</td>\n",
       "      <td>M</td>\n",
       "      <td>Managemet Information System</td>\n",
       "      <td>Peter Lau</td>\n",
       "    </tr>\n",
       "    <tr>\n",
       "      <th>1</th>\n",
       "      <td>Tsz</td>\n",
       "      <td>MIS</td>\n",
       "      <td>50</td>\n",
       "      <td>20000.0</td>\n",
       "      <td>M</td>\n",
       "      <td>Managemet Information System</td>\n",
       "      <td>Peter Lau</td>\n",
       "    </tr>\n",
       "    <tr>\n",
       "      <th>2</th>\n",
       "      <td>Eddie</td>\n",
       "      <td>WOM</td>\n",
       "      <td>60</td>\n",
       "      <td>35000.0</td>\n",
       "      <td>M</td>\n",
       "      <td>Work Order Management</td>\n",
       "      <td>Tomy Yip</td>\n",
       "    </tr>\n",
       "    <tr>\n",
       "      <th>3</th>\n",
       "      <td>Bonnie</td>\n",
       "      <td>WOM</td>\n",
       "      <td>20</td>\n",
       "      <td>40000.0</td>\n",
       "      <td>Y</td>\n",
       "      <td>Work Order Management</td>\n",
       "      <td>Tomy Yip</td>\n",
       "    </tr>\n",
       "    <tr>\n",
       "      <th>4</th>\n",
       "      <td>Pauline</td>\n",
       "      <td>Finance</td>\n",
       "      <td>30</td>\n",
       "      <td>25000.0</td>\n",
       "      <td>Y</td>\n",
       "      <td>Finance and Admin</td>\n",
       "      <td>Jennifer Chan</td>\n",
       "    </tr>\n",
       "    <tr>\n",
       "      <th>5</th>\n",
       "      <td>Kitty</td>\n",
       "      <td>Finance</td>\n",
       "      <td>35</td>\n",
       "      <td>10000.0</td>\n",
       "      <td>Y</td>\n",
       "      <td>Finance and Admin</td>\n",
       "      <td>Jennifer Chan</td>\n",
       "    </tr>\n",
       "    <tr>\n",
       "      <th>0</th>\n",
       "      <td>Thomson</td>\n",
       "      <td>MIS</td>\n",
       "      <td>40</td>\n",
       "      <td>30000.0</td>\n",
       "      <td>M</td>\n",
       "      <td>Managemet Information System</td>\n",
       "      <td>Peter Lau</td>\n",
       "    </tr>\n",
       "    <tr>\n",
       "      <th>1</th>\n",
       "      <td>Tsz</td>\n",
       "      <td>MIS</td>\n",
       "      <td>50</td>\n",
       "      <td>20000.0</td>\n",
       "      <td>M</td>\n",
       "      <td>Managemet Information System</td>\n",
       "      <td>Peter Lau</td>\n",
       "    </tr>\n",
       "    <tr>\n",
       "      <th>2</th>\n",
       "      <td>Eddie</td>\n",
       "      <td>WOM</td>\n",
       "      <td>60</td>\n",
       "      <td>35000.0</td>\n",
       "      <td>M</td>\n",
       "      <td>Work Order Management</td>\n",
       "      <td>Tomy Yip</td>\n",
       "    </tr>\n",
       "    <tr>\n",
       "      <th>3</th>\n",
       "      <td>Bonnie</td>\n",
       "      <td>WOM</td>\n",
       "      <td>20</td>\n",
       "      <td>40000.0</td>\n",
       "      <td>Y</td>\n",
       "      <td>Work Order Management</td>\n",
       "      <td>Tomy Yip</td>\n",
       "    </tr>\n",
       "    <tr>\n",
       "      <th>4</th>\n",
       "      <td>Pauline</td>\n",
       "      <td>Finance</td>\n",
       "      <td>30</td>\n",
       "      <td>25000.0</td>\n",
       "      <td>Y</td>\n",
       "      <td>Finance and Admin</td>\n",
       "      <td>Jennifer Chan</td>\n",
       "    </tr>\n",
       "    <tr>\n",
       "      <th>5</th>\n",
       "      <td>Kitty</td>\n",
       "      <td>Finance</td>\n",
       "      <td>35</td>\n",
       "      <td>10000.0</td>\n",
       "      <td>Y</td>\n",
       "      <td>Finance and Admin</td>\n",
       "      <td>Jennifer Chan</td>\n",
       "    </tr>\n",
       "  </tbody>\n",
       "</table>\n",
       "</div>"
      ],
      "text/plain": [
       "  staff_name     dept  age   salary age_group                     dept_name  \\\n",
       "0    Thomson      MIS   40  30000.0         M  Managemet Information System   \n",
       "1        Tsz      MIS   50  20000.0         M  Managemet Information System   \n",
       "2      Eddie      WOM   60  35000.0         M         Work Order Management   \n",
       "3     Bonnie      WOM   20  40000.0         Y         Work Order Management   \n",
       "4    Pauline  Finance   30  25000.0         Y             Finance and Admin   \n",
       "5      Kitty  Finance   35  10000.0         Y             Finance and Admin   \n",
       "0    Thomson      MIS   40  30000.0         M  Managemet Information System   \n",
       "1        Tsz      MIS   50  20000.0         M  Managemet Information System   \n",
       "2      Eddie      WOM   60  35000.0         M         Work Order Management   \n",
       "3     Bonnie      WOM   20  40000.0         Y         Work Order Management   \n",
       "4    Pauline  Finance   30  25000.0         Y             Finance and Admin   \n",
       "5      Kitty  Finance   35  10000.0         Y             Finance and Admin   \n",
       "\n",
       "       dept_head  \n",
       "0      Peter Lau  \n",
       "1      Peter Lau  \n",
       "2       Tomy Yip  \n",
       "3       Tomy Yip  \n",
       "4  Jennifer Chan  \n",
       "5  Jennifer Chan  \n",
       "0      Peter Lau  \n",
       "1      Peter Lau  \n",
       "2       Tomy Yip  \n",
       "3       Tomy Yip  \n",
       "4  Jennifer Chan  \n",
       "5  Jennifer Chan  "
      ]
     },
     "execution_count": 217,
     "metadata": {},
     "output_type": "execute_result"
    }
   ],
   "source": [
    "staff_df6"
   ]
  },
  {
   "cell_type": "code",
   "execution_count": 218,
   "id": "be8f8e8a",
   "metadata": {},
   "outputs": [
    {
     "data": {
      "text/html": [
       "<div>\n",
       "<style scoped>\n",
       "    .dataframe tbody tr th:only-of-type {\n",
       "        vertical-align: middle;\n",
       "    }\n",
       "\n",
       "    .dataframe tbody tr th {\n",
       "        vertical-align: top;\n",
       "    }\n",
       "\n",
       "    .dataframe thead th {\n",
       "        text-align: right;\n",
       "    }\n",
       "</style>\n",
       "<table border=\"1\" class=\"dataframe\">\n",
       "  <thead>\n",
       "    <tr style=\"text-align: right;\">\n",
       "      <th></th>\n",
       "      <th>staff_name</th>\n",
       "      <th>dept</th>\n",
       "      <th>office_loc</th>\n",
       "    </tr>\n",
       "  </thead>\n",
       "  <tbody>\n",
       "    <tr>\n",
       "      <th>0</th>\n",
       "      <td>Sam</td>\n",
       "      <td>WOM</td>\n",
       "      <td>Kowloon</td>\n",
       "    </tr>\n",
       "    <tr>\n",
       "      <th>1</th>\n",
       "      <td>Florence</td>\n",
       "      <td>Finance</td>\n",
       "      <td>HK Island</td>\n",
       "    </tr>\n",
       "    <tr>\n",
       "      <th>2</th>\n",
       "      <td>Kin</td>\n",
       "      <td>MIS</td>\n",
       "      <td>NT</td>\n",
       "    </tr>\n",
       "  </tbody>\n",
       "</table>\n",
       "</div>"
      ],
      "text/plain": [
       "  staff_name     dept office_loc\n",
       "0        Sam      WOM    Kowloon\n",
       "1   Florence  Finance  HK Island\n",
       "2        Kin      MIS         NT"
      ]
     },
     "execution_count": 218,
     "metadata": {},
     "output_type": "execute_result"
    }
   ],
   "source": [
    "staff_df7=pd.DataFrame({\"staff_name\":[\"Sam\",\"Florence\",\"Kin\"],\n",
    "                        \"dept\":[\"WOM\",\"Finance\",\"MIS\"],\n",
    "                        \"office_loc\":[\"Kowloon\",\"HK Island\",\"NT\"]})\n",
    "staff_df7"
   ]
  },
  {
   "cell_type": "code",
   "execution_count": 219,
   "id": "025bc4ac",
   "metadata": {},
   "outputs": [
    {
     "data": {
      "text/html": [
       "<div>\n",
       "<style scoped>\n",
       "    .dataframe tbody tr th:only-of-type {\n",
       "        vertical-align: middle;\n",
       "    }\n",
       "\n",
       "    .dataframe tbody tr th {\n",
       "        vertical-align: top;\n",
       "    }\n",
       "\n",
       "    .dataframe thead th {\n",
       "        text-align: right;\n",
       "    }\n",
       "</style>\n",
       "<table border=\"1\" class=\"dataframe\">\n",
       "  <thead>\n",
       "    <tr style=\"text-align: right;\">\n",
       "      <th></th>\n",
       "      <th>staff_name</th>\n",
       "      <th>dept</th>\n",
       "      <th>age</th>\n",
       "      <th>salary</th>\n",
       "      <th>age_group</th>\n",
       "      <th>dept_name</th>\n",
       "      <th>dept_head</th>\n",
       "      <th>office_loc</th>\n",
       "    </tr>\n",
       "  </thead>\n",
       "  <tbody>\n",
       "    <tr>\n",
       "      <th>0</th>\n",
       "      <td>Thomson</td>\n",
       "      <td>MIS</td>\n",
       "      <td>40.0</td>\n",
       "      <td>30000.0</td>\n",
       "      <td>M</td>\n",
       "      <td>Managemet Information System</td>\n",
       "      <td>Peter Lau</td>\n",
       "      <td>NaN</td>\n",
       "    </tr>\n",
       "    <tr>\n",
       "      <th>1</th>\n",
       "      <td>Tsz</td>\n",
       "      <td>MIS</td>\n",
       "      <td>50.0</td>\n",
       "      <td>20000.0</td>\n",
       "      <td>M</td>\n",
       "      <td>Managemet Information System</td>\n",
       "      <td>Peter Lau</td>\n",
       "      <td>NaN</td>\n",
       "    </tr>\n",
       "    <tr>\n",
       "      <th>2</th>\n",
       "      <td>Eddie</td>\n",
       "      <td>WOM</td>\n",
       "      <td>60.0</td>\n",
       "      <td>35000.0</td>\n",
       "      <td>M</td>\n",
       "      <td>Work Order Management</td>\n",
       "      <td>Tomy Yip</td>\n",
       "      <td>NaN</td>\n",
       "    </tr>\n",
       "    <tr>\n",
       "      <th>3</th>\n",
       "      <td>Bonnie</td>\n",
       "      <td>WOM</td>\n",
       "      <td>20.0</td>\n",
       "      <td>40000.0</td>\n",
       "      <td>Y</td>\n",
       "      <td>Work Order Management</td>\n",
       "      <td>Tomy Yip</td>\n",
       "      <td>NaN</td>\n",
       "    </tr>\n",
       "    <tr>\n",
       "      <th>4</th>\n",
       "      <td>Pauline</td>\n",
       "      <td>Finance</td>\n",
       "      <td>30.0</td>\n",
       "      <td>25000.0</td>\n",
       "      <td>Y</td>\n",
       "      <td>Finance and Admin</td>\n",
       "      <td>Jennifer Chan</td>\n",
       "      <td>NaN</td>\n",
       "    </tr>\n",
       "    <tr>\n",
       "      <th>5</th>\n",
       "      <td>Kitty</td>\n",
       "      <td>Finance</td>\n",
       "      <td>35.0</td>\n",
       "      <td>10000.0</td>\n",
       "      <td>Y</td>\n",
       "      <td>Finance and Admin</td>\n",
       "      <td>Jennifer Chan</td>\n",
       "      <td>NaN</td>\n",
       "    </tr>\n",
       "    <tr>\n",
       "      <th>6</th>\n",
       "      <td>Thomson</td>\n",
       "      <td>MIS</td>\n",
       "      <td>40.0</td>\n",
       "      <td>30000.0</td>\n",
       "      <td>M</td>\n",
       "      <td>Managemet Information System</td>\n",
       "      <td>Peter Lau</td>\n",
       "      <td>NaN</td>\n",
       "    </tr>\n",
       "    <tr>\n",
       "      <th>7</th>\n",
       "      <td>Tsz</td>\n",
       "      <td>MIS</td>\n",
       "      <td>50.0</td>\n",
       "      <td>20000.0</td>\n",
       "      <td>M</td>\n",
       "      <td>Managemet Information System</td>\n",
       "      <td>Peter Lau</td>\n",
       "      <td>NaN</td>\n",
       "    </tr>\n",
       "    <tr>\n",
       "      <th>8</th>\n",
       "      <td>Eddie</td>\n",
       "      <td>WOM</td>\n",
       "      <td>60.0</td>\n",
       "      <td>35000.0</td>\n",
       "      <td>M</td>\n",
       "      <td>Work Order Management</td>\n",
       "      <td>Tomy Yip</td>\n",
       "      <td>NaN</td>\n",
       "    </tr>\n",
       "    <tr>\n",
       "      <th>9</th>\n",
       "      <td>Bonnie</td>\n",
       "      <td>WOM</td>\n",
       "      <td>20.0</td>\n",
       "      <td>40000.0</td>\n",
       "      <td>Y</td>\n",
       "      <td>Work Order Management</td>\n",
       "      <td>Tomy Yip</td>\n",
       "      <td>NaN</td>\n",
       "    </tr>\n",
       "    <tr>\n",
       "      <th>10</th>\n",
       "      <td>Pauline</td>\n",
       "      <td>Finance</td>\n",
       "      <td>30.0</td>\n",
       "      <td>25000.0</td>\n",
       "      <td>Y</td>\n",
       "      <td>Finance and Admin</td>\n",
       "      <td>Jennifer Chan</td>\n",
       "      <td>NaN</td>\n",
       "    </tr>\n",
       "    <tr>\n",
       "      <th>11</th>\n",
       "      <td>Kitty</td>\n",
       "      <td>Finance</td>\n",
       "      <td>35.0</td>\n",
       "      <td>10000.0</td>\n",
       "      <td>Y</td>\n",
       "      <td>Finance and Admin</td>\n",
       "      <td>Jennifer Chan</td>\n",
       "      <td>NaN</td>\n",
       "    </tr>\n",
       "    <tr>\n",
       "      <th>12</th>\n",
       "      <td>Sam</td>\n",
       "      <td>WOM</td>\n",
       "      <td>NaN</td>\n",
       "      <td>NaN</td>\n",
       "      <td>NaN</td>\n",
       "      <td>NaN</td>\n",
       "      <td>NaN</td>\n",
       "      <td>Kowloon</td>\n",
       "    </tr>\n",
       "    <tr>\n",
       "      <th>13</th>\n",
       "      <td>Florence</td>\n",
       "      <td>Finance</td>\n",
       "      <td>NaN</td>\n",
       "      <td>NaN</td>\n",
       "      <td>NaN</td>\n",
       "      <td>NaN</td>\n",
       "      <td>NaN</td>\n",
       "      <td>HK Island</td>\n",
       "    </tr>\n",
       "    <tr>\n",
       "      <th>14</th>\n",
       "      <td>Kin</td>\n",
       "      <td>MIS</td>\n",
       "      <td>NaN</td>\n",
       "      <td>NaN</td>\n",
       "      <td>NaN</td>\n",
       "      <td>NaN</td>\n",
       "      <td>NaN</td>\n",
       "      <td>NT</td>\n",
       "    </tr>\n",
       "  </tbody>\n",
       "</table>\n",
       "</div>"
      ],
      "text/plain": [
       "   staff_name     dept   age   salary age_group                     dept_name  \\\n",
       "0     Thomson      MIS  40.0  30000.0         M  Managemet Information System   \n",
       "1         Tsz      MIS  50.0  20000.0         M  Managemet Information System   \n",
       "2       Eddie      WOM  60.0  35000.0         M         Work Order Management   \n",
       "3      Bonnie      WOM  20.0  40000.0         Y         Work Order Management   \n",
       "4     Pauline  Finance  30.0  25000.0         Y             Finance and Admin   \n",
       "5       Kitty  Finance  35.0  10000.0         Y             Finance and Admin   \n",
       "6     Thomson      MIS  40.0  30000.0         M  Managemet Information System   \n",
       "7         Tsz      MIS  50.0  20000.0         M  Managemet Information System   \n",
       "8       Eddie      WOM  60.0  35000.0         M         Work Order Management   \n",
       "9      Bonnie      WOM  20.0  40000.0         Y         Work Order Management   \n",
       "10    Pauline  Finance  30.0  25000.0         Y             Finance and Admin   \n",
       "11      Kitty  Finance  35.0  10000.0         Y             Finance and Admin   \n",
       "12        Sam      WOM   NaN      NaN       NaN                           NaN   \n",
       "13   Florence  Finance   NaN      NaN       NaN                           NaN   \n",
       "14        Kin      MIS   NaN      NaN       NaN                           NaN   \n",
       "\n",
       "        dept_head office_loc  \n",
       "0       Peter Lau        NaN  \n",
       "1       Peter Lau        NaN  \n",
       "2        Tomy Yip        NaN  \n",
       "3        Tomy Yip        NaN  \n",
       "4   Jennifer Chan        NaN  \n",
       "5   Jennifer Chan        NaN  \n",
       "6       Peter Lau        NaN  \n",
       "7       Peter Lau        NaN  \n",
       "8        Tomy Yip        NaN  \n",
       "9        Tomy Yip        NaN  \n",
       "10  Jennifer Chan        NaN  \n",
       "11  Jennifer Chan        NaN  \n",
       "12            NaN    Kowloon  \n",
       "13            NaN  HK Island  \n",
       "14            NaN         NT  "
      ]
     },
     "execution_count": 219,
     "metadata": {},
     "output_type": "execute_result"
    }
   ],
   "source": [
    "# union all with different columns\n",
    "staff_df8=pd.concat([staff_df6,staff_df7],axis=0).reset_index(drop=True)\n",
    "staff_df8"
   ]
  },
  {
   "cell_type": "code",
   "execution_count": 220,
   "id": "32f38386",
   "metadata": {},
   "outputs": [
    {
     "name": "stdout",
     "output_type": "stream",
     "text": [
      "   staff_name     dept   age   salary\n",
      "0     Thomson      MIS  40.0  30000.0\n",
      "1         Tsz      MIS  50.0  20000.0\n",
      "2       Eddie      WOM  60.0  35000.0\n",
      "3      Bonnie      WOM  20.0  40000.0\n",
      "4     Pauline  Finance  30.0  25000.0\n",
      "5       Kitty  Finance  35.0  10000.0\n",
      "6     Thomson      MIS  40.0  30000.0\n",
      "7         Tsz      MIS  50.0  20000.0\n",
      "8       Eddie      WOM  60.0  35000.0\n",
      "9      Bonnie      WOM  20.0  40000.0\n",
      "10    Pauline  Finance  30.0  25000.0\n",
      "11      Kitty  Finance  35.0  10000.0\n",
      "12        Sam      WOM   NaN      NaN\n",
      "13   Florence  Finance   NaN      NaN\n",
      "14        Kin      MIS   NaN      NaN\n",
      "   age_group                     dept_name      dept_head office_loc\n",
      "0          M  Managemet Information System      Peter Lau        NaN\n",
      "1          M  Managemet Information System      Peter Lau        NaN\n",
      "2          M         Work Order Management       Tomy Yip        NaN\n",
      "3          Y         Work Order Management       Tomy Yip        NaN\n",
      "4          Y             Finance and Admin  Jennifer Chan        NaN\n",
      "5          Y             Finance and Admin  Jennifer Chan        NaN\n",
      "6          M  Managemet Information System      Peter Lau        NaN\n",
      "7          M  Managemet Information System      Peter Lau        NaN\n",
      "8          M         Work Order Management       Tomy Yip        NaN\n",
      "9          Y         Work Order Management       Tomy Yip        NaN\n",
      "10         Y             Finance and Admin  Jennifer Chan        NaN\n",
      "11         Y             Finance and Admin  Jennifer Chan        NaN\n",
      "12       NaN                           NaN            NaN    Kowloon\n",
      "13       NaN                           NaN            NaN  HK Island\n",
      "14       NaN                           NaN            NaN         NT\n"
     ]
    }
   ],
   "source": [
    "staff_df9=staff_df8[[\"staff_name\",\"dept\",\"age\",\"salary\"]]\n",
    "staff_df10=staff_df8[[\"age_group\",\"dept_name\",\"dept_head\",\"office_loc\"]]\n",
    "print(staff_df9)\n",
    "print(staff_df10)"
   ]
  },
  {
   "cell_type": "code",
   "execution_count": 221,
   "id": "3dda892e",
   "metadata": {},
   "outputs": [
    {
     "data": {
      "text/html": [
       "<div>\n",
       "<style scoped>\n",
       "    .dataframe tbody tr th:only-of-type {\n",
       "        vertical-align: middle;\n",
       "    }\n",
       "\n",
       "    .dataframe tbody tr th {\n",
       "        vertical-align: top;\n",
       "    }\n",
       "\n",
       "    .dataframe thead th {\n",
       "        text-align: right;\n",
       "    }\n",
       "</style>\n",
       "<table border=\"1\" class=\"dataframe\">\n",
       "  <thead>\n",
       "    <tr style=\"text-align: right;\">\n",
       "      <th></th>\n",
       "      <th>staff_name</th>\n",
       "      <th>dept</th>\n",
       "      <th>age</th>\n",
       "      <th>salary</th>\n",
       "      <th>age_group</th>\n",
       "      <th>dept_name</th>\n",
       "      <th>dept_head</th>\n",
       "      <th>office_loc</th>\n",
       "    </tr>\n",
       "  </thead>\n",
       "  <tbody>\n",
       "    <tr>\n",
       "      <th>0</th>\n",
       "      <td>Thomson</td>\n",
       "      <td>MIS</td>\n",
       "      <td>40.0</td>\n",
       "      <td>30000.0</td>\n",
       "      <td>M</td>\n",
       "      <td>Managemet Information System</td>\n",
       "      <td>Peter Lau</td>\n",
       "      <td>NaN</td>\n",
       "    </tr>\n",
       "    <tr>\n",
       "      <th>1</th>\n",
       "      <td>Tsz</td>\n",
       "      <td>MIS</td>\n",
       "      <td>50.0</td>\n",
       "      <td>20000.0</td>\n",
       "      <td>M</td>\n",
       "      <td>Managemet Information System</td>\n",
       "      <td>Peter Lau</td>\n",
       "      <td>NaN</td>\n",
       "    </tr>\n",
       "    <tr>\n",
       "      <th>2</th>\n",
       "      <td>Eddie</td>\n",
       "      <td>WOM</td>\n",
       "      <td>60.0</td>\n",
       "      <td>35000.0</td>\n",
       "      <td>M</td>\n",
       "      <td>Work Order Management</td>\n",
       "      <td>Tomy Yip</td>\n",
       "      <td>NaN</td>\n",
       "    </tr>\n",
       "    <tr>\n",
       "      <th>3</th>\n",
       "      <td>Bonnie</td>\n",
       "      <td>WOM</td>\n",
       "      <td>20.0</td>\n",
       "      <td>40000.0</td>\n",
       "      <td>Y</td>\n",
       "      <td>Work Order Management</td>\n",
       "      <td>Tomy Yip</td>\n",
       "      <td>NaN</td>\n",
       "    </tr>\n",
       "    <tr>\n",
       "      <th>4</th>\n",
       "      <td>Pauline</td>\n",
       "      <td>Finance</td>\n",
       "      <td>30.0</td>\n",
       "      <td>25000.0</td>\n",
       "      <td>Y</td>\n",
       "      <td>Finance and Admin</td>\n",
       "      <td>Jennifer Chan</td>\n",
       "      <td>NaN</td>\n",
       "    </tr>\n",
       "    <tr>\n",
       "      <th>5</th>\n",
       "      <td>Kitty</td>\n",
       "      <td>Finance</td>\n",
       "      <td>35.0</td>\n",
       "      <td>10000.0</td>\n",
       "      <td>Y</td>\n",
       "      <td>Finance and Admin</td>\n",
       "      <td>Jennifer Chan</td>\n",
       "      <td>NaN</td>\n",
       "    </tr>\n",
       "    <tr>\n",
       "      <th>6</th>\n",
       "      <td>Thomson</td>\n",
       "      <td>MIS</td>\n",
       "      <td>40.0</td>\n",
       "      <td>30000.0</td>\n",
       "      <td>M</td>\n",
       "      <td>Managemet Information System</td>\n",
       "      <td>Peter Lau</td>\n",
       "      <td>NaN</td>\n",
       "    </tr>\n",
       "    <tr>\n",
       "      <th>7</th>\n",
       "      <td>Tsz</td>\n",
       "      <td>MIS</td>\n",
       "      <td>50.0</td>\n",
       "      <td>20000.0</td>\n",
       "      <td>M</td>\n",
       "      <td>Managemet Information System</td>\n",
       "      <td>Peter Lau</td>\n",
       "      <td>NaN</td>\n",
       "    </tr>\n",
       "    <tr>\n",
       "      <th>8</th>\n",
       "      <td>Eddie</td>\n",
       "      <td>WOM</td>\n",
       "      <td>60.0</td>\n",
       "      <td>35000.0</td>\n",
       "      <td>M</td>\n",
       "      <td>Work Order Management</td>\n",
       "      <td>Tomy Yip</td>\n",
       "      <td>NaN</td>\n",
       "    </tr>\n",
       "    <tr>\n",
       "      <th>9</th>\n",
       "      <td>Bonnie</td>\n",
       "      <td>WOM</td>\n",
       "      <td>20.0</td>\n",
       "      <td>40000.0</td>\n",
       "      <td>Y</td>\n",
       "      <td>Work Order Management</td>\n",
       "      <td>Tomy Yip</td>\n",
       "      <td>NaN</td>\n",
       "    </tr>\n",
       "    <tr>\n",
       "      <th>10</th>\n",
       "      <td>Pauline</td>\n",
       "      <td>Finance</td>\n",
       "      <td>30.0</td>\n",
       "      <td>25000.0</td>\n",
       "      <td>Y</td>\n",
       "      <td>Finance and Admin</td>\n",
       "      <td>Jennifer Chan</td>\n",
       "      <td>NaN</td>\n",
       "    </tr>\n",
       "    <tr>\n",
       "      <th>11</th>\n",
       "      <td>Kitty</td>\n",
       "      <td>Finance</td>\n",
       "      <td>35.0</td>\n",
       "      <td>10000.0</td>\n",
       "      <td>Y</td>\n",
       "      <td>Finance and Admin</td>\n",
       "      <td>Jennifer Chan</td>\n",
       "      <td>NaN</td>\n",
       "    </tr>\n",
       "    <tr>\n",
       "      <th>12</th>\n",
       "      <td>Sam</td>\n",
       "      <td>WOM</td>\n",
       "      <td>NaN</td>\n",
       "      <td>NaN</td>\n",
       "      <td>NaN</td>\n",
       "      <td>NaN</td>\n",
       "      <td>NaN</td>\n",
       "      <td>Kowloon</td>\n",
       "    </tr>\n",
       "    <tr>\n",
       "      <th>13</th>\n",
       "      <td>Florence</td>\n",
       "      <td>Finance</td>\n",
       "      <td>NaN</td>\n",
       "      <td>NaN</td>\n",
       "      <td>NaN</td>\n",
       "      <td>NaN</td>\n",
       "      <td>NaN</td>\n",
       "      <td>HK Island</td>\n",
       "    </tr>\n",
       "    <tr>\n",
       "      <th>14</th>\n",
       "      <td>Kin</td>\n",
       "      <td>MIS</td>\n",
       "      <td>NaN</td>\n",
       "      <td>NaN</td>\n",
       "      <td>NaN</td>\n",
       "      <td>NaN</td>\n",
       "      <td>NaN</td>\n",
       "      <td>NT</td>\n",
       "    </tr>\n",
       "  </tbody>\n",
       "</table>\n",
       "</div>"
      ],
      "text/plain": [
       "   staff_name     dept   age   salary age_group                     dept_name  \\\n",
       "0     Thomson      MIS  40.0  30000.0         M  Managemet Information System   \n",
       "1         Tsz      MIS  50.0  20000.0         M  Managemet Information System   \n",
       "2       Eddie      WOM  60.0  35000.0         M         Work Order Management   \n",
       "3      Bonnie      WOM  20.0  40000.0         Y         Work Order Management   \n",
       "4     Pauline  Finance  30.0  25000.0         Y             Finance and Admin   \n",
       "5       Kitty  Finance  35.0  10000.0         Y             Finance and Admin   \n",
       "6     Thomson      MIS  40.0  30000.0         M  Managemet Information System   \n",
       "7         Tsz      MIS  50.0  20000.0         M  Managemet Information System   \n",
       "8       Eddie      WOM  60.0  35000.0         M         Work Order Management   \n",
       "9      Bonnie      WOM  20.0  40000.0         Y         Work Order Management   \n",
       "10    Pauline  Finance  30.0  25000.0         Y             Finance and Admin   \n",
       "11      Kitty  Finance  35.0  10000.0         Y             Finance and Admin   \n",
       "12        Sam      WOM   NaN      NaN       NaN                           NaN   \n",
       "13   Florence  Finance   NaN      NaN       NaN                           NaN   \n",
       "14        Kin      MIS   NaN      NaN       NaN                           NaN   \n",
       "\n",
       "        dept_head office_loc  \n",
       "0       Peter Lau        NaN  \n",
       "1       Peter Lau        NaN  \n",
       "2        Tomy Yip        NaN  \n",
       "3        Tomy Yip        NaN  \n",
       "4   Jennifer Chan        NaN  \n",
       "5   Jennifer Chan        NaN  \n",
       "6       Peter Lau        NaN  \n",
       "7       Peter Lau        NaN  \n",
       "8        Tomy Yip        NaN  \n",
       "9        Tomy Yip        NaN  \n",
       "10  Jennifer Chan        NaN  \n",
       "11  Jennifer Chan        NaN  \n",
       "12            NaN    Kowloon  \n",
       "13            NaN  HK Island  \n",
       "14            NaN         NT  "
      ]
     },
     "execution_count": 221,
     "metadata": {},
     "output_type": "execute_result"
    }
   ],
   "source": [
    "staff_df11=pd.concat([staff_df9,staff_df10],axis=1)\n",
    "staff_df11"
   ]
  },
  {
   "cell_type": "code",
   "execution_count": 222,
   "id": "07215896",
   "metadata": {},
   "outputs": [
    {
     "data": {
      "text/html": [
       "<div>\n",
       "<style scoped>\n",
       "    .dataframe tbody tr th:only-of-type {\n",
       "        vertical-align: middle;\n",
       "    }\n",
       "\n",
       "    .dataframe tbody tr th {\n",
       "        vertical-align: top;\n",
       "    }\n",
       "\n",
       "    .dataframe thead th {\n",
       "        text-align: right;\n",
       "    }\n",
       "</style>\n",
       "<table border=\"1\" class=\"dataframe\">\n",
       "  <thead>\n",
       "    <tr style=\"text-align: right;\">\n",
       "      <th></th>\n",
       "      <th>staff_name</th>\n",
       "      <th>dept</th>\n",
       "      <th>age</th>\n",
       "      <th>salary</th>\n",
       "      <th>age_group</th>\n",
       "      <th>dept_name</th>\n",
       "      <th>dept_head</th>\n",
       "      <th>office_loc</th>\n",
       "    </tr>\n",
       "  </thead>\n",
       "  <tbody>\n",
       "    <tr>\n",
       "      <th>0</th>\n",
       "      <td>Thomson</td>\n",
       "      <td>MIS</td>\n",
       "      <td>40.0</td>\n",
       "      <td>30000.0</td>\n",
       "      <td>M</td>\n",
       "      <td>Managemet Information System</td>\n",
       "      <td>Peter Lau</td>\n",
       "      <td>NaN</td>\n",
       "    </tr>\n",
       "    <tr>\n",
       "      <th>1</th>\n",
       "      <td>Tsz</td>\n",
       "      <td>MIS</td>\n",
       "      <td>50.0</td>\n",
       "      <td>20000.0</td>\n",
       "      <td>M</td>\n",
       "      <td>Managemet Information System</td>\n",
       "      <td>Peter Lau</td>\n",
       "      <td>NaN</td>\n",
       "    </tr>\n",
       "    <tr>\n",
       "      <th>2</th>\n",
       "      <td>Eddie</td>\n",
       "      <td>WOM</td>\n",
       "      <td>60.0</td>\n",
       "      <td>35000.0</td>\n",
       "      <td>M</td>\n",
       "      <td>Work Order Management</td>\n",
       "      <td>Tomy Yip</td>\n",
       "      <td>NaN</td>\n",
       "    </tr>\n",
       "    <tr>\n",
       "      <th>3</th>\n",
       "      <td>Bonnie</td>\n",
       "      <td>WOM</td>\n",
       "      <td>20.0</td>\n",
       "      <td>40000.0</td>\n",
       "      <td>Y</td>\n",
       "      <td>Work Order Management</td>\n",
       "      <td>Tomy Yip</td>\n",
       "      <td>NaN</td>\n",
       "    </tr>\n",
       "    <tr>\n",
       "      <th>4</th>\n",
       "      <td>Pauline</td>\n",
       "      <td>Finance</td>\n",
       "      <td>30.0</td>\n",
       "      <td>25000.0</td>\n",
       "      <td>Y</td>\n",
       "      <td>Finance and Admin</td>\n",
       "      <td>Jennifer Chan</td>\n",
       "      <td>NaN</td>\n",
       "    </tr>\n",
       "    <tr>\n",
       "      <th>5</th>\n",
       "      <td>Kitty</td>\n",
       "      <td>Finance</td>\n",
       "      <td>35.0</td>\n",
       "      <td>10000.0</td>\n",
       "      <td>Y</td>\n",
       "      <td>Finance and Admin</td>\n",
       "      <td>Jennifer Chan</td>\n",
       "      <td>NaN</td>\n",
       "    </tr>\n",
       "    <tr>\n",
       "      <th>6</th>\n",
       "      <td>Thomson</td>\n",
       "      <td>MIS</td>\n",
       "      <td>40.0</td>\n",
       "      <td>30000.0</td>\n",
       "      <td>M</td>\n",
       "      <td>Managemet Information System</td>\n",
       "      <td>Peter Lau</td>\n",
       "      <td>NaN</td>\n",
       "    </tr>\n",
       "    <tr>\n",
       "      <th>7</th>\n",
       "      <td>Tsz</td>\n",
       "      <td>MIS</td>\n",
       "      <td>50.0</td>\n",
       "      <td>20000.0</td>\n",
       "      <td>M</td>\n",
       "      <td>Managemet Information System</td>\n",
       "      <td>Peter Lau</td>\n",
       "      <td>NaN</td>\n",
       "    </tr>\n",
       "    <tr>\n",
       "      <th>8</th>\n",
       "      <td>Eddie</td>\n",
       "      <td>WOM</td>\n",
       "      <td>60.0</td>\n",
       "      <td>35000.0</td>\n",
       "      <td>M</td>\n",
       "      <td>Work Order Management</td>\n",
       "      <td>Tomy Yip</td>\n",
       "      <td>NaN</td>\n",
       "    </tr>\n",
       "    <tr>\n",
       "      <th>9</th>\n",
       "      <td>Bonnie</td>\n",
       "      <td>WOM</td>\n",
       "      <td>20.0</td>\n",
       "      <td>40000.0</td>\n",
       "      <td>Y</td>\n",
       "      <td>Work Order Management</td>\n",
       "      <td>Tomy Yip</td>\n",
       "      <td>NaN</td>\n",
       "    </tr>\n",
       "    <tr>\n",
       "      <th>10</th>\n",
       "      <td>Pauline</td>\n",
       "      <td>Finance</td>\n",
       "      <td>30.0</td>\n",
       "      <td>25000.0</td>\n",
       "      <td>Y</td>\n",
       "      <td>Finance and Admin</td>\n",
       "      <td>Jennifer Chan</td>\n",
       "      <td>NaN</td>\n",
       "    </tr>\n",
       "    <tr>\n",
       "      <th>11</th>\n",
       "      <td>Kitty</td>\n",
       "      <td>Finance</td>\n",
       "      <td>35.0</td>\n",
       "      <td>10000.0</td>\n",
       "      <td>Y</td>\n",
       "      <td>Finance and Admin</td>\n",
       "      <td>Jennifer Chan</td>\n",
       "      <td>NaN</td>\n",
       "    </tr>\n",
       "    <tr>\n",
       "      <th>12</th>\n",
       "      <td>Sam</td>\n",
       "      <td>WOM</td>\n",
       "      <td>NaN</td>\n",
       "      <td>NaN</td>\n",
       "      <td>NaN</td>\n",
       "      <td>NaN</td>\n",
       "      <td>NaN</td>\n",
       "      <td>Kowloon</td>\n",
       "    </tr>\n",
       "    <tr>\n",
       "      <th>13</th>\n",
       "      <td>Florence</td>\n",
       "      <td>Finance</td>\n",
       "      <td>NaN</td>\n",
       "      <td>NaN</td>\n",
       "      <td>NaN</td>\n",
       "      <td>NaN</td>\n",
       "      <td>NaN</td>\n",
       "      <td>HK Island</td>\n",
       "    </tr>\n",
       "    <tr>\n",
       "      <th>14</th>\n",
       "      <td>Kin</td>\n",
       "      <td>MIS</td>\n",
       "      <td>NaN</td>\n",
       "      <td>NaN</td>\n",
       "      <td>NaN</td>\n",
       "      <td>NaN</td>\n",
       "      <td>NaN</td>\n",
       "      <td>NT</td>\n",
       "    </tr>\n",
       "  </tbody>\n",
       "</table>\n",
       "</div>"
      ],
      "text/plain": [
       "   staff_name     dept   age   salary age_group                     dept_name  \\\n",
       "0     Thomson      MIS  40.0  30000.0         M  Managemet Information System   \n",
       "1         Tsz      MIS  50.0  20000.0         M  Managemet Information System   \n",
       "2       Eddie      WOM  60.0  35000.0         M         Work Order Management   \n",
       "3      Bonnie      WOM  20.0  40000.0         Y         Work Order Management   \n",
       "4     Pauline  Finance  30.0  25000.0         Y             Finance and Admin   \n",
       "5       Kitty  Finance  35.0  10000.0         Y             Finance and Admin   \n",
       "6     Thomson      MIS  40.0  30000.0         M  Managemet Information System   \n",
       "7         Tsz      MIS  50.0  20000.0         M  Managemet Information System   \n",
       "8       Eddie      WOM  60.0  35000.0         M         Work Order Management   \n",
       "9      Bonnie      WOM  20.0  40000.0         Y         Work Order Management   \n",
       "10    Pauline  Finance  30.0  25000.0         Y             Finance and Admin   \n",
       "11      Kitty  Finance  35.0  10000.0         Y             Finance and Admin   \n",
       "12        Sam      WOM   NaN      NaN       NaN                           NaN   \n",
       "13   Florence  Finance   NaN      NaN       NaN                           NaN   \n",
       "14        Kin      MIS   NaN      NaN       NaN                           NaN   \n",
       "\n",
       "        dept_head office_loc  \n",
       "0       Peter Lau        NaN  \n",
       "1       Peter Lau        NaN  \n",
       "2        Tomy Yip        NaN  \n",
       "3        Tomy Yip        NaN  \n",
       "4   Jennifer Chan        NaN  \n",
       "5   Jennifer Chan        NaN  \n",
       "6       Peter Lau        NaN  \n",
       "7       Peter Lau        NaN  \n",
       "8        Tomy Yip        NaN  \n",
       "9        Tomy Yip        NaN  \n",
       "10  Jennifer Chan        NaN  \n",
       "11  Jennifer Chan        NaN  \n",
       "12            NaN    Kowloon  \n",
       "13            NaN  HK Island  \n",
       "14            NaN         NT  "
      ]
     },
     "execution_count": 222,
     "metadata": {},
     "output_type": "execute_result"
    }
   ],
   "source": [
    "# horizontal concate\n",
    "staff_df11=pd.concat([staff_df9,staff_df10],axis=1).reset_index(drop=True)\n",
    "staff_df11"
   ]
  },
  {
   "cell_type": "code",
   "execution_count": 223,
   "id": "7cbb9142",
   "metadata": {},
   "outputs": [
    {
     "name": "stdout",
     "output_type": "stream",
     "text": [
      "   staff_name     dept   age   salary\n",
      "0     Thomson      MIS  40.0  30000.0\n",
      "1         Tsz      MIS  50.0  20000.0\n",
      "2       Eddie      WOM  60.0  35000.0\n",
      "3      Bonnie      WOM  20.0  40000.0\n",
      "4     Pauline  Finance  30.0  25000.0\n",
      "5       Kitty  Finance  35.0  10000.0\n",
      "6     Thomson      MIS  40.0  30000.0\n",
      "7         Tsz      MIS  50.0  20000.0\n",
      "8       Eddie      WOM  60.0  35000.0\n",
      "9      Bonnie      WOM  20.0  40000.0\n",
      "10    Pauline  Finance  30.0  25000.0\n",
      "11      Kitty  Finance  35.0  10000.0\n",
      "12        Sam      WOM   NaN      NaN\n",
      "13   Florence  Finance   NaN      NaN\n",
      "14        Kin      MIS   NaN      NaN\n",
      "   age_group                     dept_name      dept_head office_loc\n",
      "0          M  Managemet Information System      Peter Lau        NaN\n",
      "1          M  Managemet Information System      Peter Lau        NaN\n",
      "2          M         Work Order Management       Tomy Yip        NaN\n",
      "3          Y         Work Order Management       Tomy Yip        NaN\n",
      "4          Y             Finance and Admin  Jennifer Chan        NaN\n",
      "5          Y             Finance and Admin  Jennifer Chan        NaN\n",
      "6          M  Managemet Information System      Peter Lau        NaN\n",
      "7          M  Managemet Information System      Peter Lau        NaN\n",
      "8          M         Work Order Management       Tomy Yip        NaN\n",
      "9          Y         Work Order Management       Tomy Yip        NaN\n",
      "11         Y             Finance and Admin  Jennifer Chan        NaN\n",
      "12       NaN                           NaN            NaN    Kowloon\n",
      "13       NaN                           NaN            NaN  HK Island\n"
     ]
    }
   ],
   "source": [
    "#staff_df12=staff_df8[[\"staff_name\",\"dept\",\"age\",\"salary\"]].copy()\n",
    "#staff_df13=staff_df8[[\"age_group\",\"dept_name\",\"dept_head\",\"office_loc\"]].copy()\n",
    "staff_df12=staff_df8[[\"staff_name\",\"dept\",\"age\",\"salary\"]]\n",
    "staff_df13=staff_df8[[\"age_group\",\"dept_name\",\"dept_head\",\"office_loc\"]]\n",
    "staff_df13=staff_df13.drop([10,14])\n",
    "print(staff_df12)\n",
    "print(staff_df13)"
   ]
  },
  {
   "cell_type": "code",
   "execution_count": 224,
   "id": "2eec09fa",
   "metadata": {},
   "outputs": [
    {
     "data": {
      "text/html": [
       "<div>\n",
       "<style scoped>\n",
       "    .dataframe tbody tr th:only-of-type {\n",
       "        vertical-align: middle;\n",
       "    }\n",
       "\n",
       "    .dataframe tbody tr th {\n",
       "        vertical-align: top;\n",
       "    }\n",
       "\n",
       "    .dataframe thead th {\n",
       "        text-align: right;\n",
       "    }\n",
       "</style>\n",
       "<table border=\"1\" class=\"dataframe\">\n",
       "  <thead>\n",
       "    <tr style=\"text-align: right;\">\n",
       "      <th></th>\n",
       "      <th>staff_name</th>\n",
       "      <th>dept</th>\n",
       "      <th>age</th>\n",
       "      <th>salary</th>\n",
       "      <th>age_group</th>\n",
       "      <th>dept_name</th>\n",
       "      <th>dept_head</th>\n",
       "      <th>office_loc</th>\n",
       "    </tr>\n",
       "  </thead>\n",
       "  <tbody>\n",
       "    <tr>\n",
       "      <th>0</th>\n",
       "      <td>Thomson</td>\n",
       "      <td>MIS</td>\n",
       "      <td>40.0</td>\n",
       "      <td>30000.0</td>\n",
       "      <td>M</td>\n",
       "      <td>Managemet Information System</td>\n",
       "      <td>Peter Lau</td>\n",
       "      <td>NaN</td>\n",
       "    </tr>\n",
       "    <tr>\n",
       "      <th>1</th>\n",
       "      <td>Tsz</td>\n",
       "      <td>MIS</td>\n",
       "      <td>50.0</td>\n",
       "      <td>20000.0</td>\n",
       "      <td>M</td>\n",
       "      <td>Managemet Information System</td>\n",
       "      <td>Peter Lau</td>\n",
       "      <td>NaN</td>\n",
       "    </tr>\n",
       "    <tr>\n",
       "      <th>2</th>\n",
       "      <td>Eddie</td>\n",
       "      <td>WOM</td>\n",
       "      <td>60.0</td>\n",
       "      <td>35000.0</td>\n",
       "      <td>M</td>\n",
       "      <td>Work Order Management</td>\n",
       "      <td>Tomy Yip</td>\n",
       "      <td>NaN</td>\n",
       "    </tr>\n",
       "    <tr>\n",
       "      <th>3</th>\n",
       "      <td>Bonnie</td>\n",
       "      <td>WOM</td>\n",
       "      <td>20.0</td>\n",
       "      <td>40000.0</td>\n",
       "      <td>Y</td>\n",
       "      <td>Work Order Management</td>\n",
       "      <td>Tomy Yip</td>\n",
       "      <td>NaN</td>\n",
       "    </tr>\n",
       "    <tr>\n",
       "      <th>4</th>\n",
       "      <td>Pauline</td>\n",
       "      <td>Finance</td>\n",
       "      <td>30.0</td>\n",
       "      <td>25000.0</td>\n",
       "      <td>Y</td>\n",
       "      <td>Finance and Admin</td>\n",
       "      <td>Jennifer Chan</td>\n",
       "      <td>NaN</td>\n",
       "    </tr>\n",
       "    <tr>\n",
       "      <th>5</th>\n",
       "      <td>Kitty</td>\n",
       "      <td>Finance</td>\n",
       "      <td>35.0</td>\n",
       "      <td>10000.0</td>\n",
       "      <td>Y</td>\n",
       "      <td>Finance and Admin</td>\n",
       "      <td>Jennifer Chan</td>\n",
       "      <td>NaN</td>\n",
       "    </tr>\n",
       "    <tr>\n",
       "      <th>6</th>\n",
       "      <td>Thomson</td>\n",
       "      <td>MIS</td>\n",
       "      <td>40.0</td>\n",
       "      <td>30000.0</td>\n",
       "      <td>M</td>\n",
       "      <td>Managemet Information System</td>\n",
       "      <td>Peter Lau</td>\n",
       "      <td>NaN</td>\n",
       "    </tr>\n",
       "    <tr>\n",
       "      <th>7</th>\n",
       "      <td>Tsz</td>\n",
       "      <td>MIS</td>\n",
       "      <td>50.0</td>\n",
       "      <td>20000.0</td>\n",
       "      <td>M</td>\n",
       "      <td>Managemet Information System</td>\n",
       "      <td>Peter Lau</td>\n",
       "      <td>NaN</td>\n",
       "    </tr>\n",
       "    <tr>\n",
       "      <th>8</th>\n",
       "      <td>Eddie</td>\n",
       "      <td>WOM</td>\n",
       "      <td>60.0</td>\n",
       "      <td>35000.0</td>\n",
       "      <td>M</td>\n",
       "      <td>Work Order Management</td>\n",
       "      <td>Tomy Yip</td>\n",
       "      <td>NaN</td>\n",
       "    </tr>\n",
       "    <tr>\n",
       "      <th>9</th>\n",
       "      <td>Bonnie</td>\n",
       "      <td>WOM</td>\n",
       "      <td>20.0</td>\n",
       "      <td>40000.0</td>\n",
       "      <td>Y</td>\n",
       "      <td>Work Order Management</td>\n",
       "      <td>Tomy Yip</td>\n",
       "      <td>NaN</td>\n",
       "    </tr>\n",
       "    <tr>\n",
       "      <th>10</th>\n",
       "      <td>Pauline</td>\n",
       "      <td>Finance</td>\n",
       "      <td>30.0</td>\n",
       "      <td>25000.0</td>\n",
       "      <td>NaN</td>\n",
       "      <td>NaN</td>\n",
       "      <td>NaN</td>\n",
       "      <td>NaN</td>\n",
       "    </tr>\n",
       "    <tr>\n",
       "      <th>11</th>\n",
       "      <td>Kitty</td>\n",
       "      <td>Finance</td>\n",
       "      <td>35.0</td>\n",
       "      <td>10000.0</td>\n",
       "      <td>Y</td>\n",
       "      <td>Finance and Admin</td>\n",
       "      <td>Jennifer Chan</td>\n",
       "      <td>NaN</td>\n",
       "    </tr>\n",
       "    <tr>\n",
       "      <th>12</th>\n",
       "      <td>Sam</td>\n",
       "      <td>WOM</td>\n",
       "      <td>NaN</td>\n",
       "      <td>NaN</td>\n",
       "      <td>NaN</td>\n",
       "      <td>NaN</td>\n",
       "      <td>NaN</td>\n",
       "      <td>Kowloon</td>\n",
       "    </tr>\n",
       "    <tr>\n",
       "      <th>13</th>\n",
       "      <td>Florence</td>\n",
       "      <td>Finance</td>\n",
       "      <td>NaN</td>\n",
       "      <td>NaN</td>\n",
       "      <td>NaN</td>\n",
       "      <td>NaN</td>\n",
       "      <td>NaN</td>\n",
       "      <td>HK Island</td>\n",
       "    </tr>\n",
       "    <tr>\n",
       "      <th>14</th>\n",
       "      <td>Kin</td>\n",
       "      <td>MIS</td>\n",
       "      <td>NaN</td>\n",
       "      <td>NaN</td>\n",
       "      <td>NaN</td>\n",
       "      <td>NaN</td>\n",
       "      <td>NaN</td>\n",
       "      <td>NaN</td>\n",
       "    </tr>\n",
       "  </tbody>\n",
       "</table>\n",
       "</div>"
      ],
      "text/plain": [
       "   staff_name     dept   age   salary age_group                     dept_name  \\\n",
       "0     Thomson      MIS  40.0  30000.0         M  Managemet Information System   \n",
       "1         Tsz      MIS  50.0  20000.0         M  Managemet Information System   \n",
       "2       Eddie      WOM  60.0  35000.0         M         Work Order Management   \n",
       "3      Bonnie      WOM  20.0  40000.0         Y         Work Order Management   \n",
       "4     Pauline  Finance  30.0  25000.0         Y             Finance and Admin   \n",
       "5       Kitty  Finance  35.0  10000.0         Y             Finance and Admin   \n",
       "6     Thomson      MIS  40.0  30000.0         M  Managemet Information System   \n",
       "7         Tsz      MIS  50.0  20000.0         M  Managemet Information System   \n",
       "8       Eddie      WOM  60.0  35000.0         M         Work Order Management   \n",
       "9      Bonnie      WOM  20.0  40000.0         Y         Work Order Management   \n",
       "10    Pauline  Finance  30.0  25000.0       NaN                           NaN   \n",
       "11      Kitty  Finance  35.0  10000.0         Y             Finance and Admin   \n",
       "12        Sam      WOM   NaN      NaN       NaN                           NaN   \n",
       "13   Florence  Finance   NaN      NaN       NaN                           NaN   \n",
       "14        Kin      MIS   NaN      NaN       NaN                           NaN   \n",
       "\n",
       "        dept_head office_loc  \n",
       "0       Peter Lau        NaN  \n",
       "1       Peter Lau        NaN  \n",
       "2        Tomy Yip        NaN  \n",
       "3        Tomy Yip        NaN  \n",
       "4   Jennifer Chan        NaN  \n",
       "5   Jennifer Chan        NaN  \n",
       "6       Peter Lau        NaN  \n",
       "7       Peter Lau        NaN  \n",
       "8        Tomy Yip        NaN  \n",
       "9        Tomy Yip        NaN  \n",
       "10            NaN        NaN  \n",
       "11  Jennifer Chan        NaN  \n",
       "12            NaN    Kowloon  \n",
       "13            NaN  HK Island  \n",
       "14            NaN        NaN  "
      ]
     },
     "execution_count": 224,
     "metadata": {},
     "output_type": "execute_result"
    }
   ],
   "source": [
    "staff_df14=pd.concat([staff_df12,staff_df13],axis=1).reset_index(drop=True)\n",
    "staff_df14 # row no changed even 10 and 14 deleted"
   ]
  },
  {
   "cell_type": "code",
   "execution_count": 225,
   "id": "a76fb89d",
   "metadata": {},
   "outputs": [
    {
     "data": {
      "text/html": [
       "<div>\n",
       "<style scoped>\n",
       "    .dataframe tbody tr th:only-of-type {\n",
       "        vertical-align: middle;\n",
       "    }\n",
       "\n",
       "    .dataframe tbody tr th {\n",
       "        vertical-align: top;\n",
       "    }\n",
       "\n",
       "    .dataframe thead th {\n",
       "        text-align: right;\n",
       "    }\n",
       "</style>\n",
       "<table border=\"1\" class=\"dataframe\">\n",
       "  <thead>\n",
       "    <tr style=\"text-align: right;\">\n",
       "      <th></th>\n",
       "      <th>staff_name</th>\n",
       "      <th>dept</th>\n",
       "      <th>age</th>\n",
       "      <th>salary</th>\n",
       "      <th>age_group</th>\n",
       "      <th>dept_name</th>\n",
       "      <th>dept_head</th>\n",
       "      <th>office_loc</th>\n",
       "    </tr>\n",
       "  </thead>\n",
       "  <tbody>\n",
       "    <tr>\n",
       "      <th>0</th>\n",
       "      <td>Thomson</td>\n",
       "      <td>MIS</td>\n",
       "      <td>40.0</td>\n",
       "      <td>30000.0</td>\n",
       "      <td>M</td>\n",
       "      <td>Managemet Information System</td>\n",
       "      <td>Peter Lau</td>\n",
       "      <td>NaN</td>\n",
       "    </tr>\n",
       "    <tr>\n",
       "      <th>1</th>\n",
       "      <td>Tsz</td>\n",
       "      <td>MIS</td>\n",
       "      <td>50.0</td>\n",
       "      <td>20000.0</td>\n",
       "      <td>M</td>\n",
       "      <td>Managemet Information System</td>\n",
       "      <td>Peter Lau</td>\n",
       "      <td>NaN</td>\n",
       "    </tr>\n",
       "    <tr>\n",
       "      <th>2</th>\n",
       "      <td>Eddie</td>\n",
       "      <td>WOM</td>\n",
       "      <td>60.0</td>\n",
       "      <td>35000.0</td>\n",
       "      <td>M</td>\n",
       "      <td>Work Order Management</td>\n",
       "      <td>Tomy Yip</td>\n",
       "      <td>NaN</td>\n",
       "    </tr>\n",
       "    <tr>\n",
       "      <th>3</th>\n",
       "      <td>Bonnie</td>\n",
       "      <td>WOM</td>\n",
       "      <td>20.0</td>\n",
       "      <td>40000.0</td>\n",
       "      <td>Y</td>\n",
       "      <td>Work Order Management</td>\n",
       "      <td>Tomy Yip</td>\n",
       "      <td>NaN</td>\n",
       "    </tr>\n",
       "    <tr>\n",
       "      <th>4</th>\n",
       "      <td>Pauline</td>\n",
       "      <td>Finance</td>\n",
       "      <td>30.0</td>\n",
       "      <td>25000.0</td>\n",
       "      <td>Y</td>\n",
       "      <td>Finance and Admin</td>\n",
       "      <td>Jennifer Chan</td>\n",
       "      <td>NaN</td>\n",
       "    </tr>\n",
       "    <tr>\n",
       "      <th>5</th>\n",
       "      <td>Kitty</td>\n",
       "      <td>Finance</td>\n",
       "      <td>35.0</td>\n",
       "      <td>10000.0</td>\n",
       "      <td>Y</td>\n",
       "      <td>Finance and Admin</td>\n",
       "      <td>Jennifer Chan</td>\n",
       "      <td>NaN</td>\n",
       "    </tr>\n",
       "    <tr>\n",
       "      <th>6</th>\n",
       "      <td>Thomson</td>\n",
       "      <td>MIS</td>\n",
       "      <td>40.0</td>\n",
       "      <td>30000.0</td>\n",
       "      <td>M</td>\n",
       "      <td>Managemet Information System</td>\n",
       "      <td>Peter Lau</td>\n",
       "      <td>NaN</td>\n",
       "    </tr>\n",
       "    <tr>\n",
       "      <th>7</th>\n",
       "      <td>Tsz</td>\n",
       "      <td>MIS</td>\n",
       "      <td>50.0</td>\n",
       "      <td>20000.0</td>\n",
       "      <td>M</td>\n",
       "      <td>Managemet Information System</td>\n",
       "      <td>Peter Lau</td>\n",
       "      <td>NaN</td>\n",
       "    </tr>\n",
       "    <tr>\n",
       "      <th>8</th>\n",
       "      <td>Eddie</td>\n",
       "      <td>WOM</td>\n",
       "      <td>60.0</td>\n",
       "      <td>35000.0</td>\n",
       "      <td>M</td>\n",
       "      <td>Work Order Management</td>\n",
       "      <td>Tomy Yip</td>\n",
       "      <td>NaN</td>\n",
       "    </tr>\n",
       "    <tr>\n",
       "      <th>9</th>\n",
       "      <td>Bonnie</td>\n",
       "      <td>WOM</td>\n",
       "      <td>20.0</td>\n",
       "      <td>40000.0</td>\n",
       "      <td>Y</td>\n",
       "      <td>Work Order Management</td>\n",
       "      <td>Tomy Yip</td>\n",
       "      <td>NaN</td>\n",
       "    </tr>\n",
       "    <tr>\n",
       "      <th>10</th>\n",
       "      <td>Pauline</td>\n",
       "      <td>Finance</td>\n",
       "      <td>30.0</td>\n",
       "      <td>25000.0</td>\n",
       "      <td>NaN</td>\n",
       "      <td>NaN</td>\n",
       "      <td>NaN</td>\n",
       "      <td>NaN</td>\n",
       "    </tr>\n",
       "    <tr>\n",
       "      <th>11</th>\n",
       "      <td>Kitty</td>\n",
       "      <td>Finance</td>\n",
       "      <td>35.0</td>\n",
       "      <td>10000.0</td>\n",
       "      <td>Y</td>\n",
       "      <td>Finance and Admin</td>\n",
       "      <td>Jennifer Chan</td>\n",
       "      <td>NaN</td>\n",
       "    </tr>\n",
       "    <tr>\n",
       "      <th>12</th>\n",
       "      <td>Sam</td>\n",
       "      <td>WOM</td>\n",
       "      <td>NaN</td>\n",
       "      <td>NaN</td>\n",
       "      <td>NaN</td>\n",
       "      <td>NaN</td>\n",
       "      <td>NaN</td>\n",
       "      <td>Kowloon</td>\n",
       "    </tr>\n",
       "    <tr>\n",
       "      <th>13</th>\n",
       "      <td>Florence</td>\n",
       "      <td>Finance</td>\n",
       "      <td>NaN</td>\n",
       "      <td>NaN</td>\n",
       "      <td>NaN</td>\n",
       "      <td>NaN</td>\n",
       "      <td>NaN</td>\n",
       "      <td>HK Island</td>\n",
       "    </tr>\n",
       "    <tr>\n",
       "      <th>14</th>\n",
       "      <td>Kin</td>\n",
       "      <td>MIS</td>\n",
       "      <td>NaN</td>\n",
       "      <td>NaN</td>\n",
       "      <td>NaN</td>\n",
       "      <td>NaN</td>\n",
       "      <td>NaN</td>\n",
       "      <td>NaN</td>\n",
       "    </tr>\n",
       "  </tbody>\n",
       "</table>\n",
       "</div>"
      ],
      "text/plain": [
       "   staff_name     dept   age   salary age_group                     dept_name  \\\n",
       "0     Thomson      MIS  40.0  30000.0         M  Managemet Information System   \n",
       "1         Tsz      MIS  50.0  20000.0         M  Managemet Information System   \n",
       "2       Eddie      WOM  60.0  35000.0         M         Work Order Management   \n",
       "3      Bonnie      WOM  20.0  40000.0         Y         Work Order Management   \n",
       "4     Pauline  Finance  30.0  25000.0         Y             Finance and Admin   \n",
       "5       Kitty  Finance  35.0  10000.0         Y             Finance and Admin   \n",
       "6     Thomson      MIS  40.0  30000.0         M  Managemet Information System   \n",
       "7         Tsz      MIS  50.0  20000.0         M  Managemet Information System   \n",
       "8       Eddie      WOM  60.0  35000.0         M         Work Order Management   \n",
       "9      Bonnie      WOM  20.0  40000.0         Y         Work Order Management   \n",
       "10    Pauline  Finance  30.0  25000.0       NaN                           NaN   \n",
       "11      Kitty  Finance  35.0  10000.0         Y             Finance and Admin   \n",
       "12        Sam      WOM   NaN      NaN       NaN                           NaN   \n",
       "13   Florence  Finance   NaN      NaN       NaN                           NaN   \n",
       "14        Kin      MIS   NaN      NaN       NaN                           NaN   \n",
       "\n",
       "        dept_head office_loc  \n",
       "0       Peter Lau        NaN  \n",
       "1       Peter Lau        NaN  \n",
       "2        Tomy Yip        NaN  \n",
       "3        Tomy Yip        NaN  \n",
       "4   Jennifer Chan        NaN  \n",
       "5   Jennifer Chan        NaN  \n",
       "6       Peter Lau        NaN  \n",
       "7       Peter Lau        NaN  \n",
       "8        Tomy Yip        NaN  \n",
       "9        Tomy Yip        NaN  \n",
       "10            NaN        NaN  \n",
       "11  Jennifer Chan        NaN  \n",
       "12            NaN    Kowloon  \n",
       "13            NaN  HK Island  \n",
       "14            NaN        NaN  "
      ]
     },
     "execution_count": 225,
     "metadata": {},
     "output_type": "execute_result"
    }
   ],
   "source": [
    "staff_df14"
   ]
  },
  {
   "cell_type": "code",
   "execution_count": 226,
   "id": "14b1334e",
   "metadata": {},
   "outputs": [
    {
     "data": {
      "text/html": [
       "<div>\n",
       "<style scoped>\n",
       "    .dataframe tbody tr th:only-of-type {\n",
       "        vertical-align: middle;\n",
       "    }\n",
       "\n",
       "    .dataframe tbody tr th {\n",
       "        vertical-align: top;\n",
       "    }\n",
       "\n",
       "    .dataframe thead th {\n",
       "        text-align: right;\n",
       "    }\n",
       "</style>\n",
       "<table border=\"1\" class=\"dataframe\">\n",
       "  <thead>\n",
       "    <tr style=\"text-align: right;\">\n",
       "      <th></th>\n",
       "      <th>staff_name</th>\n",
       "      <th>dept</th>\n",
       "      <th>age</th>\n",
       "      <th>salary</th>\n",
       "      <th>age_group</th>\n",
       "      <th>dept_name</th>\n",
       "      <th>dept_head</th>\n",
       "      <th>office_loc</th>\n",
       "    </tr>\n",
       "  </thead>\n",
       "  <tbody>\n",
       "    <tr>\n",
       "      <th>0</th>\n",
       "      <td>Thomson</td>\n",
       "      <td>MIS</td>\n",
       "      <td>40.0</td>\n",
       "      <td>30000.0</td>\n",
       "      <td>M</td>\n",
       "      <td>Managemet Information System</td>\n",
       "      <td>Peter Lau</td>\n",
       "      <td>NaN</td>\n",
       "    </tr>\n",
       "    <tr>\n",
       "      <th>1</th>\n",
       "      <td>Tsz</td>\n",
       "      <td>MIS</td>\n",
       "      <td>50.0</td>\n",
       "      <td>20000.0</td>\n",
       "      <td>M</td>\n",
       "      <td>Managemet Information System</td>\n",
       "      <td>Peter Lau</td>\n",
       "      <td>NaN</td>\n",
       "    </tr>\n",
       "    <tr>\n",
       "      <th>2</th>\n",
       "      <td>Eddie</td>\n",
       "      <td>WOM</td>\n",
       "      <td>60.0</td>\n",
       "      <td>35000.0</td>\n",
       "      <td>M</td>\n",
       "      <td>Work Order Management</td>\n",
       "      <td>Tomy Yip</td>\n",
       "      <td>NaN</td>\n",
       "    </tr>\n",
       "    <tr>\n",
       "      <th>3</th>\n",
       "      <td>Bonnie</td>\n",
       "      <td>WOM</td>\n",
       "      <td>20.0</td>\n",
       "      <td>40000.0</td>\n",
       "      <td>Y</td>\n",
       "      <td>Work Order Management</td>\n",
       "      <td>Tomy Yip</td>\n",
       "      <td>NaN</td>\n",
       "    </tr>\n",
       "    <tr>\n",
       "      <th>4</th>\n",
       "      <td>Pauline</td>\n",
       "      <td>Finance</td>\n",
       "      <td>30.0</td>\n",
       "      <td>25000.0</td>\n",
       "      <td>Y</td>\n",
       "      <td>Finance and Admin</td>\n",
       "      <td>Jennifer Chan</td>\n",
       "      <td>NaN</td>\n",
       "    </tr>\n",
       "    <tr>\n",
       "      <th>5</th>\n",
       "      <td>Kitty</td>\n",
       "      <td>Finance</td>\n",
       "      <td>35.0</td>\n",
       "      <td>10000.0</td>\n",
       "      <td>Y</td>\n",
       "      <td>Finance and Admin</td>\n",
       "      <td>Jennifer Chan</td>\n",
       "      <td>NaN</td>\n",
       "    </tr>\n",
       "    <tr>\n",
       "      <th>6</th>\n",
       "      <td>Thomson</td>\n",
       "      <td>MIS</td>\n",
       "      <td>40.0</td>\n",
       "      <td>30000.0</td>\n",
       "      <td>M</td>\n",
       "      <td>Managemet Information System</td>\n",
       "      <td>Peter Lau</td>\n",
       "      <td>NaN</td>\n",
       "    </tr>\n",
       "    <tr>\n",
       "      <th>7</th>\n",
       "      <td>Tsz</td>\n",
       "      <td>MIS</td>\n",
       "      <td>50.0</td>\n",
       "      <td>20000.0</td>\n",
       "      <td>M</td>\n",
       "      <td>Managemet Information System</td>\n",
       "      <td>Peter Lau</td>\n",
       "      <td>NaN</td>\n",
       "    </tr>\n",
       "  </tbody>\n",
       "</table>\n",
       "</div>"
      ],
      "text/plain": [
       "  staff_name     dept   age   salary age_group                     dept_name  \\\n",
       "0    Thomson      MIS  40.0  30000.0         M  Managemet Information System   \n",
       "1        Tsz      MIS  50.0  20000.0         M  Managemet Information System   \n",
       "2      Eddie      WOM  60.0  35000.0         M         Work Order Management   \n",
       "3     Bonnie      WOM  20.0  40000.0         Y         Work Order Management   \n",
       "4    Pauline  Finance  30.0  25000.0         Y             Finance and Admin   \n",
       "5      Kitty  Finance  35.0  10000.0         Y             Finance and Admin   \n",
       "6    Thomson      MIS  40.0  30000.0         M  Managemet Information System   \n",
       "7        Tsz      MIS  50.0  20000.0         M  Managemet Information System   \n",
       "\n",
       "       dept_head office_loc  \n",
       "0      Peter Lau        NaN  \n",
       "1      Peter Lau        NaN  \n",
       "2       Tomy Yip        NaN  \n",
       "3       Tomy Yip        NaN  \n",
       "4  Jennifer Chan        NaN  \n",
       "5  Jennifer Chan        NaN  \n",
       "6      Peter Lau        NaN  \n",
       "7      Peter Lau        NaN  "
      ]
     },
     "execution_count": 226,
     "metadata": {},
     "output_type": "execute_result"
    }
   ],
   "source": [
    "split_row=8  # splitting dataframe by row index\n",
    "staff_df14_upper=staff_df14.iloc[:split_row]\n",
    "staff_df14_upper"
   ]
  },
  {
   "cell_type": "code",
   "execution_count": 227,
   "id": "b802888b",
   "metadata": {},
   "outputs": [
    {
     "data": {
      "text/html": [
       "<div>\n",
       "<style scoped>\n",
       "    .dataframe tbody tr th:only-of-type {\n",
       "        vertical-align: middle;\n",
       "    }\n",
       "\n",
       "    .dataframe tbody tr th {\n",
       "        vertical-align: top;\n",
       "    }\n",
       "\n",
       "    .dataframe thead th {\n",
       "        text-align: right;\n",
       "    }\n",
       "</style>\n",
       "<table border=\"1\" class=\"dataframe\">\n",
       "  <thead>\n",
       "    <tr style=\"text-align: right;\">\n",
       "      <th></th>\n",
       "      <th>staff_name</th>\n",
       "      <th>dept</th>\n",
       "      <th>age</th>\n",
       "      <th>salary</th>\n",
       "      <th>age_group</th>\n",
       "      <th>dept_name</th>\n",
       "      <th>dept_head</th>\n",
       "      <th>office_loc</th>\n",
       "    </tr>\n",
       "  </thead>\n",
       "  <tbody>\n",
       "    <tr>\n",
       "      <th>0</th>\n",
       "      <td>Eddie</td>\n",
       "      <td>WOM</td>\n",
       "      <td>60.0</td>\n",
       "      <td>35000.0</td>\n",
       "      <td>M</td>\n",
       "      <td>Work Order Management</td>\n",
       "      <td>Tomy Yip</td>\n",
       "      <td>NaN</td>\n",
       "    </tr>\n",
       "    <tr>\n",
       "      <th>1</th>\n",
       "      <td>Bonnie</td>\n",
       "      <td>WOM</td>\n",
       "      <td>20.0</td>\n",
       "      <td>40000.0</td>\n",
       "      <td>Y</td>\n",
       "      <td>Work Order Management</td>\n",
       "      <td>Tomy Yip</td>\n",
       "      <td>NaN</td>\n",
       "    </tr>\n",
       "    <tr>\n",
       "      <th>2</th>\n",
       "      <td>Pauline</td>\n",
       "      <td>Finance</td>\n",
       "      <td>30.0</td>\n",
       "      <td>25000.0</td>\n",
       "      <td>NaN</td>\n",
       "      <td>NaN</td>\n",
       "      <td>NaN</td>\n",
       "      <td>NaN</td>\n",
       "    </tr>\n",
       "    <tr>\n",
       "      <th>3</th>\n",
       "      <td>Kitty</td>\n",
       "      <td>Finance</td>\n",
       "      <td>35.0</td>\n",
       "      <td>10000.0</td>\n",
       "      <td>Y</td>\n",
       "      <td>Finance and Admin</td>\n",
       "      <td>Jennifer Chan</td>\n",
       "      <td>NaN</td>\n",
       "    </tr>\n",
       "    <tr>\n",
       "      <th>4</th>\n",
       "      <td>Sam</td>\n",
       "      <td>WOM</td>\n",
       "      <td>NaN</td>\n",
       "      <td>NaN</td>\n",
       "      <td>NaN</td>\n",
       "      <td>NaN</td>\n",
       "      <td>NaN</td>\n",
       "      <td>Kowloon</td>\n",
       "    </tr>\n",
       "    <tr>\n",
       "      <th>5</th>\n",
       "      <td>Florence</td>\n",
       "      <td>Finance</td>\n",
       "      <td>NaN</td>\n",
       "      <td>NaN</td>\n",
       "      <td>NaN</td>\n",
       "      <td>NaN</td>\n",
       "      <td>NaN</td>\n",
       "      <td>HK Island</td>\n",
       "    </tr>\n",
       "    <tr>\n",
       "      <th>6</th>\n",
       "      <td>Kin</td>\n",
       "      <td>MIS</td>\n",
       "      <td>NaN</td>\n",
       "      <td>NaN</td>\n",
       "      <td>NaN</td>\n",
       "      <td>NaN</td>\n",
       "      <td>NaN</td>\n",
       "      <td>NaN</td>\n",
       "    </tr>\n",
       "  </tbody>\n",
       "</table>\n",
       "</div>"
      ],
      "text/plain": [
       "  staff_name     dept   age   salary age_group              dept_name  \\\n",
       "0      Eddie      WOM  60.0  35000.0         M  Work Order Management   \n",
       "1     Bonnie      WOM  20.0  40000.0         Y  Work Order Management   \n",
       "2    Pauline  Finance  30.0  25000.0       NaN                    NaN   \n",
       "3      Kitty  Finance  35.0  10000.0         Y      Finance and Admin   \n",
       "4        Sam      WOM   NaN      NaN       NaN                    NaN   \n",
       "5   Florence  Finance   NaN      NaN       NaN                    NaN   \n",
       "6        Kin      MIS   NaN      NaN       NaN                    NaN   \n",
       "\n",
       "       dept_head office_loc  \n",
       "0       Tomy Yip        NaN  \n",
       "1       Tomy Yip        NaN  \n",
       "2            NaN        NaN  \n",
       "3  Jennifer Chan        NaN  \n",
       "4            NaN    Kowloon  \n",
       "5            NaN  HK Island  \n",
       "6            NaN        NaN  "
      ]
     },
     "execution_count": 227,
     "metadata": {},
     "output_type": "execute_result"
    }
   ],
   "source": [
    "split_row=8  # splitting dataframe by row index\n",
    "staff_df14_lower=staff_df14.iloc[split_row:,:].reset_index(drop=True)\n",
    "staff_df14_lower"
   ]
  },
  {
   "cell_type": "code",
   "execution_count": 228,
   "id": "474e640d",
   "metadata": {},
   "outputs": [
    {
     "name": "stderr",
     "output_type": "stream",
     "text": [
      "C:\\Users\\Thomson Yeung\\AppData\\Local\\Temp\\ipykernel_11148\\134054530.py:1: FutureWarning: The default value of numeric_only in DataFrameGroupBy.sum is deprecated. In a future version, numeric_only will default to False. Either specify numeric_only or select only columns which should be valid for the function.\n",
      "  staff_df14.groupby([\"dept\"]).sum()[\"salary\"]\n"
     ]
    },
    {
     "data": {
      "text/plain": [
       "dept\n",
       "Finance     70000.0\n",
       "MIS        100000.0\n",
       "WOM        150000.0\n",
       "Name: salary, dtype: float64"
      ]
     },
     "execution_count": 228,
     "metadata": {},
     "output_type": "execute_result"
    }
   ],
   "source": [
    "staff_df14.groupby([\"dept\"]).sum()[\"salary\"]\n",
    "# df2.groupby([\"Courses\"]).sum()"
   ]
  },
  {
   "cell_type": "code",
   "execution_count": 229,
   "id": "331b3033",
   "metadata": {},
   "outputs": [
    {
     "name": "stderr",
     "output_type": "stream",
     "text": [
      "C:\\Users\\Thomson Yeung\\AppData\\Local\\Temp\\ipykernel_11148\\21140169.py:1: FutureWarning: The default value of numeric_only in DataFrameGroupBy.sum is deprecated. In a future version, numeric_only will default to False. Either specify numeric_only or select only columns which should be valid for the function.\n",
      "  staff_df14.groupby([\"dept\"]).sum()\n"
     ]
    },
    {
     "data": {
      "text/html": [
       "<div>\n",
       "<style scoped>\n",
       "    .dataframe tbody tr th:only-of-type {\n",
       "        vertical-align: middle;\n",
       "    }\n",
       "\n",
       "    .dataframe tbody tr th {\n",
       "        vertical-align: top;\n",
       "    }\n",
       "\n",
       "    .dataframe thead th {\n",
       "        text-align: right;\n",
       "    }\n",
       "</style>\n",
       "<table border=\"1\" class=\"dataframe\">\n",
       "  <thead>\n",
       "    <tr style=\"text-align: right;\">\n",
       "      <th></th>\n",
       "      <th>age</th>\n",
       "      <th>salary</th>\n",
       "    </tr>\n",
       "    <tr>\n",
       "      <th>dept</th>\n",
       "      <th></th>\n",
       "      <th></th>\n",
       "    </tr>\n",
       "  </thead>\n",
       "  <tbody>\n",
       "    <tr>\n",
       "      <th>Finance</th>\n",
       "      <td>130.0</td>\n",
       "      <td>70000.0</td>\n",
       "    </tr>\n",
       "    <tr>\n",
       "      <th>MIS</th>\n",
       "      <td>180.0</td>\n",
       "      <td>100000.0</td>\n",
       "    </tr>\n",
       "    <tr>\n",
       "      <th>WOM</th>\n",
       "      <td>160.0</td>\n",
       "      <td>150000.0</td>\n",
       "    </tr>\n",
       "  </tbody>\n",
       "</table>\n",
       "</div>"
      ],
      "text/plain": [
       "           age    salary\n",
       "dept                    \n",
       "Finance  130.0   70000.0\n",
       "MIS      180.0  100000.0\n",
       "WOM      160.0  150000.0"
      ]
     },
     "execution_count": 229,
     "metadata": {},
     "output_type": "execute_result"
    }
   ],
   "source": [
    "staff_df14.groupby([\"dept\"]).sum()"
   ]
  },
  {
   "cell_type": "code",
   "execution_count": 230,
   "id": "a1a8d590",
   "metadata": {},
   "outputs": [
    {
     "data": {
      "text/plain": [
       "0        WOM\n",
       "1        WOM\n",
       "2    Finance\n",
       "3    Finance\n",
       "4        WOM\n",
       "5    Finance\n",
       "6        MIS\n",
       "Name: dept, dtype: object"
      ]
     },
     "execution_count": 230,
     "metadata": {},
     "output_type": "execute_result"
    }
   ],
   "source": [
    "staff_df14_lower[\"dept\"]"
   ]
  },
  {
   "cell_type": "code",
   "execution_count": 231,
   "id": "785e38c7",
   "metadata": {},
   "outputs": [
    {
     "data": {
      "text/plain": [
       "0        WOM\n",
       "1        WOM\n",
       "2    Finance\n",
       "3    Finance\n",
       "4        WOM\n",
       "5    Finance\n",
       "6        MIS\n",
       "Name: dept, dtype: object"
      ]
     },
     "execution_count": 231,
     "metadata": {},
     "output_type": "execute_result"
    }
   ],
   "source": [
    "staff_df14_lower.loc[:,\"dept\"]  # return series with single column"
   ]
  },
  {
   "cell_type": "code",
   "execution_count": 232,
   "id": "70d7c8a6",
   "metadata": {},
   "outputs": [],
   "source": [
    "# https://towardsdatascience.com/how-to-use-loc-and-iloc-for-selecting-data-in-pandas-bd09cb4c3d79\n",
    "# iloc using index vs loc using label"
   ]
  },
  {
   "cell_type": "code",
   "execution_count": 233,
   "id": "b4bbff2b",
   "metadata": {},
   "outputs": [
    {
     "data": {
      "text/html": [
       "<div>\n",
       "<style scoped>\n",
       "    .dataframe tbody tr th:only-of-type {\n",
       "        vertical-align: middle;\n",
       "    }\n",
       "\n",
       "    .dataframe tbody tr th {\n",
       "        vertical-align: top;\n",
       "    }\n",
       "\n",
       "    .dataframe thead th {\n",
       "        text-align: right;\n",
       "    }\n",
       "</style>\n",
       "<table border=\"1\" class=\"dataframe\">\n",
       "  <thead>\n",
       "    <tr style=\"text-align: right;\">\n",
       "      <th></th>\n",
       "      <th>dept</th>\n",
       "      <th>age</th>\n",
       "      <th>salary</th>\n",
       "    </tr>\n",
       "  </thead>\n",
       "  <tbody>\n",
       "    <tr>\n",
       "      <th>0</th>\n",
       "      <td>WOM</td>\n",
       "      <td>60.0</td>\n",
       "      <td>35000.0</td>\n",
       "    </tr>\n",
       "    <tr>\n",
       "      <th>1</th>\n",
       "      <td>WOM</td>\n",
       "      <td>20.0</td>\n",
       "      <td>40000.0</td>\n",
       "    </tr>\n",
       "    <tr>\n",
       "      <th>2</th>\n",
       "      <td>Finance</td>\n",
       "      <td>30.0</td>\n",
       "      <td>25000.0</td>\n",
       "    </tr>\n",
       "    <tr>\n",
       "      <th>3</th>\n",
       "      <td>Finance</td>\n",
       "      <td>35.0</td>\n",
       "      <td>10000.0</td>\n",
       "    </tr>\n",
       "    <tr>\n",
       "      <th>4</th>\n",
       "      <td>WOM</td>\n",
       "      <td>NaN</td>\n",
       "      <td>NaN</td>\n",
       "    </tr>\n",
       "    <tr>\n",
       "      <th>5</th>\n",
       "      <td>Finance</td>\n",
       "      <td>NaN</td>\n",
       "      <td>NaN</td>\n",
       "    </tr>\n",
       "    <tr>\n",
       "      <th>6</th>\n",
       "      <td>MIS</td>\n",
       "      <td>NaN</td>\n",
       "      <td>NaN</td>\n",
       "    </tr>\n",
       "  </tbody>\n",
       "</table>\n",
       "</div>"
      ],
      "text/plain": [
       "      dept   age   salary\n",
       "0      WOM  60.0  35000.0\n",
       "1      WOM  20.0  40000.0\n",
       "2  Finance  30.0  25000.0\n",
       "3  Finance  35.0  10000.0\n",
       "4      WOM   NaN      NaN\n",
       "5  Finance   NaN      NaN\n",
       "6      MIS   NaN      NaN"
      ]
     },
     "execution_count": 233,
     "metadata": {},
     "output_type": "execute_result"
    }
   ],
   "source": [
    "staff_df14_lower.loc[:,\"dept\":\"salary\"]  # return dataframe with multiple columns"
   ]
  },
  {
   "cell_type": "code",
   "execution_count": 234,
   "id": "04688c96",
   "metadata": {},
   "outputs": [
    {
     "data": {
      "text/html": [
       "<div>\n",
       "<style scoped>\n",
       "    .dataframe tbody tr th:only-of-type {\n",
       "        vertical-align: middle;\n",
       "    }\n",
       "\n",
       "    .dataframe tbody tr th {\n",
       "        vertical-align: top;\n",
       "    }\n",
       "\n",
       "    .dataframe thead th {\n",
       "        text-align: right;\n",
       "    }\n",
       "</style>\n",
       "<table border=\"1\" class=\"dataframe\">\n",
       "  <thead>\n",
       "    <tr style=\"text-align: right;\">\n",
       "      <th></th>\n",
       "      <th>dept</th>\n",
       "    </tr>\n",
       "  </thead>\n",
       "  <tbody>\n",
       "    <tr>\n",
       "      <th>0</th>\n",
       "      <td>WOM</td>\n",
       "    </tr>\n",
       "    <tr>\n",
       "      <th>1</th>\n",
       "      <td>WOM</td>\n",
       "    </tr>\n",
       "    <tr>\n",
       "      <th>2</th>\n",
       "      <td>Finance</td>\n",
       "    </tr>\n",
       "    <tr>\n",
       "      <th>3</th>\n",
       "      <td>Finance</td>\n",
       "    </tr>\n",
       "    <tr>\n",
       "      <th>4</th>\n",
       "      <td>WOM</td>\n",
       "    </tr>\n",
       "    <tr>\n",
       "      <th>5</th>\n",
       "      <td>Finance</td>\n",
       "    </tr>\n",
       "    <tr>\n",
       "      <th>6</th>\n",
       "      <td>MIS</td>\n",
       "    </tr>\n",
       "  </tbody>\n",
       "</table>\n",
       "</div>"
      ],
      "text/plain": [
       "      dept\n",
       "0      WOM\n",
       "1      WOM\n",
       "2  Finance\n",
       "3  Finance\n",
       "4      WOM\n",
       "5  Finance\n",
       "6      MIS"
      ]
     },
     "execution_count": 234,
     "metadata": {},
     "output_type": "execute_result"
    }
   ],
   "source": [
    "staff_df14_lower.loc[:,\"dept\":\"dept\"]  # return dataframe with single column"
   ]
  },
  {
   "cell_type": "code",
   "execution_count": 235,
   "id": "34008cb8",
   "metadata": {},
   "outputs": [
    {
     "data": {
      "text/plain": [
       "pandas.core.frame.DataFrame"
      ]
     },
     "execution_count": 235,
     "metadata": {},
     "output_type": "execute_result"
    }
   ],
   "source": [
    "type(staff_df14_lower.loc[:,\"dept\":\"dept\"])\n",
    "# pandas.core.frame.DataFrame"
   ]
  },
  {
   "cell_type": "code",
   "execution_count": 236,
   "id": "7bc4c0f7",
   "metadata": {},
   "outputs": [
    {
     "data": {
      "text/plain": [
       "pandas.core.series.Series"
      ]
     },
     "execution_count": 236,
     "metadata": {},
     "output_type": "execute_result"
    }
   ],
   "source": [
    "type(staff_df14_lower.loc[:,\"dept\"])\n",
    "# pandas.core.frame.DataFrame"
   ]
  },
  {
   "cell_type": "code",
   "execution_count": 237,
   "id": "6381f24d",
   "metadata": {},
   "outputs": [
    {
     "data": {
      "text/html": [
       "<div>\n",
       "<style scoped>\n",
       "    .dataframe tbody tr th:only-of-type {\n",
       "        vertical-align: middle;\n",
       "    }\n",
       "\n",
       "    .dataframe tbody tr th {\n",
       "        vertical-align: top;\n",
       "    }\n",
       "\n",
       "    .dataframe thead th {\n",
       "        text-align: right;\n",
       "    }\n",
       "</style>\n",
       "<table border=\"1\" class=\"dataframe\">\n",
       "  <thead>\n",
       "    <tr style=\"text-align: right;\">\n",
       "      <th></th>\n",
       "      <th>staff_name</th>\n",
       "      <th>dept</th>\n",
       "      <th>age</th>\n",
       "      <th>salary</th>\n",
       "      <th>age_group</th>\n",
       "      <th>dept_name</th>\n",
       "      <th>dept_head</th>\n",
       "      <th>office_loc</th>\n",
       "    </tr>\n",
       "  </thead>\n",
       "  <tbody>\n",
       "    <tr>\n",
       "      <th>0</th>\n",
       "      <td>Thomson</td>\n",
       "      <td>MIS</td>\n",
       "      <td>40.0</td>\n",
       "      <td>30000.0</td>\n",
       "      <td>M</td>\n",
       "      <td>Managemet Information System</td>\n",
       "      <td>Peter Lau</td>\n",
       "      <td>NaN</td>\n",
       "    </tr>\n",
       "    <tr>\n",
       "      <th>1</th>\n",
       "      <td>Tsz</td>\n",
       "      <td>MIS</td>\n",
       "      <td>50.0</td>\n",
       "      <td>20000.0</td>\n",
       "      <td>M</td>\n",
       "      <td>Managemet Information System</td>\n",
       "      <td>Peter Lau</td>\n",
       "      <td>NaN</td>\n",
       "    </tr>\n",
       "    <tr>\n",
       "      <th>6</th>\n",
       "      <td>Thomson</td>\n",
       "      <td>MIS</td>\n",
       "      <td>40.0</td>\n",
       "      <td>30000.0</td>\n",
       "      <td>M</td>\n",
       "      <td>Managemet Information System</td>\n",
       "      <td>Peter Lau</td>\n",
       "      <td>NaN</td>\n",
       "    </tr>\n",
       "    <tr>\n",
       "      <th>7</th>\n",
       "      <td>Tsz</td>\n",
       "      <td>MIS</td>\n",
       "      <td>50.0</td>\n",
       "      <td>20000.0</td>\n",
       "      <td>M</td>\n",
       "      <td>Managemet Information System</td>\n",
       "      <td>Peter Lau</td>\n",
       "      <td>NaN</td>\n",
       "    </tr>\n",
       "    <tr>\n",
       "      <th>14</th>\n",
       "      <td>Kin</td>\n",
       "      <td>MIS</td>\n",
       "      <td>NaN</td>\n",
       "      <td>NaN</td>\n",
       "      <td>NaN</td>\n",
       "      <td>NaN</td>\n",
       "      <td>NaN</td>\n",
       "      <td>NaN</td>\n",
       "    </tr>\n",
       "  </tbody>\n",
       "</table>\n",
       "</div>"
      ],
      "text/plain": [
       "   staff_name dept   age   salary age_group                     dept_name  \\\n",
       "0     Thomson  MIS  40.0  30000.0         M  Managemet Information System   \n",
       "1         Tsz  MIS  50.0  20000.0         M  Managemet Information System   \n",
       "6     Thomson  MIS  40.0  30000.0         M  Managemet Information System   \n",
       "7         Tsz  MIS  50.0  20000.0         M  Managemet Information System   \n",
       "14        Kin  MIS   NaN      NaN       NaN                           NaN   \n",
       "\n",
       "    dept_head office_loc  \n",
       "0   Peter Lau        NaN  \n",
       "1   Peter Lau        NaN  \n",
       "6   Peter Lau        NaN  \n",
       "7   Peter Lau        NaN  \n",
       "14        NaN        NaN  "
      ]
     },
     "execution_count": 237,
     "metadata": {},
     "output_type": "execute_result"
    }
   ],
   "source": [
    "staff_df14[staff_df14[\"dept\"]==\"MIS\"]"
   ]
  },
  {
   "cell_type": "code",
   "execution_count": 238,
   "id": "aa0c6e9b",
   "metadata": {},
   "outputs": [
    {
     "data": {
      "text/html": [
       "<div>\n",
       "<style scoped>\n",
       "    .dataframe tbody tr th:only-of-type {\n",
       "        vertical-align: middle;\n",
       "    }\n",
       "\n",
       "    .dataframe tbody tr th {\n",
       "        vertical-align: top;\n",
       "    }\n",
       "\n",
       "    .dataframe thead th {\n",
       "        text-align: right;\n",
       "    }\n",
       "</style>\n",
       "<table border=\"1\" class=\"dataframe\">\n",
       "  <thead>\n",
       "    <tr style=\"text-align: right;\">\n",
       "      <th></th>\n",
       "      <th>staff_name</th>\n",
       "      <th>salary</th>\n",
       "      <th>dept_head</th>\n",
       "    </tr>\n",
       "  </thead>\n",
       "  <tbody>\n",
       "    <tr>\n",
       "      <th>0</th>\n",
       "      <td>Thomson</td>\n",
       "      <td>30000.0</td>\n",
       "      <td>Peter Lau</td>\n",
       "    </tr>\n",
       "    <tr>\n",
       "      <th>1</th>\n",
       "      <td>Tsz</td>\n",
       "      <td>20000.0</td>\n",
       "      <td>Peter Lau</td>\n",
       "    </tr>\n",
       "    <tr>\n",
       "      <th>6</th>\n",
       "      <td>Thomson</td>\n",
       "      <td>30000.0</td>\n",
       "      <td>Peter Lau</td>\n",
       "    </tr>\n",
       "    <tr>\n",
       "      <th>7</th>\n",
       "      <td>Tsz</td>\n",
       "      <td>20000.0</td>\n",
       "      <td>Peter Lau</td>\n",
       "    </tr>\n",
       "    <tr>\n",
       "      <th>14</th>\n",
       "      <td>Kin</td>\n",
       "      <td>NaN</td>\n",
       "      <td>NaN</td>\n",
       "    </tr>\n",
       "  </tbody>\n",
       "</table>\n",
       "</div>"
      ],
      "text/plain": [
       "   staff_name   salary  dept_head\n",
       "0     Thomson  30000.0  Peter Lau\n",
       "1         Tsz  20000.0  Peter Lau\n",
       "6     Thomson  30000.0  Peter Lau\n",
       "7         Tsz  20000.0  Peter Lau\n",
       "14        Kin      NaN        NaN"
      ]
     },
     "execution_count": 238,
     "metadata": {},
     "output_type": "execute_result"
    }
   ],
   "source": [
    "staff_df14[staff_df14[\"dept\"]==\"MIS\"][[\"staff_name\",\"salary\",\"dept_head\"]]\n",
    "# select staff_name, salary, dept_head from staff_df14 where dept='MIS'"
   ]
  },
  {
   "cell_type": "code",
   "execution_count": 239,
   "id": "57398fc1",
   "metadata": {},
   "outputs": [
    {
     "data": {
      "text/html": [
       "<div>\n",
       "<style scoped>\n",
       "    .dataframe tbody tr th:only-of-type {\n",
       "        vertical-align: middle;\n",
       "    }\n",
       "\n",
       "    .dataframe tbody tr th {\n",
       "        vertical-align: top;\n",
       "    }\n",
       "\n",
       "    .dataframe thead th {\n",
       "        text-align: right;\n",
       "    }\n",
       "</style>\n",
       "<table border=\"1\" class=\"dataframe\">\n",
       "  <thead>\n",
       "    <tr style=\"text-align: right;\">\n",
       "      <th></th>\n",
       "      <th>staff_name</th>\n",
       "      <th>dept</th>\n",
       "      <th>age</th>\n",
       "      <th>salary</th>\n",
       "      <th>age_group</th>\n",
       "      <th>dept_name</th>\n",
       "      <th>dept_head</th>\n",
       "      <th>office_loc</th>\n",
       "    </tr>\n",
       "  </thead>\n",
       "  <tbody>\n",
       "    <tr>\n",
       "      <th>0</th>\n",
       "      <td>Thomson</td>\n",
       "      <td>MIS</td>\n",
       "      <td>40.0</td>\n",
       "      <td>30000.0</td>\n",
       "      <td>M</td>\n",
       "      <td>Managemet Information System</td>\n",
       "      <td>Peter Lau</td>\n",
       "      <td>NaN</td>\n",
       "    </tr>\n",
       "    <tr>\n",
       "      <th>1</th>\n",
       "      <td>Tsz</td>\n",
       "      <td>MIS</td>\n",
       "      <td>50.0</td>\n",
       "      <td>20000.0</td>\n",
       "      <td>M</td>\n",
       "      <td>Managemet Information System</td>\n",
       "      <td>Peter Lau</td>\n",
       "      <td>NaN</td>\n",
       "    </tr>\n",
       "    <tr>\n",
       "      <th>6</th>\n",
       "      <td>Thomson</td>\n",
       "      <td>MIS</td>\n",
       "      <td>40.0</td>\n",
       "      <td>30000.0</td>\n",
       "      <td>M</td>\n",
       "      <td>Managemet Information System</td>\n",
       "      <td>Peter Lau</td>\n",
       "      <td>NaN</td>\n",
       "    </tr>\n",
       "    <tr>\n",
       "      <th>7</th>\n",
       "      <td>Tsz</td>\n",
       "      <td>MIS</td>\n",
       "      <td>50.0</td>\n",
       "      <td>20000.0</td>\n",
       "      <td>M</td>\n",
       "      <td>Managemet Information System</td>\n",
       "      <td>Peter Lau</td>\n",
       "      <td>NaN</td>\n",
       "    </tr>\n",
       "    <tr>\n",
       "      <th>14</th>\n",
       "      <td>Kin</td>\n",
       "      <td>MIS</td>\n",
       "      <td>NaN</td>\n",
       "      <td>NaN</td>\n",
       "      <td>NaN</td>\n",
       "      <td>NaN</td>\n",
       "      <td>NaN</td>\n",
       "      <td>NaN</td>\n",
       "    </tr>\n",
       "  </tbody>\n",
       "</table>\n",
       "</div>"
      ],
      "text/plain": [
       "   staff_name dept   age   salary age_group                     dept_name  \\\n",
       "0     Thomson  MIS  40.0  30000.0         M  Managemet Information System   \n",
       "1         Tsz  MIS  50.0  20000.0         M  Managemet Information System   \n",
       "6     Thomson  MIS  40.0  30000.0         M  Managemet Information System   \n",
       "7         Tsz  MIS  50.0  20000.0         M  Managemet Information System   \n",
       "14        Kin  MIS   NaN      NaN       NaN                           NaN   \n",
       "\n",
       "    dept_head office_loc  \n",
       "0   Peter Lau        NaN  \n",
       "1   Peter Lau        NaN  \n",
       "6   Peter Lau        NaN  \n",
       "7   Peter Lau        NaN  \n",
       "14        NaN        NaN  "
      ]
     },
     "execution_count": 239,
     "metadata": {},
     "output_type": "execute_result"
    }
   ],
   "source": [
    "grouped=staff_df14.groupby([\"dept\"])\n",
    "grouped.get_group(\"MIS\")"
   ]
  },
  {
   "cell_type": "code",
   "execution_count": 240,
   "id": "957ca9e3",
   "metadata": {},
   "outputs": [
    {
     "data": {
      "text/html": [
       "<div>\n",
       "<style scoped>\n",
       "    .dataframe tbody tr th:only-of-type {\n",
       "        vertical-align: middle;\n",
       "    }\n",
       "\n",
       "    .dataframe tbody tr th {\n",
       "        vertical-align: top;\n",
       "    }\n",
       "\n",
       "    .dataframe thead th {\n",
       "        text-align: right;\n",
       "    }\n",
       "</style>\n",
       "<table border=\"1\" class=\"dataframe\">\n",
       "  <thead>\n",
       "    <tr style=\"text-align: right;\">\n",
       "      <th></th>\n",
       "      <th>staff_name</th>\n",
       "      <th>dept</th>\n",
       "      <th>age</th>\n",
       "      <th>salary</th>\n",
       "      <th>age_group</th>\n",
       "      <th>dept_name</th>\n",
       "      <th>dept_head</th>\n",
       "      <th>office_loc</th>\n",
       "    </tr>\n",
       "  </thead>\n",
       "  <tbody>\n",
       "    <tr>\n",
       "      <th>0</th>\n",
       "      <td>Thomson</td>\n",
       "      <td>MIS</td>\n",
       "      <td>40.0</td>\n",
       "      <td>30000.0</td>\n",
       "      <td>M</td>\n",
       "      <td>Managemet Information System</td>\n",
       "      <td>Peter Lau</td>\n",
       "      <td>NaN</td>\n",
       "    </tr>\n",
       "    <tr>\n",
       "      <th>1</th>\n",
       "      <td>Tsz</td>\n",
       "      <td>MIS</td>\n",
       "      <td>50.0</td>\n",
       "      <td>20000.0</td>\n",
       "      <td>M</td>\n",
       "      <td>Managemet Information System</td>\n",
       "      <td>Peter Lau</td>\n",
       "      <td>NaN</td>\n",
       "    </tr>\n",
       "    <tr>\n",
       "      <th>6</th>\n",
       "      <td>Thomson</td>\n",
       "      <td>MIS</td>\n",
       "      <td>40.0</td>\n",
       "      <td>30000.0</td>\n",
       "      <td>M</td>\n",
       "      <td>Managemet Information System</td>\n",
       "      <td>Peter Lau</td>\n",
       "      <td>NaN</td>\n",
       "    </tr>\n",
       "    <tr>\n",
       "      <th>7</th>\n",
       "      <td>Tsz</td>\n",
       "      <td>MIS</td>\n",
       "      <td>50.0</td>\n",
       "      <td>20000.0</td>\n",
       "      <td>M</td>\n",
       "      <td>Managemet Information System</td>\n",
       "      <td>Peter Lau</td>\n",
       "      <td>NaN</td>\n",
       "    </tr>\n",
       "    <tr>\n",
       "      <th>14</th>\n",
       "      <td>Kin</td>\n",
       "      <td>MIS</td>\n",
       "      <td>NaN</td>\n",
       "      <td>NaN</td>\n",
       "      <td>NaN</td>\n",
       "      <td>NaN</td>\n",
       "      <td>NaN</td>\n",
       "      <td>NaN</td>\n",
       "    </tr>\n",
       "  </tbody>\n",
       "</table>\n",
       "</div>"
      ],
      "text/plain": [
       "   staff_name dept   age   salary age_group                     dept_name  \\\n",
       "0     Thomson  MIS  40.0  30000.0         M  Managemet Information System   \n",
       "1         Tsz  MIS  50.0  20000.0         M  Managemet Information System   \n",
       "6     Thomson  MIS  40.0  30000.0         M  Managemet Information System   \n",
       "7         Tsz  MIS  50.0  20000.0         M  Managemet Information System   \n",
       "14        Kin  MIS   NaN      NaN       NaN                           NaN   \n",
       "\n",
       "    dept_head office_loc  \n",
       "0   Peter Lau        NaN  \n",
       "1   Peter Lau        NaN  \n",
       "6   Peter Lau        NaN  \n",
       "7   Peter Lau        NaN  \n",
       "14        NaN        NaN  "
      ]
     },
     "execution_count": 240,
     "metadata": {},
     "output_type": "execute_result"
    }
   ],
   "source": [
    "staff_df14.groupby([\"dept\"]).get_group(\"MIS\")"
   ]
  },
  {
   "cell_type": "code",
   "execution_count": 241,
   "id": "a3b24701",
   "metadata": {},
   "outputs": [
    {
     "data": {
      "text/html": [
       "<div>\n",
       "<style scoped>\n",
       "    .dataframe tbody tr th:only-of-type {\n",
       "        vertical-align: middle;\n",
       "    }\n",
       "\n",
       "    .dataframe tbody tr th {\n",
       "        vertical-align: top;\n",
       "    }\n",
       "\n",
       "    .dataframe thead th {\n",
       "        text-align: right;\n",
       "    }\n",
       "</style>\n",
       "<table border=\"1\" class=\"dataframe\">\n",
       "  <thead>\n",
       "    <tr style=\"text-align: right;\">\n",
       "      <th></th>\n",
       "      <th>staff_name</th>\n",
       "      <th>dept</th>\n",
       "      <th>age</th>\n",
       "      <th>salary</th>\n",
       "      <th>age_group</th>\n",
       "      <th>dept_name</th>\n",
       "      <th>dept_head</th>\n",
       "      <th>office_loc</th>\n",
       "    </tr>\n",
       "  </thead>\n",
       "  <tbody>\n",
       "    <tr>\n",
       "      <th>4</th>\n",
       "      <td>Pauline</td>\n",
       "      <td>Finance</td>\n",
       "      <td>30.0</td>\n",
       "      <td>25000.0</td>\n",
       "      <td>Y</td>\n",
       "      <td>Finance and Admin</td>\n",
       "      <td>Jennifer Chan</td>\n",
       "      <td>NaN</td>\n",
       "    </tr>\n",
       "    <tr>\n",
       "      <th>5</th>\n",
       "      <td>Kitty</td>\n",
       "      <td>Finance</td>\n",
       "      <td>35.0</td>\n",
       "      <td>10000.0</td>\n",
       "      <td>Y</td>\n",
       "      <td>Finance and Admin</td>\n",
       "      <td>Jennifer Chan</td>\n",
       "      <td>NaN</td>\n",
       "    </tr>\n",
       "    <tr>\n",
       "      <th>10</th>\n",
       "      <td>Pauline</td>\n",
       "      <td>Finance</td>\n",
       "      <td>30.0</td>\n",
       "      <td>25000.0</td>\n",
       "      <td>NaN</td>\n",
       "      <td>NaN</td>\n",
       "      <td>NaN</td>\n",
       "      <td>NaN</td>\n",
       "    </tr>\n",
       "    <tr>\n",
       "      <th>11</th>\n",
       "      <td>Kitty</td>\n",
       "      <td>Finance</td>\n",
       "      <td>35.0</td>\n",
       "      <td>10000.0</td>\n",
       "      <td>Y</td>\n",
       "      <td>Finance and Admin</td>\n",
       "      <td>Jennifer Chan</td>\n",
       "      <td>NaN</td>\n",
       "    </tr>\n",
       "    <tr>\n",
       "      <th>13</th>\n",
       "      <td>Florence</td>\n",
       "      <td>Finance</td>\n",
       "      <td>NaN</td>\n",
       "      <td>NaN</td>\n",
       "      <td>NaN</td>\n",
       "      <td>NaN</td>\n",
       "      <td>NaN</td>\n",
       "      <td>HK Island</td>\n",
       "    </tr>\n",
       "  </tbody>\n",
       "</table>\n",
       "</div>"
      ],
      "text/plain": [
       "   staff_name     dept   age   salary age_group          dept_name  \\\n",
       "4     Pauline  Finance  30.0  25000.0         Y  Finance and Admin   \n",
       "5       Kitty  Finance  35.0  10000.0         Y  Finance and Admin   \n",
       "10    Pauline  Finance  30.0  25000.0       NaN                NaN   \n",
       "11      Kitty  Finance  35.0  10000.0         Y  Finance and Admin   \n",
       "13   Florence  Finance   NaN      NaN       NaN                NaN   \n",
       "\n",
       "        dept_head office_loc  \n",
       "4   Jennifer Chan        NaN  \n",
       "5   Jennifer Chan        NaN  \n",
       "10            NaN        NaN  \n",
       "11  Jennifer Chan        NaN  \n",
       "13            NaN  HK Island  "
      ]
     },
     "execution_count": 241,
     "metadata": {},
     "output_type": "execute_result"
    }
   ],
   "source": [
    "staff_df14.groupby([\"dept\"]).get_group(\"Finance\")"
   ]
  },
  {
   "cell_type": "code",
   "execution_count": 242,
   "id": "5b5e7bea",
   "metadata": {},
   "outputs": [
    {
     "data": {
      "text/html": [
       "<div>\n",
       "<style scoped>\n",
       "    .dataframe tbody tr th:only-of-type {\n",
       "        vertical-align: middle;\n",
       "    }\n",
       "\n",
       "    .dataframe tbody tr th {\n",
       "        vertical-align: top;\n",
       "    }\n",
       "\n",
       "    .dataframe thead th {\n",
       "        text-align: right;\n",
       "    }\n",
       "</style>\n",
       "<table border=\"1\" class=\"dataframe\">\n",
       "  <thead>\n",
       "    <tr style=\"text-align: right;\">\n",
       "      <th></th>\n",
       "      <th>staff_name</th>\n",
       "      <th>dept</th>\n",
       "      <th>age</th>\n",
       "      <th>salary</th>\n",
       "      <th>age_group</th>\n",
       "      <th>dept_name</th>\n",
       "      <th>dept_head</th>\n",
       "      <th>office_loc</th>\n",
       "    </tr>\n",
       "  </thead>\n",
       "  <tbody>\n",
       "    <tr>\n",
       "      <th>2</th>\n",
       "      <td>Eddie</td>\n",
       "      <td>WOM</td>\n",
       "      <td>60.0</td>\n",
       "      <td>35000.0</td>\n",
       "      <td>M</td>\n",
       "      <td>Work Order Management</td>\n",
       "      <td>Tomy Yip</td>\n",
       "      <td>NaN</td>\n",
       "    </tr>\n",
       "    <tr>\n",
       "      <th>3</th>\n",
       "      <td>Bonnie</td>\n",
       "      <td>WOM</td>\n",
       "      <td>20.0</td>\n",
       "      <td>40000.0</td>\n",
       "      <td>Y</td>\n",
       "      <td>Work Order Management</td>\n",
       "      <td>Tomy Yip</td>\n",
       "      <td>NaN</td>\n",
       "    </tr>\n",
       "    <tr>\n",
       "      <th>8</th>\n",
       "      <td>Eddie</td>\n",
       "      <td>WOM</td>\n",
       "      <td>60.0</td>\n",
       "      <td>35000.0</td>\n",
       "      <td>M</td>\n",
       "      <td>Work Order Management</td>\n",
       "      <td>Tomy Yip</td>\n",
       "      <td>NaN</td>\n",
       "    </tr>\n",
       "    <tr>\n",
       "      <th>9</th>\n",
       "      <td>Bonnie</td>\n",
       "      <td>WOM</td>\n",
       "      <td>20.0</td>\n",
       "      <td>40000.0</td>\n",
       "      <td>Y</td>\n",
       "      <td>Work Order Management</td>\n",
       "      <td>Tomy Yip</td>\n",
       "      <td>NaN</td>\n",
       "    </tr>\n",
       "    <tr>\n",
       "      <th>12</th>\n",
       "      <td>Sam</td>\n",
       "      <td>WOM</td>\n",
       "      <td>NaN</td>\n",
       "      <td>NaN</td>\n",
       "      <td>NaN</td>\n",
       "      <td>NaN</td>\n",
       "      <td>NaN</td>\n",
       "      <td>Kowloon</td>\n",
       "    </tr>\n",
       "  </tbody>\n",
       "</table>\n",
       "</div>"
      ],
      "text/plain": [
       "   staff_name dept   age   salary age_group              dept_name dept_head  \\\n",
       "2       Eddie  WOM  60.0  35000.0         M  Work Order Management  Tomy Yip   \n",
       "3      Bonnie  WOM  20.0  40000.0         Y  Work Order Management  Tomy Yip   \n",
       "8       Eddie  WOM  60.0  35000.0         M  Work Order Management  Tomy Yip   \n",
       "9      Bonnie  WOM  20.0  40000.0         Y  Work Order Management  Tomy Yip   \n",
       "12        Sam  WOM   NaN      NaN       NaN                    NaN       NaN   \n",
       "\n",
       "   office_loc  \n",
       "2         NaN  \n",
       "3         NaN  \n",
       "8         NaN  \n",
       "9         NaN  \n",
       "12    Kowloon  "
      ]
     },
     "execution_count": 242,
     "metadata": {},
     "output_type": "execute_result"
    }
   ],
   "source": [
    "staff_df14.groupby([\"dept\"]).get_group(\"WOM\")"
   ]
  },
  {
   "cell_type": "code",
   "execution_count": 243,
   "id": "ae2087ec",
   "metadata": {},
   "outputs": [
    {
     "data": {
      "text/html": [
       "<div>\n",
       "<style scoped>\n",
       "    .dataframe tbody tr th:only-of-type {\n",
       "        vertical-align: middle;\n",
       "    }\n",
       "\n",
       "    .dataframe tbody tr th {\n",
       "        vertical-align: top;\n",
       "    }\n",
       "\n",
       "    .dataframe thead th {\n",
       "        text-align: right;\n",
       "    }\n",
       "</style>\n",
       "<table border=\"1\" class=\"dataframe\">\n",
       "  <thead>\n",
       "    <tr style=\"text-align: right;\">\n",
       "      <th></th>\n",
       "      <th>staff_name</th>\n",
       "      <th>dept</th>\n",
       "      <th>age</th>\n",
       "      <th>salary</th>\n",
       "      <th>age_group</th>\n",
       "      <th>dept_name</th>\n",
       "      <th>dept_head</th>\n",
       "      <th>office_loc</th>\n",
       "    </tr>\n",
       "  </thead>\n",
       "  <tbody>\n",
       "    <tr>\n",
       "      <th>2</th>\n",
       "      <td>Eddie</td>\n",
       "      <td>WOM</td>\n",
       "      <td>60.0</td>\n",
       "      <td>35000.0</td>\n",
       "      <td>M</td>\n",
       "      <td>Work Order Management</td>\n",
       "      <td>Tomy Yip</td>\n",
       "      <td>NaN</td>\n",
       "    </tr>\n",
       "    <tr>\n",
       "      <th>3</th>\n",
       "      <td>Bonnie</td>\n",
       "      <td>WOM</td>\n",
       "      <td>20.0</td>\n",
       "      <td>40000.0</td>\n",
       "      <td>Y</td>\n",
       "      <td>Work Order Management</td>\n",
       "      <td>Tomy Yip</td>\n",
       "      <td>NaN</td>\n",
       "    </tr>\n",
       "    <tr>\n",
       "      <th>8</th>\n",
       "      <td>Eddie</td>\n",
       "      <td>WOM</td>\n",
       "      <td>60.0</td>\n",
       "      <td>35000.0</td>\n",
       "      <td>M</td>\n",
       "      <td>Work Order Management</td>\n",
       "      <td>Tomy Yip</td>\n",
       "      <td>NaN</td>\n",
       "    </tr>\n",
       "    <tr>\n",
       "      <th>9</th>\n",
       "      <td>Bonnie</td>\n",
       "      <td>WOM</td>\n",
       "      <td>20.0</td>\n",
       "      <td>40000.0</td>\n",
       "      <td>Y</td>\n",
       "      <td>Work Order Management</td>\n",
       "      <td>Tomy Yip</td>\n",
       "      <td>NaN</td>\n",
       "    </tr>\n",
       "    <tr>\n",
       "      <th>12</th>\n",
       "      <td>Sam</td>\n",
       "      <td>WOM</td>\n",
       "      <td>NaN</td>\n",
       "      <td>NaN</td>\n",
       "      <td>NaN</td>\n",
       "      <td>NaN</td>\n",
       "      <td>NaN</td>\n",
       "      <td>Kowloon</td>\n",
       "    </tr>\n",
       "  </tbody>\n",
       "</table>\n",
       "</div>"
      ],
      "text/plain": [
       "   staff_name dept   age   salary age_group              dept_name dept_head  \\\n",
       "2       Eddie  WOM  60.0  35000.0         M  Work Order Management  Tomy Yip   \n",
       "3      Bonnie  WOM  20.0  40000.0         Y  Work Order Management  Tomy Yip   \n",
       "8       Eddie  WOM  60.0  35000.0         M  Work Order Management  Tomy Yip   \n",
       "9      Bonnie  WOM  20.0  40000.0         Y  Work Order Management  Tomy Yip   \n",
       "12        Sam  WOM   NaN      NaN       NaN                    NaN       NaN   \n",
       "\n",
       "   office_loc  \n",
       "2         NaN  \n",
       "3         NaN  \n",
       "8         NaN  \n",
       "9         NaN  \n",
       "12    Kowloon  "
      ]
     },
     "execution_count": 243,
     "metadata": {},
     "output_type": "execute_result"
    }
   ],
   "source": [
    "staff_df14[staff_df14[\"dept\"]==\"WOM\"]\n",
    "# staff_df14.groupby([\"dept\"]).get_group(\"WOM\") same "
   ]
  },
  {
   "cell_type": "code",
   "execution_count": 244,
   "id": "3c2139be",
   "metadata": {},
   "outputs": [
    {
     "name": "stdout",
     "output_type": "stream",
     "text": [
      "MIS\n",
      "WOM\n",
      "Finance\n"
     ]
    }
   ],
   "source": [
    "for dname in staff_df14['dept'].unique():\n",
    "    print(dname)\n",
    "# select distinct dept from staff_df14 "
   ]
  },
  {
   "cell_type": "code",
   "execution_count": 245,
   "id": "7d2e358c",
   "metadata": {},
   "outputs": [
    {
     "data": {
      "text/plain": [
       "array(['MIS', 'WOM', 'Finance'], dtype=object)"
      ]
     },
     "execution_count": 245,
     "metadata": {},
     "output_type": "execute_result"
    }
   ],
   "source": [
    "staff_df14['dept'].unique()"
   ]
  },
  {
   "cell_type": "code",
   "execution_count": 246,
   "id": "5f2a6555",
   "metadata": {},
   "outputs": [
    {
     "data": {
      "text/html": [
       "<div>\n",
       "<style scoped>\n",
       "    .dataframe tbody tr th:only-of-type {\n",
       "        vertical-align: middle;\n",
       "    }\n",
       "\n",
       "    .dataframe tbody tr th {\n",
       "        vertical-align: top;\n",
       "    }\n",
       "\n",
       "    .dataframe thead th {\n",
       "        text-align: right;\n",
       "    }\n",
       "</style>\n",
       "<table border=\"1\" class=\"dataframe\">\n",
       "  <thead>\n",
       "    <tr style=\"text-align: right;\">\n",
       "      <th></th>\n",
       "      <th>staff_name</th>\n",
       "      <th>dept</th>\n",
       "      <th>age</th>\n",
       "      <th>salary</th>\n",
       "      <th>age_group</th>\n",
       "      <th>dept_name</th>\n",
       "      <th>dept_head</th>\n",
       "      <th>office_loc</th>\n",
       "    </tr>\n",
       "  </thead>\n",
       "  <tbody>\n",
       "    <tr>\n",
       "      <th>0</th>\n",
       "      <td>Thomson</td>\n",
       "      <td>MIS</td>\n",
       "      <td>40.0</td>\n",
       "      <td>30000.0</td>\n",
       "      <td>M</td>\n",
       "      <td>Managemet Information System</td>\n",
       "      <td>Peter Lau</td>\n",
       "      <td>NaN</td>\n",
       "    </tr>\n",
       "    <tr>\n",
       "      <th>1</th>\n",
       "      <td>Tsz</td>\n",
       "      <td>MIS</td>\n",
       "      <td>50.0</td>\n",
       "      <td>20000.0</td>\n",
       "      <td>M</td>\n",
       "      <td>Managemet Information System</td>\n",
       "      <td>Peter Lau</td>\n",
       "      <td>NaN</td>\n",
       "    </tr>\n",
       "    <tr>\n",
       "      <th>6</th>\n",
       "      <td>Thomson</td>\n",
       "      <td>MIS</td>\n",
       "      <td>40.0</td>\n",
       "      <td>30000.0</td>\n",
       "      <td>M</td>\n",
       "      <td>Managemet Information System</td>\n",
       "      <td>Peter Lau</td>\n",
       "      <td>NaN</td>\n",
       "    </tr>\n",
       "    <tr>\n",
       "      <th>7</th>\n",
       "      <td>Tsz</td>\n",
       "      <td>MIS</td>\n",
       "      <td>50.0</td>\n",
       "      <td>20000.0</td>\n",
       "      <td>M</td>\n",
       "      <td>Managemet Information System</td>\n",
       "      <td>Peter Lau</td>\n",
       "      <td>NaN</td>\n",
       "    </tr>\n",
       "    <tr>\n",
       "      <th>14</th>\n",
       "      <td>Kin</td>\n",
       "      <td>MIS</td>\n",
       "      <td>NaN</td>\n",
       "      <td>NaN</td>\n",
       "      <td>NaN</td>\n",
       "      <td>NaN</td>\n",
       "      <td>NaN</td>\n",
       "      <td>NaN</td>\n",
       "    </tr>\n",
       "  </tbody>\n",
       "</table>\n",
       "</div>"
      ],
      "text/plain": [
       "   staff_name dept   age   salary age_group                     dept_name  \\\n",
       "0     Thomson  MIS  40.0  30000.0         M  Managemet Information System   \n",
       "1         Tsz  MIS  50.0  20000.0         M  Managemet Information System   \n",
       "6     Thomson  MIS  40.0  30000.0         M  Managemet Information System   \n",
       "7         Tsz  MIS  50.0  20000.0         M  Managemet Information System   \n",
       "14        Kin  MIS   NaN      NaN       NaN                           NaN   \n",
       "\n",
       "    dept_head office_loc  \n",
       "0   Peter Lau        NaN  \n",
       "1   Peter Lau        NaN  \n",
       "6   Peter Lau        NaN  \n",
       "7   Peter Lau        NaN  \n",
       "14        NaN        NaN  "
      ]
     },
     "execution_count": 246,
     "metadata": {},
     "output_type": "execute_result"
    }
   ],
   "source": [
    "staff_dept_list=[]\n",
    "for dname in staff_df14['dept'].unique():\n",
    "     staff_dept_list.append(staff_df14.groupby([\"dept\"]).get_group(dname))\n",
    "staff_dept_list[0]"
   ]
  },
  {
   "cell_type": "code",
   "execution_count": 247,
   "id": "0868aa59",
   "metadata": {},
   "outputs": [
    {
     "data": {
      "text/html": [
       "<div>\n",
       "<style scoped>\n",
       "    .dataframe tbody tr th:only-of-type {\n",
       "        vertical-align: middle;\n",
       "    }\n",
       "\n",
       "    .dataframe tbody tr th {\n",
       "        vertical-align: top;\n",
       "    }\n",
       "\n",
       "    .dataframe thead th {\n",
       "        text-align: right;\n",
       "    }\n",
       "</style>\n",
       "<table border=\"1\" class=\"dataframe\">\n",
       "  <thead>\n",
       "    <tr style=\"text-align: right;\">\n",
       "      <th></th>\n",
       "      <th>staff_name</th>\n",
       "      <th>dept</th>\n",
       "      <th>age</th>\n",
       "      <th>salary</th>\n",
       "      <th>age_group</th>\n",
       "      <th>dept_name</th>\n",
       "      <th>dept_head</th>\n",
       "      <th>office_loc</th>\n",
       "    </tr>\n",
       "  </thead>\n",
       "  <tbody>\n",
       "    <tr>\n",
       "      <th>2</th>\n",
       "      <td>Eddie</td>\n",
       "      <td>WOM</td>\n",
       "      <td>60.0</td>\n",
       "      <td>35000.0</td>\n",
       "      <td>M</td>\n",
       "      <td>Work Order Management</td>\n",
       "      <td>Tomy Yip</td>\n",
       "      <td>NaN</td>\n",
       "    </tr>\n",
       "    <tr>\n",
       "      <th>3</th>\n",
       "      <td>Bonnie</td>\n",
       "      <td>WOM</td>\n",
       "      <td>20.0</td>\n",
       "      <td>40000.0</td>\n",
       "      <td>Y</td>\n",
       "      <td>Work Order Management</td>\n",
       "      <td>Tomy Yip</td>\n",
       "      <td>NaN</td>\n",
       "    </tr>\n",
       "    <tr>\n",
       "      <th>8</th>\n",
       "      <td>Eddie</td>\n",
       "      <td>WOM</td>\n",
       "      <td>60.0</td>\n",
       "      <td>35000.0</td>\n",
       "      <td>M</td>\n",
       "      <td>Work Order Management</td>\n",
       "      <td>Tomy Yip</td>\n",
       "      <td>NaN</td>\n",
       "    </tr>\n",
       "    <tr>\n",
       "      <th>9</th>\n",
       "      <td>Bonnie</td>\n",
       "      <td>WOM</td>\n",
       "      <td>20.0</td>\n",
       "      <td>40000.0</td>\n",
       "      <td>Y</td>\n",
       "      <td>Work Order Management</td>\n",
       "      <td>Tomy Yip</td>\n",
       "      <td>NaN</td>\n",
       "    </tr>\n",
       "    <tr>\n",
       "      <th>12</th>\n",
       "      <td>Sam</td>\n",
       "      <td>WOM</td>\n",
       "      <td>NaN</td>\n",
       "      <td>NaN</td>\n",
       "      <td>NaN</td>\n",
       "      <td>NaN</td>\n",
       "      <td>NaN</td>\n",
       "      <td>Kowloon</td>\n",
       "    </tr>\n",
       "  </tbody>\n",
       "</table>\n",
       "</div>"
      ],
      "text/plain": [
       "   staff_name dept   age   salary age_group              dept_name dept_head  \\\n",
       "2       Eddie  WOM  60.0  35000.0         M  Work Order Management  Tomy Yip   \n",
       "3      Bonnie  WOM  20.0  40000.0         Y  Work Order Management  Tomy Yip   \n",
       "8       Eddie  WOM  60.0  35000.0         M  Work Order Management  Tomy Yip   \n",
       "9      Bonnie  WOM  20.0  40000.0         Y  Work Order Management  Tomy Yip   \n",
       "12        Sam  WOM   NaN      NaN       NaN                    NaN       NaN   \n",
       "\n",
       "   office_loc  \n",
       "2         NaN  \n",
       "3         NaN  \n",
       "8         NaN  \n",
       "9         NaN  \n",
       "12    Kowloon  "
      ]
     },
     "execution_count": 247,
     "metadata": {},
     "output_type": "execute_result"
    }
   ],
   "source": [
    "staff_dept_list={}\n",
    "for dname in staff_df14['dept'].unique():\n",
    "     staff_dept_list[dname]=staff_df14.groupby([\"dept\"]).get_group(dname)\n",
    "staff_dept_list[\"WOM\"]"
   ]
  },
  {
   "cell_type": "code",
   "execution_count": 248,
   "id": "22d307e9",
   "metadata": {},
   "outputs": [],
   "source": [
    "staff_df14=pd.concat([staff_df12,staff_df13],axis=1).reset_index(drop=True)"
   ]
  },
  {
   "cell_type": "code",
   "execution_count": 249,
   "id": "4f9b5791",
   "metadata": {},
   "outputs": [
    {
     "data": {
      "text/html": [
       "<div>\n",
       "<style scoped>\n",
       "    .dataframe tbody tr th:only-of-type {\n",
       "        vertical-align: middle;\n",
       "    }\n",
       "\n",
       "    .dataframe tbody tr th {\n",
       "        vertical-align: top;\n",
       "    }\n",
       "\n",
       "    .dataframe thead th {\n",
       "        text-align: right;\n",
       "    }\n",
       "</style>\n",
       "<table border=\"1\" class=\"dataframe\">\n",
       "  <thead>\n",
       "    <tr style=\"text-align: right;\">\n",
       "      <th></th>\n",
       "      <th>staff_name</th>\n",
       "      <th>dept</th>\n",
       "      <th>age</th>\n",
       "      <th>salary</th>\n",
       "      <th>age_group</th>\n",
       "      <th>dept_name</th>\n",
       "      <th>dept_head</th>\n",
       "      <th>office_loc</th>\n",
       "      <th>new_salary</th>\n",
       "    </tr>\n",
       "  </thead>\n",
       "  <tbody>\n",
       "    <tr>\n",
       "      <th>0</th>\n",
       "      <td>Thomson</td>\n",
       "      <td>MIS</td>\n",
       "      <td>40.0</td>\n",
       "      <td>30000.0</td>\n",
       "      <td>M</td>\n",
       "      <td>Managemet Information System</td>\n",
       "      <td>Peter Lau</td>\n",
       "      <td>NaN</td>\n",
       "      <td>34500.0</td>\n",
       "    </tr>\n",
       "    <tr>\n",
       "      <th>1</th>\n",
       "      <td>Tsz</td>\n",
       "      <td>MIS</td>\n",
       "      <td>50.0</td>\n",
       "      <td>20000.0</td>\n",
       "      <td>M</td>\n",
       "      <td>Managemet Information System</td>\n",
       "      <td>Peter Lau</td>\n",
       "      <td>NaN</td>\n",
       "      <td>23000.0</td>\n",
       "    </tr>\n",
       "    <tr>\n",
       "      <th>2</th>\n",
       "      <td>Eddie</td>\n",
       "      <td>WOM</td>\n",
       "      <td>60.0</td>\n",
       "      <td>35000.0</td>\n",
       "      <td>M</td>\n",
       "      <td>Work Order Management</td>\n",
       "      <td>Tomy Yip</td>\n",
       "      <td>NaN</td>\n",
       "      <td>40250.0</td>\n",
       "    </tr>\n",
       "    <tr>\n",
       "      <th>3</th>\n",
       "      <td>Bonnie</td>\n",
       "      <td>WOM</td>\n",
       "      <td>20.0</td>\n",
       "      <td>40000.0</td>\n",
       "      <td>Y</td>\n",
       "      <td>Work Order Management</td>\n",
       "      <td>Tomy Yip</td>\n",
       "      <td>NaN</td>\n",
       "      <td>46000.0</td>\n",
       "    </tr>\n",
       "    <tr>\n",
       "      <th>4</th>\n",
       "      <td>Pauline</td>\n",
       "      <td>Finance</td>\n",
       "      <td>30.0</td>\n",
       "      <td>25000.0</td>\n",
       "      <td>Y</td>\n",
       "      <td>Finance and Admin</td>\n",
       "      <td>Jennifer Chan</td>\n",
       "      <td>NaN</td>\n",
       "      <td>28750.0</td>\n",
       "    </tr>\n",
       "    <tr>\n",
       "      <th>5</th>\n",
       "      <td>Kitty</td>\n",
       "      <td>Finance</td>\n",
       "      <td>35.0</td>\n",
       "      <td>10000.0</td>\n",
       "      <td>Y</td>\n",
       "      <td>Finance and Admin</td>\n",
       "      <td>Jennifer Chan</td>\n",
       "      <td>NaN</td>\n",
       "      <td>11500.0</td>\n",
       "    </tr>\n",
       "    <tr>\n",
       "      <th>6</th>\n",
       "      <td>Thomson</td>\n",
       "      <td>MIS</td>\n",
       "      <td>40.0</td>\n",
       "      <td>30000.0</td>\n",
       "      <td>M</td>\n",
       "      <td>Managemet Information System</td>\n",
       "      <td>Peter Lau</td>\n",
       "      <td>NaN</td>\n",
       "      <td>34500.0</td>\n",
       "    </tr>\n",
       "    <tr>\n",
       "      <th>7</th>\n",
       "      <td>Tsz</td>\n",
       "      <td>MIS</td>\n",
       "      <td>50.0</td>\n",
       "      <td>20000.0</td>\n",
       "      <td>M</td>\n",
       "      <td>Managemet Information System</td>\n",
       "      <td>Peter Lau</td>\n",
       "      <td>NaN</td>\n",
       "      <td>23000.0</td>\n",
       "    </tr>\n",
       "    <tr>\n",
       "      <th>8</th>\n",
       "      <td>Eddie</td>\n",
       "      <td>WOM</td>\n",
       "      <td>60.0</td>\n",
       "      <td>35000.0</td>\n",
       "      <td>M</td>\n",
       "      <td>Work Order Management</td>\n",
       "      <td>Tomy Yip</td>\n",
       "      <td>NaN</td>\n",
       "      <td>40250.0</td>\n",
       "    </tr>\n",
       "    <tr>\n",
       "      <th>9</th>\n",
       "      <td>Bonnie</td>\n",
       "      <td>WOM</td>\n",
       "      <td>20.0</td>\n",
       "      <td>40000.0</td>\n",
       "      <td>Y</td>\n",
       "      <td>Work Order Management</td>\n",
       "      <td>Tomy Yip</td>\n",
       "      <td>NaN</td>\n",
       "      <td>46000.0</td>\n",
       "    </tr>\n",
       "    <tr>\n",
       "      <th>10</th>\n",
       "      <td>Pauline</td>\n",
       "      <td>Finance</td>\n",
       "      <td>30.0</td>\n",
       "      <td>25000.0</td>\n",
       "      <td>NaN</td>\n",
       "      <td>NaN</td>\n",
       "      <td>NaN</td>\n",
       "      <td>NaN</td>\n",
       "      <td>28750.0</td>\n",
       "    </tr>\n",
       "    <tr>\n",
       "      <th>11</th>\n",
       "      <td>Kitty</td>\n",
       "      <td>Finance</td>\n",
       "      <td>35.0</td>\n",
       "      <td>10000.0</td>\n",
       "      <td>Y</td>\n",
       "      <td>Finance and Admin</td>\n",
       "      <td>Jennifer Chan</td>\n",
       "      <td>NaN</td>\n",
       "      <td>11500.0</td>\n",
       "    </tr>\n",
       "    <tr>\n",
       "      <th>12</th>\n",
       "      <td>Sam</td>\n",
       "      <td>WOM</td>\n",
       "      <td>NaN</td>\n",
       "      <td>NaN</td>\n",
       "      <td>NaN</td>\n",
       "      <td>NaN</td>\n",
       "      <td>NaN</td>\n",
       "      <td>Kowloon</td>\n",
       "      <td>NaN</td>\n",
       "    </tr>\n",
       "    <tr>\n",
       "      <th>13</th>\n",
       "      <td>Florence</td>\n",
       "      <td>Finance</td>\n",
       "      <td>NaN</td>\n",
       "      <td>NaN</td>\n",
       "      <td>NaN</td>\n",
       "      <td>NaN</td>\n",
       "      <td>NaN</td>\n",
       "      <td>HK Island</td>\n",
       "      <td>NaN</td>\n",
       "    </tr>\n",
       "    <tr>\n",
       "      <th>14</th>\n",
       "      <td>Kin</td>\n",
       "      <td>MIS</td>\n",
       "      <td>NaN</td>\n",
       "      <td>NaN</td>\n",
       "      <td>NaN</td>\n",
       "      <td>NaN</td>\n",
       "      <td>NaN</td>\n",
       "      <td>NaN</td>\n",
       "      <td>NaN</td>\n",
       "    </tr>\n",
       "  </tbody>\n",
       "</table>\n",
       "</div>"
      ],
      "text/plain": [
       "   staff_name     dept   age   salary age_group                     dept_name  \\\n",
       "0     Thomson      MIS  40.0  30000.0         M  Managemet Information System   \n",
       "1         Tsz      MIS  50.0  20000.0         M  Managemet Information System   \n",
       "2       Eddie      WOM  60.0  35000.0         M         Work Order Management   \n",
       "3      Bonnie      WOM  20.0  40000.0         Y         Work Order Management   \n",
       "4     Pauline  Finance  30.0  25000.0         Y             Finance and Admin   \n",
       "5       Kitty  Finance  35.0  10000.0         Y             Finance and Admin   \n",
       "6     Thomson      MIS  40.0  30000.0         M  Managemet Information System   \n",
       "7         Tsz      MIS  50.0  20000.0         M  Managemet Information System   \n",
       "8       Eddie      WOM  60.0  35000.0         M         Work Order Management   \n",
       "9      Bonnie      WOM  20.0  40000.0         Y         Work Order Management   \n",
       "10    Pauline  Finance  30.0  25000.0       NaN                           NaN   \n",
       "11      Kitty  Finance  35.0  10000.0         Y             Finance and Admin   \n",
       "12        Sam      WOM   NaN      NaN       NaN                           NaN   \n",
       "13   Florence  Finance   NaN      NaN       NaN                           NaN   \n",
       "14        Kin      MIS   NaN      NaN       NaN                           NaN   \n",
       "\n",
       "        dept_head office_loc  new_salary  \n",
       "0       Peter Lau        NaN     34500.0  \n",
       "1       Peter Lau        NaN     23000.0  \n",
       "2        Tomy Yip        NaN     40250.0  \n",
       "3        Tomy Yip        NaN     46000.0  \n",
       "4   Jennifer Chan        NaN     28750.0  \n",
       "5   Jennifer Chan        NaN     11500.0  \n",
       "6       Peter Lau        NaN     34500.0  \n",
       "7       Peter Lau        NaN     23000.0  \n",
       "8        Tomy Yip        NaN     40250.0  \n",
       "9        Tomy Yip        NaN     46000.0  \n",
       "10            NaN        NaN     28750.0  \n",
       "11  Jennifer Chan        NaN     11500.0  \n",
       "12            NaN    Kowloon         NaN  \n",
       "13            NaN  HK Island         NaN  \n",
       "14            NaN        NaN         NaN  "
      ]
     },
     "execution_count": 249,
     "metadata": {},
     "output_type": "execute_result"
    }
   ],
   "source": [
    "# store function\n",
    "staff_df15=staff_df14.copy()\n",
    "def fn_ins_salary(s):\n",
    "    return s * 1.1500\n",
    "staff_df15['new_salary']=staff_df15['salary'].apply(fn_ins_salary)\n",
    "staff_df15"
   ]
  },
  {
   "cell_type": "code",
   "execution_count": 250,
   "id": "7dc49070",
   "metadata": {},
   "outputs": [
    {
     "data": {
      "text/html": [
       "<div>\n",
       "<style scoped>\n",
       "    .dataframe tbody tr th:only-of-type {\n",
       "        vertical-align: middle;\n",
       "    }\n",
       "\n",
       "    .dataframe tbody tr th {\n",
       "        vertical-align: top;\n",
       "    }\n",
       "\n",
       "    .dataframe thead th {\n",
       "        text-align: right;\n",
       "    }\n",
       "</style>\n",
       "<table border=\"1\" class=\"dataframe\">\n",
       "  <thead>\n",
       "    <tr style=\"text-align: right;\">\n",
       "      <th></th>\n",
       "      <th>staff_name</th>\n",
       "      <th>dept</th>\n",
       "      <th>age</th>\n",
       "      <th>salary</th>\n",
       "      <th>age_group</th>\n",
       "      <th>dept_name</th>\n",
       "      <th>dept_head</th>\n",
       "      <th>office_loc</th>\n",
       "    </tr>\n",
       "  </thead>\n",
       "  <tbody>\n",
       "    <tr>\n",
       "      <th>0</th>\n",
       "      <td>Thomson</td>\n",
       "      <td>MIS</td>\n",
       "      <td>40.0</td>\n",
       "      <td>30000.0</td>\n",
       "      <td>M</td>\n",
       "      <td>Managemet Information System</td>\n",
       "      <td>Peter Lau</td>\n",
       "      <td>NaN</td>\n",
       "    </tr>\n",
       "    <tr>\n",
       "      <th>1</th>\n",
       "      <td>Tsz</td>\n",
       "      <td>MIS</td>\n",
       "      <td>50.0</td>\n",
       "      <td>20000.0</td>\n",
       "      <td>M</td>\n",
       "      <td>Managemet Information System</td>\n",
       "      <td>Peter Lau</td>\n",
       "      <td>NaN</td>\n",
       "    </tr>\n",
       "    <tr>\n",
       "      <th>2</th>\n",
       "      <td>Eddie</td>\n",
       "      <td>WOM</td>\n",
       "      <td>60.0</td>\n",
       "      <td>35000.0</td>\n",
       "      <td>M</td>\n",
       "      <td>Work Order Management</td>\n",
       "      <td>Tomy Yip</td>\n",
       "      <td>NaN</td>\n",
       "    </tr>\n",
       "    <tr>\n",
       "      <th>3</th>\n",
       "      <td>Bonnie</td>\n",
       "      <td>WOM</td>\n",
       "      <td>20.0</td>\n",
       "      <td>40000.0</td>\n",
       "      <td>Y</td>\n",
       "      <td>Work Order Management</td>\n",
       "      <td>Tomy Yip</td>\n",
       "      <td>NaN</td>\n",
       "    </tr>\n",
       "    <tr>\n",
       "      <th>4</th>\n",
       "      <td>Pauline</td>\n",
       "      <td>Finance</td>\n",
       "      <td>30.0</td>\n",
       "      <td>25000.0</td>\n",
       "      <td>Y</td>\n",
       "      <td>Finance and Admin</td>\n",
       "      <td>Jennifer Chan</td>\n",
       "      <td>NaN</td>\n",
       "    </tr>\n",
       "    <tr>\n",
       "      <th>5</th>\n",
       "      <td>Kitty</td>\n",
       "      <td>Finance</td>\n",
       "      <td>35.0</td>\n",
       "      <td>10000.0</td>\n",
       "      <td>Y</td>\n",
       "      <td>Finance and Admin</td>\n",
       "      <td>Jennifer Chan</td>\n",
       "      <td>NaN</td>\n",
       "    </tr>\n",
       "    <tr>\n",
       "      <th>6</th>\n",
       "      <td>Thomson</td>\n",
       "      <td>MIS</td>\n",
       "      <td>40.0</td>\n",
       "      <td>30000.0</td>\n",
       "      <td>M</td>\n",
       "      <td>Managemet Information System</td>\n",
       "      <td>Peter Lau</td>\n",
       "      <td>NaN</td>\n",
       "    </tr>\n",
       "    <tr>\n",
       "      <th>7</th>\n",
       "      <td>Tsz</td>\n",
       "      <td>MIS</td>\n",
       "      <td>50.0</td>\n",
       "      <td>20000.0</td>\n",
       "      <td>M</td>\n",
       "      <td>Managemet Information System</td>\n",
       "      <td>Peter Lau</td>\n",
       "      <td>NaN</td>\n",
       "    </tr>\n",
       "    <tr>\n",
       "      <th>8</th>\n",
       "      <td>Eddie</td>\n",
       "      <td>WOM</td>\n",
       "      <td>60.0</td>\n",
       "      <td>35000.0</td>\n",
       "      <td>M</td>\n",
       "      <td>Work Order Management</td>\n",
       "      <td>Tomy Yip</td>\n",
       "      <td>NaN</td>\n",
       "    </tr>\n",
       "    <tr>\n",
       "      <th>9</th>\n",
       "      <td>Bonnie</td>\n",
       "      <td>WOM</td>\n",
       "      <td>20.0</td>\n",
       "      <td>40000.0</td>\n",
       "      <td>Y</td>\n",
       "      <td>Work Order Management</td>\n",
       "      <td>Tomy Yip</td>\n",
       "      <td>NaN</td>\n",
       "    </tr>\n",
       "    <tr>\n",
       "      <th>10</th>\n",
       "      <td>Pauline</td>\n",
       "      <td>Finance</td>\n",
       "      <td>30.0</td>\n",
       "      <td>25000.0</td>\n",
       "      <td>NaN</td>\n",
       "      <td>NaN</td>\n",
       "      <td>NaN</td>\n",
       "      <td>NaN</td>\n",
       "    </tr>\n",
       "    <tr>\n",
       "      <th>11</th>\n",
       "      <td>Kitty</td>\n",
       "      <td>Finance</td>\n",
       "      <td>35.0</td>\n",
       "      <td>10000.0</td>\n",
       "      <td>Y</td>\n",
       "      <td>Finance and Admin</td>\n",
       "      <td>Jennifer Chan</td>\n",
       "      <td>NaN</td>\n",
       "    </tr>\n",
       "    <tr>\n",
       "      <th>12</th>\n",
       "      <td>Sam</td>\n",
       "      <td>WOM</td>\n",
       "      <td>NaN</td>\n",
       "      <td>NaN</td>\n",
       "      <td>NaN</td>\n",
       "      <td>NaN</td>\n",
       "      <td>NaN</td>\n",
       "      <td>Kowloon</td>\n",
       "    </tr>\n",
       "    <tr>\n",
       "      <th>13</th>\n",
       "      <td>Florence</td>\n",
       "      <td>Finance</td>\n",
       "      <td>NaN</td>\n",
       "      <td>NaN</td>\n",
       "      <td>NaN</td>\n",
       "      <td>NaN</td>\n",
       "      <td>NaN</td>\n",
       "      <td>HK Island</td>\n",
       "    </tr>\n",
       "    <tr>\n",
       "      <th>14</th>\n",
       "      <td>Kin</td>\n",
       "      <td>MIS</td>\n",
       "      <td>NaN</td>\n",
       "      <td>NaN</td>\n",
       "      <td>NaN</td>\n",
       "      <td>NaN</td>\n",
       "      <td>NaN</td>\n",
       "      <td>NaN</td>\n",
       "    </tr>\n",
       "  </tbody>\n",
       "</table>\n",
       "</div>"
      ],
      "text/plain": [
       "   staff_name     dept   age   salary age_group                     dept_name  \\\n",
       "0     Thomson      MIS  40.0  30000.0         M  Managemet Information System   \n",
       "1         Tsz      MIS  50.0  20000.0         M  Managemet Information System   \n",
       "2       Eddie      WOM  60.0  35000.0         M         Work Order Management   \n",
       "3      Bonnie      WOM  20.0  40000.0         Y         Work Order Management   \n",
       "4     Pauline  Finance  30.0  25000.0         Y             Finance and Admin   \n",
       "5       Kitty  Finance  35.0  10000.0         Y             Finance and Admin   \n",
       "6     Thomson      MIS  40.0  30000.0         M  Managemet Information System   \n",
       "7         Tsz      MIS  50.0  20000.0         M  Managemet Information System   \n",
       "8       Eddie      WOM  60.0  35000.0         M         Work Order Management   \n",
       "9      Bonnie      WOM  20.0  40000.0         Y         Work Order Management   \n",
       "10    Pauline  Finance  30.0  25000.0       NaN                           NaN   \n",
       "11      Kitty  Finance  35.0  10000.0         Y             Finance and Admin   \n",
       "12        Sam      WOM   NaN      NaN       NaN                           NaN   \n",
       "13   Florence  Finance   NaN      NaN       NaN                           NaN   \n",
       "14        Kin      MIS   NaN      NaN       NaN                           NaN   \n",
       "\n",
       "        dept_head office_loc  \n",
       "0       Peter Lau        NaN  \n",
       "1       Peter Lau        NaN  \n",
       "2        Tomy Yip        NaN  \n",
       "3        Tomy Yip        NaN  \n",
       "4   Jennifer Chan        NaN  \n",
       "5   Jennifer Chan        NaN  \n",
       "6       Peter Lau        NaN  \n",
       "7       Peter Lau        NaN  \n",
       "8        Tomy Yip        NaN  \n",
       "9        Tomy Yip        NaN  \n",
       "10            NaN        NaN  \n",
       "11  Jennifer Chan        NaN  \n",
       "12            NaN    Kowloon  \n",
       "13            NaN  HK Island  \n",
       "14            NaN        NaN  "
      ]
     },
     "execution_count": 250,
     "metadata": {},
     "output_type": "execute_result"
    }
   ],
   "source": [
    "staff_df14"
   ]
  },
  {
   "cell_type": "code",
   "execution_count": 251,
   "id": "34fcfbaa",
   "metadata": {},
   "outputs": [
    {
     "data": {
      "text/html": [
       "<div>\n",
       "<style scoped>\n",
       "    .dataframe tbody tr th:only-of-type {\n",
       "        vertical-align: middle;\n",
       "    }\n",
       "\n",
       "    .dataframe tbody tr th {\n",
       "        vertical-align: top;\n",
       "    }\n",
       "\n",
       "    .dataframe thead th {\n",
       "        text-align: right;\n",
       "    }\n",
       "</style>\n",
       "<table border=\"1\" class=\"dataframe\">\n",
       "  <thead>\n",
       "    <tr style=\"text-align: right;\">\n",
       "      <th></th>\n",
       "      <th>staff_name</th>\n",
       "      <th>dept</th>\n",
       "      <th>age</th>\n",
       "      <th>salary</th>\n",
       "      <th>new_salary</th>\n",
       "      <th>age_group</th>\n",
       "      <th>dept_name</th>\n",
       "      <th>dept_head</th>\n",
       "      <th>office_loc</th>\n",
       "    </tr>\n",
       "  </thead>\n",
       "  <tbody>\n",
       "    <tr>\n",
       "      <th>0</th>\n",
       "      <td>Thomson</td>\n",
       "      <td>MIS</td>\n",
       "      <td>40.0</td>\n",
       "      <td>30000.0</td>\n",
       "      <td>34500.0</td>\n",
       "      <td>M</td>\n",
       "      <td>Managemet Information System</td>\n",
       "      <td>Peter Lau</td>\n",
       "      <td>NaN</td>\n",
       "    </tr>\n",
       "    <tr>\n",
       "      <th>1</th>\n",
       "      <td>Tsz</td>\n",
       "      <td>MIS</td>\n",
       "      <td>50.0</td>\n",
       "      <td>20000.0</td>\n",
       "      <td>23000.0</td>\n",
       "      <td>M</td>\n",
       "      <td>Managemet Information System</td>\n",
       "      <td>Peter Lau</td>\n",
       "      <td>NaN</td>\n",
       "    </tr>\n",
       "    <tr>\n",
       "      <th>2</th>\n",
       "      <td>Eddie</td>\n",
       "      <td>WOM</td>\n",
       "      <td>60.0</td>\n",
       "      <td>35000.0</td>\n",
       "      <td>40250.0</td>\n",
       "      <td>M</td>\n",
       "      <td>Work Order Management</td>\n",
       "      <td>Tomy Yip</td>\n",
       "      <td>NaN</td>\n",
       "    </tr>\n",
       "    <tr>\n",
       "      <th>3</th>\n",
       "      <td>Bonnie</td>\n",
       "      <td>WOM</td>\n",
       "      <td>20.0</td>\n",
       "      <td>40000.0</td>\n",
       "      <td>46000.0</td>\n",
       "      <td>Y</td>\n",
       "      <td>Work Order Management</td>\n",
       "      <td>Tomy Yip</td>\n",
       "      <td>NaN</td>\n",
       "    </tr>\n",
       "    <tr>\n",
       "      <th>4</th>\n",
       "      <td>Pauline</td>\n",
       "      <td>Finance</td>\n",
       "      <td>30.0</td>\n",
       "      <td>25000.0</td>\n",
       "      <td>28750.0</td>\n",
       "      <td>Y</td>\n",
       "      <td>Finance and Admin</td>\n",
       "      <td>Jennifer Chan</td>\n",
       "      <td>NaN</td>\n",
       "    </tr>\n",
       "    <tr>\n",
       "      <th>5</th>\n",
       "      <td>Kitty</td>\n",
       "      <td>Finance</td>\n",
       "      <td>35.0</td>\n",
       "      <td>10000.0</td>\n",
       "      <td>11500.0</td>\n",
       "      <td>Y</td>\n",
       "      <td>Finance and Admin</td>\n",
       "      <td>Jennifer Chan</td>\n",
       "      <td>NaN</td>\n",
       "    </tr>\n",
       "    <tr>\n",
       "      <th>6</th>\n",
       "      <td>Thomson</td>\n",
       "      <td>MIS</td>\n",
       "      <td>40.0</td>\n",
       "      <td>30000.0</td>\n",
       "      <td>34500.0</td>\n",
       "      <td>M</td>\n",
       "      <td>Managemet Information System</td>\n",
       "      <td>Peter Lau</td>\n",
       "      <td>NaN</td>\n",
       "    </tr>\n",
       "    <tr>\n",
       "      <th>7</th>\n",
       "      <td>Tsz</td>\n",
       "      <td>MIS</td>\n",
       "      <td>50.0</td>\n",
       "      <td>20000.0</td>\n",
       "      <td>23000.0</td>\n",
       "      <td>M</td>\n",
       "      <td>Managemet Information System</td>\n",
       "      <td>Peter Lau</td>\n",
       "      <td>NaN</td>\n",
       "    </tr>\n",
       "    <tr>\n",
       "      <th>8</th>\n",
       "      <td>Eddie</td>\n",
       "      <td>WOM</td>\n",
       "      <td>60.0</td>\n",
       "      <td>35000.0</td>\n",
       "      <td>40250.0</td>\n",
       "      <td>M</td>\n",
       "      <td>Work Order Management</td>\n",
       "      <td>Tomy Yip</td>\n",
       "      <td>NaN</td>\n",
       "    </tr>\n",
       "    <tr>\n",
       "      <th>9</th>\n",
       "      <td>Bonnie</td>\n",
       "      <td>WOM</td>\n",
       "      <td>20.0</td>\n",
       "      <td>40000.0</td>\n",
       "      <td>46000.0</td>\n",
       "      <td>Y</td>\n",
       "      <td>Work Order Management</td>\n",
       "      <td>Tomy Yip</td>\n",
       "      <td>NaN</td>\n",
       "    </tr>\n",
       "    <tr>\n",
       "      <th>10</th>\n",
       "      <td>Pauline</td>\n",
       "      <td>Finance</td>\n",
       "      <td>30.0</td>\n",
       "      <td>25000.0</td>\n",
       "      <td>28750.0</td>\n",
       "      <td>NaN</td>\n",
       "      <td>NaN</td>\n",
       "      <td>NaN</td>\n",
       "      <td>NaN</td>\n",
       "    </tr>\n",
       "    <tr>\n",
       "      <th>11</th>\n",
       "      <td>Kitty</td>\n",
       "      <td>Finance</td>\n",
       "      <td>35.0</td>\n",
       "      <td>10000.0</td>\n",
       "      <td>11500.0</td>\n",
       "      <td>Y</td>\n",
       "      <td>Finance and Admin</td>\n",
       "      <td>Jennifer Chan</td>\n",
       "      <td>NaN</td>\n",
       "    </tr>\n",
       "    <tr>\n",
       "      <th>12</th>\n",
       "      <td>Sam</td>\n",
       "      <td>WOM</td>\n",
       "      <td>NaN</td>\n",
       "      <td>NaN</td>\n",
       "      <td>NaN</td>\n",
       "      <td>NaN</td>\n",
       "      <td>NaN</td>\n",
       "      <td>NaN</td>\n",
       "      <td>Kowloon</td>\n",
       "    </tr>\n",
       "    <tr>\n",
       "      <th>13</th>\n",
       "      <td>Florence</td>\n",
       "      <td>Finance</td>\n",
       "      <td>NaN</td>\n",
       "      <td>NaN</td>\n",
       "      <td>NaN</td>\n",
       "      <td>NaN</td>\n",
       "      <td>NaN</td>\n",
       "      <td>NaN</td>\n",
       "      <td>HK Island</td>\n",
       "    </tr>\n",
       "    <tr>\n",
       "      <th>14</th>\n",
       "      <td>Kin</td>\n",
       "      <td>MIS</td>\n",
       "      <td>NaN</td>\n",
       "      <td>NaN</td>\n",
       "      <td>NaN</td>\n",
       "      <td>NaN</td>\n",
       "      <td>NaN</td>\n",
       "      <td>NaN</td>\n",
       "      <td>NaN</td>\n",
       "    </tr>\n",
       "  </tbody>\n",
       "</table>\n",
       "</div>"
      ],
      "text/plain": [
       "   staff_name     dept   age   salary  new_salary age_group  \\\n",
       "0     Thomson      MIS  40.0  30000.0     34500.0         M   \n",
       "1         Tsz      MIS  50.0  20000.0     23000.0         M   \n",
       "2       Eddie      WOM  60.0  35000.0     40250.0         M   \n",
       "3      Bonnie      WOM  20.0  40000.0     46000.0         Y   \n",
       "4     Pauline  Finance  30.0  25000.0     28750.0         Y   \n",
       "5       Kitty  Finance  35.0  10000.0     11500.0         Y   \n",
       "6     Thomson      MIS  40.0  30000.0     34500.0         M   \n",
       "7         Tsz      MIS  50.0  20000.0     23000.0         M   \n",
       "8       Eddie      WOM  60.0  35000.0     40250.0         M   \n",
       "9      Bonnie      WOM  20.0  40000.0     46000.0         Y   \n",
       "10    Pauline  Finance  30.0  25000.0     28750.0       NaN   \n",
       "11      Kitty  Finance  35.0  10000.0     11500.0         Y   \n",
       "12        Sam      WOM   NaN      NaN         NaN       NaN   \n",
       "13   Florence  Finance   NaN      NaN         NaN       NaN   \n",
       "14        Kin      MIS   NaN      NaN         NaN       NaN   \n",
       "\n",
       "                       dept_name      dept_head office_loc  \n",
       "0   Managemet Information System      Peter Lau        NaN  \n",
       "1   Managemet Information System      Peter Lau        NaN  \n",
       "2          Work Order Management       Tomy Yip        NaN  \n",
       "3          Work Order Management       Tomy Yip        NaN  \n",
       "4              Finance and Admin  Jennifer Chan        NaN  \n",
       "5              Finance and Admin  Jennifer Chan        NaN  \n",
       "6   Managemet Information System      Peter Lau        NaN  \n",
       "7   Managemet Information System      Peter Lau        NaN  \n",
       "8          Work Order Management       Tomy Yip        NaN  \n",
       "9          Work Order Management       Tomy Yip        NaN  \n",
       "10                           NaN            NaN        NaN  \n",
       "11             Finance and Admin  Jennifer Chan        NaN  \n",
       "12                           NaN            NaN    Kowloon  \n",
       "13                           NaN            NaN  HK Island  \n",
       "14                           NaN            NaN        NaN  "
      ]
     },
     "execution_count": 251,
     "metadata": {},
     "output_type": "execute_result"
    }
   ],
   "source": [
    "# store function\n",
    "staff_df16=staff_df14.copy()\n",
    "def fn_ins_salary(s):\n",
    "    return s * 1.1500\n",
    "staff_df16.insert(4, 'new_salary', staff_df16['salary'].apply(fn_ins_salary)) # add column with a specific position\n",
    "staff_df16"
   ]
  },
  {
   "cell_type": "code",
   "execution_count": 252,
   "id": "5080aef7",
   "metadata": {},
   "outputs": [],
   "source": [
    "# https://sparkbyexamples.com/pandas/pandas-apply-function-usage-examples/"
   ]
  },
  {
   "cell_type": "code",
   "execution_count": 253,
   "id": "195a3d5d",
   "metadata": {},
   "outputs": [
    {
     "data": {
      "text/html": [
       "<div>\n",
       "<style scoped>\n",
       "    .dataframe tbody tr th:only-of-type {\n",
       "        vertical-align: middle;\n",
       "    }\n",
       "\n",
       "    .dataframe tbody tr th {\n",
       "        vertical-align: top;\n",
       "    }\n",
       "\n",
       "    .dataframe thead th {\n",
       "        text-align: right;\n",
       "    }\n",
       "</style>\n",
       "<table border=\"1\" class=\"dataframe\">\n",
       "  <thead>\n",
       "    <tr style=\"text-align: right;\">\n",
       "      <th></th>\n",
       "      <th>staff_name</th>\n",
       "      <th>dept</th>\n",
       "      <th>age</th>\n",
       "      <th>salary</th>\n",
       "      <th>new_salary</th>\n",
       "      <th>age_group</th>\n",
       "      <th>dept_name</th>\n",
       "      <th>dept_head</th>\n",
       "      <th>office_loc</th>\n",
       "    </tr>\n",
       "  </thead>\n",
       "  <tbody>\n",
       "    <tr>\n",
       "      <th>0</th>\n",
       "      <td>Thomson</td>\n",
       "      <td>MIS</td>\n",
       "      <td>40.0</td>\n",
       "      <td>30000.0</td>\n",
       "      <td>34500.0</td>\n",
       "      <td>M</td>\n",
       "      <td>Managemet Information System</td>\n",
       "      <td>Peter Lau</td>\n",
       "      <td>NaN</td>\n",
       "    </tr>\n",
       "    <tr>\n",
       "      <th>1</th>\n",
       "      <td>Tsz</td>\n",
       "      <td>MIS</td>\n",
       "      <td>50.0</td>\n",
       "      <td>20000.0</td>\n",
       "      <td>23000.0</td>\n",
       "      <td>M</td>\n",
       "      <td>Managemet Information System</td>\n",
       "      <td>Peter Lau</td>\n",
       "      <td>NaN</td>\n",
       "    </tr>\n",
       "    <tr>\n",
       "      <th>2</th>\n",
       "      <td>Eddie</td>\n",
       "      <td>WOM</td>\n",
       "      <td>60.0</td>\n",
       "      <td>35000.0</td>\n",
       "      <td>40250.0</td>\n",
       "      <td>M</td>\n",
       "      <td>Work Order Management</td>\n",
       "      <td>Tomy Yip</td>\n",
       "      <td>NaN</td>\n",
       "    </tr>\n",
       "    <tr>\n",
       "      <th>3</th>\n",
       "      <td>Bonnie</td>\n",
       "      <td>WOM</td>\n",
       "      <td>20.0</td>\n",
       "      <td>40000.0</td>\n",
       "      <td>46000.0</td>\n",
       "      <td>Y</td>\n",
       "      <td>Work Order Management</td>\n",
       "      <td>Tomy Yip</td>\n",
       "      <td>NaN</td>\n",
       "    </tr>\n",
       "    <tr>\n",
       "      <th>4</th>\n",
       "      <td>Pauline</td>\n",
       "      <td>Finance</td>\n",
       "      <td>30.0</td>\n",
       "      <td>25000.0</td>\n",
       "      <td>28750.0</td>\n",
       "      <td>Y</td>\n",
       "      <td>Finance and Admin</td>\n",
       "      <td>Jennifer Chan</td>\n",
       "      <td>NaN</td>\n",
       "    </tr>\n",
       "    <tr>\n",
       "      <th>5</th>\n",
       "      <td>Kitty</td>\n",
       "      <td>Finance</td>\n",
       "      <td>35.0</td>\n",
       "      <td>10000.0</td>\n",
       "      <td>11500.0</td>\n",
       "      <td>Y</td>\n",
       "      <td>Finance and Admin</td>\n",
       "      <td>Jennifer Chan</td>\n",
       "      <td>NaN</td>\n",
       "    </tr>\n",
       "    <tr>\n",
       "      <th>6</th>\n",
       "      <td>Thomson</td>\n",
       "      <td>MIS</td>\n",
       "      <td>40.0</td>\n",
       "      <td>30000.0</td>\n",
       "      <td>34500.0</td>\n",
       "      <td>M</td>\n",
       "      <td>Managemet Information System</td>\n",
       "      <td>Peter Lau</td>\n",
       "      <td>NaN</td>\n",
       "    </tr>\n",
       "    <tr>\n",
       "      <th>7</th>\n",
       "      <td>Tsz</td>\n",
       "      <td>MIS</td>\n",
       "      <td>50.0</td>\n",
       "      <td>20000.0</td>\n",
       "      <td>23000.0</td>\n",
       "      <td>M</td>\n",
       "      <td>Managemet Information System</td>\n",
       "      <td>Peter Lau</td>\n",
       "      <td>NaN</td>\n",
       "    </tr>\n",
       "    <tr>\n",
       "      <th>8</th>\n",
       "      <td>Eddie</td>\n",
       "      <td>WOM</td>\n",
       "      <td>60.0</td>\n",
       "      <td>35000.0</td>\n",
       "      <td>40250.0</td>\n",
       "      <td>M</td>\n",
       "      <td>Work Order Management</td>\n",
       "      <td>Tomy Yip</td>\n",
       "      <td>NaN</td>\n",
       "    </tr>\n",
       "    <tr>\n",
       "      <th>9</th>\n",
       "      <td>Bonnie</td>\n",
       "      <td>WOM</td>\n",
       "      <td>20.0</td>\n",
       "      <td>40000.0</td>\n",
       "      <td>46000.0</td>\n",
       "      <td>Y</td>\n",
       "      <td>Work Order Management</td>\n",
       "      <td>Tomy Yip</td>\n",
       "      <td>NaN</td>\n",
       "    </tr>\n",
       "    <tr>\n",
       "      <th>10</th>\n",
       "      <td>Pauline</td>\n",
       "      <td>Finance</td>\n",
       "      <td>30.0</td>\n",
       "      <td>25000.0</td>\n",
       "      <td>28750.0</td>\n",
       "      <td>NaN</td>\n",
       "      <td>NaN</td>\n",
       "      <td>NaN</td>\n",
       "      <td>NaN</td>\n",
       "    </tr>\n",
       "    <tr>\n",
       "      <th>11</th>\n",
       "      <td>Kitty</td>\n",
       "      <td>Finance</td>\n",
       "      <td>35.0</td>\n",
       "      <td>10000.0</td>\n",
       "      <td>11500.0</td>\n",
       "      <td>Y</td>\n",
       "      <td>Finance and Admin</td>\n",
       "      <td>Jennifer Chan</td>\n",
       "      <td>NaN</td>\n",
       "    </tr>\n",
       "    <tr>\n",
       "      <th>12</th>\n",
       "      <td>Sam</td>\n",
       "      <td>WOM</td>\n",
       "      <td>NaN</td>\n",
       "      <td>NaN</td>\n",
       "      <td>NaN</td>\n",
       "      <td>NaN</td>\n",
       "      <td>NaN</td>\n",
       "      <td>NaN</td>\n",
       "      <td>Kowloon</td>\n",
       "    </tr>\n",
       "    <tr>\n",
       "      <th>13</th>\n",
       "      <td>Florence</td>\n",
       "      <td>Finance</td>\n",
       "      <td>NaN</td>\n",
       "      <td>NaN</td>\n",
       "      <td>NaN</td>\n",
       "      <td>NaN</td>\n",
       "      <td>NaN</td>\n",
       "      <td>NaN</td>\n",
       "      <td>HK Island</td>\n",
       "    </tr>\n",
       "    <tr>\n",
       "      <th>14</th>\n",
       "      <td>Kin</td>\n",
       "      <td>MIS</td>\n",
       "      <td>NaN</td>\n",
       "      <td>NaN</td>\n",
       "      <td>NaN</td>\n",
       "      <td>NaN</td>\n",
       "      <td>NaN</td>\n",
       "      <td>NaN</td>\n",
       "      <td>NaN</td>\n",
       "    </tr>\n",
       "  </tbody>\n",
       "</table>\n",
       "</div>"
      ],
      "text/plain": [
       "   staff_name     dept   age   salary  new_salary age_group  \\\n",
       "0     Thomson      MIS  40.0  30000.0     34500.0         M   \n",
       "1         Tsz      MIS  50.0  20000.0     23000.0         M   \n",
       "2       Eddie      WOM  60.0  35000.0     40250.0         M   \n",
       "3      Bonnie      WOM  20.0  40000.0     46000.0         Y   \n",
       "4     Pauline  Finance  30.0  25000.0     28750.0         Y   \n",
       "5       Kitty  Finance  35.0  10000.0     11500.0         Y   \n",
       "6     Thomson      MIS  40.0  30000.0     34500.0         M   \n",
       "7         Tsz      MIS  50.0  20000.0     23000.0         M   \n",
       "8       Eddie      WOM  60.0  35000.0     40250.0         M   \n",
       "9      Bonnie      WOM  20.0  40000.0     46000.0         Y   \n",
       "10    Pauline  Finance  30.0  25000.0     28750.0       NaN   \n",
       "11      Kitty  Finance  35.0  10000.0     11500.0         Y   \n",
       "12        Sam      WOM   NaN      NaN         NaN       NaN   \n",
       "13   Florence  Finance   NaN      NaN         NaN       NaN   \n",
       "14        Kin      MIS   NaN      NaN         NaN       NaN   \n",
       "\n",
       "                       dept_name      dept_head office_loc  \n",
       "0   Managemet Information System      Peter Lau        NaN  \n",
       "1   Managemet Information System      Peter Lau        NaN  \n",
       "2          Work Order Management       Tomy Yip        NaN  \n",
       "3          Work Order Management       Tomy Yip        NaN  \n",
       "4              Finance and Admin  Jennifer Chan        NaN  \n",
       "5              Finance and Admin  Jennifer Chan        NaN  \n",
       "6   Managemet Information System      Peter Lau        NaN  \n",
       "7   Managemet Information System      Peter Lau        NaN  \n",
       "8          Work Order Management       Tomy Yip        NaN  \n",
       "9          Work Order Management       Tomy Yip        NaN  \n",
       "10                           NaN            NaN        NaN  \n",
       "11             Finance and Admin  Jennifer Chan        NaN  \n",
       "12                           NaN            NaN    Kowloon  \n",
       "13                           NaN            NaN  HK Island  \n",
       "14                           NaN            NaN        NaN  "
      ]
     },
     "execution_count": 253,
     "metadata": {},
     "output_type": "execute_result"
    }
   ],
   "source": [
    "# store function (using lambda expression)\n",
    "staff_df17=staff_df14.copy()\n",
    "staff_df17.insert(4, 'new_salary', staff_df17['salary'].apply(lambda x: x * 1.15)) # add column with a specific position\n",
    "staff_df17"
   ]
  },
  {
   "cell_type": "code",
   "execution_count": 254,
   "id": "61010df3",
   "metadata": {},
   "outputs": [
    {
     "data": {
      "text/html": [
       "<div>\n",
       "<style scoped>\n",
       "    .dataframe tbody tr th:only-of-type {\n",
       "        vertical-align: middle;\n",
       "    }\n",
       "\n",
       "    .dataframe tbody tr th {\n",
       "        vertical-align: top;\n",
       "    }\n",
       "\n",
       "    .dataframe thead th {\n",
       "        text-align: right;\n",
       "    }\n",
       "</style>\n",
       "<table border=\"1\" class=\"dataframe\">\n",
       "  <thead>\n",
       "    <tr style=\"text-align: right;\">\n",
       "      <th></th>\n",
       "      <th>age</th>\n",
       "      <th>age_group</th>\n",
       "      <th>dept</th>\n",
       "      <th>dept_head</th>\n",
       "      <th>dept_name</th>\n",
       "      <th>office_loc</th>\n",
       "      <th>salary</th>\n",
       "      <th>staff_name</th>\n",
       "    </tr>\n",
       "  </thead>\n",
       "  <tbody>\n",
       "    <tr>\n",
       "      <th>0</th>\n",
       "      <td>40.0</td>\n",
       "      <td>M</td>\n",
       "      <td>MIS</td>\n",
       "      <td>Peter Lau</td>\n",
       "      <td>Managemet Information System</td>\n",
       "      <td>NaN</td>\n",
       "      <td>30000.0</td>\n",
       "      <td>Thomson</td>\n",
       "    </tr>\n",
       "    <tr>\n",
       "      <th>1</th>\n",
       "      <td>50.0</td>\n",
       "      <td>M</td>\n",
       "      <td>MIS</td>\n",
       "      <td>Peter Lau</td>\n",
       "      <td>Managemet Information System</td>\n",
       "      <td>NaN</td>\n",
       "      <td>20000.0</td>\n",
       "      <td>Tsz</td>\n",
       "    </tr>\n",
       "    <tr>\n",
       "      <th>2</th>\n",
       "      <td>60.0</td>\n",
       "      <td>M</td>\n",
       "      <td>WOM</td>\n",
       "      <td>Tomy Yip</td>\n",
       "      <td>Work Order Management</td>\n",
       "      <td>NaN</td>\n",
       "      <td>35000.0</td>\n",
       "      <td>Eddie</td>\n",
       "    </tr>\n",
       "    <tr>\n",
       "      <th>3</th>\n",
       "      <td>20.0</td>\n",
       "      <td>Y</td>\n",
       "      <td>WOM</td>\n",
       "      <td>Tomy Yip</td>\n",
       "      <td>Work Order Management</td>\n",
       "      <td>NaN</td>\n",
       "      <td>40000.0</td>\n",
       "      <td>Bonnie</td>\n",
       "    </tr>\n",
       "    <tr>\n",
       "      <th>4</th>\n",
       "      <td>30.0</td>\n",
       "      <td>Y</td>\n",
       "      <td>Finance</td>\n",
       "      <td>Jennifer Chan</td>\n",
       "      <td>Finance and Admin</td>\n",
       "      <td>NaN</td>\n",
       "      <td>25000.0</td>\n",
       "      <td>Pauline</td>\n",
       "    </tr>\n",
       "    <tr>\n",
       "      <th>5</th>\n",
       "      <td>35.0</td>\n",
       "      <td>Y</td>\n",
       "      <td>Finance</td>\n",
       "      <td>Jennifer Chan</td>\n",
       "      <td>Finance and Admin</td>\n",
       "      <td>NaN</td>\n",
       "      <td>10000.0</td>\n",
       "      <td>Kitty</td>\n",
       "    </tr>\n",
       "    <tr>\n",
       "      <th>6</th>\n",
       "      <td>40.0</td>\n",
       "      <td>M</td>\n",
       "      <td>MIS</td>\n",
       "      <td>Peter Lau</td>\n",
       "      <td>Managemet Information System</td>\n",
       "      <td>NaN</td>\n",
       "      <td>30000.0</td>\n",
       "      <td>Thomson</td>\n",
       "    </tr>\n",
       "    <tr>\n",
       "      <th>7</th>\n",
       "      <td>50.0</td>\n",
       "      <td>M</td>\n",
       "      <td>MIS</td>\n",
       "      <td>Peter Lau</td>\n",
       "      <td>Managemet Information System</td>\n",
       "      <td>NaN</td>\n",
       "      <td>20000.0</td>\n",
       "      <td>Tsz</td>\n",
       "    </tr>\n",
       "    <tr>\n",
       "      <th>8</th>\n",
       "      <td>60.0</td>\n",
       "      <td>M</td>\n",
       "      <td>WOM</td>\n",
       "      <td>Tomy Yip</td>\n",
       "      <td>Work Order Management</td>\n",
       "      <td>NaN</td>\n",
       "      <td>35000.0</td>\n",
       "      <td>Eddie</td>\n",
       "    </tr>\n",
       "    <tr>\n",
       "      <th>9</th>\n",
       "      <td>20.0</td>\n",
       "      <td>Y</td>\n",
       "      <td>WOM</td>\n",
       "      <td>Tomy Yip</td>\n",
       "      <td>Work Order Management</td>\n",
       "      <td>NaN</td>\n",
       "      <td>40000.0</td>\n",
       "      <td>Bonnie</td>\n",
       "    </tr>\n",
       "    <tr>\n",
       "      <th>10</th>\n",
       "      <td>30.0</td>\n",
       "      <td>NaN</td>\n",
       "      <td>Finance</td>\n",
       "      <td>NaN</td>\n",
       "      <td>NaN</td>\n",
       "      <td>NaN</td>\n",
       "      <td>25000.0</td>\n",
       "      <td>Pauline</td>\n",
       "    </tr>\n",
       "    <tr>\n",
       "      <th>11</th>\n",
       "      <td>35.0</td>\n",
       "      <td>Y</td>\n",
       "      <td>Finance</td>\n",
       "      <td>Jennifer Chan</td>\n",
       "      <td>Finance and Admin</td>\n",
       "      <td>NaN</td>\n",
       "      <td>10000.0</td>\n",
       "      <td>Kitty</td>\n",
       "    </tr>\n",
       "    <tr>\n",
       "      <th>12</th>\n",
       "      <td>NaN</td>\n",
       "      <td>NaN</td>\n",
       "      <td>WOM</td>\n",
       "      <td>NaN</td>\n",
       "      <td>NaN</td>\n",
       "      <td>Kowloon</td>\n",
       "      <td>NaN</td>\n",
       "      <td>Sam</td>\n",
       "    </tr>\n",
       "    <tr>\n",
       "      <th>13</th>\n",
       "      <td>NaN</td>\n",
       "      <td>NaN</td>\n",
       "      <td>Finance</td>\n",
       "      <td>NaN</td>\n",
       "      <td>NaN</td>\n",
       "      <td>HK Island</td>\n",
       "      <td>NaN</td>\n",
       "      <td>Florence</td>\n",
       "    </tr>\n",
       "    <tr>\n",
       "      <th>14</th>\n",
       "      <td>NaN</td>\n",
       "      <td>NaN</td>\n",
       "      <td>MIS</td>\n",
       "      <td>NaN</td>\n",
       "      <td>NaN</td>\n",
       "      <td>NaN</td>\n",
       "      <td>NaN</td>\n",
       "      <td>Kin</td>\n",
       "    </tr>\n",
       "  </tbody>\n",
       "</table>\n",
       "</div>"
      ],
      "text/plain": [
       "     age age_group     dept      dept_head                     dept_name  \\\n",
       "0   40.0         M      MIS      Peter Lau  Managemet Information System   \n",
       "1   50.0         M      MIS      Peter Lau  Managemet Information System   \n",
       "2   60.0         M      WOM       Tomy Yip         Work Order Management   \n",
       "3   20.0         Y      WOM       Tomy Yip         Work Order Management   \n",
       "4   30.0         Y  Finance  Jennifer Chan             Finance and Admin   \n",
       "5   35.0         Y  Finance  Jennifer Chan             Finance and Admin   \n",
       "6   40.0         M      MIS      Peter Lau  Managemet Information System   \n",
       "7   50.0         M      MIS      Peter Lau  Managemet Information System   \n",
       "8   60.0         M      WOM       Tomy Yip         Work Order Management   \n",
       "9   20.0         Y      WOM       Tomy Yip         Work Order Management   \n",
       "10  30.0       NaN  Finance            NaN                           NaN   \n",
       "11  35.0         Y  Finance  Jennifer Chan             Finance and Admin   \n",
       "12   NaN       NaN      WOM            NaN                           NaN   \n",
       "13   NaN       NaN  Finance            NaN                           NaN   \n",
       "14   NaN       NaN      MIS            NaN                           NaN   \n",
       "\n",
       "   office_loc   salary staff_name  \n",
       "0         NaN  30000.0    Thomson  \n",
       "1         NaN  20000.0        Tsz  \n",
       "2         NaN  35000.0      Eddie  \n",
       "3         NaN  40000.0     Bonnie  \n",
       "4         NaN  25000.0    Pauline  \n",
       "5         NaN  10000.0      Kitty  \n",
       "6         NaN  30000.0    Thomson  \n",
       "7         NaN  20000.0        Tsz  \n",
       "8         NaN  35000.0      Eddie  \n",
       "9         NaN  40000.0     Bonnie  \n",
       "10        NaN  25000.0    Pauline  \n",
       "11        NaN  10000.0      Kitty  \n",
       "12    Kowloon      NaN        Sam  \n",
       "13  HK Island      NaN   Florence  \n",
       "14        NaN      NaN        Kin  "
      ]
     },
     "execution_count": 254,
     "metadata": {},
     "output_type": "execute_result"
    }
   ],
   "source": [
    "staff_df18=staff_df14.copy() \n",
    "staff_df18=staff_df18.reindex(sorted(staff_df18.columns), axis=1)  # rearrange column names by order\n",
    "staff_df18"
   ]
  },
  {
   "cell_type": "code",
   "execution_count": 255,
   "id": "f09666df",
   "metadata": {},
   "outputs": [
    {
     "data": {
      "text/html": [
       "<div>\n",
       "<style scoped>\n",
       "    .dataframe tbody tr th:only-of-type {\n",
       "        vertical-align: middle;\n",
       "    }\n",
       "\n",
       "    .dataframe tbody tr th {\n",
       "        vertical-align: top;\n",
       "    }\n",
       "\n",
       "    .dataframe thead th {\n",
       "        text-align: right;\n",
       "    }\n",
       "</style>\n",
       "<table border=\"1\" class=\"dataframe\">\n",
       "  <thead>\n",
       "    <tr style=\"text-align: right;\">\n",
       "      <th></th>\n",
       "      <th>age</th>\n",
       "      <th>age_group</th>\n",
       "      <th>dept</th>\n",
       "      <th>dept_head</th>\n",
       "      <th>dept_name</th>\n",
       "      <th>office_loc</th>\n",
       "      <th>salary</th>\n",
       "      <th>staff_name</th>\n",
       "    </tr>\n",
       "  </thead>\n",
       "  <tbody>\n",
       "    <tr>\n",
       "      <th>0</th>\n",
       "      <td>40.0</td>\n",
       "      <td>M</td>\n",
       "      <td>MIS</td>\n",
       "      <td>Peter Lau</td>\n",
       "      <td>Managemet Information System</td>\n",
       "      <td>NaN</td>\n",
       "      <td>30000.0</td>\n",
       "      <td>Thomson</td>\n",
       "    </tr>\n",
       "    <tr>\n",
       "      <th>1</th>\n",
       "      <td>50.0</td>\n",
       "      <td>M</td>\n",
       "      <td>MIS</td>\n",
       "      <td>Peter Lau</td>\n",
       "      <td>Managemet Information System</td>\n",
       "      <td>NaN</td>\n",
       "      <td>20000.0</td>\n",
       "      <td>Tsz</td>\n",
       "    </tr>\n",
       "  </tbody>\n",
       "</table>\n",
       "</div>"
      ],
      "text/plain": [
       "    age age_group dept  dept_head                     dept_name office_loc  \\\n",
       "0  40.0         M  MIS  Peter Lau  Managemet Information System        NaN   \n",
       "1  50.0         M  MIS  Peter Lau  Managemet Information System        NaN   \n",
       "\n",
       "    salary staff_name  \n",
       "0  30000.0    Thomson  \n",
       "1  20000.0        Tsz  "
      ]
     },
     "execution_count": 255,
     "metadata": {},
     "output_type": "execute_result"
    }
   ],
   "source": [
    "staff_df19=staff_df14.copy() \n",
    "staff_df19=staff_df19.reindex(sorted(staff_df19.columns), axis=1)\n",
    "staff_df19.head(2)"
   ]
  },
  {
   "cell_type": "code",
   "execution_count": 256,
   "id": "0a8e5af0",
   "metadata": {},
   "outputs": [
    {
     "data": {
      "text/html": [
       "<div>\n",
       "<style scoped>\n",
       "    .dataframe tbody tr th:only-of-type {\n",
       "        vertical-align: middle;\n",
       "    }\n",
       "\n",
       "    .dataframe tbody tr th {\n",
       "        vertical-align: top;\n",
       "    }\n",
       "\n",
       "    .dataframe thead th {\n",
       "        text-align: right;\n",
       "    }\n",
       "</style>\n",
       "<table border=\"1\" class=\"dataframe\">\n",
       "  <thead>\n",
       "    <tr style=\"text-align: right;\">\n",
       "      <th></th>\n",
       "      <th>age</th>\n",
       "      <th>age_group</th>\n",
       "      <th>dept</th>\n",
       "      <th>dept_head</th>\n",
       "      <th>dept_name</th>\n",
       "      <th>office_loc</th>\n",
       "      <th>salary</th>\n",
       "    </tr>\n",
       "  </thead>\n",
       "  <tbody>\n",
       "    <tr>\n",
       "      <th>0</th>\n",
       "      <td>40.0</td>\n",
       "      <td>M</td>\n",
       "      <td>MIS</td>\n",
       "      <td>Peter Lau</td>\n",
       "      <td>Managemet Information System</td>\n",
       "      <td>NaN</td>\n",
       "      <td>30000.0</td>\n",
       "    </tr>\n",
       "    <tr>\n",
       "      <th>1</th>\n",
       "      <td>50.0</td>\n",
       "      <td>M</td>\n",
       "      <td>MIS</td>\n",
       "      <td>Peter Lau</td>\n",
       "      <td>Managemet Information System</td>\n",
       "      <td>NaN</td>\n",
       "      <td>20000.0</td>\n",
       "    </tr>\n",
       "  </tbody>\n",
       "</table>\n",
       "</div>"
      ],
      "text/plain": [
       "    age age_group dept  dept_head                     dept_name office_loc  \\\n",
       "0  40.0         M  MIS  Peter Lau  Managemet Information System        NaN   \n",
       "1  50.0         M  MIS  Peter Lau  Managemet Information System        NaN   \n",
       "\n",
       "    salary  \n",
       "0  30000.0  \n",
       "1  20000.0  "
      ]
     },
     "execution_count": 256,
     "metadata": {},
     "output_type": "execute_result"
    }
   ],
   "source": [
    "staff_df19.iloc[:,0:7].head(2)"
   ]
  },
  {
   "cell_type": "code",
   "execution_count": 257,
   "id": "d909a7ae",
   "metadata": {},
   "outputs": [
    {
     "data": {
      "text/plain": [
       "new_salary    368000.0\n",
       "salary        320000.0\n",
       "dtype: float64"
      ]
     },
     "execution_count": 257,
     "metadata": {},
     "output_type": "execute_result"
    }
   ],
   "source": [
    "staff_df20=staff_df14.copy()\n",
    "staff_df20.insert(4, 'new_salary', staff_df20['salary'].apply(lambda x: x * 1.15)) # add column with a specific position\n",
    "staff_df20[[\"new_salary\",\"salary\"]].apply(np.sum, axis=0)"
   ]
  },
  {
   "cell_type": "code",
   "execution_count": 258,
   "id": "7cbde90a",
   "metadata": {},
   "outputs": [
    {
     "data": {
      "text/html": [
       "<div>\n",
       "<style scoped>\n",
       "    .dataframe tbody tr th:only-of-type {\n",
       "        vertical-align: middle;\n",
       "    }\n",
       "\n",
       "    .dataframe tbody tr th {\n",
       "        vertical-align: top;\n",
       "    }\n",
       "\n",
       "    .dataframe thead th {\n",
       "        text-align: right;\n",
       "    }\n",
       "</style>\n",
       "<table border=\"1\" class=\"dataframe\">\n",
       "  <thead>\n",
       "    <tr style=\"text-align: right;\">\n",
       "      <th></th>\n",
       "      <th>staff_name</th>\n",
       "      <th>dept</th>\n",
       "      <th>age</th>\n",
       "      <th>salary</th>\n",
       "      <th>new_salary</th>\n",
       "      <th>age_group</th>\n",
       "      <th>dept_name</th>\n",
       "      <th>dept_head</th>\n",
       "      <th>office_loc</th>\n",
       "    </tr>\n",
       "  </thead>\n",
       "  <tbody>\n",
       "    <tr>\n",
       "      <th>0</th>\n",
       "      <td>Thomson</td>\n",
       "      <td>MIS</td>\n",
       "      <td>40.0</td>\n",
       "      <td>30000.0</td>\n",
       "      <td>34500.0</td>\n",
       "      <td>M</td>\n",
       "      <td>Managemet Information System</td>\n",
       "      <td>Peter Lau</td>\n",
       "      <td>NaN</td>\n",
       "    </tr>\n",
       "    <tr>\n",
       "      <th>1</th>\n",
       "      <td>Tsz</td>\n",
       "      <td>MIS</td>\n",
       "      <td>50.0</td>\n",
       "      <td>20000.0</td>\n",
       "      <td>23000.0</td>\n",
       "      <td>M</td>\n",
       "      <td>Managemet Information System</td>\n",
       "      <td>Peter Lau</td>\n",
       "      <td>NaN</td>\n",
       "    </tr>\n",
       "    <tr>\n",
       "      <th>2</th>\n",
       "      <td>Eddie</td>\n",
       "      <td>WOM</td>\n",
       "      <td>60.0</td>\n",
       "      <td>35000.0</td>\n",
       "      <td>40250.0</td>\n",
       "      <td>M</td>\n",
       "      <td>Work Order Management</td>\n",
       "      <td>Tomy Yip</td>\n",
       "      <td>NaN</td>\n",
       "    </tr>\n",
       "    <tr>\n",
       "      <th>3</th>\n",
       "      <td>Bonnie</td>\n",
       "      <td>WOM</td>\n",
       "      <td>20.0</td>\n",
       "      <td>40000.0</td>\n",
       "      <td>46000.0</td>\n",
       "      <td>Y</td>\n",
       "      <td>Work Order Management</td>\n",
       "      <td>Tomy Yip</td>\n",
       "      <td>NaN</td>\n",
       "    </tr>\n",
       "    <tr>\n",
       "      <th>4</th>\n",
       "      <td>Pauline</td>\n",
       "      <td>Finance</td>\n",
       "      <td>30.0</td>\n",
       "      <td>25000.0</td>\n",
       "      <td>28750.0</td>\n",
       "      <td>Y</td>\n",
       "      <td>Finance and Admin</td>\n",
       "      <td>Jennifer Chan</td>\n",
       "      <td>NaN</td>\n",
       "    </tr>\n",
       "    <tr>\n",
       "      <th>5</th>\n",
       "      <td>Kitty</td>\n",
       "      <td>Finance</td>\n",
       "      <td>35.0</td>\n",
       "      <td>10000.0</td>\n",
       "      <td>11500.0</td>\n",
       "      <td>Y</td>\n",
       "      <td>Finance and Admin</td>\n",
       "      <td>Jennifer Chan</td>\n",
       "      <td>NaN</td>\n",
       "    </tr>\n",
       "    <tr>\n",
       "      <th>6</th>\n",
       "      <td>Thomson</td>\n",
       "      <td>MIS</td>\n",
       "      <td>40.0</td>\n",
       "      <td>30000.0</td>\n",
       "      <td>34500.0</td>\n",
       "      <td>M</td>\n",
       "      <td>Managemet Information System</td>\n",
       "      <td>Peter Lau</td>\n",
       "      <td>NaN</td>\n",
       "    </tr>\n",
       "    <tr>\n",
       "      <th>7</th>\n",
       "      <td>Tsz</td>\n",
       "      <td>MIS</td>\n",
       "      <td>50.0</td>\n",
       "      <td>20000.0</td>\n",
       "      <td>23000.0</td>\n",
       "      <td>M</td>\n",
       "      <td>Managemet Information System</td>\n",
       "      <td>Peter Lau</td>\n",
       "      <td>NaN</td>\n",
       "    </tr>\n",
       "    <tr>\n",
       "      <th>8</th>\n",
       "      <td>Eddie</td>\n",
       "      <td>WOM</td>\n",
       "      <td>60.0</td>\n",
       "      <td>35000.0</td>\n",
       "      <td>40250.0</td>\n",
       "      <td>M</td>\n",
       "      <td>Work Order Management</td>\n",
       "      <td>Tomy Yip</td>\n",
       "      <td>NaN</td>\n",
       "    </tr>\n",
       "    <tr>\n",
       "      <th>9</th>\n",
       "      <td>Bonnie</td>\n",
       "      <td>WOM</td>\n",
       "      <td>20.0</td>\n",
       "      <td>40000.0</td>\n",
       "      <td>46000.0</td>\n",
       "      <td>Y</td>\n",
       "      <td>Work Order Management</td>\n",
       "      <td>Tomy Yip</td>\n",
       "      <td>NaN</td>\n",
       "    </tr>\n",
       "    <tr>\n",
       "      <th>10</th>\n",
       "      <td>Pauline</td>\n",
       "      <td>Finance</td>\n",
       "      <td>30.0</td>\n",
       "      <td>25000.0</td>\n",
       "      <td>28750.0</td>\n",
       "      <td>NaN</td>\n",
       "      <td>NaN</td>\n",
       "      <td>NaN</td>\n",
       "      <td>NaN</td>\n",
       "    </tr>\n",
       "    <tr>\n",
       "      <th>11</th>\n",
       "      <td>Kitty</td>\n",
       "      <td>Finance</td>\n",
       "      <td>35.0</td>\n",
       "      <td>10000.0</td>\n",
       "      <td>11500.0</td>\n",
       "      <td>Y</td>\n",
       "      <td>Finance and Admin</td>\n",
       "      <td>Jennifer Chan</td>\n",
       "      <td>NaN</td>\n",
       "    </tr>\n",
       "    <tr>\n",
       "      <th>12</th>\n",
       "      <td>Sam</td>\n",
       "      <td>WOM</td>\n",
       "      <td>NaN</td>\n",
       "      <td>NaN</td>\n",
       "      <td>NaN</td>\n",
       "      <td>NaN</td>\n",
       "      <td>NaN</td>\n",
       "      <td>NaN</td>\n",
       "      <td>Kowloon</td>\n",
       "    </tr>\n",
       "    <tr>\n",
       "      <th>13</th>\n",
       "      <td>Florence</td>\n",
       "      <td>Finance</td>\n",
       "      <td>NaN</td>\n",
       "      <td>NaN</td>\n",
       "      <td>NaN</td>\n",
       "      <td>NaN</td>\n",
       "      <td>NaN</td>\n",
       "      <td>NaN</td>\n",
       "      <td>HK Island</td>\n",
       "    </tr>\n",
       "    <tr>\n",
       "      <th>14</th>\n",
       "      <td>Kin</td>\n",
       "      <td>MIS</td>\n",
       "      <td>NaN</td>\n",
       "      <td>NaN</td>\n",
       "      <td>NaN</td>\n",
       "      <td>NaN</td>\n",
       "      <td>NaN</td>\n",
       "      <td>NaN</td>\n",
       "      <td>NaN</td>\n",
       "    </tr>\n",
       "  </tbody>\n",
       "</table>\n",
       "</div>"
      ],
      "text/plain": [
       "   staff_name     dept   age   salary  new_salary age_group  \\\n",
       "0     Thomson      MIS  40.0  30000.0     34500.0         M   \n",
       "1         Tsz      MIS  50.0  20000.0     23000.0         M   \n",
       "2       Eddie      WOM  60.0  35000.0     40250.0         M   \n",
       "3      Bonnie      WOM  20.0  40000.0     46000.0         Y   \n",
       "4     Pauline  Finance  30.0  25000.0     28750.0         Y   \n",
       "5       Kitty  Finance  35.0  10000.0     11500.0         Y   \n",
       "6     Thomson      MIS  40.0  30000.0     34500.0         M   \n",
       "7         Tsz      MIS  50.0  20000.0     23000.0         M   \n",
       "8       Eddie      WOM  60.0  35000.0     40250.0         M   \n",
       "9      Bonnie      WOM  20.0  40000.0     46000.0         Y   \n",
       "10    Pauline  Finance  30.0  25000.0     28750.0       NaN   \n",
       "11      Kitty  Finance  35.0  10000.0     11500.0         Y   \n",
       "12        Sam      WOM   NaN      NaN         NaN       NaN   \n",
       "13   Florence  Finance   NaN      NaN         NaN       NaN   \n",
       "14        Kin      MIS   NaN      NaN         NaN       NaN   \n",
       "\n",
       "                       dept_name      dept_head office_loc  \n",
       "0   Managemet Information System      Peter Lau        NaN  \n",
       "1   Managemet Information System      Peter Lau        NaN  \n",
       "2          Work Order Management       Tomy Yip        NaN  \n",
       "3          Work Order Management       Tomy Yip        NaN  \n",
       "4              Finance and Admin  Jennifer Chan        NaN  \n",
       "5              Finance and Admin  Jennifer Chan        NaN  \n",
       "6   Managemet Information System      Peter Lau        NaN  \n",
       "7   Managemet Information System      Peter Lau        NaN  \n",
       "8          Work Order Management       Tomy Yip        NaN  \n",
       "9          Work Order Management       Tomy Yip        NaN  \n",
       "10                           NaN            NaN        NaN  \n",
       "11             Finance and Admin  Jennifer Chan        NaN  \n",
       "12                           NaN            NaN    Kowloon  \n",
       "13                           NaN            NaN  HK Island  \n",
       "14                           NaN            NaN        NaN  "
      ]
     },
     "execution_count": 258,
     "metadata": {},
     "output_type": "execute_result"
    }
   ],
   "source": [
    "staff_df20"
   ]
  },
  {
   "cell_type": "code",
   "execution_count": 259,
   "id": "4fa3629e",
   "metadata": {},
   "outputs": [
    {
     "data": {
      "text/plain": [
       "new_salary    368000.0\n",
       "dtype: float64"
      ]
     },
     "execution_count": 259,
     "metadata": {},
     "output_type": "execute_result"
    }
   ],
   "source": [
    "staff_df20[[\"new_salary\"]].apply(np.sum, axis=0)"
   ]
  },
  {
   "cell_type": "code",
   "execution_count": 260,
   "id": "ae38c055",
   "metadata": {},
   "outputs": [
    {
     "data": {
      "text/plain": [
       "salary    320000.0\n",
       "dtype: float64"
      ]
     },
     "execution_count": 260,
     "metadata": {},
     "output_type": "execute_result"
    }
   ],
   "source": [
    "staff_df20[[\"salary\"]].apply(np.sum, axis=0)"
   ]
  },
  {
   "cell_type": "code",
   "execution_count": 261,
   "id": "25e3ea73",
   "metadata": {},
   "outputs": [
    {
     "name": "stderr",
     "output_type": "stream",
     "text": [
      "C:\\Users\\Thomson Yeung\\AppData\\Local\\Temp\\ipykernel_11148\\1050789006.py:3: FutureWarning: The default value of numeric_only in DataFrameGroupBy.sum is deprecated. In a future version, numeric_only will default to False. Either specify numeric_only or select only columns which should be valid for the function.\n",
      "  staff_df20.groupby(\"dept\").sum()[[\"salary\",\"new_salary\"]]\n"
     ]
    },
    {
     "data": {
      "text/html": [
       "<div>\n",
       "<style scoped>\n",
       "    .dataframe tbody tr th:only-of-type {\n",
       "        vertical-align: middle;\n",
       "    }\n",
       "\n",
       "    .dataframe tbody tr th {\n",
       "        vertical-align: top;\n",
       "    }\n",
       "\n",
       "    .dataframe thead th {\n",
       "        text-align: right;\n",
       "    }\n",
       "</style>\n",
       "<table border=\"1\" class=\"dataframe\">\n",
       "  <thead>\n",
       "    <tr style=\"text-align: right;\">\n",
       "      <th></th>\n",
       "      <th>salary</th>\n",
       "      <th>new_salary</th>\n",
       "    </tr>\n",
       "    <tr>\n",
       "      <th>dept</th>\n",
       "      <th></th>\n",
       "      <th></th>\n",
       "    </tr>\n",
       "  </thead>\n",
       "  <tbody>\n",
       "    <tr>\n",
       "      <th>Finance</th>\n",
       "      <td>70000.0</td>\n",
       "      <td>80500.0</td>\n",
       "    </tr>\n",
       "    <tr>\n",
       "      <th>MIS</th>\n",
       "      <td>100000.0</td>\n",
       "      <td>115000.0</td>\n",
       "    </tr>\n",
       "    <tr>\n",
       "      <th>WOM</th>\n",
       "      <td>150000.0</td>\n",
       "      <td>172500.0</td>\n",
       "    </tr>\n",
       "  </tbody>\n",
       "</table>\n",
       "</div>"
      ],
      "text/plain": [
       "           salary  new_salary\n",
       "dept                         \n",
       "Finance   70000.0     80500.0\n",
       "MIS      100000.0    115000.0\n",
       "WOM      150000.0    172500.0"
      ]
     },
     "execution_count": 261,
     "metadata": {},
     "output_type": "execute_result"
    }
   ],
   "source": [
    "# select dept, sum(salary), sum(new_salary) from staff_df20 group by dept\n",
    "#warnings.filterwarnings('ignore')\n",
    "staff_df20.groupby(\"dept\").sum()[[\"salary\",\"new_salary\"]]"
   ]
  },
  {
   "cell_type": "code",
   "execution_count": 262,
   "id": "bcc7611c",
   "metadata": {},
   "outputs": [
    {
     "data": {
      "text/html": [
       "<div>\n",
       "<style scoped>\n",
       "    .dataframe tbody tr th:only-of-type {\n",
       "        vertical-align: middle;\n",
       "    }\n",
       "\n",
       "    .dataframe tbody tr th {\n",
       "        vertical-align: top;\n",
       "    }\n",
       "\n",
       "    .dataframe thead th {\n",
       "        text-align: right;\n",
       "    }\n",
       "</style>\n",
       "<table border=\"1\" class=\"dataframe\">\n",
       "  <thead>\n",
       "    <tr style=\"text-align: right;\">\n",
       "      <th></th>\n",
       "      <th>salary</th>\n",
       "      <th>new_salary</th>\n",
       "    </tr>\n",
       "    <tr>\n",
       "      <th>dept</th>\n",
       "      <th></th>\n",
       "      <th></th>\n",
       "    </tr>\n",
       "  </thead>\n",
       "  <tbody>\n",
       "    <tr>\n",
       "      <th>Finance</th>\n",
       "      <td>70000.0</td>\n",
       "      <td>80500.0</td>\n",
       "    </tr>\n",
       "    <tr>\n",
       "      <th>MIS</th>\n",
       "      <td>100000.0</td>\n",
       "      <td>115000.0</td>\n",
       "    </tr>\n",
       "    <tr>\n",
       "      <th>WOM</th>\n",
       "      <td>150000.0</td>\n",
       "      <td>172500.0</td>\n",
       "    </tr>\n",
       "  </tbody>\n",
       "</table>\n",
       "</div>"
      ],
      "text/plain": [
       "           salary  new_salary\n",
       "dept                         \n",
       "Finance   70000.0     80500.0\n",
       "MIS      100000.0    115000.0\n",
       "WOM      150000.0    172500.0"
      ]
     },
     "execution_count": 262,
     "metadata": {},
     "output_type": "execute_result"
    }
   ],
   "source": [
    "staff_df20.groupby(\"dept\")[[\"salary\",\"new_salary\"]].sum()"
   ]
  },
  {
   "cell_type": "code",
   "execution_count": 263,
   "id": "9dca5833",
   "metadata": {},
   "outputs": [
    {
     "data": {
      "text/html": [
       "<div>\n",
       "<style scoped>\n",
       "    .dataframe tbody tr th:only-of-type {\n",
       "        vertical-align: middle;\n",
       "    }\n",
       "\n",
       "    .dataframe tbody tr th {\n",
       "        vertical-align: top;\n",
       "    }\n",
       "\n",
       "    .dataframe thead th {\n",
       "        text-align: right;\n",
       "    }\n",
       "</style>\n",
       "<table border=\"1\" class=\"dataframe\">\n",
       "  <thead>\n",
       "    <tr style=\"text-align: right;\">\n",
       "      <th></th>\n",
       "      <th>salary</th>\n",
       "      <th>new_salary</th>\n",
       "    </tr>\n",
       "    <tr>\n",
       "      <th>dept</th>\n",
       "      <th></th>\n",
       "      <th></th>\n",
       "    </tr>\n",
       "  </thead>\n",
       "  <tbody>\n",
       "    <tr>\n",
       "      <th>WOM</th>\n",
       "      <td>150000.0</td>\n",
       "      <td>172500.0</td>\n",
       "    </tr>\n",
       "    <tr>\n",
       "      <th>MIS</th>\n",
       "      <td>100000.0</td>\n",
       "      <td>115000.0</td>\n",
       "    </tr>\n",
       "    <tr>\n",
       "      <th>Finance</th>\n",
       "      <td>70000.0</td>\n",
       "      <td>80500.0</td>\n",
       "    </tr>\n",
       "  </tbody>\n",
       "</table>\n",
       "</div>"
      ],
      "text/plain": [
       "           salary  new_salary\n",
       "dept                         \n",
       "WOM      150000.0    172500.0\n",
       "MIS      100000.0    115000.0\n",
       "Finance   70000.0     80500.0"
      ]
     },
     "execution_count": 263,
     "metadata": {},
     "output_type": "execute_result"
    }
   ],
   "source": [
    "# select dept, sum(salary), sum(new_salary) from staff_df20 group by dept order by dept desc\n",
    "staff_df20.groupby(\"dept\")[[\"salary\",\"new_salary\"]].sum().sort_values(['dept'], ascending=False)"
   ]
  },
  {
   "cell_type": "code",
   "execution_count": 264,
   "id": "690ccb1b",
   "metadata": {},
   "outputs": [
    {
     "data": {
      "text/html": [
       "<div>\n",
       "<style scoped>\n",
       "    .dataframe tbody tr th:only-of-type {\n",
       "        vertical-align: middle;\n",
       "    }\n",
       "\n",
       "    .dataframe tbody tr th {\n",
       "        vertical-align: top;\n",
       "    }\n",
       "\n",
       "    .dataframe thead th {\n",
       "        text-align: right;\n",
       "    }\n",
       "</style>\n",
       "<table border=\"1\" class=\"dataframe\">\n",
       "  <thead>\n",
       "    <tr style=\"text-align: right;\">\n",
       "      <th></th>\n",
       "      <th>salary</th>\n",
       "      <th>new_salary</th>\n",
       "    </tr>\n",
       "    <tr>\n",
       "      <th>dept</th>\n",
       "      <th></th>\n",
       "      <th></th>\n",
       "    </tr>\n",
       "  </thead>\n",
       "  <tbody>\n",
       "    <tr>\n",
       "      <th>Finance</th>\n",
       "      <td>70000.0</td>\n",
       "      <td>80500.0</td>\n",
       "    </tr>\n",
       "    <tr>\n",
       "      <th>MIS</th>\n",
       "      <td>100000.0</td>\n",
       "      <td>115000.0</td>\n",
       "    </tr>\n",
       "    <tr>\n",
       "      <th>WOM</th>\n",
       "      <td>150000.0</td>\n",
       "      <td>172500.0</td>\n",
       "    </tr>\n",
       "  </tbody>\n",
       "</table>\n",
       "</div>"
      ],
      "text/plain": [
       "           salary  new_salary\n",
       "dept                         \n",
       "Finance   70000.0     80500.0\n",
       "MIS      100000.0    115000.0\n",
       "WOM      150000.0    172500.0"
      ]
     },
     "execution_count": 264,
     "metadata": {},
     "output_type": "execute_result"
    }
   ],
   "source": [
    "# select dept, sum(salary), sum(new_salary) from staff_df20 group by dept order by dept\n",
    "staff_df20.groupby(\"dept\")[[\"salary\",\"new_salary\"]].sum().sort_values(['dept'])"
   ]
  },
  {
   "cell_type": "code",
   "execution_count": null,
   "id": "7b3b4937",
   "metadata": {},
   "outputs": [],
   "source": []
  }
 ],
 "metadata": {
  "kernelspec": {
   "display_name": "Python 3 (ipykernel)",
   "language": "python",
   "name": "python3"
  },
  "language_info": {
   "codemirror_mode": {
    "name": "ipython",
    "version": 3
   },
   "file_extension": ".py",
   "mimetype": "text/x-python",
   "name": "python",
   "nbconvert_exporter": "python",
   "pygments_lexer": "ipython3",
   "version": "3.10.9"
  }
 },
 "nbformat": 4,
 "nbformat_minor": 5
}
