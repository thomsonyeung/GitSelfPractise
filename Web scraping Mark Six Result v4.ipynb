{
 "cells": [
  {
   "cell_type": "code",
   "execution_count": 1,
   "id": "2102cdad",
   "metadata": {},
   "outputs": [],
   "source": [
    "from selenium import webdriver\n",
    "from selenium.webdriver.chrome.service import Service\n",
    "from webdriver_manager.chrome import ChromeDriverManager"
   ]
  },
  {
   "cell_type": "code",
   "execution_count": 2,
   "id": "e7713301",
   "metadata": {},
   "outputs": [],
   "source": [
    "import requests \n",
    "import pandas as pd\n",
    "from bs4 import BeautifulSoup\n",
    "import time"
   ]
  },
  {
   "cell_type": "code",
   "execution_count": 3,
   "id": "e6ce5d4b",
   "metadata": {},
   "outputs": [],
   "source": [
    "service = Service()\n",
    "options = webdriver.ChromeOptions()"
   ]
  },
  {
   "cell_type": "code",
   "execution_count": 4,
   "id": "1defc33a",
   "metadata": {},
   "outputs": [],
   "source": [
    "driver = webdriver.Chrome(service=service, options=options)"
   ]
  },
  {
   "cell_type": "code",
   "execution_count": 5,
   "id": "f811fb06",
   "metadata": {},
   "outputs": [],
   "source": [
    "driver.get(\"https://bet.hkjc.com/marksix/index.aspx?lang=en\")"
   ]
  },
  {
   "cell_type": "code",
   "execution_count": 6,
   "id": "7e46dabe",
   "metadata": {},
   "outputs": [],
   "source": [
    "time.sleep(10)"
   ]
  },
  {
   "cell_type": "code",
   "execution_count": 7,
   "id": "ca1dd8c6",
   "metadata": {},
   "outputs": [],
   "source": [
    "html=driver.page_source"
   ]
  },
  {
   "cell_type": "code",
   "execution_count": 8,
   "id": "0ba9527d",
   "metadata": {},
   "outputs": [
    {
     "data": {
      "text/plain": [
       "'<html><head><script type=\"text/javascript\" async=\"\" src=\"https://cdn.appdynamics.com/adrum-ext.bf71fe39e20d2aa8ad53d37ab6377745.js\"></script><script type=\"text/javascript\">\\nvar enableAccessControl =false;\\nfunction checkAccessControl() {\\n  if (enableAccessControl && window.sessionStorage.getItem(\\'is_logon\\')!=1) {\\n    window.location.replace(\"/general_index.aspx?lang=en\");\\n    return true;\\n  }\\n  return false;\\n}\\nif ( location.href.indexOf(\\'general_index.aspx\\')<0 ) {\\n  checkAccessControl();\\n}\\n</script>\\n\\n\\n\\n    <title>HKJC Lotteries Limited</title>\\n    <meta charset=\"utf-8\">\\n<meta name=\"viewport\" content=\"width=1024, user-scalable=1\">\\n<meta name=\"keywords\" content=\"Mark Six\">\\n<meta name=\"description\" content=\"Mark Six details\">\\n\\n    <script type=\"text/javascript\" src=\"/common/VisitorAPI.js?CV=L4.04R2\"></script>\\n<script async=\"\" type=\"text/javascript\" id=\"_cls_detector\">\\n  var enableGlassBox = false;\\n  var glassBoxSrc = \"https://cdn.gbqofs.com/hkjc/ew/p/detector-dom.min.js\";\\n  var glassBoxClsConfig = \"reportURI=https://report.hkjc.glassboxdigital.io/glassbox/reporting/e74269a6-041c-2449-6829-8206c4437429/cls_report\";\\n  try { enableGlassBox &= !WAGdpr.isEU(); } catch {}\\n\\n  if ( enableGlassBox ) {\\n    var s = document.createElement( \\'script\\' );\\n    s.setAttribute( \\'src\\', glassBoxSrc );\\n    s.setAttribute( \\'data-clsconfig\\', glassBoxClsConfig );\\n    document.head.appendChild( s );\\n  }\\n</script>\\n<link rel=\"shortcut icon\" href=\"/favicon.ico?CV=L4.04R2\" type=\"image/x-icon\">\\n<link rel=\"apple-touch-icon\" href=\"/ContentServer/jcbw/apple_touch_icons/icon_60x60.png?CV=L4.04R2\">\\n<link rel=\"apple-touch-icon\" sizes=\"76x76\" href=\"/ContentServer/jcbw/apple_touch_icons/icon_76x76.png?CV=L4.04R2\">\\n<link rel=\"apple-touch-icon\" sizes=\"120x120\" href=\"/ContentServer/jcbw/apple_touch_icons/icon_120x120.png?CV=L4.04R2\">\\n<link rel=\"apple-touch-icon\" sizes=\"152x152\" href=\"/ContentServer/jcbw/apple_touch_icons/icon_152x152.png?CV=L4.04R2\">\\n<link href=\"/marksix/info/css/en/marksix.css?CV=L4.04R2\" rel=\"stylesheet\" type=\"text/css\" id=\"mainCssFile\">\\n<link href=\"/info/include/css/info.css?CV=L4.04R2\" rel=\"stylesheet\" type=\"text/css\">\\n<link href=\"/info/include/css/en/styles.css?CV=L4.04R2\" rel=\"stylesheet\" type=\"text/css\" id=\"rootStyleFile\">\\n<link href=\"/info/include/css/en/menu_styles.css?CV=L4.04R2\" rel=\"stylesheet\" type=\"text/css\" id=\"menuStyleFile\">\\n<link href=\"/info/include/css/en/bet_main_home.css?CV=L4.04R2\" rel=\"stylesheet\" type=\"text/css\" id=\"bMainStyleFile\">\\n<link href=\"/info/include/css/en/betslip.css?CV=L4.04R2\" rel=\"stylesheet\" type=\"text/css\">\\n<link href=\"/info/include/css/en/betslip_button.css?CV=L4.04R2\" rel=\"stylesheet\" type=\"text/css\">\\n<link href=\"/info/include/css/en/betslip_overlay.css?CV=L4.04R2\" rel=\"stylesheet\" type=\"text/css\">\\n<link href=\"/info/include/css/en/betslip_eft.css?CV=L4.04R2\" rel=\"stylesheet\" type=\"text/css\">\\n<link href=\"/contentserver/jcbw/jkc/c_jockey.css?CV=L4.04R2\" rel=\"stylesheet\" type=\"text/css\">\\n<link href=\"/info/include/css/jquery.simplyscroll.css?CV=L4.04R2\" rel=\"stylesheet\" type=\"text/css\">\\n<link type=\"text/css\" rel=\"stylesheet\" id=\"pdMenuCssFile\" href=\"/marksix/info/css/pd_menu.css?CV=L4.04R2\">\\n<link type=\"text/css\" rel=\"stylesheet\" id=\"oddsMenuCssFile\" href=\"/marksix/info/css/odds_menu.css?CV=L4.04R2\">\\n<style type=\"text/css\" media=\"screen\" id=\"containerHeight\">#container { min-height: 217px; };</style>\\n<script type=\"text/javascript\" src=\"//txn.hkjc.com/BetSlipIB//js/siteId.js?CV=L4.04R2\"></script>\\n<script type=\"text/javascript\">\\n\\tvar SERVER_NAME = window.location.hostname;\\n\\tvar domainName = SERVER_NAME.substr(SERVER_NAME.indexOf(\".\") + 1);\\n\\tdocument.domain = domainName;\\n\\tvar cacheVersion = \\'?CV=L4.04R2\\';\\n\\tvar curProduct = \\'marksix\\';\\n\\tvar curPageId = window.location.pathname.toLowerCase().replace(\\'/\\' + curProduct + \\'/\\', \\'\\').replace(\\'.aspx\\', \\'\\')\\n\\t\\t.replace(\\'/index\\', \\'index\\');\\n\\tvar curLang = \\'en\\';\\n\\tvar offsetTime = 0;\\n\\tvar isQRPortal = false;\\n\\tvar allowOddsPush = false;\\n\\tvar oddsPushIconDisplay = false;\\n\\tvar secMenuE = \\'/ContentServer/jcbw/cmc/userxml/sbdata_userMenuE.xml\\';\\n\\tvar secMenuC = \\'/ContentServer/jcbw/cmc/userxml/sbdata_userMenuC.xml\\';\\n\\tvar jcewURL0 = \\'//www.hkjc.com/home/{0}/index.asp\\';\\n\\tvar jcewURL1 = \\'//entertainment.hkjc.com/entertainment/{0}/index.aspx\\';\\n\\tvar jcewURL2 = \\'//racing.hkjc.com/racing/{0}/index.aspx\\';\\n\\tvar jcewURL3 = \\'//football.hkjc.com/football/{0}/index.aspx\\';\\n\\tvar jcewURL4 = \\'//member.hkjc.com/member/{0}/index.asp\\';\\n\\tvar jcewURL5 = \\'//charities.hkjc.com/charities/{0}/index.aspx\\';\\n\\tvar jcewURL6 = \\'//corporate.hkjc.com/corporate/{0}/index.aspx\\';\\n\\tvar info_top_enable = true;\\n\\tvar info_bottom_enable = true;\\n\\tvar isBannerAdEnable = true;\\n\\tvar isMobileSplashScreenEnable = false;\\n\\tvar mobileSplashScreenLink = \\'//is.hkjc.com/jcbw/SplashScn/mobile/js_ewin/Mass/en.asp\\';\\n\\tvar smartAppIOSEnable = false;\\n\\tvar smartAppIOSId = \\'app-id=432462569\\';\\n\\tvar smartAppAOSEnable = false;\\n\\tvar smartAppAOSUrl = \\'intent://s.hkjc.com/apphome#Intent;scheme=hkjc;package=com.hkjc.bet;S.browser_fallback_url=https://is.hkjc.com/mbs/site/en/android_download.asp?b_cid=ISLDSPE_1718ISBW_BWH_ANDROID;end\\';\\n\\n\\tvar bsUsePopup = true;\\n\\n\\tvar url_regonline = \\'//wcip.hkjc.com/registerbettingservice.aspx?UIC=en-US&EP=BS\\';\\n\\tvar url_applybet = \\'//special.hkjc.com/infomenu/en/register/applybet.asp\\';\\n\\tvar url_cannotlogin = \\'//wcip.hkjc.com/inputaccoremail.aspx?UIC=en-US&EP=BS\\';\\n\\tvar url_chg_web_pass = \\'//wcip.hkjc.com/authbetaccCSSP.aspx?language=en-us&target=pw\\';\\n\\tvar url_chg_sec_question = \\'//wcip.hkjc.com/authbetaccCSSP.aspx?language=en-us&target=ekba\\';\\n\\tvar url_chg_web_profile = \\'//txn.hkjc.com/BetSlipIB/CsspRedirect.aspx?lang=en\\';\\n\\tvar url_associate_account = \\'//wcip.hkjc.com/registerbettingservice.aspx?UIC=en-US&EP=BS\\';\\n\\tvar url_ewallet_upgrade = \\'//wcip.hkjc.com/setupewalletekba.aspx?isMobile=false&UIC=en-US&EP=BS&cid=SPLDSPE_1819EWALL_BETS\\';\\n\\tvar url_help_acc_rec = \\'//is.hkjc.com/Page_Redirect/eWin/faq/en/pastRecFAQ.asp\\';\\n\\tvar url_help_recall = \\'//is.hkjc.com/Page_Redirect/eWin/faq/en/txnRecFAQ.asp\\';\\n\\tvar url_help_log = \\'//is.hkjc.com/Page_Redirect/eWin/faq/en/currRecFAQ.asp\\';\\n\\tvar url_faq = \\'//is.hkjc.com/jcbw/ekba/faq/en/betslipFAQ.asp\\';\\n\\tvar url_allup_faq = \\'//is.hkjc.com/jcbw/ekba/faq/en/allupFAQ.asp\\';\\n\\tvar url_login_timeout = \\'//bclient.hkjc.com/OddsServer/bchk/BChk128.aspx?bhcp=1\\';\\n\\tvar url_logout_box = \\'//is.hkjc.com/jcbw/ekba/promo/betslip_logout/betslip_lpromo.asp?lang=en&new=\\';\\n\\tvar url_FootballLivePath = \\'//football.hkjc.com/football/information/english/football/footballliveplayer.aspx?\\';\\n\\tvar url_SSOAuthen4WebcastURL = \\'https://elogin.hkjc.com/api/SSOWeb/GetToken?UIC=en-US\\';\\n\\n\\tvar refreshBalInterval = \\'3\\';\\n\\tvar refreshBalTimeout = \\'10\\';\\n\\n\\tvar cMaxBetlines = 30;\\n\\tvar cMaxBetBuffer = 982;\\n\\tvar inplayDelayRetryTime = 4;\\n\\n\\tvar BetSlipIBPath = \\'//txn.hkjc.com/BetSlipIB/\\';\\n\\tif (typeof txnSiteId !== \"undefined\" && txnSiteId) {\\n\\t\\tif (txnSiteId != \"@@@para_txnSiteId@@@\") {\\n\\t\\t\\tBetSlipIBPath = BetSlipIBPath.replace(\"txx.\", \"txx\" + txnSiteId + \".\");\\n\\t\\t\\tBetSlipIBPath = BetSlipIBPath.replace(\"txn.\", \"txn\" + txnSiteId + \".\");\\n\\t\\t}\\n\\t}\\n\\tvar tAndCPath = \\'/contentserver/jcbw/tAndC.json\\';\\n\\tvar byPassEOD = false;\\n\\tvar extStatement = false;\\n\\tvar idleSoundAlert = \\'//is.hkjc.com/jcbw/ekba/idleAlert/sound/Exclamation.wav\\';\\n\\tvar redirectAfterLogin = \\'\\';\\n\\tvar enableWebcastAccess = false;\\n\\tvar checkCounterOfferResend = true;\\n\\n\\tvar alupMaxLeg = \\'CHL:8;FGS:6;SGA:0;FTS:8;ECH:8;ENT:8;TNC:8;GPW:8;NTS:8;TTG:8;HAD:8;FCS:6;HDC:8;HHA:8;OOE:8;HFT:6;CHP:0;ETG:8;JKC:8;CRS:6;TPS:0;TSP:0;EHL:8;ECS:6;FHL:8;GPF:8;MSP:0;FHA:8;EDC:8;HIL:8;TQL:0;EHA:8\\';\\n\\tvar minBet = \\'CHL:10;FGS:10;SGA:10;FTS:10;ECH:10;ENT:10;TNC:10;GPW:10;NTS:10;TTG:10;HAD:10;FCS:10;HDC:10;HHA:10;OOE:10;HFT:10;CHP:10;ETG:10;JKC:10;CRS:10;TPS:10;TSP:10;EHL:10;ECS:10;FHL:10;GPF:10;MSP:10;FHA:10;EDC:10;HIL:10;TQL:10;EHA:10;ALUPX:10;JKC:10;TNC:10\\';\\n\\tvar fpsBannerInfo = \\'{\"FPSBannerControl\":{\"Image\":[{\"@path\":\"/ParameterControl/JCBW/Images/ImageLoaderEN.jpg\",\"@name\":\"ImageLoaderEN\"},{\"@path\":\"/ParameterControl/JCBW/Images/ImageLoaderTC.jpg\",\"@name\":\"ImageLoaderTC\"}],\"ImageLoaderUrlEN\":\"https://m.hkjc.com/en/other-online-services.html?b_cid=ISLDSPE_1920ISSMP_MENU_SERV#hkjc-fps\",\"ImageTargetEN\":\"_new\",\"ImageLoaderUrlTC\":\"https://m.hkjc.com/tc/other-online-services.html#hkjc-fps \",\"ImageTargetTC\":\"_new\",\"StartTime\":\"2023-02-24 11:30\",\"EndTime\":\"2026-02-24 23:59\"}}\\';\\n\\n\\tvar multiSlipPanel = null;\\n\\n\\tvar ewinParaPath = BetSlipIBPath + \\'services/Para.svc/GetEwinPara\\';\\n\\n\\tvar pServer = \\'pushpublic.hkjc.com\\';\\n\\n\\tvar oMenuPara = {};\\n\\tvar oMenuDV = \\'\\';\\n\\n\\tvar eftConfig = {\\n\\t\\tppsFAQPage: \\'//is.hkjc.com/jcbw/ekba/promo/pps/pps_faq_en.asp\\',\\n\\t\\tenableFPS: true,\\n\\t\\tenablePPS: true,\\n\\t\\tenableLinkAcc: true,\\n\\t\\turl_help_fund_deposit: \\'//is.hkjc.com/Page_Redirect/eWin/faq/en/eftFAQ.asp\\',\\n\\t\\turl_help_fund_withdrawal: \\'//is.hkjc.com/Page_Redirect/eWin/faq/en/eftBalFAQ.asp\\',\\n\\t\\tsecId: 0,\\n\\t\\tfpsInfo: null,\\n\\t\\totpResendSeconds: \"180\",\\n\\t\\tlinkTandCPath: \"/contentserver/jcbw/linkTAndC.json\",\\n\\t\\tenableDepositOtherMeans: true,\\n\\t\\tenableWithdrawalOtherMeans: true,\\n\\t\\tenableEftMarketingMsg: true\\n\\t};\\n\\n\\tvar statementConfig = {\\n\\t\\tenableEwalletIcon: true,\\n\\t\\turl_help_acc_rec: \"//is.hkjc.com/Page_Redirect/eWin/faq/en/pastRecFAQ.asp\",\\n\\t\\turl_help_log: \"//is.hkjc.com/Page_Redirect/eWin/faq/en/currRecFAQ.asp\",\\n\\t\\turl_help_recall: \"//is.hkjc.com/Page_Redirect/eWin/faq/en/txnRecFAQ.asp\"\\n\\t};\\n\\n\\tif (smartAppIOSEnable) {\\n\\t\\tvar meta = document.createElement(\"meta\");\\n\\t\\tmeta.name = \"apple-itunes-app\";\\n\\t\\tmeta.content = smartAppIOSId;\\n\\t\\tdocument.head.appendChild(meta);\\n\\t}\\n</script>\\n<style id=\"bg-for-print\"></style>\\n<script type=\"text/javascript\" src=\"/extvar.js?CV=L4.04R2\"></script>\\n<script type=\"text/javascript\" src=\"/common/VisitorAPI.js?CV=L4.04R2\"></script>\\n<script type=\"text/javascript\" src=\"/info/include/js/default.js?CV=L4.04R2\"></script>\\n<script type=\"text/javascript\" src=\"/info/include/js/jquery-3.3.1.min.js?CV=L4.04R2\"></script>\\n<script type=\"text/javascript\" src=\"/info/include/js/jquery-cookie.js?CV=L4.04R2\"></script>\\n<script type=\"text/javascript\" src=\"/info/include/js/common.js?CV=L4.04R2\"></script>\\n<script type=\"text/javascript\" src=\"/info/include/js/pd_odds_menu.js?CV=L4.04R2\"></script>\\n<script type=\"text/javascript\" src=\"/info/include/js/home_msg.js?CV=L4.04R2\"></script>\\n<script type=\"text/javascript\" src=\"/info/include/js/autopolling.js?CV=L4.04R2\"></script>\\n<script type=\"text/javascript\" src=\"/info/include/js/menu.js?CV=L4.04R2\"></script>\\n<script type=\"text/javascript\" src=\"/info/include/rgp/rgp.js?CV=L4.04R2\"></script>\\n<script type=\"text/javascript\" src=\"/info/include/js/react.min.js?CV=L4.04R2\"></script>\\n<script type=\"text/javascript\" src=\"/info/include/js/react-dom.min.js?CV=L4.04R2\"></script>\\n<script type=\"text/javascript\" src=\"/info/include/js/commons/custom/oddspusherr.js?CV=L4.04R2\"></script>\\n<script type=\"text/javascript\" src=\"/info/include/js/commons/lightstreamer/lscommons.js?CV=L4.04R2\"></script>\\n<script type=\"text/javascript\" src=\"/info/include/js/commons/lightstreamer/lspushpage.js?CV=L4.04R2\"></script>\\n<script type=\"text/javascript\" src=\"/info/include/js/commons/custom/misc.js?CV=L4.04R2\"></script>\\n<script type=\"text/javascript\" src=\"/info/include/js/jquery.simplyscroll.min.js?CV=L4.04R2\"></script>\\n<script type=\"text/javascript\" src=\"/info/include/js/jquery.cycle2.js?CV=L4.04R2\"></script>\\n<script type=\"text/javascript\" src=\"/bannerad/js/system/sdceo_config.js?CV=L4.04R2\"></script>\\n<script type=\"text/javascript\" src=\"/bannerad/js/system/sdceo_core.js?CV=L4.04R2\"></script><style>.preview-highlight{border: 5px red dashed !important; margin: -5px !important;}</style>\\n<script type=\"text/javascript\" src=\"/info/include/js/banner.js?CV=L4.04R2\"></script>\\n\\n<script type=\"text/javascript\" src=\"/info/include/js/bs_eft.js?CV=L4.04R2\"></script>\\n<script type=\"text/javascript\" src=\"/info/include/js/bs_eftValue.js?CV=L4.04R2\"></script>\\n<script type=\"text/javascript\" src=\"/info/include/js/bs_eftKeypad.js?CV=L4.04R2\"></script>\\n<script type=\"text/javascript\" src=\"/info/include/js/bs_betobj.js?CV=L4.04R2\"></script>\\n<script type=\"text/javascript\" src=\"/info/include/js/bs_accInfo.js?CV=L4.04R2\"></script>\\n<script type=\"text/javascript\" src=\"/info/include/js/bs_common.js?CV=L4.04R2\"></script>\\n<script type=\"text/javascript\" src=\"/info/include/js/bs_para.js?CV=L4.04R2\"></script>\\n<script type=\"text/javascript\" src=\"/info/include/js/bs_util.js?CV=L4.04R2\"></script>\\n<script type=\"text/javascript\" src=\"/info/include/js/bs_data.js?CV=L4.04R2\"></script>\\n<script type=\"text/javascript\" src=\"/info/include/js/bs_datastore.js?CV=L4.04R2\"></script>\\n<script type=\"text/javascript\" src=\"/info/include/js/bs_setting.js?CV=L4.04R2\"></script>\\n<script type=\"text/javascript\" src=\"/info/include/js/bs_allup.js?CV=L4.04R2\"></script>\\n<script type=\"text/javascript\" src=\"/info/include/js/bs_betcalc.js?CV=L4.04R2\"></script>\\n<script type=\"text/javascript\" src=\"/info/include/js/bs_layout.js?CV=L4.04R2\"></script>\\n<script type=\"text/javascript\" src=\"/info/include/js/bs_str_table.js?CV=L4.04R2\"></script>\\n<script type=\"text/javascript\" src=\"/info/include/js/bs_interface.js?CV=L4.04R2\"></script>\\n<script type=\"text/javascript\" src=\"/info/include/js/bs_request.js?CV=L4.04R2\"></script>\\n<script type=\"text/javascript\" src=\"/info/include/js/bs_betdiv.js?CV=L4.04R2\"></script>\\n<script type=\"text/javascript\" src=\"/info/include/js/bs_logDataAccessor.js?CV=L4.04R2\"></script>\\n<script type=\"text/javascript\" src=\"/info/include/js/bs_overlay.js?CV=L4.04R2\"></script>\\n<script type=\"text/javascript\" src=\"/info/include/js/FileSaver.min.js?CV=L4.04R2\"></script>\\n<script type=\"text/javascript\">\\n\\tloadLangPreference();\\n\\n\\tfunction reInit() {\\n\\t\\t$(window).scrollTop(0);\\n\\t\\tsupportAutoScrolling = false;\\n\\t\\t$(\\'#printDiv\\').html(\\'\\');\\n\\n\\t\\tswitchProduct(curProduct, curLang);\\n\\n\\t\\tclearAllInterval();\\n\\n\\t\\tcurPageId = window.location.pathname.toLowerCase().replace(\\'/\\' + curProduct + \\'/\\', \\'\\').replace(\\'.aspx\\', \\'\\')\\n\\t\\t\\t.replace(\\'/index\\', \\'index\\');\\n\\t\\tcallWAReq();\\n\\t}\\n\\n\\t$(document).ready(function () {\\n\\t\\tif (isQRPortal) {\\n\\t\\t\\tstartQRPortal();\\n\\t\\t} else {\\n\\n\\t\\t\\tloadEwinPara(ewinParaPath);\\n\\n\\t\\t\\t$(\\'#infoDiv\\').click(function () {\\n\\t\\t\\t\\tif (isSlipOpen() && betslipState != STATE_IDLEALERT) {\\n\\t\\t\\t\\t\\tslipClose(true);\\n\\t\\t\\t\\t}\\n\\t\\t\\t});\\n\\t\\t}\\n\\t\\tgenMenuObject(curLang);\\n\\t\\tlogonDetectForOddsPush();\\n\\t\\tmobileBrowserChecking();\\n\\t\\tpushFirstHistory();\\n\\t\\tpageScroll();\\n\\t\\tshowBetPreviewOnEnter();\\n\\t});\\n\\n\\tvar checkChangesEnabled = true;\\n\\tif (!isQRPortal) {\\n\\t\\twindow.onbeforeunload = function () {\\n\\t\\t\\tif ( !checkChangesEnabled )\\n\\t\\t\\t\\treturn;\\n\\n\\t\\t\\tvar returnValue = null;\\n\\t\\t\\tif (isLogon() || betslipState == STATE_EKBA) {\\n\\t\\t\\t\\treturnValue = GetError(\"1303\");\\n\\t\\t\\t} else if (isBetBasketNotEmpty())\\n\\t\\t\\t\\treturnValue = GetError(\"refresh_warning\");\\n\\n\\t\\t\\tif (returnValue != null) {\\n\\t\\t\\t\\treturn returnValue;\\n\\t\\t\\t}\\n\\t\\t};\\n\\n\\t\\twindow.onunload = function () {\\n\\t\\t\\tif (isLogon() || betslipState == STATE_EKBA) {\\n\\t\\t\\t\\tif(typeof bypassForceLogout == \\'undefined\\' || bypassForceLogout != true)  {\\n\\t\\t\\t\\t\\tforceLogout();\\n\\t\\t\\t\\t}\\n\\t\\t\\t}\\n\\t\\t\\tCloseAllPopup(true);\\n\\t\\t}\\n\\t}\\n</script>\\n<script>\\n\\t$(window).bind(\"pageshow\", function(event) {\\n\\t\\tif(event.originalEvent.persisted) {\\n\\t\\t\\twindow.location.reload();\\n\\t\\t}\\n\\t});\\n</script><script charset=\"UTF-8\">\\nwindow[\\'adrum-start-time\\'] = new Date().getTime();\\n\\n    (function(config){\\n        (function(xhr) {\\n            xhr.exclude = {\\n                urls: [{\\n                    pattern: \".*glassbox.*\",\\n                    type: \"regex\"\\n                }]\\n            };\\n        })(config.xhr || (config.xhr = {}));\\n    })(window[\"adrum-config\"] || (window[\"adrum-config\"] = {}));\\n\\n(function(config){\\n    config.appKey = \\'EUM-AAB-AVW\\';\\n    config.adrumExtUrlHttp = \\'http://cdn.appdynamics.com\\';\\n    config.adrumExtUrlHttps = \\'https://cdn.appdynamics.com\\';\\n    config.beaconUrlHttps = \\'https://apm.cld.hkjc.com\\';\\n    config.xd = {enable : false};\\n    config.spa = {\\n            \"spa2\": true \\n    };\\n})(window[\\'adrum-config\\'] || (window[\\'adrum-config\\'] = {}));\\n</script>\\n<script src=\"//cdn.appdynamics.com/adrum/adrum-latest.js\"></script>\\n\\n\\n    \\n\\n<style>.preview-highlight{border: 5px red dashed !important; margin: -5px !important;}</style><script id=\"js_BW6HTH1E\" type=\"text/javascript\" src=\"/bannerad/js/zone/sdceo_zone_BW6HTH1E_banner.js?date=202308011011\"></script><script id=\"js_BW6HTH2E\" type=\"text/javascript\" src=\"/bannerad/js/zone/sdceo_zone_BW6HTH2E_banner.js?date=202308011011\"></script><script id=\"js_BW6HTH3E\" type=\"text/javascript\" src=\"/bannerad/js/zone/sdceo_zone_BW6HTH3E_banner.js?date=202308011011\"></script><script id=\"js_BW6HTH4E\" type=\"text/javascript\" src=\"/bannerad/js/zone/sdceo_zone_BW6HTH4E_banner.js?date=202308011011\"></script><script id=\"js_BW6HSH1E\" type=\"text/javascript\" src=\"/bannerad/js/zone/sdceo_zone_BW6HSH1E_banner.js?date=202308011011\"></script><script id=\"js_BW6HSH2E\" type=\"text/javascript\" src=\"/bannerad/js/zone/sdceo_zone_BW6HSH2E_banner.js?date=202308011011\"></script><script id=\"js_BW6HSH3E\" type=\"text/javascript\" src=\"/bannerad/js/zone/sdceo_zone_BW6HSH3E_banner.js?date=202308011011\"></script><script id=\"js_BW6HSH4E\" type=\"text/javascript\" src=\"/bannerad/js/zone/sdceo_zone_BW6HSH4E_banner.js?date=202308011011\"></script><script id=\"js_BW6HSH5E\" type=\"text/javascript\" src=\"/bannerad/js/zone/sdceo_zone_BW6HSH5E_banner.js?date=202308011011\"></script><script id=\"js_BW6HSH6E\" type=\"text/javascript\" src=\"/bannerad/js/zone/sdceo_zone_BW6HSH6E_banner.js?date=202308011011\"></script></head>\\n<body oncontextmenu=\"return true;\">\\n<div id=\"printDiv\"></div>\\n<div id=\"infoDiv\">\\n    <script type=\"text/javascript\">\\nfunction receiveMessage(event) {\\n var trustedOrigins = \\'//is.hkjc.com;//special.hkjc.com\\'.split(\\';\\');\\nvar i = trustedOrigins.length;\\n while (i--) {\\n if (trustedOrigins[i] === event.origin) {\\neval(event.data);}}}\\nif (!window.addEventListener) window.attachEvent(\\'onmessage\\', receiveMessage);\\nelse window.addEventListener(\\'message\\', receiveMessage, false);\\n</script>\\n\\n    <div id=\"topNav\" style=\"z-index: 200; position: absolute; left: 233px; top: 62px; width: 530px;\"><div class=\"tContainer\"><div class=\"tDropdown\" onmouseover=\"tMenuHover(true, 0);\" onmouseout=\"tMenuHover(false, 0);\" style=\"width:132.5px\" onclick=\"tMenuClick(0);\">Online Channels</div><div class=\"tDropdown\"><img src=\"/info/include/images/stroke_menu.gif\" width=\"1px\"></div><div class=\"tDropdown\" onmouseover=\"tMenuHover(true, 1);\" onmouseout=\"tMenuHover(false, 1);\" style=\"width:132.5px\" onclick=\"tMenuClick(1);\">Retail &amp; Telebet</div><div class=\"tDropdown\"><img src=\"/info/include/images/stroke_menu.gif\" width=\"1px\"></div><div class=\"tDropdown\" onmouseover=\"tMenuHover(true, 2);\" onmouseout=\"tMenuHover(false, 2);\" style=\"width:132.5px\" onclick=\"tMenuClick(2);\">Betting Info</div><div class=\"tDropdown\"><img src=\"/info/include/images/stroke_menu.gif\" width=\"1px\"></div><div class=\"tDropdown\" onmouseover=\"tMenuHover(true, 3);\" onmouseout=\"tMenuHover(false, 3);\" style=\"width:132.5px\" onclick=\"tMenuClick(3);\">Customer Services</div></div><div id=\"tMenuDD\" class=\"tContainer tDisplayNone tDropdownTable\"><div id=\"tMenuDDSub0\" class=\"tDropdownCell tMenuBorderLeft\" style=\"width:132.5px\"><div class=\"tDropdownItem\" onfocusout=\"tMenuCloseOnFocusOut();\" onclick=\"tSubMenuClick(0,0);\">Smart Platform</div><div class=\"tDropdownItem\" onfocusout=\"tMenuCloseOnFocusOut();\" onclick=\"tSubMenuClick(0,1);\">Apply for Betting Account</div><div class=\"tDropdownItem\" onfocusout=\"tMenuCloseOnFocusOut();\" onclick=\"tSubMenuClick(0,2);\">Funds Transfer</div></div><div class=\"tMenuStroke\"></div><div id=\"tMenuDDSub1\" class=\"tDropdownCell\" style=\"width:132.5px\"><div class=\"tDropdownItem\" onmouseover=\"menuTxtOver(1, 0, 1, 0);\" onmouseout=\"menuTxtOver(1, 0, 0, 0);\" onfocusout=\"tMenuCloseOnFocusOut();\" onclick=\"tSubMenuClick(1,0);\">Off-course Betting Branches</div><div class=\"tDropdownItem\" onmouseover=\"menuTxtOver(1, 1, 1, 0);\" onmouseout=\"menuTxtOver(1, 1, 0, 0);\" onfocusout=\"tMenuCloseOnFocusOut();\" onclick=\"tSubMenuClick(1,1);\">Telebet</div><div class=\"tDropdownItem\" onmouseover=\"menuTxtOver(1, 2, 1, 0);\" onmouseout=\"menuTxtOver(1, 2, 0, 0);\" onfocusout=\"tMenuCloseOnFocusOut();\" onclick=\"tSubMenuClick(1,2);\">Racecourse</div></div><div class=\"tMenuStroke\"></div><div id=\"tMenuDDSub2\" class=\"tDropdownCell\" style=\"width:132.5px\"><div class=\"tDropdownItem\" onfocusout=\"tMenuCloseOnFocusOut();\" onclick=\"tSubMenuClick(2,0);\">Horse Racing</div><div class=\"tDropdownItem\" onfocusout=\"tMenuCloseOnFocusOut();\" onclick=\"tSubMenuClick(2,1);\">HKJC Football</div><div class=\"tDropdownItem\" onfocusout=\"tMenuCloseOnFocusOut();\" onclick=\"tSubMenuClick(2,2);\">Mark Six</div><div class=\"tDropdownItem\" onfocusout=\"tMenuCloseOnFocusOut();\" onclick=\"tSubMenuClick(2,3);\">Investments and Dividends</div></div><div class=\"tMenuStroke\"></div><div id=\"tMenuDDSub3\" class=\"tDropdownCell tMenuBorderRight\" style=\"width:132.5px\"><div class=\"tDropdownItem\" onfocusout=\"tMenuCloseOnFocusOut();\" onclick=\"tSubMenuClick(3,0);\">Customer Service Chatbot <sup><span style=\"text-align:center;color:#ffffff;background:rgb(230,0,0);margin:0;padding:0 2px;font-size:7px;line-height:9px;width:16px;display:inline-block;border-radius:2px;\">New</span></sup></div><div class=\"tDropdownItem\" onfocusout=\"tMenuCloseOnFocusOut();\" onclick=\"tSubMenuClick(3,1);\">Customer eCentre</div><div class=\"tDropdownItem\" onfocusout=\"tMenuCloseOnFocusOut();\" onclick=\"tSubMenuClick(3,2);\">Download Forms</div><div class=\"tDropdownItem\" onfocusout=\"tMenuCloseOnFocusOut();\" onclick=\"tSubMenuClick(3,3);\">Other Contact Channels</div></div><div class=\"tMenuBox\" style=\"position:absolute; right:2px; width:260px; height:166px; display:none\" id=\"menuBox\"></div></div></div>\\n<script type=\"text/javascript\" src=\"/info/include/js/xml2json.min.js?CV=L4.04R2\"></script>\\n<div class=\"fMenuTABLE\">\\n  <div class=\"fMenuTR\">\\n    <div class=\"fMenuRow\"><img id=\"machineInfo\" src=\"/info/include/images/spacer.gif?CV=L4.04R2\" width=\"10\" height=\"10\" title=\"80\"></div>\\n    <div class=\"fMenuRowLang\"><a href=\"javascript:changeLang()\" class=\"topMenuLang\"></a></div>\\n    <div class=\"fMenuRowHome\"><a href=\"javascript:topMenuLink(0);\" class=\"topMenuHome\"></a></div>\\n    <div id=\"fMenuRC\" onclick=\"topMenuLink(1);\"></div>\\n    <div class=\"fMenuRowLine\"></div>\\n    <div id=\"fMenuHR\" onclick=\"topMenuLink(2);\"></div>\\n    <div class=\"fMenuRowLine\"></div>\\n    <div id=\"fMenuFB\" onclick=\"topMenuLink(3);\"></div>\\n    <div class=\"fMenuRowLine\"></div>\\n    <div id=\"fMenuMEM\" onclick=\"topMenuLink(4);\"></div>\\n    <div class=\"fMenuRowLine\"></div>\\n    <div id=\"fMenuCHA\" onclick=\"topMenuLink(5);\"></div>\\n    <div class=\"fMenuRowLine\"></div>\\n    <div id=\"fMenuABOUT\" onclick=\"topMenuLink(6);\"></div>\\n  </div>\\n</div>\\n\\n<div class=\"secMenu\">\\n  <div class=\"secMenuTR\">\\n    <div class=\"secTable\">\\n      <div id=\"secMenuHR\" title=\"Racing\" onclick=\"switchTo(\\'racing\\', \\'index\\', curLang);\"></div>\\n      <div id=\"secMenuFB\" title=\"HKJC Football\" onclick=\"switchTo(\\'football\\', \\'index\\', curLang);\"></div>\\n      <div id=\"secMenuM6\" title=\"Mark Six\" onclick=\"switchTo(\\'marksix\\', \\'index\\', curLang);\"></div>\\n      <div id=\"secMenu3in1\" title=\"EWin\" onclick=\"switchTo(\\'home\\', \\'index\\', curLang);\"></div> \\n      <div class=\"date\" id=\"server_datetime\">01/08/23 10:10 (TUE)</div>\\n    </div>\\n  </div>\\n  <div class=\"secMenuLine\"></div>\\n</div>\\n\\n<script type=\"text/javascript\">\\n  var serverDateObj = new Date(2023, 7, 1, 10, 10, 22);\\n  serverOddsRefresh();\\n  function serverOddsRefresh() {\\n    $(\"#server_datetime\").html(formatServerOdds(serverDateObj));\\n\\tserverDateObj.setMinutes(serverDateObj.getMinutes() + 1);\\n    window.setTimeout(\"serverOddsRefresh()\", 60000);\\n  }\\n  function formatServerOdds(d) {\\n    return addZero(d.getDate()) + \"/\" + addZero((d.getMonth() + 1)) + \"/\" + addZero(d.getFullYear()) + \" \" + addZero(d.getHours()) + \":\" + addZero(d.getMinutes())+\\' (\\'+jsWeekDayArr[curLang][d.getDay()] + \\')\\';\\n  }\\n  function addZero(tstr) {\\n    return (\"0\"+tstr).substr((tstr+\"\").length-1, 2)\\n  }\\n  \\n  $(\\'#machineInfo\\').prop(\\'title\\', \\'80\\');\\n</script>\\n\\n    <div id=\"topBannerDiv\" class=\"topBanner\">\\n  <div id=\"divTopBanner\" style=\"\">\\n    <div id=\"info_top_block\"><div id=\"info_top\">\\n        <div id=\"block_home_info\">\\n            <div class=\"landingMenuTop\">\\n                <div id=\"marksixLandingTab\"><div class=\"marksixBtn\" onclick=\"SubMenuClick(0, \\'marksix\\');\">Snowball Draw</div><div class=\"marksixBtnOver\" onclick=\"SubMenuClick(1, \\'marksix\\');\">Next Draw</div><div class=\"marksixBtn\" onclick=\"SubMenuClick(2, \\'marksix\\');\">Info Centre</div></div>\\n            </div>\\n            <div class=\"marksixTopMenuContent\">\\n                <div id=\"marksixSnowball\" style=\"display: none;\"><div style=\"width:100%; text-align:center; padding-top:50px;\" class=\"marksixlink\">No information temporarily</div></div>\\n                <div id=\"marksixNextdraw\" style=\"\"><ul><li><a href=\"javascript:;\" class=\"marksixLink\" onclick=\"switchTo(\\'marksix\\', \\'Fixtures\\', curLang)\">01/08/2023 (TUE)</a></li></ul><ul style=\"border-top: 1px dotted #CCCCCC\"><li><a href=\"javascript:;\" class=\"marksixLink\" onclick=\"switchTo(\\'marksix\\', \\'Fixtures\\', curLang)\">03/08/2023 (THU)</a></li></ul><ul style=\"border-top: 1px dotted #CCCCCC\"><li><a href=\"javascript:;\" class=\"marksixLink\" onclick=\"switchTo(\\'marksix\\', \\'Fixtures\\', curLang)\">05/08/2023 (SAT)</a></li></ul><ul style=\"border-top: 1px dotted #CCCCCC\"><li><a href=\"javascript:;\" class=\"marksixLink\" onclick=\"switchTo(\\'marksix\\', \\'Fixtures\\', curLang)\">08/08/2023 (TUE)</a></li></ul></div>\\n                <div id=\"marksixInfoCentres\" style=\"display: none;\"><ul><li><a href=\"//campaign.hkjc.com/en/jctv/index.aspx\" class=\"marksixLink\" target=\"_blank\">Live telecast of Mark Six draws</a></li></ul></div>\\n            </div>\\n\\t\\t</div>\\n        <div id=\"m6JpCnt\" style=\"display: none;\">0</div>\\n        <div id=\"m6ArrLbl\" style=\"display: none;\">[\"Snowball Draw\",\"Next Draw\",\"Info Centre\"]</div>\\n    </div></div>\\n    <div id=\"info_top_promo\"><div class=\"jcSlideshows\" data-cycle-timeout=\"15000\" data-cycle-slides=\" > div\" data-cycle-log=\"false\" style=\"position: relative;\"><div class=\"p0 cycle-slide cycle-sentinel\" style=\"position: static; top: 0px; left: 0px; z-index: 100; opacity: 1; display: block; visibility: hidden;\"><a onclick=\"BANNER.Common.openBetPage(\\'//bet.hkjc.com/marksix/Random.aspx?lang=en&amp;b_cid=BW6HTH1E_FLM_M6genericJUL-2023_39\\');\" style=\"visibility: hidden;\"><img src=\"/bannerad/images/banner/FLM_M6genericJUL-2023_39/M6_WebBanner_Green_DrawToday_EN.jpg\" style=\"max-height: 180px; max-width: 530px; visibility: hidden;\"></a></div><div class=\"p0 cycle-slide\" style=\"position: absolute; top: 0px; left: 0px; z-index: 100; opacity: 0; display: block; visibility: hidden;\"><a onclick=\"BANNER.Common.openBetPage(\\'//bet.hkjc.com/marksix/Random.aspx?lang=en&amp;b_cid=BW6HTH1E_FLM_M6genericJUL-2023_39\\');\"><img src=\"/bannerad/images/banner/FLM_M6genericJUL-2023_39/M6_WebBanner_Green_DrawToday_EN.jpg\" style=\"max-height: 180px; max-width: 530px;\"></a></div><div class=\"p1 cycle-slide cycle-slide-active\" style=\"position: absolute; top: 0px; left: 0px; z-index: 99; visibility: visible; opacity: 1; display: block;\"><a id=\"sdceo_sys_bannerad_highlight_BW6HTH2Ea\"><img src=\"/bannerad/images/zone/BW6HTH2E/BW6HTH2E_default_530x180.jpg\" style=\"max-height: 180px; max-width: 530px;\"></a></div><div class=\"p2 cycle-slide\" style=\"position: absolute; top: 0px; left: 0px; z-index: 97; visibility: hidden;\"><a id=\"sdceo_sys_bannerad_highlight_BW6HTH3Ea\"><img src=\"/bannerad/images/banner/CDX_MOBILEBET-2022_25/FPS_530x180_e.jpg\" style=\"max-height: 180px; max-width: 530px;\"></a></div><div class=\"p3 cycle-slide\" style=\"position: absolute; top: 0px; left: 0px; z-index: 96; visibility: hidden;\"><a id=\"sdceo_sys_bannerad_highlight_BW6HTH4Ea\"><img src=\"/bannerad/images/banner/EA_RGP-2021_09/20180319_banner_RGP_530x180_e.jpg\" style=\"max-height: 180px; max-width: 530px;\"></a></div></div><div id=\"scrollerHolder\" style=\"position:absolute;z-index:100\"><div class=\"vert simply-scroll-container\"><div class=\"simply-scroll-clip\"><ul id=\"scroller\" class=\"simply-scroll-list\" style=\"height: 560px;\"><li><a href=\"javascript:;\" class=\"p0 activesdceo_sys_bannerad_highlight_BW6HTH1E\"><img src=\"/bannerad/images/banner/FLM_M6genericJUL-2023_39/Mark_Six_Webbanner_Green_80x50_EN.jpg\"></a></li><li><a href=\"javascript:;\" class=\"p1 sdceo_sys_bannerad_highlight_BW6HTH2E active\"><img src=\"/bannerad/images/zone/BW6HTH2E/BW6HTH2E_default_80x50.jpg\"></a></li><li><a href=\"javascript:;\" class=\"p2 sdceo_sys_bannerad_highlight_BW6HTH3E\"><img src=\"/bannerad/images/banner/CDX_MOBILEBET-2022_25/FPS_80x50_e.jpg\"></a></li><li><a href=\"javascript:;\" class=\"p3 sdceo_sys_bannerad_highlight_BW6HTH4E\"><img src=\"/bannerad/images/banner/EA_RGP-2021_09/20180319_banner_RGP_80x50_e.jpg\"></a></li><li><a href=\"javascript:;\" class=\"p0 activesdceo_sys_bannerad_highlight_BW6HTH1E\"><img src=\"/bannerad/images/banner/FLM_M6genericJUL-2023_39/Mark_Six_Webbanner_Green_80x50_EN.jpg\"></a></li><li><a href=\"javascript:;\" class=\"p1 sdceo_sys_bannerad_highlight_BW6HTH2E active\"><img src=\"/bannerad/images/zone/BW6HTH2E/BW6HTH2E_default_80x50.jpg\"></a></li><li><a href=\"javascript:;\" class=\"p2 sdceo_sys_bannerad_highlight_BW6HTH3E\"><img src=\"/bannerad/images/banner/CDX_MOBILEBET-2022_25/FPS_80x50_e.jpg\"></a></li></ul></div></div></div><div id=\"bannerPromo\"></div></div>\\n    <div style=\"clear:both\"></div>\\n  </div>\\n</div>\\n\\n    <div id=\"homeSNDiv\" style=\"\">\\n\\t<div style=\"display:table;width:764px;height:26px;background-color:#002E63;border:#002E63 0.5px solid;padding:0px 5px 0px 5px\">\\n\\t\\t<div style=\"display:table-row;position:relative;width:764px;background-color:#FFDE00;\">\\n\\t\\t\\t<div class=\"importantCell1\"></div>\\n\\t\\t\\t<div class=\"importantCell3\" id=\"divNewsCont\"><div id=\"divNews\" class=\"content\" style=\"display: block;\">TVB channel 85 will not be showing the Mark Six draw live broadcast on 29 July, 1 &amp; 3 August due to the Simulcast Race </div></div>\\n\\t\\t\\t<div class=\"importantCell4\" style=\"visibility: visible;\" onclick=\"reloadImportantNotices(toProductShortCode()); NewWindow(\\'/msginbox.aspx?lang=\\' + curLang + \\'&amp;pd=\\' + toProductShortCode(), \\'msgInbox\\' + toProductShortCode(), 664, 462, 1, 0);\">More</div>\\n\\t\\t</div>\\n\\t</div>\\n</div>\\n\\n    <div id=\"thirdMenu\" class=\"pMenuTABLE\"><div class=\"pContainer\"><div class=\"pDropdown\" onclick=\"menuItemClick(0,-1);\" style=\"width: 225.938px;\"><span>Drawn Number Checking</span></div><div class=\"pDropdown\" style=\"padding-top: 3px; width: 1.83861px;\"><img src=\"/marksix/info/images/tool_line_v.gif?CV=L4.04R2\" width=\"1px\" height=\"14px\"></div><div class=\"pDropdown\" onclick=\"menuItemClick(1,-1);\" style=\"width: 67.4541px;\"><span>Results</span></div><div class=\"pDropdown\" style=\"padding-top: 3px; width: 1.83861px;\"><img src=\"/marksix/info/images/tool_line_v.gif?CV=L4.04R2\" width=\"1px\" height=\"14px\"></div><div class=\"pDropdown\" onclick=\"menuItemClick(2,-1);\" style=\"width: 137.149px;\"><span>Draw Schedule</span></div><div class=\"pDropdown\" style=\"padding-top: 3px; width: 1.83861px;\"><img src=\"/marksix/info/images/tool_line_v.gif?CV=L4.04R2\" width=\"1px\" height=\"14px\"></div><div class=\"pDropdown\" onclick=\"menuItemClick(3,-1);\" style=\"width: 91.0687px;\"><span>Calculator</span></div><div class=\"pDropdown\" style=\"padding-top: 3px; width: 1.83861px;\"><img src=\"/marksix/info/images/tool_line_v.gif?CV=L4.04R2\" width=\"1px\" height=\"14px\"></div><div class=\"pDropdown\" style=\"width: 80.9372px;\"><div class=\"pDropbtn\" onclick=\"pMenuClick(4);\">Statistics</div><div class=\"pDropdownTable\" id=\"pMenu4\"><ul><li onclick=\"menuItemClick(4,0);\">Statistics</li><li onclick=\"menuItemClick(4,1);\">Lucky OCB</li></ul></div></div><div class=\"pDropdown\" style=\"padding-top: 3px; width: 1.83861px;\"><img src=\"/marksix/info/images/tool_line_v.gif?CV=L4.04R2\" width=\"1px\" height=\"14px\"></div><div class=\"pDropdown\" style=\"width: 138.26px;\"><div class=\"pDropbtn\" onclick=\"pMenuClick(5);\">Mark Six Guide</div><div class=\"pDropdownTable\" id=\"pMenu5\" style=\"left: 612px;\"><ul><li onclick=\"menuItemClick(5,0);\">Mark Six Lottery</li><li onclick=\"menuItemClick(5,1);\">Prize Qualification</li><li onclick=\"menuItemClick(5,2);\">Allocation of Prize Fund</li><li onclick=\"menuItemClick(5,3);\">Mark Six Snowball Draw</li><li onclick=\"menuItemClick(5,4);\">Types of Entry</li><li onclick=\"menuItemClick(5,5);\">Multiple/Banker Entry Chance Table</li><li onclick=\"menuItemClick(5,6);\">Multiple Consecutive Draws</li><li onclick=\"menuItemClick(5,7);\">Ticket Filling &amp; Validation</li><li onclick=\"menuItemClick(5,8);\">Important Notice</li><li onclick=\"menuItemClick(5,9);\">Lotteries Rules</li></ul></div></div></div></div>\\n    <div id=\"oddsMenu\" style=\"width: 115px;\"><div id=\"oMenuTABLE\"><div class=\"oMenuTitle\">Next Draw</div><div class=\"oMenuTR\"><div class=\"oMenuTD1\"><img src=\"/info/marksix/info/images/arrow.gif?CV=L4.04R2\" width=\"4px\" height=\"5px\"></div><div class=\"oMenuTD2\" onclick=\"switchTo(curProduct, \\'Single\\', curLang);highLightMenu(this)\" id=\"oMenuSINGLE.ASPX\">Self Select Single</div></div><div class=\"oMenuTR\"><div class=\"oMenuTD1\"><img src=\"/info/marksix/info/images/arrow.gif?CV=L4.04R2\" width=\"4px\" height=\"5px\"></div><div class=\"oMenuTD2\" onclick=\"switchTo(curProduct, \\'Multiple\\', curLang);highLightMenu(this)\" id=\"oMenuMULTIPLE.ASPX\">Self Select Multiple</div></div><div class=\"oMenuTR\"><div class=\"oMenuTD1\"><img src=\"/info/marksix/info/images/arrow.gif?CV=L4.04R2\" width=\"4px\" height=\"5px\"></div><div class=\"oMenuTD2\" onclick=\"switchTo(curProduct, \\'Banker\\', curLang);highLightMenu(this)\" id=\"oMenuBANKER.ASPX\">Self Select Banker</div></div><div class=\"oMenuTR\"><div class=\"oMenuTD1\"><img src=\"/info/marksix/info/images/arrow.gif?CV=L4.04R2\" width=\"4px\" height=\"5px\"></div><div class=\"oMenuTD2\" onclick=\"switchTo(curProduct, \\'Random\\', curLang);highLightMenu(this)\" id=\"oMenuRANDOM.ASPX\">Quick Pick</div></div></div></div>\\n    <div id=\"container\">\\n        <script type=\"text/javascript\">\\n            var dPageDone = $.Deferred();\\n            $.when(\\n                $.getScript(\"/marksix/script/m6str.js?lang=en&CV=L4.04R2\"),\\n                getScriptNotCache(\"/marksix/script/bs_common2.js?CV=L4.04R2\"),\\n                getScriptNotCache(\"/marksix/script/randomGen.js?CV=L4.04R2\"),\\n                getScriptNotCache(\"/marksix/script/m6betfunc2.js?CV=L4.04R2\"),\\n                getScriptNotCache(\"/marksix/script/m6results.js?CV=L4.04R2\"),\\n                getScriptNotCache(\"/marksix/script/PUB2.js?CV=L4.04R2\"),\\n                $.Deferred(function (deferred) {\\n                    $(deferred.resolve);\\n                })\\n            ).done(function () {\\n                unloadAllCss();\\n\\n                reInit();\\n                m6Init();\\n                pageName = \\'m6\\';\\n                document.title = \\'HKJC Lotteries Limited\\';\\n                try {\\n                    ShowMyM6Favorites(\\'m6FavoritesCookie\\');\\n                } catch (e) { }\\n                dPageDone.resolve();\\n            });\\n            \\n             $.when(dPageDone).done(function () {\\n                // Get Script\\n                $.when(\\n                    $.getScript(\"/info/include/js/jquery.simplyscroll.min.js?CV=L4.04R2\"),\\n                    $.getScript(\"/info/include/js/jquery.cycle2.js?CV=L4.04R2\"),                    \\n                    $.getScript(\"/bannerad/js/system/sdceo_config.js?CV=L4.04R2\"),\\n                    $.getScript(\"/bannerad/js/system/sdceo_core.js?CV=L4.04R2\"),\\n                    $.getScript(\"/info/include/js/banner.js?CV=L4.04R2\"),\\n                    $.getScript(\"/info/include/js/banner_top.js?CV=L4.04R2\"),\\n                    $.getScript(\"/info/include/js/banner_bottom.js?CV=L4.04R2\"),\\n                    $.Deferred(function (deferred) {$(deferred.resolve);})\\n                ).done(function () {\\n                    m6BannerInit();\\n                });\\n            });\\n        </script>\\n        <script type=\"text/javascript\">\\n  var oMenuLang = \\'E\\';\\n  var oMenuPD = \\'M6\\';\\n  var oMenuLPD = \\'marksix\\';\\n  var oMenuIconPath = \\'/contentserver/jcbw/images/\\';\\n  var oMenuData = {\"pMenu\":[{\"nE\":\"Drawn Number Checking\",\"nC\":\"核對中獎號碼\",\"uE\":\"\",\"uC\":\"\",\"pg\":\"CheckDrawResult\",\"pa\":\"\",\"at\":\"width=680,height=440,left=20,top=20,scrollbars=yes,resizable=yes\",\"pu\":\"0\",\"dm\":null,\"child\":null},{\"nE\":\"Results\",\"nC\":\"過去攪珠結果\",\"uE\":\"\",\"uC\":\"\",\"pg\":\"Results\",\"pa\":\"\",\"at\":\"\",\"pu\":\"0\",\"dm\":null,\"child\":null},{\"nE\":\"Draw Schedule\",\"nC\":\"攪珠日期表\",\"uE\":\"\",\"uC\":\"\",\"pg\":\"Fixtures\",\"pa\":\"\",\"at\":\"\",\"pu\":\"0\",\"dm\":null,\"child\":null},{\"nE\":\"Calculator\",\"nC\":\"六合彩計算機\",\"uE\":\"/marksix/ms_calculator.aspx?lang=EN\",\"uC\":\"/marksix/ms_calculator.aspx?lang=CH\",\"pg\":\"\",\"pa\":\"\",\"at\":\"width=450,height=300,left=0,top=0,scrollbars=no,resizable=no\",\"pu\":\"1\",\"dm\":null,\"child\":null},{\"nE\":\"Statistics\",\"nC\":\"攪珠結果統計\",\"uE\":\"\",\"uC\":\"\",\"pg\":\"Statistics\",\"pa\":\"\",\"at\":\"\",\"pu\":\"0\",\"dm\":null,\"child\":[{\"nE\":\"Statistics\",\"nC\":\"攪珠結果統計\",\"uE\":\"\",\"uC\":\"\",\"pg\":\"Statistics\",\"pa\":\"\",\"at\":\"\",\"pu\":\"0\",\"dm\":\"\",\"child\":null},{\"nE\":\"Lucky OCB\",\"nC\":\"幸運投注處\",\"uE\":\"\",\"uC\":\"\",\"pg\":\"userinfo\",\"pa\":\"{\\'file\\':\\'lucky_ocbs.asp\\'}\",\"at\":\"\",\"pu\":\"0\",\"dm\":\"\",\"child\":null}]},{\"nE\":\"Mark Six Guide\",\"nC\":\"六合彩指南\",\"uE\":\"\",\"uC\":\"\",\"pg\":\"userinfo\",\"pa\":\"{\\'file\\':\\'about_m6.asp\\'}\",\"at\":\"\",\"pu\":\"0\",\"dm\":null,\"child\":[{\"nE\":\"Mark Six Lottery\",\"nC\":\"六合彩簡介\",\"uE\":\"\",\"uC\":\"\",\"pg\":\"userinfo\",\"pa\":\"{\\'file\\':\\'about_m6.asp\\'}\",\"at\":\"\",\"pu\":\"0\",\"dm\":\"\",\"child\":null},{\"nE\":\"Prize Qualification\",\"nC\":\"獲獎資格\",\"uE\":\"\",\"uC\":\"\",\"pg\":\"userinfo\",\"pa\":\"{\\'file\\':\\'prize_entitlement.asp\\'}\",\"at\":\"\",\"pu\":\"0\",\"dm\":\"\",\"child\":null},{\"nE\":\"Allocation of Prize Fund\",\"nC\":\"獎金基金的分配\",\"uE\":\"\",\"uC\":\"\",\"pg\":\"userinfo\",\"pa\":\"{\\'file\\':\\'prizes_fund.asp\\'}\",\"at\":\"\",\"pu\":\"0\",\"dm\":\"\",\"child\":null},{\"nE\":\"Mark Six Snowball Draw\",\"nC\":\"六合彩金多寶攪珠\",\"uE\":\"\",\"uC\":\"\",\"pg\":\"userinfo\",\"pa\":\"{\\'file\\':\\'sb_adv_sales.asp\\'}\",\"at\":\"\",\"pu\":\"0\",\"dm\":\"\",\"child\":null},{\"nE\":\"Types of Entry\",\"nC\":\"注項種類\",\"uE\":\"\",\"uC\":\"\",\"pg\":\"userinfo\",\"pa\":\"{\\'file\\':\\'multiple_banker.asp\\'}\",\"at\":\"\",\"pu\":\"0\",\"dm\":\"\",\"child\":null},{\"nE\":\"Multiple/Banker Entry Chance Table\",\"nC\":\"複式/膽拖注數表\",\"uE\":\"\",\"uC\":\"\",\"pg\":\"userinfo\",\"pa\":\"{\\'file\\':\\'chance.asp\\'}\",\"at\":\"\",\"pu\":\"0\",\"dm\":\"\",\"child\":null},{\"nE\":\"Multiple Consecutive Draws\",\"nC\":\"連續多期攪珠\",\"uE\":\"\",\"uC\":\"\",\"pg\":\"userinfo\",\"pa\":\"{\\'file\\':\\'mul_con_draws.asp\\'}\",\"at\":\"\",\"pu\":\"0\",\"dm\":\"\",\"child\":null},{\"nE\":\"Ticket Filling & Validation\",\"nC\":\"填寫及核對彩票\",\"uE\":\"\",\"uC\":\"\",\"pg\":\"userinfo\",\"pa\":\"{\\'file\\':\\'ticket_validation.asp\\'}\",\"at\":\"\",\"pu\":\"0\",\"dm\":\"\",\"child\":null},{\"nE\":\"Important Notice\",\"nC\":\"重要事項\",\"uE\":\"\",\"uC\":\"\",\"pg\":\"userinfo\",\"pa\":\"{\\'file\\':\\'important_notice.asp\\'}\",\"at\":\"\",\"pu\":\"0\",\"dm\":\"\",\"child\":null},{\"nE\":\"Lotteries Rules\",\"nC\":\"獎券規例\",\"uE\":\"\",\"uC\":\"\",\"pg\":\"userinfo\",\"pa\":\"{\\'file\\':\\'rules.asp\\'}\",\"at\":\"\",\"pu\":\"0\",\"dm\":\"\",\"child\":null}]}],\"oMenu\":[{\"nE\":\"Next Draw\",\"nC\":\"下期攪珠\",\"uE\":\"\",\"uC\":\"\",\"pg\":\"\",\"pa\":\"\",\"ta\":\"\",\"icon\":\"\",\"iconE\":\"\",\"iconC\":\"\",\"type\":\"LABEL\",\"dv\":\"\",\"child\":null},{\"nE\":\"Self Select Single\",\"nC\":\"自選單式\",\"uE\":\"\",\"uC\":\"\",\"pg\":\"Single\",\"pa\":\"\",\"ta\":\"\",\"icon\":\"\",\"iconE\":\"\",\"iconC\":\"\",\"type\":\"SINGLE.ASPX\",\"dv\":\"\",\"child\":null},{\"nE\":\"Self Select Multiple\",\"nC\":\"自選複式\",\"uE\":\"\",\"uC\":\"\",\"pg\":\"Multiple\",\"pa\":\"\",\"ta\":\"\",\"icon\":\"\",\"iconE\":\"\",\"iconC\":\"\",\"type\":\"MULTIPLE.ASPX\",\"dv\":\"\",\"child\":null},{\"nE\":\"Self Select Banker\",\"nC\":\"自選膽拖\",\"uE\":\"\",\"uC\":\"\",\"pg\":\"Banker\",\"pa\":\"\",\"ta\":\"\",\"icon\":\"\",\"iconE\":\"\",\"iconC\":\"\",\"type\":\"BANKER.ASPX\",\"dv\":\"\",\"child\":null},{\"nE\":\"Quick Pick\",\"nC\":\"運財號碼\",\"uE\":\"\",\"uC\":\"\",\"pg\":\"Random\",\"pa\":\"\",\"ta\":\"\",\"icon\":\"\",\"iconE\":\"\",\"iconC\":\"\",\"type\":\"RANDOM.ASPX\",\"dv\":\"\",\"child\":null}]};\\n</script>\\n\\n        <div class=\"bodyMainTable\">\\n            <div class=\"bodyMainTableRow\">\\n                <div class=\"bodyMainOddsMenu\">\\n                </div>\\n                <div class=\"bodyMainOddsTable content\">\\n                    \\n<!-- Odds Content starts -->\\n<div id=\"oddsTable\" class=\"m6-index-div\">\\n    \\n<script type=\"text/javascript\">\\n\\n\\tvar draw_start = true;\\n\\tvar next_draw = \"23/085\";\\n\\tvar next_draw_date = \"01/08/2023\";\\n\\tvar adv_sb_start = true;\\n\\tvar m6_stopsell_desc = \"Selling of Mark Six is temporarily suspended, please try again later.\" ;\\n\\tvar isAdvSB = 0;\\n\\tvar m6_cookiefull_desc = \"Limit exceeds. Fail to add betline into My Favourites. Please delete betlines from My Favourites to proceed.\" ;\\n\\tvar m6_too_many_banker_desc = \"At most 5 Bankers\" ;\\n\\tvar m6_insufficient_sel_desc = \"Insufficient selections\" ;\\n\\tvar m6_value_too_big_desc = \"Value too big\" ;\\n\\n\\tvar totalRandomLineInIndex = 4;\\n\\tvar totalRandomBallInIndex = 6;\\n\\n\\tfunction GenFourLineRandomNumber() {\\n\\t\\tdocument.getElementById(\"randomM6Table\").innerHTML = GenRandomMarkSixTableLayout();\\n\\t}\\n\\t\\n\\tfunction GenRandomMarkSixTableLayout() {\\n\\t\\tvar strTableHtml = \"\";\\n\\t\\tstrTableHtml += \"<div class=\\\\\"content\\\\\" style=\\\\\"padding:2px 0px 2px 0px;\\\\\">Quick Pick</div>\";\\n\\t\\tfor(randomM6TableCounter = 0; randomM6TableCounter < totalRandomLineInIndex; randomM6TableCounter++) {\\n\\t\\t\\tstrTableHtml += GenRandomMarkSixLineLayout(randomM6TableCounter);\\n\\t\\t}\\n\\t\\treturn strTableHtml;\\n\\t}\\n\\t\\t\\n\\tfunction SortArrayASC(needSortArrayList) {\\n\\t\\tvar tempValue = 0;\\n\\t\\tfor (sortCounter1 = 0; sortCounter1< needSortArrayList.length; sortCounter1++) {\\n\\t\\t\\tfor (sortCounter2 = sortCounter1+1; sortCounter2 < needSortArrayList.length; sortCounter2++) {\\n\\t\\t\\t\\tif (parseInt(needSortArrayList[sortCounter1], 10) > parseInt(needSortArrayList[sortCounter2], 10)) {\\n\\t\\t\\t\\t\\ttempValue = needSortArrayList[sortCounter1];\\n\\t\\t\\t\\t\\tneedSortArrayList[sortCounter1] = needSortArrayList[sortCounter2];\\n\\t\\t\\t\\t\\tneedSortArrayList[sortCounter2] = tempValue;\\n\\t\\t\\t\\t}\\n\\t\\t\\t}\\n\\t\\t}\\n\\t\\treturn needSortArrayList;\\n\\t}\\n\\t\\n\\tfunction AddRandomM6ToBetSlip() {\\n\\t\\tif(isQRPortal) {\\n            addRandomM6(0, 6, 4, isAdvSB==1, 0, next_draw_date, next_draw, false, null, null);\\n        }\\n        else if (draw_start) {\\n\\t\\t\\tfor (i=0; i<totalRandomLineInIndex; i++) {\\n\\t\\t\\t\\tif (addToBetslipM6($(\"#randomM6Line_\" + i).val(), false, true) == 2) {\\t//Add Bet Line to Betslip *success = 1 / fail = 2\\n\\t\\t\\t\\t\\tbreak;\\n                }\\n            }\\n\\t\\t\\tGenFourLineRandomNumber();\\n\\t\\t}\\n\\t\\telse {\\n\\t\\t\\talert(m6_stopsell_desc);\\n\\t\\t}\\n\\t}\\n\\n</script>\\n\\n<table width=\"100%\" border=\"0\" cellpadding=\"0\" cellspacing=\"0\">\\n\\t<tbody><tr>\\n\\t\\t<td class=\"redTitle\">\\n\\t\\t\\t<table width=\"100%\" border=\"0\" cellspacing=\"0\" cellpadding=\"0\">\\n\\t\\t\\t\\t<tbody><tr>\\n\\t\\t\\t\\t\\t<td class=\"titleWhite\" style=\"padding-left:6px;\">Next Draw</td>\\n\\t\\t\\t\\t</tr>\\n\\t\\t\\t</tbody></table>\\n\\t\\t</td>\\n\\t</tr>\\n\\t<tr>\\n\\t\\t<td style=\"border-left:1px solid #DE5451; border-right:1px solid #DE5451; border-bottom:3px solid #DE5451; padding: 5px 6px 5px 8px;\">\\n\\t\\t\\t<table width=\"100%\" border=\"0\" cellspacing=\"0\" cellpadding=\"0\">\\n\\t\\t\\t\\t<tbody><tr valign=\"top\">\\n\\t\\t\\t\\t\\t<td width=\"50%\" height=\"100%\">\\n\\t\\t\\t\\t\\t\\t<table width=\"100%\" height=\"100%\" border=\"0\" cellspacing=\"0\" cellpadding=\"2\">\\n\\t\\t\\t\\t\\t\\t\\t<tbody><tr>\\n\\t\\t\\t\\t\\t\\t\\t\\t<td width=\"40%\" class=\"content\">Next Draw Number</td>\\n\\t\\t\\t\\t\\t\\t\\t\\t<td class=\"content\">23/085</td>\\n\\t\\t\\t\\t\\t\\t\\t</tr>\\n\\t\\t\\t\\t\\t\\t\\t<tr>\\n\\t\\t\\t\\t\\t\\t\\t\\t<td class=\"content\">Draw Date</td>\\n\\t\\t\\t\\t\\t\\t\\t\\t<td class=\"content\">01/08/2023 (Tuesday)</td>\\n\\t\\t\\t\\t\\t\\t\\t</tr>\\n\\t\\t\\t\\t\\t\\t\\t<tr>\\n\\t\\t\\t\\t\\t\\t\\t\\t<td class=\"content\">Stop Selling Time</td>\\n\\t\\t\\t\\t\\t\\t\\t\\t<td class=\"content\">9:15 PM</td>\\n\\t\\t\\t\\t\\t\\t\\t</tr>\\n\\t\\t\\t\\t\\t\\t\\t<tr>\\n\\t\\t\\t\\t\\t\\t\\t\\t<td class=\"content\">Turnover</td>\\n\\t\\t\\t\\t\\t\\t\\t\\t<td class=\"content\">$23,464,550</td>\\n\\t\\t\\t\\t\\t\\t\\t</tr>\\n\\t\\t\\t\\t\\t\\t\\t<tr>\\n\\t\\t\\t\\t\\t\\t\\t\\t<td class=\"content\">Jackpot / Snowball</td>\\n\\t\\t\\t\\t\\t\\t\\t\\t<td class=\"snowball1\" style=\"line-height:15px;\">$9,429,616</td>\\n\\t\\t\\t\\t\\t\\t\\t</tr>\\n\\t\\t\\t\\t\\t\\t\\t<tr>\\n\\t\\t\\t\\t\\t\\t\\t\\t<td class=\"content\">Estimated 1st Division Prize Fund</td>\\n\\t\\t\\t\\t\\t\\t\\t\\t<td class=\"snowball1\" style=\"line-height:15px;\">$13,000,000</td>\\n\\t\\t\\t\\t\\t\\t\\t</tr>\\n\\t\\t\\t\\t\\t\\t</tbody></table>\\n\\t\\t\\t\\t\\t</td>\\n\\t\\t\\t\\t\\t<td width=\"35%\">\\n\\t\\t\\t\\t\\t\\t<div id=\"randomM6Table\" style=\"width:225px\"><div class=\"content\" style=\"padding:2px 0px 2px 0px;\">Quick Pick</div><div style=\"border-bottom: 1px solid #F7E0E0;margin:2px 0px 0px 0px\"><div style=\"display:inline;\"><img src=\"/marksix/info/images/icon/no_20_s.gif?CV=L4.04R2\" width=\"25\" height=\"25\"></div><div style=\"display:inline;margin:0px 0px 0px 15px\"><img src=\"/marksix/info/images/icon/no_32_s.gif?CV=L4.04R2\" width=\"25\" height=\"25\"></div><div style=\"display:inline;margin:0px 0px 0px 15px\"><img src=\"/marksix/info/images/icon/no_33_s.gif?CV=L4.04R2\" width=\"25\" height=\"25\"></div><div style=\"display:inline;margin:0px 0px 0px 15px\"><img src=\"/marksix/info/images/icon/no_45_s.gif?CV=L4.04R2\" width=\"25\" height=\"25\"></div><div style=\"display:inline;margin:0px 0px 0px 15px\"><img src=\"/marksix/info/images/icon/no_46_s.gif?CV=L4.04R2\" width=\"25\" height=\"25\"></div><div style=\"display:inline;margin:0px 0px 0px 15px\"><img src=\"/marksix/info/images/icon/no_48_s.gif?CV=L4.04R2\" width=\"25\" height=\"25\"></div><input type=\"hidden\" name=\"randomM6Line_0\" id=\"randomM6Line_0\" value=\"20+32+33+45+46+48\"></div><div style=\"border-bottom: 1px solid #F7E0E0;margin:2px 0px 0px 0px\"><div style=\"display:inline;\"><img src=\"/marksix/info/images/icon/no_02_s.gif?CV=L4.04R2\" width=\"25\" height=\"25\"></div><div style=\"display:inline;margin:0px 0px 0px 15px\"><img src=\"/marksix/info/images/icon/no_08_s.gif?CV=L4.04R2\" width=\"25\" height=\"25\"></div><div style=\"display:inline;margin:0px 0px 0px 15px\"><img src=\"/marksix/info/images/icon/no_36_s.gif?CV=L4.04R2\" width=\"25\" height=\"25\"></div><div style=\"display:inline;margin:0px 0px 0px 15px\"><img src=\"/marksix/info/images/icon/no_39_s.gif?CV=L4.04R2\" width=\"25\" height=\"25\"></div><div style=\"display:inline;margin:0px 0px 0px 15px\"><img src=\"/marksix/info/images/icon/no_40_s.gif?CV=L4.04R2\" width=\"25\" height=\"25\"></div><div style=\"display:inline;margin:0px 0px 0px 15px\"><img src=\"/marksix/info/images/icon/no_46_s.gif?CV=L4.04R2\" width=\"25\" height=\"25\"></div><input type=\"hidden\" name=\"randomM6Line_1\" id=\"randomM6Line_1\" value=\"2+8+36+39+40+46\"></div><div style=\"border-bottom: 1px solid #F7E0E0;margin:2px 0px 0px 0px\"><div style=\"display:inline;\"><img src=\"/marksix/info/images/icon/no_01_s.gif?CV=L4.04R2\" width=\"25\" height=\"25\"></div><div style=\"display:inline;margin:0px 0px 0px 15px\"><img src=\"/marksix/info/images/icon/no_23_s.gif?CV=L4.04R2\" width=\"25\" height=\"25\"></div><div style=\"display:inline;margin:0px 0px 0px 15px\"><img src=\"/marksix/info/images/icon/no_26_s.gif?CV=L4.04R2\" width=\"25\" height=\"25\"></div><div style=\"display:inline;margin:0px 0px 0px 15px\"><img src=\"/marksix/info/images/icon/no_32_s.gif?CV=L4.04R2\" width=\"25\" height=\"25\"></div><div style=\"display:inline;margin:0px 0px 0px 15px\"><img src=\"/marksix/info/images/icon/no_42_s.gif?CV=L4.04R2\" width=\"25\" height=\"25\"></div><div style=\"display:inline;margin:0px 0px 0px 15px\"><img src=\"/marksix/info/images/icon/no_44_s.gif?CV=L4.04R2\" width=\"25\" height=\"25\"></div><input type=\"hidden\" name=\"randomM6Line_2\" id=\"randomM6Line_2\" value=\"1+23+26+32+42+44\"></div><div style=\"border-bottom: 1px solid #F7E0E0;margin:2px 0px 0px 0px\"><div style=\"display:inline;\"><img src=\"/marksix/info/images/icon/no_07_s.gif?CV=L4.04R2\" width=\"25\" height=\"25\"></div><div style=\"display:inline;margin:0px 0px 0px 15px\"><img src=\"/marksix/info/images/icon/no_12_s.gif?CV=L4.04R2\" width=\"25\" height=\"25\"></div><div style=\"display:inline;margin:0px 0px 0px 15px\"><img src=\"/marksix/info/images/icon/no_13_s.gif?CV=L4.04R2\" width=\"25\" height=\"25\"></div><div style=\"display:inline;margin:0px 0px 0px 15px\"><img src=\"/marksix/info/images/icon/no_16_s.gif?CV=L4.04R2\" width=\"25\" height=\"25\"></div><div style=\"display:inline;margin:0px 0px 0px 15px\"><img src=\"/marksix/info/images/icon/no_27_s.gif?CV=L4.04R2\" width=\"25\" height=\"25\"></div><div style=\"display:inline;margin:0px 0px 0px 15px\"><img src=\"/marksix/info/images/icon/no_33_s.gif?CV=L4.04R2\" width=\"25\" height=\"25\"></div><input type=\"hidden\" name=\"randomM6Line_3\" id=\"randomM6Line_3\" value=\"7+12+13+16+27+33\"></div></div>\\n\\t\\t\\t\\t\\t</td>\\n\\t\\t\\t\\t\\t<td valign=\"bottom\" align=\"right\">\\n\\t\\t\\t\\t\\t\\t<table border=\"0\" cellspacing=\"0\" cellpadding=\"0\">\\n\\t\\t\\t\\t\\t\\t\\t<tbody><tr>\\n\\t\\t\\t\\t\\t\\t\\t\\t<td><div class=\"msIndexRetry\" title=\"Retry.\" onclick=\"GenFourLineRandomNumber()\"></div></td>\\n\\t\\t\\t\\t\\t\\t\\t</tr>\\n\\t\\t\\t\\t\\t\\t\\t<tr>\\n\\t\\t\\t\\t\\t\\t\\t\\t<td><div class=\"rsAddBet\" title=\"Add To Slip\" onclick=\"AddRandomM6ToBetSlip()\"></div></td>\\n\\t\\t\\t\\t\\t\\t\\t</tr>\\n\\t\\t\\t\\t\\t\\t</tbody></table>\\n\\t\\t\\t\\t\\t</td>\\n\\t\\t\\t\\t</tr>\\n\\t\\t\\t</tbody></table>\\n\\t\\t</td>\\n\\t</tr>\\n\\t<tr>\\n\\t\\t<td style=\"padding-top:10px;\">\\n\\t\\t\\t<table width=\"100%\" border=\"0\" cellspacing=\"0\" cellpadding=\"0\" style=\"border:1px solid #E5E5E5\">\\n\\t\\t\\t\\t<tbody><tr>\\n\\t\\t\\t\\t\\t<td class=\"grayBar3\" style=\"padding-left:10px;\"><strong class=\"red\">Last Draw</strong></td>\\n\\t\\t\\t\\t</tr>\\n\\t\\t\\t\\t<tr>\\n\\t\\t\\t\\t\\t<td style=\"padding: 5px 6px 5px 8px;\">\\n\\t\\t\\t\\t\\t\\t<table width=\"100%\" border=\"0\" cellspacing=\"0\" cellpadding=\"0\">\\n\\t\\t\\t\\t\\t\\t\\t<tbody><tr valign=\"top\">\\n\\t\\t\\t\\t\\t\\t\\t\\t<td width=\"70%\" style=\"padding-right:15px;\">\\n\\t\\t\\t\\t\\t\\t\\t\\t\\t<table width=\"100%\" border=\"0\" cellspacing=\"0\" cellpadding=\"2\">\\n\\t\\t\\t\\t\\t\\t\\t\\t\\t\\t<tbody><tr>\\n\\t\\t\\t\\t\\t\\t\\t\\t\\t\\t\\t<td class=\"content\" style=\"padding-left:1px\" valign=\"top\">Draw Number : 23/084 </td>\\n\\t\\t\\t\\t\\t\\t\\t\\t\\t\\t\\t<td class=\"content\" valign=\"top\">Draw Date : 29/07/2023(Saturday)</td>\\n\\t\\t\\t\\t\\t\\t\\t\\t\\t\\t\\t<td class=\"content\" valign=\"top\">Total Turnover : $34,839,965</td>\\n\\t\\t\\t\\t\\t\\t\\t\\t\\t\\t</tr>\\n\\t\\t\\t\\t\\t\\t\\t\\t\\t\\t<tr>\\n\\t\\t\\t\\t\\t\\t\\t\\t\\t\\t\\t<td colspan=\"3\" align=\"right\" style=\"padding:15px 8px 0px 0px;\">\\n\\t\\t\\t\\t\\t\\t\\t\\t\\t\\t\\t\\t<table border=\"0\" cellspacing=\"0\" cellpadding=\"0\"><tbody><tr><td style=\"padding:0px 5px 0px 0px;\">Draw Results : </td><td align=\"center\" style=\"padding:0px 5px 0px 5px;\"><img src=\"/marksix/info/images/icon/no_13.gif?CV=L4.04R2\" width=\"37\" height=\"41\"></td><td align=\"center\" style=\"padding:0px 5px 0px 5px;\"><img src=\"/marksix/info/images/icon/no_23.gif?CV=L4.04R2\" width=\"37\" height=\"41\"></td><td align=\"center\" style=\"padding:0px 5px 0px 5px;\"><img src=\"/marksix/info/images/icon/no_26.gif?CV=L4.04R2\" width=\"37\" height=\"41\"></td><td align=\"center\" style=\"padding:0px 5px 0px 5px;\"><img src=\"/marksix/info/images/icon/no_40.gif?CV=L4.04R2\" width=\"37\" height=\"41\"></td><td align=\"center\" style=\"padding:0px 5px 0px 5px;\"><img src=\"/marksix/info/images/icon/no_41.gif?CV=L4.04R2\" width=\"37\" height=\"41\"></td><td align=\"center\" style=\"padding:0px 5px 0px 5px;\"><img src=\"/marksix/info/images/icon/no_43.gif?CV=L4.04R2\" width=\"37\" height=\"41\"></td><td align=\"center\" style=\"padding:5px 5px 5px 5px;\"><img src=\"/marksix/info/images/icon_special_no.gif?CV=L4.04R2\" width=\"6\" height=\"6\"></td><td align=\"center\" style=\"padding:0px 5px 0px 5px;\"><img src=\"/marksix/info/images/icon/no_14.gif?CV=L4.04R2\" width=\"37\" height=\"41\"></td></tr></tbody></table>\\n\\t\\t\\t\\t\\t\\t\\t\\t\\t\\t\\t</td>\\n\\t\\t\\t\\t\\t\\t\\t\\t\\t\\t</tr>\\n\\t\\t\\t\\t\\t\\t\\t\\t\\t</tbody></table>\\n\\t\\t\\t\\t\\t\\t\\t\\t</td>\\n\\t\\t\\t\\t\\t\\t\\t\\t<td>\\n\\t\\t\\t\\t\\t\\t\\t\\t\\t<table id=\"ContentPlaceHolder1_indexMarkSix_lastDrawResultPrizeTable\" width=\"100%\" border=\"0\" cellspacing=\"0\" cellpadding=\"2\">\\n\\t<tbody><tr>\\n\\t\\t<td></td><td class=\"content\"><strong>Prize</strong></td><td class=\"content\" align=\"right\"><strong>Unit Prize</strong></td><td class=\"content\" align=\"right\"><strong>Winning Unit</strong></td>\\n\\t</tr>\\n\\t<tr>\\n\\t\\t<td></td><td class=\"content\">1st</td><td class=\"orangeNum2\" align=\"right\">-</td><td class=\"content\" align=\"right\">-</td>\\n\\t</tr>\\n\\t<tr>\\n\\t\\t<td></td><td class=\"content\">2nd</td><td class=\"orangeNum1\" align=\"right\">$904,930</td><td class=\"content\" align=\"right\">2.0</td>\\n\\t</tr>\\n\\t<tr>\\n\\t\\t<td></td><td class=\"content\">3rd</td><td class=\"orangeNum1\" align=\"right\">$113,560</td><td class=\"content\" align=\"right\">42.5</td>\\n\\t</tr>\\n</tbody></table>\\n\\n\\t\\t\\t\\t\\t\\t\\t\\t</td>\\n\\t\\t\\t\\t\\t\\t\\t</tr>\\n\\t\\t\\t\\t\\t\\t</tbody></table>\\n\\t\\t\\t\\t\\t</td>\\n\\t\\t\\t\\t</tr>\\n\\t\\t\\t</tbody></table>\\n\\t\\t</td>\\n\\t</tr>\\n</tbody></table>\\n</div>\\n<!-- Odds Content ends -->\\n\\n<script type=\"text/javascript\">\\n    var marksixLandingArray = [];\\n    var marksixLandingMenuId = [\"marksixSnowball\", \"marksixNextdraw\", \"marksixInfoCentres\"];\\n\\n    function m6Init() {\\n        GenFourLineRandomNumber();\\n        //setTopBannerFrame(\\'marksix\\', \\'index\\', curLang);\\n\\n        try {\\n            getScriptNotCache(\\'/ContentServer/jcbw/ekba/crazybanner/jcbw/marksix/\\' + curLang + \"/crazy_adv.js\" + cacheVersion);\\n        }\\n        catch (e) {\\n        }\\n    }\\n    function m6BannerInit() {\\n        setTopBannerFrame(\\'marksix\\', \\'index\\', curLang);\\n    }\\n</script>\\n\\n\\n                </div>\\n            </div>\\n        </div>\\n    </div>    \\n    <div id=\"bottomBannerDiv\" class=\"bottomMenu\" style=\"\">\\n<table width=\"750\" border=\"0\" cellspacing=\"0\" cellpadding=\"0\">\\n\\t<tbody><tr>\\n\\t\\t<td style=\"padding:0px 0px 7px 0px;\">\\n\\t\\t\\t<table width=\"100%\" border=\"0\" cellspacing=\"0\" cellpadding=\"0\">\\n\\t\\t\\t\\t<tbody><tr class=\"bottomtopbannerdisplay\" style=\"display:none\">\\n\\t\\t\\t\\t\\t<td width=\"120\" align=\"left\"><a id=\"bottomBanner_lnk_mcs\" href=\"http://mcs.hkjcfootball.com/\" target=\"_blank\"><img id=\"bottomBanner_img_mcs\" src=\"/root2/bet_main/en/images/btn_media.gif\" width=\"120\" height=\"40\" border=\"0\"></a></td>\\n\\t\\t\\t\\t\\t<td align=\"left\"><img src=\"/info/Include/Images/spacer.gif\" width=\"5\" height=\"5\" border=\"0\"></td>\\n\\t\\t\\t\\t\\t<td align=\"left\" colspan=\"9\"><img id=\"bottomBanner_img_phone\" src=\"/root2/bet_main/en/images/btn_phone.gif\" width=\"624\" height=\"40\" border=\"0\"></td>\\n\\t\\t\\t\\t</tr>\\n\\t\\t\\t\\t<tr valign=\"top\"> \\n\\t\\t\\t\\t\\t<td width=\"120\"><a id=\"banner1a\" href=\"Javascript:;\" onclick=\"return false;\"><img name=\"banner1\" id=\"banner1\" src=\"/bannerad/images/banner/CDX_CCEC-2021_38/chatbot_120x50_e.jpg\" border=\"0\" width=\"120\" height=\"50\"></a></td>\\n\\t\\t\\t\\t\\t<td><img src=\"/info/Include/images/spacer.gif\" width=\"5\" height=\"50\"></td>\\n\\t\\t\\t\\t\\t<td width=\"120\"><a id=\"banner2a\" href=\"Javascript:;\" onclick=\"return false;\"><img name=\"banner2\" id=\"banner2\" src=\"/bannerad/images/banner/CDX_MOBILEBET-2021_10/smart_platform_120x50_e.jpg\" border=\"0\" width=\"120\" height=\"50\"></a></td>\\n\\t\\t\\t\\t\\t<td><img src=\"/info/Include/images/spacer.gif\" width=\"5\" height=\"50\"></td>\\n\\t\\t\\t\\t\\t<td width=\"120\"><a id=\"banner3a\" href=\"Javascript:;\" onclick=\"return false;\"><img name=\"banner3\" id=\"banner3\" src=\"/bannerad/images/banner/CDX_MOBILEBET-2021_56/HKJC-Account-Opening-JCBW-Racing_120x50_eng.gif\" border=\"0\" width=\"120\" height=\"50\"></a></td>\\n\\t\\t\\t\\t\\t<td><img src=\"/info/Include/images/spacer.gif\" width=\"5\" height=\"50\"></td>\\n\\t\\t\\t\\t\\t<td width=\"120\"><a id=\"banner4a\" href=\"Javascript:;\" onclick=\"return false;\"><img name=\"banner4\" id=\"banner4\" src=\"/bannerad/images/banner/CDX_MOBILEBET-2021_12/14. JCBW Racing (bottom banner)_ENG_120x50.jpg.jpg\" border=\"0\" width=\"120\" height=\"50\"></a></td>\\n\\t\\t\\t\\t\\t<td><img src=\"/info/Include/images/spacer.gif\" width=\"5\" height=\"50\"></td>\\n\\t\\t\\t\\t\\t<td width=\"120\"><a id=\"banner5a\" href=\"Javascript:;\" onclick=\"return false;\"><img name=\"banner5\" id=\"banner5\" src=\"/bannerad/images/banner/CDX_CCEC-2021_01/CSSP_20181010_120x50_e.gif\" border=\"0\" width=\"120\" height=\"50\"></a></td>\\n\\t\\t\\t\\t\\t<td><img src=\"/info/Include/images/spacer.gif\" width=\"5\" height=\"50\"></td>\\n\\t\\t\\t\\t\\t<td width=\"120\"><a id=\"banner6a\" href=\"Javascript:;\" onclick=\"return false;\"><img name=\"banner6\" id=\"banner6\" src=\"/bannerad/images/banner/CDX_RACINGTOUCH-2021_03/jcbw_biometric-login_120x50_e.jpg\" border=\"0\" width=\"120\" height=\"50\"></a></td>\\n\\t\\t\\t\\t</tr>\\n\\t\\t\\t</tbody></table>\\n\\t\\t</td>\\n\\t</tr>\\n</tbody></table>\\n</div>\\n\\n    <div id=\"rgpDiv\" style=\"width:744px; background-color:#ffffff;margin:5px 6px 0px 6px;padding:10px 10px 10px 10px;margin-bottom:150px;\">\\n\\t<div id=\"rgpImage\"><img src=\"/info/include/rgp/rgp_text_710_eng.gif\" usemap=\"#Map\" border=\"0\" width=\"710\" height=\"103\"><map id=\"Map\" name=\"Map\"><area shape=\"rect\" coords=\"640,2,708,43\" href=\"//www.hkjc.com/responsible-gambling/en/index.aspx\" target=\"_blank\"></map></div>\\n\\t<div style=\"padding:9px 2px 0px 2px;\">\\n\\t\\t<div id=\"rgpLinks\" style=\"float:left\"><a href=\"//www.hkjc.com/infomenu/en/contact/feedback.aspx\" target=\"_blank\" class=\"footer\">Contact Us</a> | <a href=\"//www.hkjc.com/home/english/sitemap.aspx\" target=\"_blank\" class=\"footer\">Site Map</a> | <a href=\"//www.hkjc.com/english/betting/betting_rule_en.htm\" target=\"_blank\" class=\"footer\">Rules</a> | <a href=\"//www.hkjc.com/responsible-gambling/en/index.aspx\" target=\"_blank\" class=\"footer\">Responsible Gambling Policy</a> | <a href=\"//www.hkjc.com/home/english/corporate/corp_privacy.aspx\" target=\"_blank\" class=\"footer\">Privacy</a> | <a href=\"//special.hkjc.com/root/info/en/disclaimer.asp\" target=\"_blank\" class=\"footer\">Disclaimer</a> | <a href=\"//www.hkjc.com/home/english/corporate/security-tips.aspx\" target=\"_blank\" class=\"footer\">Security Tips</a></div>\\n\\t\\t<div id=\"rgpCopyRight\" style=\"float:right\"><a href=\"//www.hkjc.com/english/copyright.htm\" target=\"_blank\" class=\"footer\">Copyright</a><span class=\"footer\"> © 2006-2023 HKJC Lotteries Limited. All rights reserved.</span></div>\\n\\t\\t<div style=\"clear:both\"></div>\\n\\t</div>\\n</div>\\n\\n</div><iframe sandbox=\"allow-scripts allow-same-origin\" title=\"Adobe ID Syncing iFrame\" id=\"destination_publishing_iframe_hkjcweb_0\" name=\"destination_publishing_iframe_hkjcweb_0_name\" src=\"https://hkjcweb.demdex.net/dest5.html?d_nsid=0#https%3A%2F%2Fbet.hkjc.com%2Fmarksix%2Findex.aspx%3Flang%3Den\" style=\"display: none; width: 0px; height: 0px;\" class=\"aamIframeLoaded\"></iframe>\\n<div id=\"betslipDiv\" class=\"noPrint\">\\n\\t<div id=\"betslipDisableDiv\"></div>\\n\\t<div id=\"betslipDimmedDiv\"></div>\\n\\t<div id=\"betslipDimmedText\"></div>\\n\\t<div id=\"betslipSound\" style=\"display:none\"></div>\\n\\t<div id=\"divBetSlipMinimize\" style=\"display:none\" onclick=\"OnClickRestore()\" title=\"Maximize\">\\n\\t\\t<div id=\"divBetSlipMinimizeText\"></div>\\n\\t</div>\\n\\t<div id=\"divBetSlipNormal\">\\n\\t\\t<div id=\"divAccInfo\" onkeydown=\"return onKeyDown(event, true, \\'accInfo\\');\">\\n\\t\\t\\t<div id=\"errormsg\" onclick=\"javascript:HideError(1)\"></div>\\n\\t\\t\\t<div class=\"topYellowBar\"></div>\\n\\t\\t\\t<div id=\"divAccInfoLogout\" class=\"accInfoBg\">\\n\\t\\t\\t\\t<div class=\"accInfoTable\">\\n\\t\\t\\t\\t\\t<div class=\"betslipRow\">\\n\\t\\t\\t\\t\\t\\t<div class=\"accInfoCellLogo\" onmouseover=\"ShowServerId(this)\"></div>\\n\\t\\t\\t\\t\\t\\t<div class=\"accInfoCellInput\">\\n\\t\\t\\t\\t\\t\\t\\t<div id=\"minimizeButton\" class=\"minimizeButton\" onclick=\"OnClickMinimize()\" title=\"Minimize\"></div>\\n\\t\\t\\t\\t\\t\\t\\t<div id=\"topHelpButton\" class=\"topHelpButton\" onclick=\"OnClickHelp()\" title=\"eWin User Guide\"></div>\\n\\t\\t\\t\\t\\t\\t\\t<div style=\"clear:both\"></div>\\n\\t\\t\\t\\t\\t\\t\\t<div style=\"padding-top:3px\"><input name=\"account\" id=\"account\" type=\"text\" value=\"\" maxlength=\"15\" class=\"accInfoInputField\" style=\"width:152px; height:16px;\" tabindex=\"1\" autocomplete=\"off\"></div>\\n\\t\\t\\t\\t\\t\\t\\t<div style=\"padding-top:4px; float:left\">\\n\\t\\t\\t\\t\\t\\t\\t\\t<input type=\"text\" name=\"passwordInput1\" id=\"passwordInput1\" value=\"\" class=\"accInfoInputField\" style=\"width:99px; height: 16px; display: block;\" tabindex=\"2\">\\n\\t\\t\\t\\t\\t\\t\\t\\t<input type=\"password\" name=\"password\" id=\"password\" maxlength=\"20\" class=\"inputField1\" style=\"width:99px; height:16px; display:none;\" onblur=\"if ( $(this).val()==\\'\\' ) { $(this).hide(); $(\\'#passwordInput1\\').show(); }\" tabindex=\"-1\">\\n\\t\\t\\t\\t\\t\\t\\t</div>\\n\\t\\t\\t\\t\\t\\t\\t<div id=\"loginButton\" class=\"loginButton\" onclick=\"OnClickLogin()\" tabindex=\"3\" title=\"Login\"></div>\\n\\t\\t\\t\\t\\t\\t\\t<div id=\"loginSSONextButton\" class=\"loginSSONextButton\" onclick=\"OnClickNext()\" tabindex=\"4\" title=\"Next\" style=\"display: none;\"></div>\\n\\t\\t\\t\\t\\t\\t\\t<div style=\"clear:both\"></div>\\n\\t\\t\\t\\t\\t\\t</div>\\n\\t\\t\\t\\t\\t</div>\\n\\t\\t\\t\\t</div>\\n\\t\\t\\t\\t<div class=\"accInfoTable2\" style=\"padding-top:5px\">\\n\\t\\t\\t\\t\\t<div class=\"betslipRow\">\\n\\t\\t\\t\\t\\t\\t<div class=\"accInfoCell regDropdown\" id=\"linkAccInfoRegister\" onclick=\"OnClickRegisterNow()\" style=\"visibility: visible;\">Register Online<br>Betting Service</div>\\n\\t\\t\\t\\t\\t\\t<div class=\"accInfoCellStroke\"></div>\\n\\t\\t\\t\\t\\t\\t<div class=\"accInfoCell\" id=\"linkPersonalSettings\" onclick=\"OnClickPersonalSettings()\">Settings</div>\\n\\t\\t\\t\\t\\t\\t<div class=\"accInfoCellStroke\"></div>\\n\\t\\t\\t\\t\\t\\t<div class=\"accInfoCell\" id=\"linkCannotLogin\" onclick=\"OnClickCannotLogin()\">Cannot Login</div>\\n\\t\\t\\t\\t\\t</div>\\n\\t\\t\\t\\t</div>\\n\\t\\t\\t</div>\\n\\t\\t\\t<div id=\"divAccInfoLogin\" class=\"accInfoBg\" style=\"display:none\">\\n\\t\\t\\t\\t<div class=\"accInfoTable\">\\n\\t\\t\\t\\t\\t<div class=\"betslipRow\">\\n\\t\\t\\t\\t\\t\\t<div class=\"accInfoCellLogo\" onmouseover=\"ShowServerId(this)\"></div>\\n\\t\\t\\t\\t\\t\\t<div style=\"display:table-cell\">\\n\\t\\t\\t\\t\\t\\t\\t<div class=\"accInfoCellNo\">\\n\\t\\t\\t\\t\\t\\t\\t\\t<div id=\"txtAccNo\"></div>\\n\\t\\t\\t\\t\\t\\t\\t\\t<div id=\"valueAccNo\"></div>\\n\\t\\t\\t\\t\\t\\t\\t\\t<div id=\"bsPeNoteIcon\"></div>\\n\\t\\t\\t\\t\\t\\t\\t</div>\\n\\t\\t\\t\\t\\t\\t\\t<div class=\"accInfoCellButton\">\\n\\t\\t\\t\\t\\t\\t\\t\\t<div id=\"minimizeButtonLogin\" class=\"minimizeButton\" onclick=\"OnClickMinimize()\" title=\"Minimize\"></div>\\n\\t\\t\\t\\t\\t\\t\\t\\t<div id=\"topHelpButtonLogin\" class=\"topHelpButton\" onclick=\"OnClickHelp()\" title=\"eWin User Guide\"></div>\\n\\t\\t\\t\\t\\t\\t\\t\\t<div id=\"logoutButton\" class=\"logoutButton\" onclick=\"OnClickLogout()\"></div>\\n\\t\\t\\t\\t\\t\\t\\t</div>\\n\\t\\t\\t\\t\\t\\t</div>\\n\\t\\t\\t\\t\\t</div>\\n\\t\\t\\t\\t\\t<div class=\"betslipRow\">\\n\\t\\t\\t\\t\\t\\t<div style=\"display:table-cell\"></div>\\n\\t\\t\\t\\t\\t\\t<div class=\"accInfoCellName\">\\n\\t\\t\\t\\t\\t\\t\\t<div style=\"width:151px\">\\n\\t\\t\\t\\t\\t\\t\\t\\t<div id=\"valueAccName\"></div>\\n\\t\\t\\t\\t\\t\\t\\t\\t<div>\\n\\t\\t\\t\\t\\t\\t\\t\\t\\t<div id=\"valueAccBal\" style=\"display:inline-block;vertical-align:top;margin-top:1px\"></div>\\n\\t\\t\\t\\t\\t\\t\\t\\t\\t<div id=\"buttonAccBal\" onclick=\"OnClickRefreshBalance()\"></div>\\n\\t\\t\\t\\t\\t\\t\\t\\t</div>\\n\\t\\t\\t\\t\\t\\t\\t</div>\\n\\t\\t\\t\\t\\t\\t</div>\\n\\t\\t\\t\\t\\t\\t<div style=\"display:table-cell; width:1px\"></div>\\n\\t\\t\\t\\t\\t</div>\\n\\t\\t\\t\\t</div>\\n\\n\\n\\t\\t\\t\\t<div class=\"accInfoTable2\">\\n\\t\\t\\t\\t\\t<div class=\"betslipRow\">\\n\\t\\t\\t\\t\\t\\t<div class=\"accInfoCell\" id=\"linkAccStmt\" onclick=\"OnClickAccountRecord()\">Betting A/C<br>Records</div>\\n\\t\\t\\t\\t\\t\\t<div class=\"accInfoCellStroke\"></div>\\n\\t\\t\\t\\t\\t\\t<div class=\"accInfoCell regDropdown\" id=\"linkPersonalSettingsLogin\" onclick=\"OnClickPersonalSettingsLogin()\">Settings</div>\\n\\t\\t\\t\\t\\t\\t<div class=\"accInfoCellStroke\"></div>\\n\\t\\t\\t\\t\\t\\t<div class=\"accInfoCell\" id=\"linkFundsTransfer\" onclick=\"OnClickFundTransfer()\">Funds Transfer</div>\\n\\t\\t\\t\\t\\t</div>\\n\\t\\t\\t\\t</div>\\n\\t\\t\\t</div>\\n\\t\\t</div>\\n\\n\\t\\t<div id=\"divSlip\">\\n\\t\\t\\t<div id=\"errormsgMiddle\" onclick=\"javascript:HideError(2)\">\\n\\t\\t\\t\\t<div class=\"errorMsgClodeButton\"></div>\\n\\t\\t\\t\\t<div style=\"clear: both\"></div>\\n\\t\\t\\t\\t<div id=\"errMsgMiddleTxt\"></div>\\n\\t\\t\\t</div>\\n\\n\\t\\t\\t<div class=\"betslipRow\">\\n\\t\\t\\t\\t<div class=\"middleYellowBar\"></div>\\n\\t\\t\\t\\t<div class=\"middleYellowBar\"></div>\\n\\t\\t\\t</div>\\n\\t\\t\\t<div class=\"betslipRow\">\\n\\t\\t\\t\\t<div id=\"slipToggleButton\" class=\"slipExpand\" onclick=\"slipToogle();\" title=\"Click to expand/collapse\"></div>\\n\\t\\t\\t\\t<div class=\"slipBetTable\">\\n\\t\\t\\t\\t\\t<div id=\"multiplePanel\" style=\"display:none\">\\n\\t\\t\\t\\t\\t\\t<div class=\"betslipRow\">\\n\\t\\t\\t\\t\\t\\t\\t<div class=\"slipActivePanel\">A</div>\\n\\t\\t\\t\\t\\t\\t\\t<div class=\"slipInactivePanel\">B</div>\\n\\t\\t\\t\\t\\t\\t\\t<div class=\"slipInactivePanel\">C</div>\\n\\t\\t\\t\\t\\t\\t\\t<div class=\"slipInactivePanel\">D</div>\\n\\t\\t\\t\\t\\t\\t\\t<div style=\"width:1px\"></div>\\n\\t\\t\\t\\t\\t\\t</div>\\n\\t\\t\\t\\t\\t</div>\\n\\t\\t\\t\\t\\t<div id=\"divBetLayer\" onscroll=\"collapseUnitBetDropdown();\"></div>\\n\\t\\t\\t\\t\\t<div class=\"slipBetPanel\">\\n\\t\\t\\t\\t\\t\\t<div class=\"slipBetPanelRow\">\\n\\t\\t\\t\\t\\t\\t\\t<div class=\"slipStrokeOrange\"></div>\\n\\t\\t\\t\\t\\t\\t\\t<div id=\"divAlupFormulaLabel\" class=\"slipBottomCellLeft\">Formula</div>\\n\\t\\t\\t\\t\\t\\t\\t<div id=\"bottomHelpButton\" class=\"bottomHelpButton\" onclick=\"OnClickAllupHelp()\" title=\"All Up betting demo\"></div>\\n\\t\\t\\t\\t\\t\\t\\t<div class=\"clear\"></div>\\n\\t\\t\\t\\t\\t\\t</div>\\n\\t\\t\\t\\t\\t\\t<div class=\"slipBetPanelRow\">\\n\\t\\t\\t\\t\\t\\t\\t<div id=\"bsAddBetButton\" class=\"slipAddBet\" onclick=\"CreateAndAddAllUp()\" title=\"Add All Up Bet\"></div>\\n\\t\\t\\t\\t\\t\\t\\t<div class=\"slipAlupUpDown\">\\n\\t\\t\\t\\t\\t\\t\\t\\t<div class=\"slipAlupUp\" onclick=\"inputAllUpValueChanged(10)\"></div>\\n\\t\\t\\t\\t\\t\\t\\t\\t<div class=\"slipAlupDown\" onclick=\"inputAllUpValueChanged(-10)\"></div>\\n\\t\\t\\t\\t\\t\\t\\t</div>\\n\\t\\t\\t\\t\\t\\t\\t<div class=\"slipBottomCellRight\" style=\"padding-left:1px\">\\n\\t\\t\\t\\t\\t\\t\\t\\t<input type=\"text\" class=\"inputField1\" style=\"width:55px; height:19px; background-color: #FFFFFF\" onblur=\"CheckAlupBoxUnitBet(this);\" disabled=\"\" id=\"inputAllUp\">\\n\\t\\t\\t\\t\\t\\t\\t</div>\\n\\t\\t\\t\\t\\t\\t\\t<div class=\"slipBottomCellRight\">\\n\\t\\t\\t\\t\\t\\t\\t\\t<select name=\"selFormula\" id=\"sel_formula\" class=\"select1\" style=\"width:50px;height:21px\" disabled=\"\"></select>\\n\\t\\t\\t\\t\\t\\t\\t</div>\\n\\t\\t\\t\\t\\t\\t\\t<div class=\"clear\"></div>\\n\\t\\t\\t\\t\\t\\t</div>\\n\\t\\t\\t\\t\\t\\t<div class=\"slipDottedLine\"></div>\\n\\t\\t\\t\\t\\t\\t<div class=\"slipBetPanelRow\">\\n\\t\\t\\t\\t\\t\\t\\t<div id=\"fldTotalNoOfBets\" class=\"slipBottomAmountLeft\">Total No. of Bets</div>\\n\\t\\t\\t\\t\\t\\t\\t<div id=\"total_no_of_bets\" class=\"slipBottomAmountRight\">0</div>\\n\\t\\t\\t\\t\\t\\t\\t<div class=\"clear\"></div>\\n\\t\\t\\t\\t\\t\\t</div>\\n\\t\\t\\t\\t\\t\\t<div class=\"slipBetPanelRow\">\\n\\t\\t\\t\\t\\t\\t\\t<div id=\"fldTotalAmount\" class=\"slipBottomAmountLeft\">Total Amount</div>\\n\\t\\t\\t\\t\\t\\t\\t<div id=\"fld_total_bet_amount\" class=\"slipBottomAmountRight\">$ 0.00</div>\\n\\t\\t\\t\\t\\t\\t\\t<div class=\"clear\"></div>\\n\\t\\t\\t\\t\\t\\t</div>\\n\\t\\t\\t\\t\\t\\t<div class=\"slipBetPanelRow\">\\n\\t\\t\\t\\t\\t\\t\\t<div id=\"bsSendPreviewButton\" class=\"slipSendPreview\" onclick=\"OnClickPreview()\" title=\"Send Bet\"></div>\\n\\t\\t\\t\\t\\t\\t\\t<div id=\"bsDeleteBetButton\" class=\"slipDeleteBet\" onclick=\"OnClickReset()\" title=\"Clear Slip\"></div>\\n\\t\\t\\t\\t\\t\\t</div>\\n\\t\\t\\t\\t\\t</div>\\n\\t\\t\\t\\t</div>\\n\\t\\t\\t</div>\\n\\t\\t\\t<div class=\"betslipRow\">\\n\\t\\t\\t\\t<div class=\"bottomYellowBar\"></div>\\n\\t\\t\\t\\t<div class=\"bottomYellowBar\"></div>\\n\\t\\t\\t</div>\\n\\n\\t\\t\\t<div id=\"divEKBA\" onkeydown=\"return onKeyDown(event, true, \\'ekba\\');\">\\n\\t\\t\\t\\t<div class=\"topYellowBar\"></div>\\n\\t\\t\\t\\t<div class=\"ekbaGrayBar\"></div>\\n\\t\\t\\t\\t<div class=\"ekbaContainer\">\\n\\t\\t\\t\\t\\t<div id=\"ekbaDivTitle\">Login Question</div>\\n\\t\\t\\t\\t\\t<div id=\"ekbaSeqQuestion\"></div>\\n\\t\\t\\t\\t\\t<div class=\"ekbaFields\">\\n\\t\\t\\t\\t\\t\\t<input id=\"ekbaDivInput\" name=\"ekbaDivInput\" type=\"text\" class=\"text\" maxlength=\"50\" autocomplete=\"off\" tabindex=\"4\"><span onclick=\"OnClickChgSecQuestion()\" id=\"txtForgetWebPass\">Forgot your Login Answer?</span>\\n\\t\\t\\t\\t\\t\\t<div id=\"ekbaDivError\"></div>\\n\\t\\t\\t\\t\\t</div>\\n\\t\\t\\t\\t\\t<div id=\"divEKBADefaultButton\" class=\"ekbaFooter\" style=\"display:block\">\\n\\t\\t\\t\\t\\t\\t<div class=\"cancelButton\" onclick=\"OnClickLoginEKBACancel()\" id=\"pic_cancel\" title=\"Cancel\"></div>\\n\\t\\t\\t\\t\\t\\t<div class=\"confirmButton\" onclick=\"OnClickLoginEKBA()\" id=\"pic_confirm\" tabindex=\"5\" title=\"Confirm\"></div>\\n\\t\\t\\t\\t\\t</div>\\n\\t\\t\\t\\t\\t<div id=\"divEKBASSOButton\" class=\"ekbaFooter\" style=\"display:none\">\\n\\t\\t\\t\\t\\t\\t<div class=\"backButton\" onclick=\"OnClickLoginEKBABack()\" id=\"pic_backSSO\" title=\"Back\"></div>\\n\\t\\t\\t\\t\\t\\t<div class=\"logoutEKBAButton\" onclick=\"OnClickLoginEKBALogout()\" id=\"pic_logoutSSO\" title=\"Logout\"></div>\\n\\t\\t\\t\\t\\t\\t<div class=\"confirmButton\" onclick=\"OnClickLoginEKBA()\" id=\"pic_confirmSSO\" tabindex=\"6\" title=\"Confirm\"></div>\\n\\t\\t\\t\\t\\t</div>\\n\\t\\t\\t\\t</div>\\n\\t\\t\\t\\t<div class=\"ekbaGrayBar\"></div>\\n\\t\\t\\t\\t<div class=\"topYellowBar\"></div>\\n\\t\\t\\t</div>\\n\\n\\t\\t\\t<div id=\"divEWallet\" style=\"display:none; border-left: 1px solid #a3a3a3;\">\\n\\t\\t\\t\\t<div class=\"topYellowBar\"></div>\\n\\t\\t\\t\\t<div class=\"ekbaGrayBar\"></div>\\n\\t\\t\\t\\t<div class=\"container\">\\n\\t\\t\\t\\t\\t<h2>\\n\\t\\t\\t\\t\\t\\t<div id=\"eWalletDivTitle\"></div>\\n\\t\\t\\t\\t\\t</h2>\\n\\t\\t\\t\\t\\t<p>\\n\\t\\t\\t\\t\\t\\t</p><div id=\"eWalletMsg\"></div>\\n\\t\\t\\t\\t\\t<p></p>\\n\\t\\t\\t\\t\\t<div id=\"divEWalletLaterButton\" class=\"BLfooter\" style=\"display:block\">\\n\\t\\t\\t\\t\\t\\t<span style=\"float:left; margin-left:280px; margin-right:10px; display:inline;\"><a class=\"eWalletLater\" href=\"#\" onclick=\"OnClickEWalletCancel();return false;\"></a></span>\\n\\t\\t\\t\\t\\t\\t<span style=\"float:right; margin-left:10px; margin-right:10px; display:inline;\"><a class=\"eWalletUpgrade\" href=\"#\" onclick=\"OnClickEWalletUpgrade();return false;\"></a></span>\\n\\t\\t\\t\\t\\t</div>\\n\\t\\t\\t\\t</div>\\n\\t\\t\\t\\t<div class=\"ekbaGrayBar\"></div>\\n\\t\\t\\t\\t<div class=\"topYellowBar\"></div>\\n\\t\\t\\t</div>\\n\\n\\t\\t\\t<div id=\"divDisclaimer\" onkeydown=\"return onKeyDown(event, true, \\'disclaimer\\');\" tabindex=\"-1\">\\n\\t\\t\\t\\t<div class=\"topYellowBar\"></div>\\n\\t\\t\\t\\t<div class=\"ekbaGrayBar\"></div>\\n\\t\\t\\t\\t<div id=\"disclaimerHeader\">Terms &amp; Conditions</div>\\n\\t\\t\\t\\t<div id=\"disclaimerText\"></div>\\n\\t\\t\\t\\t<div id=\"disclaimerProceed\" onclick=\"ShowDisclaimer(false, true)\" class=\"disclaimerEnterButton\" title=\"Proceed\"></div>\\n\\t\\t\\t\\t<div style=\"clear:both\"></div>\\n\\t\\t\\t\\t<div class=\"ekbaGrayBar\"></div>\\n\\t\\t\\t\\t<div class=\"topYellowBar\"></div>\\n\\t\\t\\t</div>\\n\\n\\t\\t\\t<div id=\"divIdleAlert\">\\n\\t\\t\\t\\t<div id=\"divIdleAlertLogoutTips\"></div>\\n\\t\\t\\t\\t<div id=\"divIdleAlertLogoutTimeTips\"></div>\\n\\t\\t\\t\\t<div onclick=\"idleAlertClose()\" id=\"divIdleAlertStay\"></div>\\n\\t\\t\\t\\t<div onclick=\"idleAlertLogout(false)\" id=\"divIdleAlertLogout\"></div>\\n\\t\\t\\t\\t<div id=\"divIdleAlertSound\" style=\"height:0\"></div>\\n\\t\\t\\t</div>\\n\\n\\t\\t\\t<div id=\"divBetPreview\">\\n\\t\\t\\t\\t<div class=\"topYellowBar\"></div>\\n\\t\\t\\t\\t<div class=\"ekbaGrayBar\"></div>\\n\\t\\t\\t\\t<div class=\"divBetTable\">\\n\\t\\t\\t\\t\\t<div class=\"betHeader\">\\n\\t\\t\\t\\t\\t\\t<div id=\"betHeaderCell1\"></div>\\n\\t\\t\\t\\t\\t\\t<div id=\"betHeaderCell2\"></div>\\n\\t\\t\\t\\t\\t\\t<div id=\"betHeaderCell3\"></div>\\n\\t\\t\\t\\t\\t\\t<div id=\"betHeaderPrint\" onclick=\"betReplyPrint()\"></div>\\n\\t\\t\\t\\t\\t\\t<div style=\"clear:both\"></div>\\n\\t\\t\\t\\t\\t</div>\\n\\t\\t\\t\\t\\t<div id=\"divReplyTotal\" class=\"replyBottomRow\">\\n\\t\\t\\t\\t\\t\\t<div id=\"txtBetTotalReply\"></div>\\n\\t\\t\\t\\t\\t\\t<div id=\"valueBetTotalReply\"></div>\\n\\t\\t\\t\\t\\t\\t<div style=\"clear:both\"></div>\\n\\t\\t\\t\\t\\t</div>\\n\\t\\t\\t\\t\\t<div id=\"betSubHeader\"></div>\\n\\t\\t\\t\\t\\t<div id=\"previewTable\"></div>\\n\\t\\t\\t\\t\\t<div id=\"replyTable\"></div>\\n\\t\\t\\t\\t</div>\\n\\t\\t\\t\\t<div id=\"divPreviewBottom\">\\n\\t\\t\\t\\t\\t<div class=\"previewDeleteDiv\">\\n\\t\\t\\t\\t\\t\\t<div class=\"previewDeleteDimButton\" onclick=\"OnClickDeleteBet()\" id=\"previewDel\"></div>\\n\\t\\t\\t\\t\\t</div>\\n\\t\\t\\t\\t\\t<div class=\"previewInplayMsgDiv\">\\n\\t\\t\\t\\t\\t\\t<div class=\"inplayMsgTxt\"></div>\\n\\t\\t\\t\\t\\t</div>\\n\\t\\t\\t\\t\\t<div class=\"previewSendDiv\">\\n\\t\\t\\t\\t\\t\\t<div>\\n\\t\\t\\t\\t\\t\\t\\t<div class=\"previewSendCell\" id=\"txtBetTotal\"></div>\\n\\t\\t\\t\\t\\t\\t\\t<div class=\"previewSendCell\" id=\"valueBetTotal\"></div>\\n\\t\\t\\t\\t\\t\\t\\t<div style=\"clear:both\"></div>\\n\\t\\t\\t\\t\\t\\t</div>\\n\\t\\t\\t\\t\\t\\t<div>\\n\\t\\t\\t\\t\\t\\t\\t<div class=\"previewCloseButton previewSendCell\" onclick=\"OnClickClosePreview()\" id=\"previewClose\"></div>\\n\\t\\t\\t\\t\\t\\t\\t<div class=\"previewSendButton previewSendCell\" onclick=\"OnClickConfirmBet()\" id=\"previewSend\"></div>\\n\\t\\t\\t\\t\\t\\t</div>\\n\\t\\t\\t\\t\\t</div>\\n\\t\\t\\t\\t\\t<div style=\"clear:both\"></div>\\n\\t\\t\\t\\t</div>\\n\\t\\t\\t\\t<div id=\"divReplyBottom\">\\n\\t\\t\\t\\t\\t<div class=\"previewInplayMsgDiv\">\\n\\t\\t\\t\\t\\t\\t<div class=\"inplayMsgTxt\"></div>\\n\\t\\t\\t\\t\\t</div>\\n\\t\\t\\t\\t\\t<div class=\"replyBottomDiv\">\\n\\t\\t\\t\\t\\t\\t<div>\\n\\t\\t\\t\\t\\t\\t\\t<div style=\"float:right; margin-left:10px; display:none;\" class=\"previewSendButton previewSendCell\" onclick=\"OnClickResendConfirmBet()\" id=\"replySend\"></div>\\n\\t\\t\\t\\t\\t\\t\\t<div class=\"replyRecallButton\" onclick=\"OnClickCloseAndRecall()\" id=\"replyRecall\"></div>\\n\\t\\t\\t\\t\\t\\t\\t<div class=\"replyCloseButton\" onclick=\"OnClickClose()\" id=\"replyClose\"></div>\\n\\t\\t\\t\\t\\t\\t</div>\\n\\t\\t\\t\\t\\t\\t<div style=\"clear:both\"></div>\\n\\t\\t\\t\\t\\t</div>\\n\\t\\t\\t\\t</div>\\n\\t\\t\\t\\t<div class=\"ekbaGrayBar\"></div>\\n\\t\\t\\t\\t<div class=\"topYellowBar\"></div>\\n\\t\\t\\t</div>\\n\\n\\t\\t</div>\\n\\n\\t\\t<div id=\"divRegDropdownMenu\" class=\"regDropdown tDisplayNone\">\\n\\t\\t\\t<ul>\\n\\t\\t\\t\\t<li><a href=\"javascript:onClickRegonline();\" class=\"content\"><span id=\"regOnline\">I already have a betting account</span></a></li>\\n\\t\\t\\t\\t<li><a href=\"javascript:onClickApplybet();\" class=\"content\"><span id=\"regApply\">I do not have a betting account</span></a></li>\\n\\t\\t\\t</ul>\\n\\t\\t</div>\\n\\n\\t\\t<div id=\"divSettingsMenu\" class=\"regDropdown tDisplayNone\">\\n\\t\\t\\t<ul>\\n\\t\\t\\t\\t<li><a href=\"javascript:OnClickChgWebPassword();\" class=\"content\"><span id=\"txtChgWebPassword\">Change Online Password</span></a></li>\\n\\t\\t\\t\\t<li><a href=\"javascript:OnClickChgSecQuestion();\" class=\"content\"><span id=\"txtChgSecQuestion\">Change Login Answers</span></a></li>\\n\\t\\t\\t\\t<li><a href=\"javascript:OnClickChgWebProfile();\" class=\"content\"><span id=\"txtChgWebProfile\">Change Profile</span></a></li>\\n\\t\\t\\t\\t<li><a href=\"javascript:OnClickPersonalSettings();\" class=\"content\"><span id=\"txtPersonalSettings\"> Personal Settings in eWin</span></a></li>\\n\\t\\t\\t\\t<li style=\"display:none\"><a href=\"javascript:OnClickFootballLive();\" class=\"content\"><span id=\"txtFootballLive\">Football Live</span></a></li>\\n\\t\\t\\t</ul>\\n\\t\\t</div>\\n\\t</div>\\n\\n</div>\\n\\n\\n<div id=\"divBetSlipOverlay\">\\n\\t<div id=\"divStmtYellowNote\"></div>\\n\\n\\t<div id=\"divPersonalSetting\">\\n\\t\\t<div class=\"topYellowBar\"></div>\\n\\t\\t<div class=\"boCenter\">\\n\\t\\t\\t<div class=\"boHeader\" id=\"txtSettingHeader\"></div>\\n\\t\\t\\t<div id=\"divSettingTable\">\\n\\t\\t\\t\\t<div id=\"settingTable\">\\n\\t\\t\\t\\t\\t<div id=\"settingHeader1\" class=\"settingHeaderOpen\" onclick=\"settingToggleTable(1)\"></div>\\n\\t\\t\\t\\t\\t<div id=\"settingBody1\" class=\"settingTable\"></div>\\n\\t\\t\\t\\t\\t<div id=\"settingHeader2\" class=\"settingHeaderOpen\" onclick=\"settingToggleTable(2)\"></div>\\n\\t\\t\\t\\t\\t<div id=\"settingBody2\" class=\"settingTable\"></div>\\n\\t\\t\\t\\t\\t<div id=\"settingHeader3\" class=\"settingHeaderOpen\" onclick=\"settingToggleTable(3)\"></div>\\n\\t\\t\\t\\t\\t<div id=\"settingBody3\" class=\"settingTable\"></div>\\n\\t\\t\\t\\t\\t<div id=\"settingHeader4\" class=\"settingHeaderOpen\" onclick=\"settingToggleTable(4)\"></div>\\n\\t\\t\\t\\t\\t<div id=\"settingBody4\" class=\"settingTable\"></div>\\n\\t\\t\\t\\t\\t<div id=\"settingHeader5\" class=\"settingHeaderOpen\" onclick=\"settingToggleTable(5)\"></div>\\n\\t\\t\\t\\t\\t<div id=\"settingBody5\" class=\"settingTable\"></div>\\n\\t\\t\\t\\t\\t<div id=\"settingHeader6\" class=\"settingHeaderOpen\" onclick=\"settingToggleTable(6)\"></div>\\n\\t\\t\\t\\t\\t<div id=\"settingBody6\" class=\"settingTable\"></div>\\n\\t\\t\\t\\t</div>\\n\\t\\t\\t\\t<div id=\"divSettingBottom\">\\n\\t\\t\\t\\t\\t<div class=\"stmtCloseButton\" id=\"settingClose\" onclick=\"closeAllBetSlipOverlay()\"></div>\\n\\t\\t\\t\\t\\t<div class=\"settingDefaultButton\" id=\"settingDefault\" onclick=\"setDefaultAmt()\"></div>\\n\\t\\t\\t\\t\\t<div class=\"settingSaveButton\" id=\"settingSave\" onclick=\"saveAmt()\" onmouseover=\"showDiv(this, \\'setting\\', true);\" onmouseout=\"showDiv(this, \\'\\', false);\"></div>\\n\\t\\t\\t\\t</div>\\n\\t\\t\\t</div>\\n\\t\\t</div>\\n\\t\\t<div class=\"topYellowBar\"></div>\\n\\t</div>\\n\\n\\t<div id=\"divStatement\">\\n\\t\\t<div id=\"DivReceipt\" style=\"background:rgba(0,0,0,0.5); width:100%;height:100%;position:absolute;text-align:center;z-index:10;display:none;top:0; left:0;\" onclick=\"CloseReceipt()\">\\n\\t\\t\\t<div style=\"margin-top:20px;color:white;\">\\n\\t\\t\\t\\t<a class=\"btnGray\" id=\"btnDownload\" style=\"width:60px; padding:5px;\" onclick=\"downloadReceipt()\"></a>\\n\\t\\t\\t\\t<br>\\n\\t\\t\\t\\t<img id=\"imgReceipt\">\\n\\t\\t\\t\\t<canvas id=\"canReceipt\" style=\"display:none\">\\n\\t\\t\\t</canvas></div>\\n\\t\\t</div>\\n\\t\\t<div class=\"topYellowBar\"></div>\\n\\t\\t<div class=\"boCenter\">\\n\\t\\t\\t<div class=\"boHeader\" id=\"txtAccRecordHeader\"></div>\\n\\t\\t\\t<div class=\"boSubheader\">\\n\\t\\t\\t\\t<div class=\"boNav\" id=\"linkAccountRecord\" onclick=\"reloadAccountRecord()\"></div>\\n\\t\\t\\t\\t<div class=\"boHelpButton\" id=\"helpAccountRecord\" onclick=\"OnClickHelpAccountRecord()\">\\n\\t\\t\\t\\t\\t<img src=\"/info/include/images/icon_help.gif\" class=\"boHelpPic\">\\n\\t\\t\\t\\t</div>\\n\\t\\t\\t\\t<div class=\"strokeGray\"></div>\\n\\t\\t\\t\\t<div class=\"boNav\" id=\"linkCurSession\" onclick=\"reloadCurSession()\"></div>\\n\\t\\t\\t\\t<div class=\"boHelpButton\" id=\"helpCurSession\" onclick=\"OnClickHelpCurSession()\">\\n\\t\\t\\t\\t\\t<img src=\"/info/include/images/icon_help.gif\" class=\"boHelpPic\">\\n\\t\\t\\t\\t</div>\\n\\t\\t\\t\\t<div class=\"strokeGray\"></div>\\n\\t\\t\\t\\t<div class=\"boNav\" id=\"linkRecall\" onclick=\"reloadRecall()\"></div>\\n\\t\\t\\t\\t<div class=\"boHelpButton\" id=\"helpRecall\" onclick=\"OnClickHelpRecall()\">\\n\\t\\t\\t\\t\\t<img src=\"/info/include/images/icon_help.gif\" class=\"boHelpPic\">\\n\\t\\t\\t\\t</div>\\n\\t\\t\\t\\t<div style=\"clear:both\"></div>\\n\\t\\t\\t</div>\\n\\n\\t\\t\\t<div id=\"divAccountRecord\">\\n\\t\\t\\t\\t<div id=\"divStatementSearchBox\">\\n\\t\\t\\t\\t\\t<div id=\"divSearchBlock1\">\\n\\t\\t\\t\\t\\t\\t<div class=\"betslipRow\">\\n\\t\\t\\t\\t\\t\\t\\t<div class=\"searchDateCell1\"><input name=\"dateType\" id=\"radioToday\" type=\"radio\" value=\"0\" style=\"margin:0px\" checked=\"\"></div>\\n\\t\\t\\t\\t\\t\\t\\t<div class=\"searchDateCell2\"><label for=\"radioToday\" id=\"asToday\"></label></div>\\n\\t\\t\\t\\t\\t\\t</div>\\n\\t\\t\\t\\t\\t\\t<div class=\"betslipRow\">\\n\\t\\t\\t\\t\\t\\t\\t<div class=\"searchDateCell1\" style=\"padding-top:7px;\"><input name=\"dateType\" id=\"radioDateRange\" type=\"radio\" value=\"1\" style=\"margin:0px\"></div>\\n\\t\\t\\t\\t\\t\\t\\t<div class=\"searchDateCell3\">\\n\\t\\t\\t\\t\\t\\t\\t\\t<div>\\n\\t\\t\\t\\t\\t\\t\\t\\t\\t<label for=\"radioDateRange\" id=\"asFrom\"></label> :\\n\\t\\t\\t\\t\\t\\t\\t\\t\\t<label for=\"radioDateRange\" id=\"asFromDay\"></label>\\n\\t\\t\\t\\t\\t\\t\\t\\t\\t<select id=\"FromDay\" class=\"select2\" style=\"width:50px\" onchange=\"resetDate(\\'From\\', 0)\"></select>\\n\\t\\t\\t\\t\\t\\t\\t\\t\\t/\\n\\t\\t\\t\\t\\t\\t\\t\\t\\t<label for=\"radioDateRange\" id=\"asFromMonth\"></label>\\n\\t\\t\\t\\t\\t\\t\\t\\t\\t<select id=\"FromMonth\" class=\"select2\" style=\"width:50px\" onchange=\"resetDate(\\'From\\', 1)\"></select>\\n\\t\\t\\t\\t\\t\\t\\t\\t\\t/\\n\\t\\t\\t\\t\\t\\t\\t\\t\\t<label for=\"radioDateRange\" id=\"asFromYear\"></label>\\n\\t\\t\\t\\t\\t\\t\\t\\t\\t<select id=\"FromYear\" class=\"select2\" style=\"width:60px\" onchange=\"resetDate(\\'From\\', 2)\"></select>\\n\\t\\t\\t\\t\\t\\t\\t\\t</div>\\n\\t\\t\\t\\t\\t\\t\\t\\t<div>\\n\\t\\t\\t\\t\\t\\t\\t\\t\\t<label for=\"radioDateRange\" id=\"asTo\"></label> :\\n\\t\\t\\t\\t\\t\\t\\t\\t\\t<label for=\"radioDateRange\" id=\"asTo_Day\"></label>\\n\\t\\t\\t\\t\\t\\t\\t\\t\\t<select id=\"ToDay\" class=\"select2\" style=\"width:50px\" onchange=\"resetDate(\\'To\\', 0)\"></select>\\n\\t\\t\\t\\t\\t\\t\\t\\t\\t/\\n\\t\\t\\t\\t\\t\\t\\t\\t\\t<label for=\"radioDateRange\" id=\"asToMonth\"></label>\\n\\t\\t\\t\\t\\t\\t\\t\\t\\t<select id=\"ToMonth\" class=\"select2\" style=\"width:50px\" onchange=\"resetDate(\\'To\\', 1)\"></select>\\n\\t\\t\\t\\t\\t\\t\\t\\t\\t/\\n\\t\\t\\t\\t\\t\\t\\t\\t\\t<label for=\"radioDateRange\" id=\"asToYear\"></label>\\n\\t\\t\\t\\t\\t\\t\\t\\t\\t<select id=\"ToYear\" class=\"select2\" style=\"width:60px\" onchange=\"resetDate(\\'To\\', 2)\"></select>\\n\\t\\t\\t\\t\\t\\t\\t\\t</div>\\n\\t\\t\\t\\t\\t\\t\\t</div>\\n\\t\\t\\t\\t\\t\\t</div>\\n\\t\\t\\t\\t\\t\\t<div id=\"asSelDtRange\"></div>\\n\\t\\t\\t\\t\\t\\t<div class=\"betslipRow\" id=\"lastDayOption\">\\n\\t\\t\\t\\t\\t\\t\\t<div class=\"searchDateCell1\" style=\"padding-top:3px;\">\\n\\t\\t\\t\\t\\t\\t\\t\\t<input name=\"dateType\" id=\"radioLastDay\" type=\"radio\" value=\"2\" style=\"margin:0px\"></div>\\n\\t\\t\\t\\t\\t\\t\\t<div class=\"searchDateCell2\">\\n\\t\\t\\t\\t\\t\\t\\t\\t<label for=\"radioLastDay\" id=\"seekLastDay\"></label>\\n\\t\\t\\t\\t\\t\\t\\t\\t<select id=\"last_days\" class=\"select2\" style=\"width:50px\" onchange=\"$(\\'#radioLastDay\\').prop(\\'checked\\', \\'true\\');\"></select>\\n\\t\\t\\t\\t\\t\\t\\t\\t<label for=\"radioLastDay\" id=\"seekUnit\"></label>\\n\\t\\t\\t\\t\\t\\t\\t</div>\\n\\t\\t\\t\\t\\t\\t</div>\\n\\t\\t\\t\\t\\t</div>\\n\\t\\t\\t\\t\\t<div id=\"divSearchBlock2\">\\n\\t\\t\\t\\t\\t\\t<div class=\"betslipRow\">\\n\\t\\t\\t\\t\\t\\t\\t<span id=\"asTxnType\"></span> :\\n\\t\\t\\t\\t\\t\\t\\t<select id=\"betType\" class=\"select2\" style=\"width:215px\" onchange=\"resetBetAndTxnOptions(false)\"></select>\\n\\t\\t\\t\\t\\t\\t</div>\\n\\t\\t\\t\\t\\t\\t<div class=\"betslipRow\">\\n\\t\\t\\t\\t\\t\\t\\t<span id=\"asDisplayType\"></span> :\\n\\t\\t\\t\\t\\t\\t\\t<select id=\"txnType\" class=\"select2\" style=\"width:215px\" onchange=\"resetBetAndTxnOptions(false)\"></select>\\n\\t\\t\\t\\t\\t\\t</div>\\n\\t\\t\\t\\t\\t\\t<div class=\"statementConfirmButton\" id=\"stmtConfirmButton\" onclick=\"OnClickStatementSearch()\">\\n\\t\\t\\t\\t\\t\\t</div>\\n\\t\\t\\t\\t\\t</div>\\n\\n\\t\\t\\t\\t</div>\\n\\n\\t\\t\\t\\t<div id=\"divStatementYellowHeader\">\\n\\t\\t\\t\\t\\t<div class=\"stmtMiddleHeader\">\\n\\t\\t\\t\\t\\t\\t<div id=\"stmtPageNo\"></div>\\n\\t\\t\\t\\t\\t\\t<div id=\"stmtAccBal\"></div>\\n\\t\\t\\t\\t\\t\\t<div id=\"stmtAccNo\"></div>\\n\\t\\t\\t\\t\\t\\t<div id=\"stmtTime\"></div>\\n\\t\\t\\t\\t\\t\\t<div style=\"clear:both\"></div>\\n\\t\\t\\t\\t\\t</div>\\n\\t\\t\\t\\t</div>\\n\\n\\t\\t\\t\\t<div id=\"divStatementTable\">\\n\\t\\t\\t\\t\\t<div id=\"stmtMsg\"></div>\\n\\t\\t\\t\\t\\t<div id=\"stmtHeader\"></div>\\n\\t\\t\\t\\t\\t<div id=\"stmtTable\"></div>\\n\\t\\t\\t\\t\\t<div id=\"divStmtBottom\">\\n\\t\\t\\t\\t\\t\\t<div class=\"stmtCloseButton\" id=\"stmtClose\" onclick=\"closeAllBetSlipOverlay()\"></div>\\n\\t\\t\\t\\t\\t\\t<div class=\"stmtNextDimButton\" id=\"stmtNext\" onclick=\"stmtNextPage()\"></div>\\n\\t\\t\\t\\t\\t\\t<div class=\"stmtPrevDimButton\" id=\"stmtPrev\" onclick=\"stmtPrevPage()\"></div>\\n\\t\\t\\t\\t\\t\\t<div id=\"stmtExportMenu\">\\n\\t\\t\\t\\t\\t\\t\\t<div id=\"stmtExportHtml\" onclick=\"fileExport(\\'html\\')\"></div>\\n\\t\\t\\t\\t\\t\\t\\t<div id=\"stmtExportText\" onclick=\"fileExport(\\'txt\\')\"></div>\\n\\t\\t\\t\\t\\t\\t</div>\\n\\t\\t\\t\\t\\t\\t<div class=\"stmtExportButton\" id=\"stmtExport\" onmouseover=\"showDiv(this, \\'save\\', true);\" onmouseout=\"showDiv(this, \\'\\', false);\" onclick=\"onclickStmtExport(this)\" tabindex=\"-1\">\\n\\t\\t\\t\\t\\t\\t</div>\\n\\t\\t\\t\\t\\t\\t<div class=\"stmtPrintButton\" id=\"stmtPrint\" onmouseover=\"showDiv(this, \\'print\\', true);\" onmouseout=\"showDiv(this, \\'\\', false);\" onclick=\"onclickStmtPrint()\"></div>\\n\\t\\t\\t\\t\\t\\t<div class=\"stmtNewSearchButton\" id=\"stmtNewSearch\" onclick=\"openSearchBox()\"></div>\\n\\t\\t\\t\\t\\t</div>\\n\\t\\t\\t\\t</div>\\n\\t\\t\\t</div>\\n\\n\\t\\t\\t<div id=\"divCurSession\">\\n\\t\\t\\t\\t<div id=\"divCurSessionYellowHeader\">\\n\\t\\t\\t\\t\\t<div class=\"curSessionNote\">\\n\\t\\t\\t\\t\\t\\t<div id=\"curSessionNote1\"></div>\\n\\t\\t\\t\\t\\t\\t<div id=\"curSessionNote2\"></div>\\n\\t\\t\\t\\t\\t</div>\\n\\t\\t\\t\\t\\t<div id=\"curSessionYellowBar\" class=\"stmtMiddleHeader\">\\n\\t\\t\\t\\t\\t\\t<div id=\"curSessionAccBal\"></div>\\n\\t\\t\\t\\t\\t</div>\\n\\t\\t\\t\\t</div>\\n\\n\\t\\t\\t\\t<div id=\"divCurSessionTable\">\\n\\t\\t\\t\\t\\t<div id=\"curSessionMsg\"></div>\\n\\t\\t\\t\\t\\t<div id=\"curSessionHeader\"></div>\\n\\t\\t\\t\\t\\t<div id=\"curSessionTable\"></div>\\n\\t\\t\\t\\t\\t<div id=\"divCurSessionBottom\">\\n\\t\\t\\t\\t\\t\\t<div class=\"stmtCloseButton\" id=\"curSessionClose\" onclick=\"closeAllBetSlipOverlay()\"></div>\\n\\t\\t\\t\\t\\t\\t<div class=\"stmtPrintButton\" id=\"curSessionPrint\" onmouseover=\"showDiv(\\'print\\', true);\" onmouseout=\"showDiv(\\'\\', false);\" onclick=\"onclickCurSessionPrint()\"></div>\\n\\t\\t\\t\\t\\t</div>\\n\\t\\t\\t\\t</div>\\n\\t\\t\\t</div>\\n\\n\\n\\t\\t\\t<div id=\"divRecall\">\\n\\t\\t\\t\\t<div id=\"divRecallYellowHeader\">\\n\\t\\t\\t\\t\\t<div class=\"stmtMiddleHeader\">\\n\\t\\t\\t\\t\\t\\t<div id=\"recallPageNo\"></div>\\n\\t\\t\\t\\t\\t</div>\\n\\t\\t\\t\\t</div>\\n\\n\\t\\t\\t\\t<div id=\"divRecallTable\">\\n\\t\\t\\t\\t\\t<div id=\"recallMsg\"></div>\\n\\t\\t\\t\\t\\t<div id=\"recallHeader\"></div>\\n\\t\\t\\t\\t\\t<div id=\"recallTable\"></div>\\n\\t\\t\\t\\t\\t<div id=\"divRecallBottom\">\\n\\t\\t\\t\\t\\t\\t<div class=\"stmtCloseButton\" id=\"recallClose\" onclick=\"closeAllBetSlipOverlay()\"></div>\\n\\t\\t\\t\\t\\t\\t<div class=\"stmtNextDimButton\" id=\"recallNext\" onclick=\"recallNextPage()\"></div>\\n\\t\\t\\t\\t\\t\\t<div class=\"stmtPrevDimButton\" id=\"recallPrev\" onclick=\"recallPrevPage()\"></div>\\n\\t\\t\\t\\t\\t\\t<div class=\"stmtPrintButton\" id=\"recallPrint\" onmouseover=\"showDiv(this, \\'print\\', true);\" onmouseout=\"showDiv(this, \\'\\', false);\" onclick=\"onclickRecallPrint()\"></div>\\n\\t\\t\\t\\t\\t</div>\\n\\t\\t\\t\\t</div>\\n\\t\\t\\t</div>\\n\\n\\t\\t</div>\\n\\t\\t<div class=\"topYellowBar\"></div>\\n\\t</div>\\n\\n\\t<div id=\"divFundTransfer\">\\n\\t\\t<div class=\"eft_base\">\\n\\t\\t\\t<div id=\"popupHeader\" style=\"float: left; width: 100%\">\\n\\t\\t\\t\\t<div class=\"eft_topTitleBar\" style=\"float:left; width:100%; padding:5px 0px 0px 0px\">\\n\\t\\t\\t\\t\\t<img src=\"/info/include/images/stroke_yellow.gif\" style=\"padding-left:10px; vertical-align: middle\">\\n\\t\\t\\t\\t\\t<span class=\"titleWhite\" id=\"asTitle\" style=\"padding-left:10px; vertical-align: middle\"></span>\\n\\t\\t\\t\\t\\t<a href=\"javascript:;\" style=\"cursor:help; vertical-align: middle\"><img src=\"/info/include/images/icon_help.gif\" id=\"pic_help\" onclick=\"EftOnClickHelp()\" hspace=\"3\" border=\"0\" align=\"absmiddle\" style=\"margin-bottom:3px;\"></a>\\n\\t\\t\\t\\t</div>\\n\\t\\t\\t\\t<div style=\"float:left;width:100%; border-top:1px solid #E8E9EA; background-color:#FFFFFF; line-height:1px; margin-top:3px;\">\\n\\t\\t\\t\\t</div>\\n\\t\\t\\t\\t<div style=\"background:url(/info/include/images/popup_nav_bg.gif) repeat-x; float:left; width:100%; padding-bottom: 3px;\">\\n\\t\\t\\t\\t\\t<input type=\"button\" class=\"popupNav eftMenu\" id=\"eftMenuBtn0\" onclick=\"EftOnLoad(0)\">\\n\\t\\t\\t\\t\\t<img src=\"/info/include/images/popuo_stroke_gray.gif\" width=\"1\" height=\"14\" style=\"vertical-align: middle\">\\n\\t\\t\\t\\t\\t<input type=\"button\" class=\"popupNav eftMenu\" id=\"eftMenuBtn1\" onclick=\"EftOnLoad(1)\">\\n\\t\\t\\t\\t\\t<img id=\"eftMenuBtn2Stoke\" src=\"/info/include/images/popuo_stroke_gray.gif\" width=\"1\" height=\"14\" style=\"vertical-align: middle\">\\n\\t\\t\\t\\t\\t<input type=\"button\" class=\"popupNav eftMenu\" id=\"eftMenuBtn2\" onclick=\"EftOnLoad(2)\"><img id=\"imgSingleLegIcon\" class=\"eft_single_leg_img_sm\" src=\"/info/include/images/eft_single.png\" style=\"display:none\">\\n\\t\\t\\t\\t</div>\\n\\t\\t\\t</div>\\n\\t\\t\\t<div id=\"DivNotice\" style=\"display: none; width: 270px; height: 170px; z-index: 100; position: absolute; left: 50%; top: 50%; transform: translate(-50%, -50%); background-color: #FFFFFF; border: 1px solid #A6A6A6\">\\n\\t\\t\\t\\t<div>\\n\\t\\t\\t\\t\\t<h2 id=\"lblServiceNotice\" style=\"text-align: center\"></h2>\\n\\t\\t\\t\\t</div>\\n\\t\\t\\t\\t<div id=\"lblServiceContent\" style=\"padding: 10px; height: 60px; text-align: center;\"></div>\\n\\t\\t\\t\\t<div style=\"height: 30px; text-align: center; float: left; width: 100%; margin-top:15px;\">\\n\\t\\t\\t\\t\\t<input id=\"btnUpdateNotification\" type=\"button\" class=\"btnServiceConfirm btnGray\" onclick=\"UpdateNotification();\" style=\"display:none\">\\n\\t\\t\\t\\t\\t<input id=\"btnUpdateSingleLegNotification\" type=\"button\" class=\"btnServiceConfirm btnGray\" onclick=\"UpdateSingleLegNotification();\" style=\"display:none\">\\n\\t\\t\\t\\t</div>\\n\\t\\t\\t</div>\\n\\t\\t\\t<!-- **************** DivRequest BEGIN **************** -->\\n\\t\\t\\t<div id=\"DivRequest\" style=\"float: left;width:100%;background-color: #EEEEEE;\">\\n\\t\\t\\t\\t<div id=\"RequestYellowBar\" style=\"background-color:#FCF7B2;display:none;\">\\n\\t\\t\\t\\t\\t<div style=\"float:left;width:610px;padding:10px 15px 10px 15px;\">\\n\\t\\t\\t\\t\\t\\t<span id=\"lblRequestNoNba\"></span>\\n\\t\\t\\t\\t\\t</div>\\n\\t\\t\\t\\t\\t<div id=\"DivLinkNow\" style=\"float:left;width:100px;padding:10px 15px 10px 15px;text-align:right;display:none;\">\\n\\t\\t\\t\\t\\t\\t<input type=\"button\" class=\"btnLinkNow btnGray\" onclick=\"EftOnLoad(2);\" style=\"right:0;\">\\n\\t\\t\\t\\t\\t</div>\\n\\t\\t\\t\\t</div>\\n\\t\\t\\t\\t<div style=\"float: left; width: 100%; border-top: 2px solid #003B7F; \"></div>\\n\\t\\t\\t\\t<div id=\"DivDeposit\" style=\"float: left; width: 100%; display:none\">\\n\\t\\t\\t\\t\\t<div class=\"eft_item_l\">\\n\\t\\t\\t\\t\\t\\t<span id=\"lblFrom\"></span>:\\n\\t\\t\\t\\t\\t</div>\\n\\t\\t\\t\\t\\t<div style=\"float: left; position: relative; width: 80%;\">\\n\\t\\t\\t\\t\\t\\t<div id=\"DivDepositType\" style=\"margin: 15px 15px 0px 0px;  position: relative; display:none; \">\\n\\t\\t\\t\\t\\t\\t\\t<div id=\"DivDepositTypeNba\" class=\"eft_deposit_selection eft_deposit_selection_selected\" onclick=\"changeDepositType(\\'NBA\\')\"><span id=\"lbl_link_nba\"></span></div>\\n\\t\\t\\t\\t\\t\\t\\t<div id=\"DivDepositTypePps\" class=\"eft_deposit_selection\" onclick=\"changeDepositType(\\'PPS\\')\"><span id=\"lbl_link_pps\"></span></div>\\n\\t\\t\\t\\t\\t\\t</div>\\n\\t\\t\\t\\t\\t\\t<div id=\"DivDepositNba\" class=\"eft_deposit_group\">\\n\\t\\t\\t\\t\\t\\t\\t<div id=\"div_nba1\" class=\"eft_deposit_nba\">\\n\\t\\t\\t\\t\\t\\t\\t\\t<input type=\"radio\" id=\"rd_nba1\" value=\"NBA1\" name=\"trans_from_to\" checked=\"checked\" onclick=\"OnChangeTransFrom(true);\" class=\"eft_rd\">\\n\\t\\t\\t\\t\\t\\t\\t\\t<label id=\"lbl_bankname_1\" for=\"rd_nba1\" class=\"eft_rd_label\"></label>\\n\\t\\t\\t\\t\\t\\t\\t\\t<span class=\"eft_rd_label\">\\n\\t\\t\\t\\t\\t\\t\\t\\t\\t<label id=\"lbl_bank_account_1\" for=\"rd_nba1\"></label>\\n\\t\\t\\t\\t\\t\\t\\t</span>\\n\\t\\t\\t\\t\\t\\t</div>\\n\\t\\t\\t\\t\\t\\t\\t<div id=\"div_nba2\" class=\"eft_deposit_nba\">\\n\\t\\t\\t\\t\\t\\t\\t\\t<input type=\"radio\" id=\"rd_nba2\" value=\"NBA2\" name=\"trans_from_to\" onclick=\"OnChangeTransFrom(true);\" class=\"eft_rd\">\\n\\t\\t\\t\\t\\t\\t\\t\\t<label style=\"display: block;\" id=\"lbl_bankname_2\" for=\"rd_nba2\" class=\"eft_rd_label\"></label>\\n\\t\\t\\t\\t\\t\\t\\t\\t<span class=\"eft_rd_label\">\\n\\t\\t\\t\\t\\t\\t\\t\\t<label id=\"lbl_bank_account_2\" for=\"rd_nba2\"></label>\\n\\t\\t\\t\\t\\t\\t\\t</span>\\n\\t\\t\\t\\t\\t\\t</div>\\n\\t\\t\\t\\t\\t\\t</div>\\n\\t\\t\\t\\t\\t\\t<div id=\"DivDepositPps\" class=\"eft_deposit_group\" style=\"margin-top:0px\">\\n\\t\\t\\t\\t\\t\\t\\t<div id=\"div_pps\" class=\"eft_deposit_nba\">\\n\\t\\t\\t\\t\\t\\t\\t\\t<input type=\"radio\" id=\"rd_pps\" name=\"trans_from_to\" value=\"PPS\" onclick=\"OnChangeTransFrom(true)\" class=\"eft_rd\">\\n\\t\\t\\t\\t\\t\\t\\t\\t<label id=\"lbl_pps\" for=\"rd_pps\" class=\"eft_rd_label\"></label>\\n\\t\\t\\t\\t\\t\\t\\t\\t<span class=\"eft_rd_label\" style=\"margin-bottom: 10px;\">\\n\\t\\t\\t\\t\\t\\t\\t\\t<label id=\"lbl_pps2\" for=\"rd_pps\"></label>\\n\\t\\t\\t\\t\\t\\t\\t</span>\\n\\t\\t\\t\\t\\t\\t</div>\\n\\t\\t\\t\\t\\t</div>\\n\\t\\t\\t\\t</div>\\n\\t\\t\\t\\t\\t<div class=\"eft_separater\"></div>\\n\\t\\t\\t\\t</div>\\n\\t\\t\\t\\t<div style=\"float: left; width: 100%;\">\\n\\t\\t\\t\\t\\t<div class=\"eft_item_l\">\\n\\t\\t\\t\\t\\t\\t<span id=\"lblTo\"></span>:\\n\\t\\t\\t\\t\\t</div>\\n\\t\\t\\t\\t\\t<div style=\"padding: 10px 15px 10px 0px; float: left; width: 70%; position: relative; box-sizing: border-box;\">\\n\\t\\t\\t\\t\\t\\t<span id=\"txtAccount\"></span>\\n\\t\\t\\t\\t\\t\\t<br>\\n\\t\\t\\t\\t\\t\\t<span id=\"txtBettingAcctNo\"></span>\\n\\t\\t\\t\\t\\t</div>\\n\\t\\t\\t\\t</div>\\n\\t\\t\\t\\t<div id=\"sep2\" class=\"eft_separater\" style=\"display:none\"></div>\\n\\t\\t\\t\\t<div id=\"DivDepositMethod\" style=\"display:none;float:left;width:100%\">\\n\\t\\t\\t\\t\\t<div class=\"eft_item_l\">\\n\\t\\t\\t\\t\\t\\t<span id=\"lblMethod\"></span>:\\n\\t\\t\\t\\t\\t</div>\\n\\t\\t\\t\\t\\t<div id=\"DivDepositMethodListNBA1\" class=\"eft_transaction_method_list\">\\n\\t\\t\\t\\t\\t\\t<div id=\"DivDepositMethodFps_nba1\" style=\"display: none;margin:0px 0px 10px 0px\">\\n\\t\\t\\t\\t\\t\\t\\t<input type=\"radio\" id=\"rd_fps_nba1\" value=\"FPS\" name=\"method\" onclick=\"OnChangeTransFrom(false);\" class=\"eft_rd\">\\n\\t\\t\\t\\t\\t\\t\\t<label style=\"display: block;font-weight: bold;\" id=\"lbl_method_fps_nba1\" for=\"rd_fps_nba1\" class=\"lbl_method_fps eft_rd_label_method\"></label>\\n\\t\\t\\t\\t\\t\\t\\t<span id=\"DivDepositMethodFpsText_nba1\" class=\"eft_rd_label_method\">\\n\\t\\t\\t\\t\\t\\t\\t\\t<label id=\"lbl_method_fps_2_nba1\" class=\"lbl_method_fps_2\" for=\"rd_fps_nba1\"></label>\\n\\t\\t\\t\\t\\t\\t\\t\\t<label id=\"lbl_method_fps_3_nba1\" class=\"lbl_method_fps_3 contentBlue\" for=\"rd_fps_nba1\" style=\"display:none\"></label>\\n\\t\\t\\t\\t\\t\\t\\t\\t<label id=\"lbl_method_fps_3a_nba1\" class=\"lbl_method_fps_3a\" for=\"rd_fps_nba1\" style=\"display:none\"></label>\\n\\t\\t\\t\\t\\t\\t\\t</span>\\n\\t\\t\\t\\t\\t\\t\\t<span id=\"DivDepositMethodFpsMain_nba1\" class=\"eft_rd_label_method\" style=\"display: none;\">\\n\\t\\t\\t\\t\\t\\t\\t\\t<label id=\"lbl_method_fps_4_nba1\" class=\"lbl_method_fps_4\" for=\"rd_fps_nba1\"></label>\\n\\t\\t\\t\\t\\t\\t\\t\\t<span id=\"DivDepositMethodFpsSL_nba1\" class=\"eft_rd_label_method\" style=\"color:black\">\\n\\t\\t\\t\\t\\t\\t\\t\\t\\t<label id=\"lbl_method_fps_5_nba1\" class=\"lbl_method_fps_5\" for=\"rd_fps_nba1\"></label>\\n\\t\\t\\t\\t\\t\\t\\t\\t</span>\\n\\t\\t\\t\\t\\t\\t\\t</span>\\n\\t\\t\\t\\t\\t\\t\\t\\n\\t\\t\\t\\t\\t\\t</div>\\n\\t\\t\\t\\t\\t\\t<div id=\"DivDepositMethodEpsco_nba1\" style=\"display: none;margin:0px 0px 10px 0px\">\\n\\t\\t\\t\\t\\t\\t\\t<input type=\"radio\" id=\"rd_epsco_nba1\" value=\"EPSCO\" name=\"method\" onclick=\"OnChangeTransFrom(false);\" class=\"eft_rd\">\\n\\t\\t\\t\\t\\t\\t\\t<label style=\"display: block;font-weight: bold;\" id=\"lbl_method_epsco_nba1\" for=\"rd_epsco_nba1\" class=\"lbl_method_epsco eft_rd_label_method\"></label>\\n\\t\\t\\t\\t\\t\\t\\t<span class=\"eft_rd_label_method\">\\n\\t\\t\\t\\t\\t\\t\\t\\t<label id=\"lbl_method_epsco_2_nba1\" class=\"lbl_method_epsco_2\" for=\"rd_epsco_nba1\"></label>\\n\\t\\t\\t\\t\\t\\t\\t\\t<label id=\"lbl_method_epsco_3_nba1\" class=\"lbl_method_epsco_3 contentBlue\" for=\"rd_epsco_nba1\"></label>\\n\\t\\t\\t\\t\\t\\t\\t</span>\\n\\t\\t\\t\\t\\t\\t</div>\\n\\t\\t\\t\\t\\t\\t<div id=\"DivDepositMethodAutopay_nba1\" style=\"display: none;margin:0px 0px 10px 0px\">\\n\\t\\t\\t\\t\\t\\t\\t<input type=\"radio\" id=\"rd_autopay_nba1\" value=\"AUTOPAY\" name=\"method\" onclick=\"OnChangeTransFrom(false);\" class=\"eft_rd\">\\n\\t\\t\\t\\t\\t\\t\\t<label style=\"display: block;font-weight: bold;\" id=\"lbl_method_autopay_nba1\" for=\"rd_autopay_nba1\" class=\"lbl_method_autopay eft_rd_label_method\"></label>\\n\\t\\t\\t\\t\\t\\t\\t<span class=\"eft_rd_label_method\">\\n\\t\\t\\t\\t\\t\\t\\t\\t<label id=\"lbl_method_autopay_2_nba1\" class=\"lbl_method_autopay_2\" for=\"rd_autopay_nba1\"></label>\\n\\t\\t\\t\\t\\t\\t\\t\\t<label id=\"lbl_method_autopay_3_nba1\" class=\"lbl_method_autopay_3\" for=\"rd_autopay_nba1\" style=\"display:none\"></label>\\n\\t\\t\\t\\t\\t\\t\\t</span>\\n\\t\\t\\t\\t\\t\\t</div>\\n\\t\\t\\t\\t\\t\\t<a id=\"lnkOtherMeans_nba1\" onclick=\"toggleOtherMeans()\" href=\"javascript:;\" style=\"float:left;margin-bottom:10px;display: none;\"></a>\\n\\t\\t\\t\\t\\t</div>\\n\\t\\t\\t\\t\\t<div id=\"DivDepositMethodListNBA2\" class=\"eft_transaction_method_list\">\\n\\t\\t\\t\\t\\t\\t<div id=\"DivDepositMethodFps_nba2\" style=\"display: none;margin:0px 0px 10px 0px\">\\n\\t\\t\\t\\t\\t\\t\\t<input type=\"radio\" id=\"rd_fps_nba2\" value=\"FPS\" name=\"method\" onclick=\"OnChangeTransFrom(false);\" class=\"eft_rd\">\\n\\t\\t\\t\\t\\t\\t\\t<label style=\"display: block; font-weight: bold;\" id=\"lbl_method_fps_nba2\" for=\"rd_fps_nba2\" class=\"lbl_method_fps eft_rd_label_method\"></label>\\n\\t\\t\\t\\t\\t\\t\\t<span id=\"DivDepositMethodFpsText_nba2\" class=\"eft_rd_label_method\">\\n\\t\\t\\t\\t\\t\\t\\t\\t<label id=\"lbl_method_fps_2_nba2\" class=\"lbl_method_fps_2\" for=\"rd_fps_nba2\"></label>\\n\\t\\t\\t\\t\\t\\t\\t\\t<label id=\"lbl_method_fps_3_nba2\" class=\"lbl_method_fps_3 contentBlue\" for=\"rd_fps_nba2\" style=\"display:none\"></label>\\n\\t\\t\\t\\t\\t\\t\\t\\t<label id=\"lbl_method_fps_3a_nba2\" class=\"lbl_method_fps_3a\" for=\"rd_fps_nba2\" style=\"display:none\"></label>\\n\\t\\t\\t\\t\\t\\t\\t</span>\\n\\t\\t\\t\\t\\t\\t\\t<span id=\"DivDepositMethodFpsMain_nba2\" class=\"eft_rd_label_method\" style=\"display: none;\">\\n\\t\\t\\t\\t\\t\\t\\t\\t<label id=\"lbl_method_fps_4_nba2\" class=\"lbl_method_fps_4\" for=\"rd_fps_nba2\"></label>\\n\\t\\t\\t\\t\\t\\t\\t\\t<span id=\"DivDepositMethodFpsSL_nba2\" class=\"eft_rd_label_method\" style=\"display:none; color:black\">\\n\\t\\t\\t\\t\\t\\t\\t\\t\\t<label id=\"lbl_method_fps_5_nba2\" class=\"lbl_method_fps_5\" for=\"rd_fps_nba1\"></label>\\n\\t\\t\\t\\t\\t\\t\\t\\t</span>\\n\\t\\t\\t\\t\\t\\t\\t</span>\\n\\t\\t\\t\\t\\t\\t</div>\\n\\t\\t\\t\\t\\t\\t<div id=\"DivDepositMethodEpsco_nba2\" style=\"display: none;margin:0px 0px 10px 0px\">\\n\\t\\t\\t\\t\\t\\t\\t<input type=\"radio\" id=\"rd_epsco_nba2\" value=\"EPSCO\" name=\"method\" onclick=\"OnChangeTransFrom(false);\" class=\"eft_rd\">\\n\\t\\t\\t\\t\\t\\t\\t<label style=\"display: block;font-weight: bold;\" id=\"lbl_method_epsco_nba2\" for=\"rd_epsco_nba2\" class=\"lbl_method_epsco eft_rd_label_method\"></label>\\n\\t\\t\\t\\t\\t\\t\\t<span class=\"eft_rd_label_method\">\\n\\t\\t\\t\\t\\t\\t\\t\\t<label id=\"lbl_method_epsco_2_nba2\" class=\"lbl_method_epsco_2\" for=\"rd_epsco_nba2\"></label>\\n\\t\\t\\t\\t\\t\\t\\t\\t<label id=\"lbl_method_epsco_3_nba2\" class=\"lbl_method_epsco_3 contentBlue\" for=\"rd_epsco_nba2\"></label>\\n\\t\\t\\t\\t\\t\\t\\t</span>\\n\\t\\t\\t\\t\\t\\t</div>\\n\\t\\t\\t\\t\\t\\t<div id=\"DivDepositMethodAutopay_nba2\" style=\"display: none;margin:0px 0px 10px 0px\">\\n\\t\\t\\t\\t\\t\\t\\t<input type=\"radio\" id=\"rd_autopay_nba2\" value=\"AUTOPAY\" name=\"method\" onclick=\"OnChangeTransFrom(false);\" class=\"eft_rd\">\\n\\t\\t\\t\\t\\t\\t\\t<label style=\"display: block;font-weight: bold;\" id=\"lbl_method_autopay_nba2\" for=\"rd_autopay_nba2\" class=\"lbl_method_autopay eft_rd_label_method\"></label>\\n\\t\\t\\t\\t\\t\\t\\t<span class=\"eft_rd_label_method\">\\n\\t\\t\\t\\t\\t\\t\\t\\t<label id=\"lbl_method_autopay_2_nba2\" class=\"lbl_method_autopay_2\" for=\"rd_autopay_nba2\"></label>\\n\\t\\t\\t\\t\\t\\t\\t\\t<label id=\"lbl_method_autopay_3_nba2\" class=\"lbl_method_autopay_3\" for=\"rd_autopay_nba2\" style=\"display:none\"></label>\\n\\t\\t\\t\\t\\t\\t\\t</span>\\n\\t\\t\\t\\t\\t\\t</div>\\n\\t\\t\\t\\t\\t\\t<a id=\"lnkOtherMeans_nba2\" onclick=\"toggleOtherMeans()\" href=\"javascript:;\"></a>\\n\\t\\t\\t\\t\\t</div>\\n\\t\\t\\t\\t\\t<div id=\"DivDepositMethodListPPS\" class=\"eft_transaction_method_list\">\\n\\t\\t\\t\\t\\t\\t<label style=\"padding-left:0px; display: block;font-weight: bold;\" id=\"lbl_method_pps\" class=\"lbl_method_pps eft_rd_label_method\"></label>\\n\\t\\t\\t\\t\\t\\t<span class=\"eft_rd_label_method; padding-left:0px\">\\n\\t\\t\\t\\t\\t\\t\\t<label id=\"lbl_method_pps_2\" class=\"lbl_method_pps_2\"></label><br>\\n\\t\\t\\t\\t\\t\\t\\t<label id=\"lbl_method_pps_3\" class=\"lbl_method_pps_3\" style=\"display:none\"></label>\\n\\t\\t\\t\\t\\t\\t</span>\\n\\t\\t\\t\\t\\t</div>\\n\\n\\t\\t\\t\\t</div>\\n\\t\\t\\t\\t<div id=\"DivWithdrawal\" style=\"float: left; width: 100%; display:none\">\\n\\t\\t\\t\\t\\t<div>\\n\\t\\t\\t\\t\\t\\t<div class=\"eft_item_l\">\\n\\t\\t\\t\\t\\t\\t\\t<span id=\"lblTo_withdrawal\"></span>:\\n\\t\\t\\t\\t\\t\\t</div>\\n\\t\\t\\t\\t\\t\\t<div style=\"padding: 15px 15px 15px 0px; float: left; width: 70%; position: relative; box-sizing: border-box\">\\n\\t\\t\\t\\t\\t\\t\\t<div id=\"div_nba1_withdrawal\" style=\"padding-bottom: 15px;\">\\n\\t\\t\\t\\t\\t\\t\\t\\t<label id=\"lbl_bankname_1_withdrawal\" for=\"rd_nba1\" style=\"vertical-align:middle\"></label><br>\\n\\t\\t\\t\\t\\t\\t\\t\\t<span>\\n\\t\\t\\t\\t\\t\\t\\t\\t\\t<label id=\"lbl_bank_account_1_withdrawal\" for=\"rd_nba1_withdrawal\">\\n\\t\\t\\t\\t\\t\\t\\t\\t</label></span>\\n\\t\\t\\t\\t\\t\\t\\t</div>\\n\\t\\t\\t\\t\\t\\t</div>\\n\\t\\t\\t\\t\\t</div>\\n\\t\\t\\t\\t</div>\\n\\t\\t\\t\\t<div id=\"sep2w\" class=\"eft_separater\" style=\"display:none\"></div>\\n\\t\\t\\t\\t<div id=\"DivWithdrawalMethod\" style=\"display:none;float:left;width:100%\">\\n\\t\\t\\t\\t\\t<div class=\"eft_item_l\">\\n\\t\\t\\t\\t\\t\\t<span id=\"lblMethod_w\"></span>:\\n\\t\\t\\t\\t\\t</div>\\n\\t\\t\\t\\t\\t<div id=\"DivWithdrawalMethodListNBA1\" class=\"eft_transaction_method_list\">\\n\\t\\t\\t\\t\\t\\t<div id=\"DivWithdrawalMethodFps_nba1\" style=\"display: none;margin:0px 0px 10px 0px\">\\n\\t\\t\\t\\t\\t\\t\\t<input type=\"radio\" id=\"rd_w_fps_nba1\" value=\"FPS\" name=\"method\" onclick=\"OnChangeTransFrom(false);\" class=\"eft_rd\">\\n\\t\\t\\t\\t\\t\\t\\t<label style=\"display: block;font-weight: bold;\" id=\"lbl_method_fps_nba1\" for=\"rd_w_fps_nba1\" class=\"lbl_method_fps eft_rd_label_method\"></label>\\n\\t\\t\\t\\t\\t\\t\\t<span id=\"DivWithdrawalMethodFpsText_nba1\" class=\"eft_rd_label_method\">\\n\\t\\t\\t\\t\\t\\t\\t\\t<label id=\"lbl_w_method_fps_2_nba1\" class=\"lbl_method_fps_2\" for=\"rd_w_fps_nba1\"></label>\\n\\t\\t\\t\\t\\t\\t\\t\\t<label id=\"lbl_w_method_fps_3_nba1\" class=\"lbl_method_fps_3 contentBlue\" for=\"rd_w_fps_nba1\" style=\"display:none\"></label>\\n\\t\\t\\t\\t\\t\\t\\t\\t<label id=\"lbl_w_method_fps_3a_nba1\" class=\"lbl_method_fps_3a\" for=\"rd_w_fps_nba1\" style=\"display:none\"></label>\\n\\t\\t\\t\\t\\t\\t\\t</span>\\n\\t\\t\\t\\t\\t\\t\\t<span id=\"DivWithdrawalMethodFpsMain_nba1\" class=\"eft_rd_label_method\" style=\"display: none;\">\\n\\t\\t\\t\\t\\t\\t\\t\\t<label id=\"lbl_w_method_fps_4_nba1\" class=\"lbl_method_fps_4\" for=\"rd_w_fps_nba1\"></label>\\n\\t\\t\\t\\t\\t\\t\\t\\t<span id=\"DivWithdrawalMethodFpsSL_nba1\" class=\"eft_rd_label_method\" style=\"display:none; color:black\">\\n\\t\\t\\t\\t\\t\\t\\t\\t\\t<label id=\"lbl_w_method_fps_5_nba1\" class=\"lbl_method_fps_5\" for=\"rd_w_fps_nba1\"></label>\\n\\t\\t\\t\\t\\t\\t\\t\\t</span>\\n\\t\\t\\t\\t\\t\\t\\t</span>\\n\\t\\t\\t\\t\\t\\t</div>\\n\\t\\t\\t\\t\\t\\t<div id=\"DivWithdrawalMethodEpsco_nba1\" style=\"display: none;margin:0px 0px 10px 0px\">\\n\\t\\t\\t\\t\\t\\t\\t<input type=\"radio\" id=\"rd_w_epsco_nba1\" value=\"EPSCO\" name=\"method\" onclick=\"OnChangeTransFrom(false);\" class=\"eft_rd\">\\n\\t\\t\\t\\t\\t\\t\\t<label style=\"display: block;font-weight: bold;\" id=\"lbl_method_epsco_nba1\" for=\"rd_w_epsco_nba1\" class=\"lbl_method_epsco eft_rd_label_method\"></label>\\n\\t\\t\\t\\t\\t\\t\\t<span class=\"eft_rd_label_method\">\\n\\t\\t\\t\\t\\t\\t\\t\\t<label id=\"lbl_w_method_epsco_2_nba1\" class=\"lbl_method_epsco_2\" for=\"rd_w_epsco_nba1\"></label>\\n\\t\\t\\t\\t\\t\\t\\t\\t<label id=\"lbl_w_method_epsco_3_nba1\" class=\"lbl_method_epsco_3 contentBlue\" for=\"rd_w_epsco_nba1\"></label>\\n\\t\\t\\t\\t\\t\\t\\t</span>\\n\\t\\t\\t\\t\\t\\t</div>\\n\\t\\t\\t\\t\\t\\t<div id=\"DivWithdrawalMethodAutopay_nba1\" style=\"display: none;margin:0px 0px 10px 0px\">\\n\\t\\t\\t\\t\\t\\t\\t<input type=\"radio\" id=\"rd_w_autopay_nba1\" value=\"AUTOPAY\" name=\"method\" onclick=\"OnChangeTransFrom(false);\" class=\"eft_rd\">\\n\\t\\t\\t\\t\\t\\t\\t<label style=\"display: block;font-weight: bold;\" id=\"lbl_method_autopay_nba1\" for=\"rd_w_autopay_nba1\" class=\"lbl_method_autopay eft_rd_label_method\"></label>\\n\\t\\t\\t\\t\\t\\t\\t<span class=\"eft_rd_label_method\">\\n\\t\\t\\t\\t\\t\\t\\t\\t<label id=\"lbl_w_method_autopay_2_nba1\" class=\"lbl_method_autopay_2\" for=\"rd_w_autopay_nba1\"></label>\\n\\t\\t\\t\\t\\t\\t\\t\\t<label id=\"lbl_w_method_autopay_3_nba1\" class=\"lbl_method_autopay_3\" for=\"rd_w_autopay_nba1\" style=\"display:none\"></label>\\n\\t\\t\\t\\t\\t\\t\\t</span>\\n\\t\\t\\t\\t\\t\\t</div>\\n\\t\\t\\t\\t\\t\\t<a id=\"lnkOtherMeans_w_nba1\" onclick=\"toggleOtherMeans()\" href=\"javascript:;\" style=\"float:left;margin-bottom:10px;display: none;\"></a>\\n\\t\\t\\t\\t\\t</div>\\n\\t\\t\\t\\t</div>\\t\\n\\t\\t\\t\\t<div style=\"float: left; width: 100%; border-top: 3px solid white; background-color: #EEEEEE\">\\n\\t\\t\\t\\t\\t<div class=\"eft_item_l\">\\n\\t\\t\\t\\t\\t\\t<span id=\"lblTransAmount\"></span>($):\\n\\t\\t\\t\\t\\t</div>\\n\\t\\t\\t\\t\\t<div style=\"padding: 15px 15px 15px 0px; float: left; width: 70%; position: relative; box-sizing: border-box;\">\\n\\t\\t\\t\\t\\t\\t<input type=\"text\" class=\"inputField4\" id=\"trans_amount\" name=\"trans_amount\" style=\"margin-bottom:5px;\">\\n\\t\\t\\t\\t\\t\\t<br>\\n\\t\\t\\t\\t\\t\\t<span style=\"display: none; padding: 10px 0px 0px 0px\" id=\"lbl_eftnote\"></span>\\n\\t\\t\\t\\t\\t</div>\\n\\t\\t\\t\\t</div>\\n\\t\\t\\t\\t<div id=\"DivPpsLink\" style=\"float: left; width: 100%; border-top: 3px solid white; background-color: #FFF;\">\\n\\t\\t\\t\\t\\t<div style=\"padding:10px 15px 10px 15px;\">\\n\\t\\t\\t\\t\\t\\t<a target=\"_blank\" id=\"lnk_pps\"></a>\\n\\t\\t\\t\\t\\t</div>\\n\\t\\t\\t\\t</div>\\n\\t\\t\\t\\t<div id=\"DivBanner\" style=\"float: left; background-color: white; width: 100%; text-align: center; display: none\">\\n\\t\\t\\t\\t\\t<a id=\"aBanner\">\\n\\t\\t\\t\\t\\t\\t<img id=\"imgBanner\" style=\"max-height:85px;max-width:472px; margin-top:10px;\"></a>\\n\\t\\t\\t\\t</div>\\n\\t\\t\\t\\t<!-- DivRequestButton BEGIN -->\\n\\t\\t\\t\\t<div class=\"eft_bottom\">\\n\\t\\t\\t\\t\\t<div class=\"eft_bottom_l\">\\n\\t\\t\\t\\t\\t\\t<input type=\"button\" class=\"btnClose btnGray\" style=\"margin-left: 15px\" onclick=\"closeAllBetSlipOverlay()\">\\n\\t\\t\\t\\t\\t\\t<input type=\"button\" class=\"btnReset btnGray\" style=\"margin-left: 5px\" onclick=\"OnClickEftReset()\">\\n\\t\\t\\t\\t\\t</div>\\n\\t\\t\\t\\t\\t<div class=\"eft_bottom_r\">\\n\\t\\t\\t\\t\\t\\t<input id=\"btnDepositNext\" type=\"button\" class=\"btnNext btnGray\" style=\"margin-right: 15px;\" onclick=\"OnClickEftNext()\">\\n\\t\\t\\t\\t\\t</div>\\n\\t\\t\\t\\t</div>\\n\\t\\t\\t\\t<!-- DivRequestButton END -->\\n\\t\\t\\t</div>\\n\\t\\t\\t<!-- **************** DivNoNba BEGIN **************** -->\\n\\t\\t\\t<div id=\"DivNoNba\" style=\"display:none; float: left; width: 100%; border-top: 2px solid #003B7F; background-color: #EEEEEE;\">\\n\\t\\t\\t\\t<div class=\"eft_item\">\\n\\t\\t\\t\\t\\t<div style=\"padding:20px\">\\n\\t\\t\\t\\t\\t\\t<span id=\"lbl_NoNba\"></span>\\n\\t\\t\\t\\t\\t\\t<span id=\"lbl_NoNba_Link\"></span>\\n\\t\\t\\t\\t\\t</div>\\n\\t\\t\\t\\t</div>\\n\\t\\t\\t\\t<div class=\"eft_bottom\">\\n\\t\\t\\t\\t\\t<div class=\"eft_bottom_l\">\\n\\t\\t\\t\\t\\t\\t<input type=\"button\" class=\"btnClose btnGray\" style=\"margin-left: 15px\" onclick=\"closeAllBetSlipOverlay()\">\\n\\t\\t\\t\\t\\t</div>\\n\\t\\t\\t\\t\\t<div class=\"eft_bottom_r\">&nbsp;\\n\\t\\t\\t\\t\\t\\t<input type=\"button\" id=\"btnNoNbaLink\" class=\"btnLinkNow btnGray\" style=\"margin-right: 15px;\" onclick=\"EftOnLoad(2)\">\\n\\t\\t\\t\\t\\t</div>\\n\\t\\t\\t\\t</div>\\n\\t\\t\\t</div>\\n\\t\\t\\t<!-- **************** DivConfirmCharge BEGIN **************** -->\\n\\t\\t\\t<div id=\"DivConfirmCharge\" style=\"display:none; float: left; width: 100%; border-top: 2px solid #003B7F; background-color: #EEEEEE;\">\\n\\t\\t\\t\\t<div style=\"overflow-x: hidden; background-color: #D8E2EC; width: vm100; padding: 10px 20px 10px 20px;\">\\n\\t\\t\\t\\t\\t<span id=\"lbl_ConfirmCharge\" style=\"color: #05378E; font-weight: bold;\"></span>\\n\\t\\t\\t\\t</div>\\n\\t\\t\\t\\t<div class=\"eft_item\">\\n\\t\\t\\t\\t\\t<div id=\"lblConfirmChargeText\" style=\"padding:20px\"></div>\\n\\t\\t\\t\\t</div>\\n\\t\\t\\t\\t<div class=\"eft_bottom\">\\n\\t\\t\\t\\t\\t<div class=\"eft_bottom_l\">\\n\\t\\t\\t\\t\\t\\t<input type=\"button\" class=\"btnCancel btnGray\" style=\"margin-left: 15px\" onclick=\"OnClickEftBack2()\">\\n\\t\\t\\t\\t\\t</div>\\n\\t\\t\\t\\t\\t<div class=\"eft_bottom_r\">\\n\\t\\t\\t\\t\\t\\t<input type=\"button\" class=\"btnContinue btnGray\" style=\"margin-right: 15px;\" onclick=\"OnClickEftSubmit();\">\\n\\t\\t\\t\\t\\t</div>\\n\\t\\t\\t\\t</div>\\n\\t\\t\\t</div>\\n\\t\\t\\t<!-- **************** DivConfirm BEGIN **************** -->\\n\\t\\t\\t<div id=\"DivConfirm\" style=\"float: left; display: none; width: 100%; border-top: 2px solid #003B7F\">\\n\\t\\t\\t\\t<div style=\"overflow-x: hidden; background-color: #D8E2EC; width: 100%; padding: 15px 0px 15px 0px;\">\\n\\t\\t\\t\\t\\t<span id=\"lbl_preview\" style=\"padding-left:15px; color: #05378E; font-weight: bold;\"></span>\\n\\t\\t\\t\\t\\t<br>\\n\\t\\t\\t\\t\\t<span id=\"lbl_preview2\" style=\"padding-left:15px\"></span>\\n\\t\\t\\t\\t</div>\\n\\t\\t\\t\\t<div class=\"eft_item\" id=\"DivConfirmBank\">\\n\\t\\t\\t\\t\\t<div class=\"eft_item_l\">\\n\\t\\t\\t\\t\\t\\t<span id=\"lblPreviewFrom\"></span>:\\n\\t\\t\\t\\t\\t</div>\\n\\t\\t\\t\\t\\t<div class=\"eft_item_r\">\\n\\t\\t\\t\\t\\t\\t<span id=\"lblPreviewBankName\"></span>\\n\\t\\t\\t\\t\\t\\t<br>\\n\\t\\t\\t\\t\\t\\t<span id=\"lblPreviewBankAcc\"></span>\\n\\t\\t\\t\\t\\t</div>\\n\\t\\t\\t\\t</div>\\n\\t\\t\\t\\t<div class=\"eft_item\" id=\"DivConfirmBet\">\\n\\t\\t\\t\\t\\t<div class=\"eft_item_l\">\\n\\t\\t\\t\\t\\t\\t<span id=\"lblPreviewTo\"></span>:\\n\\t\\t\\t\\t\\t</div>\\n\\t\\t\\t\\t\\t<div class=\"eft_item_r\">\\n\\t\\t\\t\\t\\t\\t<span id=\"lblPreviewBet\"></span>\\n\\t\\t\\t\\t\\t\\t<br>\\n\\t\\t\\t\\t\\t\\t<span id=\"lblPreviewBetAcc\"></span>\\n\\t\\t\\t\\t\\t</div>\\n\\t\\t\\t\\t</div>\\n\\t\\t\\t\\t<div class=\"eft_item\">\\n\\t\\t\\t\\t\\t<div class=\"eft_item_l\">\\n\\t\\t\\t\\t\\t\\t<span id=\"lblPreviewAmount\"></span>:\\n\\t\\t\\t\\t\\t</div>\\n\\t\\t\\t\\t\\t<div class=\"eft_item_r\">\\n\\t\\t\\t\\t\\t\\t$<span id=\"lblPreviewAmountValue\"></span>\\n\\t\\t\\t\\t\\t</div>\\n\\t\\t\\t\\t</div>\\n\\t\\t\\t\\t<div class=\"eft_item\" id=\"DivPreviewTransType\">\\n\\t\\t\\t\\t\\t<div class=\"eft_item_l\">\\n\\t\\t\\t\\t\\t\\t<span id=\"lblPreviewTransType\"></span>:\\n\\t\\t\\t\\t\\t</div>\\n\\t\\t\\t\\t\\t<div class=\"eft_item_r\">\\n\\t\\t\\t\\t\\t\\t<span id=\"lblPreviewTransTypeValue\"></span>\\n\\t\\t\\t\\t\\t</div>\\n\\t\\t\\t\\t</div>\\n\\t\\t\\t\\t<div id=\"DivPreviewCharge\" class=\"eft_item\" style=\"display: none\">\\n\\t\\t\\t\\t\\t<div class=\"eft_item_l contentBlue\">\\n\\t\\t\\t\\t\\t\\t<span id=\"lblPreviewCharge\"></span>:\\n\\t\\t\\t\\t\\t</div>\\n\\t\\t\\t\\t\\t<div class=\"eft_item_r contentBlue\">\\n\\t\\t\\t\\t\\t\\t$<span id=\"lblPreviewChargeValue\"></span>\\n\\t\\t\\t\\t\\t</div>\\n\\t\\t\\t\\t</div>\\n\\t\\t\\t\\t<div id=\"DivBankPin\" style=\"display: none; border-top: solid 3px white; padding-top: 5px;background-color: #FFF5B0;\">\\n\\t\\t\\t\\t\\t<div id=\"DivPreviewUseLabel\" style=\"padding:0px 0px 10px 15px\"><span id=\"lblPreviewTransTypeEpsco\"></span>:</div>\\n\\t\\t\\t\\t\\t<div style=\"padding:0px 0px 0px 15px\">\\n\\t\\t\\t\\t\\t\\t<div id=\"DivPreviewUseEpsco\">\\n\\t\\t\\t\\t\\t\\t\\t<input type=\"radio\" id=\"rd_eft_epsco\" value=\"EPSCO\" name=\"preview_eft_selection\" checked=\"checked\" style=\"vertical-align:middle\" onclick=\"OnChangePreviewTrans()\">\\n\\t\\t\\t\\t\\t\\t\\t<label style=\"vertical-align:middle\" id=\"lbl_preview_eft_epsco\" for=\"rd_eft_epsco\"></label><br>\\n\\t\\t\\t\\t\\t\\t</div>\\n\\t\\t\\t\\t\\t\\t<!-- DivBankPin BEGIN -->\\n\\t\\t\\t\\t\\t\\t<table id=\"BankPin\" border=\"0\" cellspacing=\"0\" cellpadding=\"0\" style=\"width:715px; padding-left:15px;\">\\n\\t\\t\\t\\t\\t\\t\\t<tbody><tr>\\n\\t\\t\\t\\t\\t\\t\\t\\t<td class=\"yellowBarEft\" style=\"padding: 3px 10px 3px 15px;\">\\n\\t\\t\\t\\t\\t\\t\\t\\t\\t<table border=\"0\" cellspacing=\"0\" cellpadding=\"0\">\\n\\t\\t\\t\\t\\t\\t\\t\\t\\t\\t<tbody><tr>\\n\\t\\t\\t\\t\\t\\t\\t\\t\\t\\t\\t<td colspan=\"3\" class=\"content\" style=\"padding: 0px 0px 0px 0px;\">\\n\\t\\t\\t\\t\\t\\t\\t\\t\\t\\t\\t\\t<span id=\"txtEFTNotice\"></span>\\n\\t\\t\\t\\t\\t\\t\\t\\t\\t\\t\\t</td>\\n\\t\\t\\t\\t\\t\\t\\t\\t\\t\\t</tr>\\n\\t\\t\\t\\t\\t\\t\\t\\t\\t\\t<tr>\\n\\t\\t\\t\\t\\t\\t\\t\\t\\t\\t\\t<td colspan=\"3\" style=\"height:5px\">\\n\\t\\t\\t\\t\\t\\t\\t\\t\\t\\t\\t</td>\\n\\t\\t\\t\\t\\t\\t\\t\\t\\t\\t</tr>\\n\\t\\t\\t\\t\\t\\t\\t\\t\\t\\t<tr>\\n\\t\\t\\t\\t\\t\\t\\t\\t\\t\\t\\t<td width=\"\" class=\"content\" style=\"padding: 0px 0px 0px 0px;\">\\n\\t\\t\\t\\t\\t\\t\\t\\t\\t\\t\\t\\t<span id=\"txtServicePin\"></span>:\\n\\t\\t\\t\\t\\t\\t\\t\\t\\t\\t\\t</td>\\n\\t\\t\\t\\t\\t\\t\\t\\t\\t\\t\\t<td width=\"317px\" class=\"content\" style=\"padding: 0px 0px 0px 5px;\">\\n\\t\\t\\t\\t\\t\\t\\t\\t\\t\\t\\t\\t<input type=\"password\" maxlength=\"8\" id=\"pin\" name=\"pin\" class=\"inputField4\" readonly=\"\" style=\"width:100%\">\\n\\t\\t\\t\\t\\t\\t\\t\\t\\t\\t\\t</td>\\n\\t\\t\\t\\t\\t\\t\\t\\t\\t\\t\\t<td class=\"content\" style=\"padding: 0px 0px 0px 10px;\">\\n\\t\\t\\t\\t\\t\\t\\t\\t\\t\\t\\t\\t<input type=\"button\" style=\"font-size: 20px; font-weight: bold; line-height:21px;\" class=\"btnGray\" id=\"btnDeletePin\" value=\" ← \" onclick=\"Backspace()\">\\n\\t\\t\\t\\t\\t\\t\\t\\t\\t\\t\\t</td>\\n\\t\\t\\t\\t\\t\\t\\t\\t\\t\\t</tr>\\n\\t\\t\\t\\t\\t\\t\\t\\t\\t\\t<tr>\\n\\t\\t\\t\\t\\t\\t\\t\\t\\t\\t\\t<td colspan=\"3\">\\n\\t\\t\\t\\t\\t\\t\\t\\t\\t\\t\\t\\t<img src=\"/info/include/images/spacer.gif\" height=\"5px\">\\n\\t\\t\\t\\t\\t\\t\\t\\t\\t\\t\\t</td>\\n\\t\\t\\t\\t\\t\\t\\t\\t\\t\\t</tr>\\n\\t\\t\\t\\t\\t\\t\\t\\t\\t\\t<tr>\\n\\t\\t\\t\\t\\t\\t\\t\\t\\t\\t\\t<td class=\"content\" style=\"padding: 0px 0px 0px 0px;\">&nbsp;</td>\\n\\t\\t\\t\\t\\t\\t\\t\\t\\t\\t\\t<td class=\"content\" style=\"padding: 0px 0px 0px 5px;\">\\n\\t\\t\\t\\t\\t\\t\\t\\t\\t\\t\\t\\t<table border=\"0\" cellspacing=\"0\" cellpadding=\"0\">\\n\\t\\t\\t\\t\\t\\t\\t\\t\\t\\t\\t\\t\\t<tbody><tr>\\n\\t\\t\\t\\t\\t\\t\\t\\t\\t\\t\\t\\t\\t\\t<td width=\"21\" style=\"padding: 0px 3px 0px 0px;\">\\n\\t\\t\\t\\t\\t\\t\\t\\t\\t\\t\\t\\t\\t\\t\\t<img id=\"pinBtn0\" onmousedown=\"inputPinDown(0)\" onmouseout=\"inputPinOut(0)\" onmouseup=\"inputPin(0)\">\\n\\t\\t\\t\\t\\t\\t\\t\\t\\t\\t\\t\\t\\t\\t</td>\\n\\t\\t\\t\\t\\t\\t\\t\\t\\t\\t\\t\\t\\t\\t<td width=\"21\" style=\"padding: 0px 3px 0px 0px;\">\\n\\t\\t\\t\\t\\t\\t\\t\\t\\t\\t\\t\\t\\t\\t\\t<img id=\"pinBtn1\" onmousedown=\"inputPinDown(1)\" onmouseout=\"inputPinOut(1)\" onmouseup=\"inputPin(1)\">\\n\\t\\t\\t\\t\\t\\t\\t\\t\\t\\t\\t\\t\\t\\t</td>\\n\\t\\t\\t\\t\\t\\t\\t\\t\\t\\t\\t\\t\\t\\t<td width=\"21\" style=\"padding: 0px 3px 0px 0px;\">\\n\\t\\t\\t\\t\\t\\t\\t\\t\\t\\t\\t\\t\\t\\t\\t<img id=\"pinBtn2\" onmousedown=\"inputPinDown(2)\" onmouseout=\"inputPinOut(2)\" onmouseup=\"inputPin(2)\">\\n\\t\\t\\t\\t\\t\\t\\t\\t\\t\\t\\t\\t\\t\\t</td>\\n\\t\\t\\t\\t\\t\\t\\t\\t\\t\\t\\t\\t\\t\\t<td width=\"21\" style=\"padding: 0px 3px 0px 0px;\">\\n\\t\\t\\t\\t\\t\\t\\t\\t\\t\\t\\t\\t\\t\\t\\t<img id=\"pinBtn3\" onmousedown=\"inputPinDown(3)\" onmouseout=\"inputPinOut(3)\" onmouseup=\"inputPin(3)\">\\n\\t\\t\\t\\t\\t\\t\\t\\t\\t\\t\\t\\t\\t\\t</td>\\n\\t\\t\\t\\t\\t\\t\\t\\t\\t\\t\\t\\t\\t\\t<td width=\"21\" style=\"padding: 0px 3px 0px 0px;\">\\n\\t\\t\\t\\t\\t\\t\\t\\t\\t\\t\\t\\t\\t\\t\\t<img id=\"pinBtn4\" onmousedown=\"inputPinDown(4)\" onmouseout=\"inputPinOut(4)\" onmouseup=\"inputPin(4)\">\\n\\t\\t\\t\\t\\t\\t\\t\\t\\t\\t\\t\\t\\t\\t</td>\\n\\t\\t\\t\\t\\t\\t\\t\\t\\t\\t\\t\\t\\t\\t<td width=\"21\" style=\"padding: 0px 3px 0px 0px;\">\\n\\t\\t\\t\\t\\t\\t\\t\\t\\t\\t\\t\\t\\t\\t\\t<img id=\"pinBtn5\" onmousedown=\"inputPinDown(5)\" onmouseout=\"inputPinOut(5)\" onmouseup=\"inputPin(5)\">\\n\\t\\t\\t\\t\\t\\t\\t\\t\\t\\t\\t\\t\\t\\t</td>\\n\\t\\t\\t\\t\\t\\t\\t\\t\\t\\t\\t\\t\\t\\t<td width=\"21\" style=\"padding: 0px 3px 0px 0px;\">\\n\\t\\t\\t\\t\\t\\t\\t\\t\\t\\t\\t\\t\\t\\t\\t<img id=\"pinBtn6\" onmousedown=\"inputPinDown(6)\" onmouseout=\"inputPinOut(6)\" onmouseup=\"inputPin(6)\">\\n\\t\\t\\t\\t\\t\\t\\t\\t\\t\\t\\t\\t\\t\\t</td>\\n\\t\\t\\t\\t\\t\\t\\t\\t\\t\\t\\t\\t\\t\\t<td width=\"21\" style=\"padding: 0px 3px 0px 0px;\">\\n\\t\\t\\t\\t\\t\\t\\t\\t\\t\\t\\t\\t\\t\\t\\t<img id=\"pinBtn7\" onmousedown=\"inputPinDown(7)\" onmouseout=\"inputPinOut(7)\" onmouseup=\"inputPin(7)\">\\n\\t\\t\\t\\t\\t\\t\\t\\t\\t\\t\\t\\t\\t\\t</td>\\n\\t\\t\\t\\t\\t\\t\\t\\t\\t\\t\\t\\t\\t\\t<td width=\"21\" style=\"padding: 0px 3px 0px 0px;\">\\n\\t\\t\\t\\t\\t\\t\\t\\t\\t\\t\\t\\t\\t\\t\\t<img id=\"pinBtn8\" onmousedown=\"inputPinDown(8)\" onmouseout=\"inputPinOut(8)\" onmouseup=\"inputPin(8)\">\\n\\t\\t\\t\\t\\t\\t\\t\\t\\t\\t\\t\\t\\t\\t</td>\\n\\t\\t\\t\\t\\t\\t\\t\\t\\t\\t\\t\\t\\t\\t<td width=\"21\" style=\"padding: 0px 0px 0px 0px;\">\\n\\t\\t\\t\\t\\t\\t\\t\\t\\t\\t\\t\\t\\t\\t\\t<img id=\"pinBtn9\" onmousedown=\"inputPinDown(9)\" onmouseout=\"inputPinOut(9)\" onmouseup=\"inputPin(9)\">\\n\\t\\t\\t\\t\\t\\t\\t\\t\\t\\t\\t\\t\\t\\t</td>\\n\\t\\t\\t\\t\\t\\t\\t\\t\\t\\t\\t\\t\\t</tr>\\n\\t\\t\\t\\t\\t\\t\\t\\t\\t\\t\\t\\t</tbody></table>\\n\\t\\t\\t\\t\\t\\t\\t\\t\\t\\t\\t</td>\\n\\t\\t\\t\\t\\t\\t\\t\\t\\t\\t\\t<td class=\"content\" style=\"padding: 0px 0px 0px 10px;\">\\n\\t\\t\\t\\t\\t\\t\\t\\t\\t\\t\\t\\t<input type=\"button\" class=\"btnReinput btnGray\" id=\"btnReinput\" onclick=\"clrPin()\">\\n\\t\\t\\t\\t\\t\\t\\t\\t\\t\\t\\t</td>\\n\\t\\t\\t\\t\\t\\t\\t\\t\\t\\t</tr>\\n\\t\\t\\t\\t\\t\\t\\t\\t\\t</tbody></table>\\n\\t\\t\\t\\t\\t\\t\\t\\t</td>\\n\\t\\t\\t\\t\\t\\t\\t</tr>\\n\\t\\t\\t\\t\\t\\t</tbody></table>\\n\\t\\t\\t\\t\\t\\t<!-- DivBankPin END-->\\n\\t\\t\\t\\t\\t\\t<div id=\"DivPreviewUseAutopay\" style=\"padding:5px 0px 10px 0px\">\\n\\t\\t\\t\\t\\t\\t\\t<input type=\"radio\" id=\"rd_eft_autopay\" value=\"AUTOPAY\" name=\"preview_eft_selection\" style=\"vertical-align:middle\" onclick=\"OnChangePreviewTrans()\">\\n\\t\\t\\t\\t\\t\\t\\t<label style=\"vertical-align:middle\" id=\"lbl_preview_eft_autopay\" for=\"rd_eft_autopay\"></label>\\n\\t\\t\\t\\t\\t\\t\\t<div style=\"padding-left:29px\"><label id=\"lbl_preview_eft_autopay_note\"></label></div>\\n\\t\\t\\t\\t\\t\\t</div>\\n\\t\\t\\t\\t\\t</div>\\n\\t\\t\\t\\t</div>\\n\\t\\t\\t\\t<div id=\"DivPreviewReminder\" class=\"eft_item\" style=\"display:none;background-color:#FFF;padding:10px 20px 5px 15px;\">\\n\\t\\t\\t\\t\\t<span id=\"lblPreviewNoPin\"></span>\\n\\t\\t\\t\\t</div>\\n\\t\\t\\t\\t<div class=\"eft_bottom\">\\n\\t\\t\\t\\t\\t<div class=\"eft_bottom_l\">\\n\\t\\t\\t\\t\\t\\t<input type=\"button\" class=\"btnBack btnGray\" style=\"margin-left: 15px\" onclick=\"OnClickEftBack()\">\\n\\t\\t\\t\\t\\t</div>\\n\\t\\t\\t\\t\\t<div class=\"eft_bottom_r\">\\n\\t\\t\\t\\t\\t\\t<input id=\"btnPreviewSubmit\" type=\"button\" class=\"btnConfirm btnGray\" style=\"margin-right: 15px;\" onclick=\"OnClickEftSubmit();\">\\n\\t\\t\\t\\t\\t\\t<input id=\"btnPreviewContinue\" type=\"button\" class=\"btnConfirm btnGray\" style=\"margin-right: 15px;display:none;\" onclick=\"OnClickDisplayCharge();\">\\n\\t\\t\\t\\t\\t</div>\\n\\t\\t\\t\\t</div>\\n\\t\\t\\t</div>\\n\\n\\t\\t\\t<!-- **************** DivProgress BEGIN **************** -->\\n\\t\\t\\t<div id=\"DivProgress\" style=\"float: left; width: 100%; border-top: 2px solid #003B7F; display: none\">\\n\\t\\t\\t\\t<div style=\"height: 410px; padding: 10px; text-align: center;\">\\n\\t\\t\\t\\t\\t<img id=\"imgProgress\" style=\"width: 50px; margin-top:170px\">\\n\\t\\t\\t\\t\\t<br>\\n\\t\\t\\t\\t\\t<span id=\"lblProgress\" style=\"font-weight: bold;\"></span>\\n\\t\\t\\t\\t</div>\\n\\t\\t\\t</div>\\n\\t\\t\\t<div id=\"DivOtpProgress\" style=\"float: left; width: 100%; border-top: 2px solid #003B7F; display: none\">\\n\\t\\t\\t\\t<div style=\"height: 410px; padding: 10px; text-align: center;\">\\n\\t\\t\\t\\t\\t<img id=\"imgOtpProgress\" style=\"width: 50px; margin-top:170px\">\\n\\t\\t\\t\\t</div>\\n\\t\\t\\t</div>\\n\\n\\t\\t\\t<div id=\"DivConfirmAutopay\" style=\"float: left; width: 100%; border-top: 2px solid #003B7F; display: none\">\\n\\t\\t\\t\\t<div style=\"overflow-x: hidden; background-color: #D8E2EC; width: vm100; padding:10px 20px 10px 20px;\">\\n\\t\\t\\t\\t\\t<span id=\"lbl_ConfirmAutopay\" style=\"color: #05378E; font-weight: bold;\">asdfsadf</span>\\n\\t\\t\\t\\t</div>\\n\\t\\t\\t\\t<div style=\"height: 280px\">\\n\\t\\t\\t\\t\\t<div style=\"padding: 20px; background-color: #EEEEEE;\">\\n\\t\\t\\t\\t\\t\\t<span class=\"content\" id=\"txtConfirmAutopayMsg\"></span>\\n\\t\\t\\t\\t\\t</div>\\n\\t\\t\\t\\t\\t<div style=\"padding: 20px\">\\n\\t\\t\\t\\t\\t\\t<span class=\"content\" id=\"txtConfirmAutopayMarketingMsg\"></span>\\n\\t\\t\\t\\t\\t</div>\\n\\t\\t\\t\\t</div>\\n\\t\\t\\t\\t<div class=\"eft_bottom\">\\n\\t\\t\\t\\t\\t<div class=\"eft_bottom_l\">\\n\\t\\t\\t\\t\\t\\t<input type=\"button\" id=\"btnConfirmAutopayBack\" class=\"btnCancel btnGray\" style=\"margin-left: 15px\" onclick=\"OnClickEftBack3()\">\\n\\t\\t\\t\\t\\t</div>\\n\\t\\t\\t\\t\\t<div class=\"eft_bottom_r\">\\n\\t\\t\\t\\t\\t\\t<input type=\"button\" id=\"btnConfirmAutopay\" class=\"btnContinue btnGray\" style=\"margin-right: 15px\" onclick=\"OnClickConfirmAutopay()\">\\n\\t\\t\\t\\t\\t</div>\\n\\t\\t\\t\\t</div>\\n\\t\\t\\t</div>\\n\\t\\t\\t<!-- **************** DivReply START **************** -->\\n\\t\\t\\t<div id=\"DivReply\" style=\"display: none; float: left; width: 100%; border-top: 2px solid #003B7F;\">\\n\\t\\t\\t\\t<div style=\"padding: 10px; text-align: center;\">\\n\\t\\t\\t\\t\\t<img id=\"imgResult\" style=\"width: 35px; margin-bottom:5px;\">\\n\\t\\t\\t\\t\\t<br>\\n\\t\\t\\t\\t\\t<span id=\"lblResult\" style=\"font-weight: bold;\"></span>\\n\\t\\t\\t\\t</div>\\n\\t\\t\\t\\t<div id=\"DivReplyResult\" style=\"display: none\">\\n\\t\\t\\t\\t\\t<div style=\"overflow-x: hidden; background-color: #D8E2EC; width: 100%; padding: 5px 0px 5px 0px;\">\\n\\t\\t\\t\\t\\t\\t<span id=\"lblSummary\" style=\"padding-left:15px; color: #05378E; font-weight: bold;\">Online Deposit Summary</span>\\n\\t\\t\\t\\t\\t</div>\\n\\t\\t\\t\\t\\t<div class=\"eft_item\" id=\"DivReplyBank\">\\n\\t\\t\\t\\t\\t\\t<div class=\"eft_item_l\">\\n\\t\\t\\t\\t\\t\\t\\t<span id=\"lblResultFrom\"></span>:\\n\\t\\t\\t\\t\\t\\t</div>\\n\\t\\t\\t\\t\\t\\t<div class=\"eft_item_r\">\\n\\t\\t\\t\\t\\t\\t\\t<span id=\"lblResultBankName\"></span>\\n\\t\\t\\t\\t\\t\\t\\t<br>\\n\\t\\t\\t\\t\\t\\t\\t<span id=\"lblResultBankAcc\"></span>\\n\\t\\t\\t\\t\\t\\t</div>\\n\\t\\t\\t\\t\\t</div>\\n\\t\\t\\t\\t\\t<div class=\"eft_item\" id=\"DivReplyBet\">\\n\\t\\t\\t\\t\\t\\t<div class=\"eft_item_l\">\\n\\t\\t\\t\\t\\t\\t\\t<span id=\"lblResultTo\"></span>:\\n\\t\\t\\t\\t\\t\\t</div>\\n\\t\\t\\t\\t\\t\\t<div class=\"eft_item_r\">\\n\\t\\t\\t\\t\\t\\t\\t<span id=\"lblResultBet\"></span>\\n\\t\\t\\t\\t\\t\\t\\t<br>\\n\\t\\t\\t\\t\\t\\t\\t<span id=\"lblResultBetAcc\"></span>\\n\\t\\t\\t\\t\\t\\t</div>\\n\\t\\t\\t\\t\\t</div>\\n\\t\\t\\t\\t\\t<div class=\"eft_item\">\\n\\t\\t\\t\\t\\t\\t<div class=\"eft_item_l\">\\n\\t\\t\\t\\t\\t\\t\\t<span id=\"lblResultTransType\"></span>:\\n\\t\\t\\t\\t\\t\\t</div>\\n\\t\\t\\t\\t\\t\\t<div class=\"eft_item_r\">\\n\\t\\t\\t\\t\\t\\t\\t<span id=\"lblResultTransTypeValue\"></span>\\n\\t\\t\\t\\t\\t\\t</div>\\n\\t\\t\\t\\t\\t</div>\\n\\t\\t\\t\\t\\t<div class=\"eft_item\">\\n\\t\\t\\t\\t\\t\\t<div class=\"eft_item_l\">\\n\\t\\t\\t\\t\\t\\t\\t<span id=\"lblResultAmount\"></span>:\\n\\t\\t\\t\\t\\t\\t</div>\\n\\t\\t\\t\\t\\t\\t<div class=\"eft_item_r\">\\n\\t\\t\\t\\t\\t\\t\\t$<span id=\"lblResultAmountValue\"></span>\\n\\t\\t\\t\\t\\t\\t</div>\\n\\t\\t\\t\\t\\t</div>\\n\\t\\t\\t\\t\\t<div id=\"DivResultFee\" class=\"eft_item\" style=\"display: none;\">\\n\\t\\t\\t\\t\\t\\t<div class=\"eft_item_l contentBlue\">\\n\\t\\t\\t\\t\\t\\t\\t<span id=\"lblResultFee\"></span>:\\n\\t\\t\\t\\t\\t\\t</div>\\n\\t\\t\\t\\t\\t\\t<div class=\"eft_item_r contentBlue\">\\n\\t\\t\\t\\t\\t\\t\\t$<span id=\"lblResultFeeValue\"></span>\\n\\t\\t\\t\\t\\t\\t</div>\\n\\t\\t\\t\\t\\t</div>\\n\\t\\t\\t\\t\\t<div id=\"DivRejectReason\" class=\"eft_item\" style=\"display: none;\">\\n\\t\\t\\t\\t\\t\\t<div class=\"eft_item_l\">\\n\\t\\t\\t\\t\\t\\t\\t<span id=\"lblResultReject\"></span>:\\n\\t\\t\\t\\t\\t\\t</div>\\n\\t\\t\\t\\t\\t\\t<div class=\"eft_item_r\">\\n\\t\\t\\t\\t\\t\\t\\t<span id=\"lblResultRejectReason\"></span>\\n\\t\\t\\t\\t\\t\\t</div>\\n\\t\\t\\t\\t\\t</div>\\n\\t\\t\\t\\t\\t<div id=\"DivReference\" class=\"eft_item\" style=\"display:none\">\\n\\t\\t\\t\\t\\t\\t<div class=\"eft_item_l\">\\n\\t\\t\\t\\t\\t\\t\\t<span id=\"lblResultRef\"></span>:\\n\\t\\t\\t\\t\\t\\t</div>\\n\\t\\t\\t\\t\\t\\t<div class=\"eft_item_r\">\\n\\t\\t\\t\\t\\t\\t\\t<span id=\"lblResultRefNo\">---</span>\\n\\t\\t\\t\\t\\t\\t</div>\\n\\t\\t\\t\\t\\t</div>\\n\\t\\t\\t\\t\\t<div id=\"DivBalance\" class=\"eft_item\" style=\"display: none; background-color: #FFF;\">\\n\\t\\t\\t\\t\\t\\t<div class=\"eft_item_l\">\\n\\t\\t\\t\\t\\t\\t\\t<span id=\"lblResultBetAccBal\"></span>:\\n\\t\\t\\t\\t\\t\\t</div>\\n\\t\\t\\t\\t\\t\\t<div class=\"eft_item_r\">\\n\\t\\t\\t\\t\\t\\t\\t$<span id=\"lblResultBetAccBalVal\"></span>\\n\\t\\t\\t\\t\\t\\t</div>\\n\\t\\t\\t\\t\\t</div>\\n\\t\\t\\t\\t\\t<div id=\"DivReminder\" class=\"eft_item\" style=\"display: none; background-color: #FFF; padding: 10px 20px 5px 15px;\">\\n\\t\\t\\t\\t\\t\\t<span id=\"lblResultReminder\"></span>\\n\\t\\t\\t\\t\\t</div>\\n\\t\\t\\t\\t\\t<div class=\"eft_bottom\">\\n\\t\\t\\t\\t\\t\\t<div class=\"eft_bottom_l\">&nbsp;\\n\\t\\t\\t\\t\\t\\t</div>\\n\\t\\t\\t\\t\\t\\t<div class=\"eft_bottom_r\">\\n\\t\\t\\t\\t\\t\\t\\t<input type=\"button\" class=\"btnDone btnGray\" style=\"margin-right: 15px\" onclick=\"EftCompleted()\">\\n\\t\\t\\t\\t\\t\\t</div>\\n\\t\\t\\t\\t\\t</div>\\n\\t\\t\\t\\t</div>\\n\\t\\t\\t</div>\\n\\t\\t\\t<!-- **************** DivPPSRedirect START **************** -->\\n\\t\\t\\t<div id=\"DivPPSRedirect\" style=\"float: left; width: 100%; border-top: 2px solid #003B7F; display: none\">\\n\\t\\t\\t\\t<div style=\"height: 280px\">\\n\\t\\t\\t\\t\\t<div style=\"padding: 60px 100px 7px 100px\">\\n\\t\\t\\t\\t\\t\\t<span class=\"content\" id=\"txtRedirectMsg\"></span>\\n\\t\\t\\t\\t\\t</div>\\n\\t\\t\\t\\t</div>\\n\\t\\t\\t\\t<div class=\"eft_bottom\">\\n\\t\\t\\t\\t\\t<div class=\"eft_bottom_l\">\\n\\t\\t\\t\\t\\t\\t<input type=\"button\" class=\"btnBack btnGray\" style=\"margin-left: 15px\" onclick=\"OnClickEftBack2();\">\\n\\t\\t\\t\\t\\t</div>\\n\\t\\t\\t\\t\\t<div class=\"eft_bottom_r\">\\n\\t\\t\\t\\t\\t\\t<input type=\"button\" class=\"btnRedirect btnGray\" style=\"margin-right: 15px\" onclick=\"OnClickPPSRedirect()\">\\n\\t\\t\\t\\t\\t</div>\\n\\t\\t\\t\\t</div>\\n\\t\\t\\t</div>\\n\\t\\t\\t<!-- **************** DivLink **************** -->\\n\\t\\t\\t<div id=\"DivLink\" style=\"float: left; width: 100%; border-top: 2px solid #003B7F; display: none\">\\n\\t\\t\\t\\t<div style=\"float: left; width: 100%; background-color: #EEEEEE;\">\\n\\t\\t\\t\\t\\t<div style=\"padding: 10px\">\\n\\t\\t\\t\\t\\t\\t<span class=\"content\" id=\"lblLinkMsg\"></span>\\n\\t\\t\\t\\t\\t</div>\\n\\t\\t\\t\\t\\t<div id=\"DivLinkNba1Fps\" style=\"width:325px; height:215px; margin:0px 5px 0px 10px; padding:10px; background-color:white; float:left; border-radius:5px;\">\\n\\t\\t\\t\\t\\t\\t<div><span id=\"lblLinkingNba1\"></span></div>\\n\\t\\t\\t\\t\\t\\t<hr>\\n\\t\\t\\t\\t\\t\\t<div id=\"DivLinkNba1Ph\" style=\"padding:5px 10px\">\\n\\t\\t\\t\\t\\t\\t\\t<div style=\"padding-bottom:5px\"><span id=\"lblLinkingDepWit\" style=\"color:#0096d6\"></span>\\n\\t\\t\\t\\t\\t\\t\\t</div>\\n\\t\\t\\t\\t\\t\\t\\t<div id=\"DivLinkNoNba1\" style=\"display:none\">\\n\\t\\t\\t\\t\\t\\t\\t\\t<span id=\"lblLinkNoNba1\"></span>\\n\\t\\t\\t\\t\\t\\t\\t</div>\\n\\t\\t\\t\\t\\t\\t\\t<div id=\"DivLinkNba1\" style=\"display:none\">\\n\\t\\t\\t\\t\\t\\t\\t\\t<div style=\"height:50px\">\\n\\t\\t\\t\\t\\t\\t\\t\\t\\t<div class=\"biggerFont\"><span id=\"lblLinkingBank1\"></span></div>\\n\\t\\t\\t\\t\\t\\t\\t\\t\\t<div class=\"biggerFont\" style=\"padding-bottom:5px\"><span id=\"lblLinkingBankAcc1\">\\n\\t\\t\\t\\t\\t\\t\\t\\t\\t</span></div>\\n\\t\\t\\t\\t\\t\\t\\t\\t</div>\\n\\t\\t\\t\\t\\t\\t\\t\\t<div id=\"DivLinkNba1NotSupport\" style=\"display:none;padding:10px 0px 15px 0px;\"><span id=\"lblLinkNba1NotSupport\"></span></div>\\n\\t\\t\\t\\t\\t\\t\\t\\t<div id=\"DivLinkNba1Support\" style=\"margin-top:5px\">\\n\\t\\t\\t\\t\\t\\t\\t\\t\\t<div id=\"DivLinkFps1\" class=\"eft_link_fps biggerFont\" style=\"display:none; margin-bottom:5px; background-color:#EEEEEE; border-radius: 5px;  height:50px;\">\\n\\t\\t\\t\\t\\t\\t\\t\\t\\t\\t<div style=\"float:left; width:235px; padding: 8px 10px 9px 10px;\">\\n\\t\\t\\t\\t\\t\\t\\t\\t\\t\\t\\t<strong><span id=\"lblLinkFpsMethod\"></span></strong><br>\\n\\t\\t\\t\\t\\t\\t\\t\\t\\t\\t\\t<span id=\"lblLinkFpsStatus\"></span>\\n\\t\\t\\t\\t\\t\\t\\t\\t\\t\\t</div>\\n\\t\\t\\t\\t\\t\\t\\t\\t\\t\\t<div style=\"float:left; padding: 13px 10px 0px 10px;\"><img id=\"ImgLinkNba1Fps\">\\n\\t\\t\\t\\t\\t\\t\\t\\t\\t\\t</div>\\n\\t\\t\\t\\t\\t\\t\\t\\t\\t</div>\\n\\t\\t\\t\\t\\t\\t\\t\\t\\t<div id=\"DivLinkNba1Pending\" class=\"eft_link_pending\" style=\"display: none;\">\\n\\t\\t\\t\\t\\t\\t\\t\\t\\t\\t<span id=\"lblLinkNba1Pending\"></span>\\n\\t\\t\\t\\t\\t\\t\\t\\t\\t</div>\\n\\t\\t\\t\\t\\t\\t\\t\\t\\t<div id=\"DivLinkNba1Rejected\" class=\"eft_link_rejected\" style=\"display: none;\" onclick=\"ResetLinkBank(\\'NBA1\\')\">\\n\\t\\t\\t\\t\\t\\t\\t\\t\\t\\t<div style=\"float: right;margin: 0px 0px 10px 10px;\">X</div>\\n\\t\\t\\t\\t\\t\\t\\t\\t\\t\\t<span id=\"lblLinkNba1Rejected\"></span>\\n\\t\\t\\t\\t\\t\\t\\t\\t\\t</div>\\n\\t\\t\\t\\t\\t\\t\\t\\t\\t<div id=\"DivLinkNba1Epsco\" class=\"biggerFont\" style=\"margin-bottom:5px; background-color:#EEEEEE; border-radius:5px; height:50px;\">\\n\\t\\t\\t\\t\\t\\t\\t\\t\\t\\t<div style=\"float:left; width:235px; padding: 8px 10px 9px 10px;\">\\n\\t\\t\\t\\t\\t\\t\\t\\t\\t\\t\\t<strong><span id=\"lblLinkEpscoMethod\"></span></strong><br>\\n\\t\\t\\t\\t\\t\\t\\t\\t\\t\\t\\t<span id=\"lblLinkEpscoStatus\"></span>\\n\\t\\t\\t\\t\\t\\t\\t\\t\\t\\t</div>\\n\\t\\t\\t\\t\\t\\t\\t\\t\\t\\t<div style=\"float:left; padding: 13px 10px 0px 10px; \"><img id=\"ImgLinkNba1Epsco\"></div>\\n\\t\\t\\t\\t\\t\\t\\t\\t\\t</div>\\n\\t\\t\\t\\t\\t\\t\\t\\t</div>\\n\\t\\t\\t\\t\\t\\t\\t</div>\\n\\t\\t\\t\\t\\t\\t</div>\\n\\t\\t\\t\\t\\t</div>\\n\\t\\t\\t\\t\\t<div id=\"DivLinkNba2Fps\" style=\"width:325px; height:215px; margin:0px 10px 0px 5px; padding:10px; background-color:white; float:left; border-radius:5px;\">\\n\\t\\t\\t\\t\\t\\t<div><span id=\"lblLinkingNba2\"></span></div>\\n\\t\\t\\t\\t\\t\\t<hr>\\n\\t\\t\\t\\t\\t\\t<div id=\"DivLinkNba2Ph\" style=\"padding:5px 10px\">\\n\\t\\t\\t\\t\\t\\t\\t<div style=\"padding-bottom:5px\"><span id=\"lblLinkingDep\" style=\"color:#0096d6\"></span></div>\\n\\t\\t\\t\\t\\t\\t\\t<div id=\"DivLinkNoNba2\" style=\"display:none\">\\n\\t\\t\\t\\t\\t\\t\\t\\t<span id=\"lblLinkNoNba2\"></span>\\n\\t\\t\\t\\t\\t\\t\\t</div>\\n\\t\\t\\t\\t\\t\\t\\t<div id=\"DivLinkNba2\" style=\"display:none\">\\n\\t\\t\\t\\t\\t\\t\\t\\t<div style=\"height:50px\">\\n\\t\\t\\t\\t\\t\\t\\t\\t\\t<div class=\"biggerFont\"><span id=\"lblLinkingBank2\"></span></div>\\n\\t\\t\\t\\t\\t\\t\\t\\t\\t<div class=\"biggerFont\" style=\"margin-bottom:5px;\"><span id=\"lblLinkingBankAcc2\"></span></div>\\n\\t\\t\\t\\t\\t\\t\\t\\t</div>\\n\\t\\t\\t\\t\\t\\t\\t\\t<div id=\"DivLinkNba2NotSupport\" style=\"display:none;padding:10px 0px 15px 0px;\"><span id=\"lblLinkNba2NotSupport\"></span></div>\\n\\t\\t\\t\\t\\t\\t\\t\\t<div id=\"DivLinkNba2Support\" style=\"margin-top:5px\">\\n\\t\\t\\t\\t\\t\\t\\t\\t\\t<div id=\"DivLinkFps2\" class=\"eft_link_fps biggerFont\" style=\"display:none;margin-bottom:5px; background-color:#EEEEEE; border-radius:5px; height:50px;\">\\n\\t\\t\\t\\t\\t\\t\\t\\t\\t\\t<div style=\"float:left; width:235px; padding: 8px 10px 9px 10px;\">\\n\\t\\t\\t\\t\\t\\t\\t\\t\\t\\t\\t<strong><span id=\"lblLinkFpsMethod2\"></span></strong><br>\\n\\t\\t\\t\\t\\t\\t\\t\\t\\t\\t\\t<span id=\"lblLinkFpsStatus2\"></span>\\n\\t\\t\\t\\t\\t\\t\\t\\t\\t\\t</div>\\n\\t\\t\\t\\t\\t\\t\\t\\t\\t\\t<div style=\"float:left; padding: 13px 10px 0px 10px;\"><img id=\"ImgLinkNba2Fps\">\\n\\t\\t\\t\\t\\t\\t\\t\\t\\t\\t</div>\\n\\t\\t\\t\\t\\t\\t\\t\\t\\t</div>\\n\\t\\t\\t\\t\\t\\t\\t\\t\\t<div id=\"DivLinkNba2Pending\" class=\"eft_link_pending\" style=\"display: none;\">\\n\\t\\t\\t\\t\\t\\t\\t\\t\\t\\t<span id=\"lblLinkNba2Pending\"></span>\\n\\t\\t\\t\\t\\t\\t\\t\\t\\t</div>\\n\\t\\t\\t\\t\\t\\t\\t\\t\\t<div id=\"DivLinkNba2Rejected\" class=\"eft_link_rejected\" style=\"display: none;\" onclick=\"ResetLinkBank(\\'NBA2\\')\">\\n\\t\\t\\t\\t\\t\\t\\t\\t\\t\\t<div style=\"float: right;margin: 0px 0px 10px 10px;\">X</div>\\n\\t\\t\\t\\t\\t\\t\\t\\t\\t\\t<span id=\"lblLinkNba2Rejected\"></span>\\n\\t\\t\\t\\t\\t\\t\\t\\t\\t</div>\\n\\t\\t\\t\\t\\t\\t\\t\\t\\t<div id=\"DivLinkNba2Epsco\" class=\"biggerFont\" style=\"margin-bottom:5px; background-color:#EEEEEE; border-radius:5px; height:50px;\">\\n\\t\\t\\t\\t\\t\\t\\t\\t\\t\\t<div style=\"float:left; width:235px; padding: 8px 10px 9px 10px;\">\\n\\t\\t\\t\\t\\t\\t\\t\\t\\t\\t\\t<strong><span id=\"lblLinkEpscoMethod2\"></span></strong><br>\\n\\t\\t\\t\\t\\t\\t\\t\\t\\t\\t\\t<span id=\"lblLinkEpscoStatus2\"></span>\\n\\t\\t\\t\\t\\t\\t\\t\\t\\t\\t</div>\\n\\t\\t\\t\\t\\t\\t\\t\\t\\t\\t<div style=\"float:left; padding: 13px 10px 0px 10px;\"><img id=\"ImgLinkNba2Epsco\"></div>\\n\\t\\t\\t\\t\\t\\t\\t\\t\\t</div>\\n\\t\\t\\t\\t\\t\\t\\t\\t</div>\\n\\t\\t\\t\\t\\t\\t\\t</div>\\n\\t\\t\\t\\t\\t\\t</div>\\n\\t\\t\\t\\t\\t</div>\\n\\t\\t\\t\\t\\t<div style=\"clear:both; padding:10px;\"><span id=\"lblLinkMsg2\"></span></div>\\n\\t\\t\\t\\t</div>\\n\\t\\t\\t\\t<div id=\"DivBannerLink\" style=\"float: left; background-color: white; width: 100%; text-align: center; margin:10px 0px 10px 0px; display: none\">\\n\\t\\t\\t\\t\\t<a id=\"aBannerLink\">\\n\\t\\t\\t\\t\\t\\t<img id=\"imgBannerLink\" style=\"max-height:85px;max-width:472px;\"></a>\\n\\t\\t\\t\\t</div>\\n\\t\\t\\t\\t<div class=\"eft_bottom\">\\n\\t\\t\\t\\t\\t<div class=\"eft_bottom_l\">\\n\\t\\t\\t\\t\\t\\t<input type=\"button\" class=\"btnClose btnGray\" style=\"margin-left: 15px\" onclick=\"closeAllBetSlipOverlay()\">\\n\\t\\t\\t\\t\\t</div>\\n\\t\\t\\t\\t\\t<div class=\"eft_bottom_r\">\\n\\t\\t\\t\\t\\t\\t<input type=\"button\" id=\"btnLinkNext\" disabled=\"disabled\" class=\"btnNext btnGray\" style=\"margin-right: 15px\" onclick=\"OnClickLinkNext()\">\\n\\t\\t\\t\\t\\t</div>\\n\\t\\t\\t\\t</div>\\n\\t\\t\\t</div>\\n\\t\\t\\t<div id=\"DivLinkSummary\" style=\"display: none; float: left; width: 100%; border-top: 2px solid #003B7F;\">\\n\\t\\t\\t\\t<div style=\"padding: 10px; text-align: left;\">\\n\\t\\t\\t\\t\\t<span id=\"lblLinkSummaryResult\"></span>\\n\\t\\t\\t\\t</div>\\n\\t\\t\\t\\t<div>\\n\\t\\t\\t\\t\\t<div class=\"eft_item\">\\n\\t\\t\\t\\t\\t\\t<div class=\"eft_item_l\">\\n\\t\\t\\t\\t\\t\\t\\t<span id=\"lblLinkSummaryName\"></span>:\\n\\t\\t\\t\\t\\t\\t</div>\\n\\t\\t\\t\\t\\t\\t<div class=\"eft_item_r\">\\n\\t\\t\\t\\t\\t\\t\\t<span id=\"lblLinkSummaryResultName\"></span>\\n\\t\\t\\t\\t\\t\\t</div>\\n\\t\\t\\t\\t\\t</div>\\n\\t\\t\\t\\t\\t<div class=\"eft_item\">\\n\\t\\t\\t\\t\\t\\t<div class=\"eft_item_l\">\\n\\t\\t\\t\\t\\t\\t\\t<span id=\"lblLinkSummaryBankName\"></span>:\\n\\t\\t\\t\\t\\t\\t</div>\\n\\t\\t\\t\\t\\t\\t<div class=\"eft_item_r\">\\n\\t\\t\\t\\t\\t\\t\\t<span id=\"lblLinkSummaryResultBankName\"></span>\\n\\t\\t\\t\\t\\t\\t</div>\\n\\t\\t\\t\\t\\t</div>\\n\\t\\t\\t\\t\\t<div class=\"eft_item\">\\n\\t\\t\\t\\t\\t\\t<div class=\"eft_item_l\">\\n\\t\\t\\t\\t\\t\\t\\t<span id=\"lblLinkSummaryBankAc\"></span>:\\n\\t\\t\\t\\t\\t\\t</div>\\n\\t\\t\\t\\t\\t\\t<div class=\"eft_item_r\">\\n\\t\\t\\t\\t\\t\\t\\t<span id=\"lblLinkSummaryResultBankAc\"></span>\\n\\t\\t\\t\\t\\t\\t</div>\\n\\t\\t\\t\\t\\t</div>\\n\\t\\t\\t\\t\\t<div class=\"eft_item\">\\n\\t\\t\\t\\t\\t\\t<div class=\"eft_item_l\">\\n\\t\\t\\t\\t\\t\\t\\t<span id=\"lblLinkSummaryPhone\"></span>:\\n\\t\\t\\t\\t\\t\\t</div>\\n\\t\\t\\t\\t\\t\\t<div class=\"eft_item_r\">\\n\\t\\t\\t\\t\\t\\t\\t<span id=\"lblLinkSummaryResultPhone\"></span>\\n\\t\\t\\t\\t\\t\\t</div>\\n\\t\\t\\t\\t\\t</div>\\n\\t\\t\\t\\t\\t<div class=\"eft_item\" id=\"DivLinkSummaryReject\" style=\"display:none\">\\n\\t\\t\\t\\t\\t\\t<div class=\"eft_item_l\">\\n\\t\\t\\t\\t\\t\\t\\t<span id=\"lblLinkSummaryReject\"></span>:\\n\\t\\t\\t\\t\\t\\t</div>\\n\\t\\t\\t\\t\\t\\t<div class=\"eft_item_r\">\\n\\t\\t\\t\\t\\t\\t\\t<span id=\"lblLinkSummaryResultReject\"></span>\\n\\t\\t\\t\\t\\t\\t</div>\\n\\t\\t\\t\\t\\t</div>\\n\\t\\t\\t\\t\\t<div class=\"eft_item\" style=\"background-color: #FFF; padding: 10px 20px 5px 15px;\">\\n\\t\\t\\t\\t\\t\\t<span id=\"lblLinkSummaryResultReminder\"></span>\\n\\t\\t\\t\\t\\t</div>\\n\\t\\t\\t\\t\\t<div class=\"eft_bottom\">\\n\\t\\t\\t\\t\\t\\t<div class=\"eft_bottom_l\">&nbsp;\\n\\t\\t\\t\\t\\t\\t</div>\\n\\t\\t\\t\\t\\t\\t<div class=\"eft_bottom_r\">\\n\\t\\t\\t\\t\\t\\t\\t<input type=\"button\" class=\"btnDone btnGray\" style=\"margin-right: 15px\" onclick=\"EftOnLoad(2)\">\\n\\t\\t\\t\\t\\t\\t</div>\\n\\t\\t\\t\\t\\t</div>\\n\\t\\t\\t\\t</div>\\n\\t\\t\\t</div>\\n\\t\\t\\t<div id=\"DivLinkTandC\" style=\"float: left; width: 100%; border-top: 2px solid #003B7F; display: none\">\\n\\t\\t\\t\\t<div>\\n\\t\\t\\t\\t\\t<div class=\"eft_item\">\\n\\t\\t\\t\\t\\t\\t<div class=\"eft_item_l\">\\n\\t\\t\\t\\t\\t\\t\\t<span id=\"lblLinkFullname\"></span>:\\n\\t\\t\\t\\t\\t\\t</div>\\n\\t\\t\\t\\t\\t\\t<div class=\"eft_item_r\">\\n\\t\\t\\t\\t\\t\\t\\t<span id=\"lblLinkFullnameValue\"></span>\\n\\t\\t\\t\\t\\t\\t</div>\\n\\t\\t\\t\\t\\t</div>\\n\\t\\t\\t\\t\\t<div class=\"eft_item\">\\n\\t\\t\\t\\t\\t\\t<div class=\"eft_item_l\">\\n\\t\\t\\t\\t\\t\\t\\t<span id=\"lblLinkBankname\"></span>:\\n\\t\\t\\t\\t\\t\\t</div>\\n\\t\\t\\t\\t\\t\\t<div class=\"eft_item_r\">\\n\\t\\t\\t\\t\\t\\t\\t<span id=\"lblLinkBanknameValue\"></span>\\n\\t\\t\\t\\t\\t\\t</div>\\n\\t\\t\\t\\t\\t</div>\\n\\t\\t\\t\\t\\t<div class=\"eft_item\">\\n\\t\\t\\t\\t\\t\\t<div class=\"eft_item_l\">\\n\\t\\t\\t\\t\\t\\t\\t<span id=\"lblLinkBankac\"></span>:\\n\\t\\t\\t\\t\\t\\t</div>\\n\\t\\t\\t\\t\\t\\t<div class=\"eft_item_r\">\\n\\t\\t\\t\\t\\t\\t\\t<span id=\"lblLinkBankacValue\"></span>\\n\\t\\t\\t\\t\\t\\t</div>\\n\\t\\t\\t\\t\\t</div>\\n\\t\\t\\t\\t\\t<div class=\"eft_item\">\\n\\t\\t\\t\\t\\t\\t<div class=\"eft_item_l\">\\n\\t\\t\\t\\t\\t\\t\\t<span id=\"lblLinkMobile\"></span>:\\n\\t\\t\\t\\t\\t\\t</div>\\n\\t\\t\\t\\t\\t\\t<div class=\"eft_item_r\">\\n\\t\\t\\t\\t\\t\\t\\t<span id=\"lblLinkMobileValue\"></span>\\n\\t\\t\\t\\t\\t\\t</div>\\n\\t\\t\\t\\t\\t</div>\\n\\t\\t\\t\\t</div>\\n\\t\\t\\t\\t<div style=\"margin-top:5px;padding:10px;\" class=\"eft_item\">\\n\\t\\t\\t\\t\\t<div id=\"lblLinkTandC\" style=\"height:241px;overflow-y:auto; padding:10px 10px 20px 10px; box-shadow: 0 0 0pt 1px grey; background-color:white;\">\\n\\t\\t\\t\\t\\t\\t<strong><span id=\"lblTandC\"></span></strong>\\n\\t\\t\\t\\t\\t\\t<hr>\\n\\t\\t\\t\\t\\t\\t<span id=\"lblTandCMsg\"></span>\\n\\t\\t\\t\\t\\t</div>\\n\\t\\t\\t\\t\\t<div style=\"margin-top:5px\"><input type=\"checkbox\" id=\"chkTandC\" onchange=\"OnClickLinkTandCCheckbox()\"><label for=\"chkTandC\" id=\"lblLinkTandCCheck\"></label>\\n\\t\\t\\t\\t\\t</div>\\n\\t\\t\\t\\t</div>\\n\\t\\t\\t\\t<div class=\"eft_bottom\">\\n\\t\\t\\t\\t\\t<div class=\"eft_bottom_l\">\\n\\t\\t\\t\\t\\t\\t<input type=\"button\" class=\"btnBack btnGray\" style=\"margin-left: 15px\" onclick=\"OnClickLinkBack()\">\\n\\t\\t\\t\\t\\t</div>\\n\\t\\t\\t\\t\\t<div class=\"eft_bottom_r\">\\n\\t\\t\\t\\t\\t\\t<input type=\"button\" id=\"btnLinkTandC\" class=\"btnNext btnGray\" style=\"margin-right: 15px\" onclick=\"OnClickLinkTandC()\">\\n\\t\\t\\t\\t\\t</div>\\n\\t\\t\\t\\t</div>\\n\\t\\t\\t</div>\\n\\t\\t\\t<div id=\"DivLinkOtpFailed\" style=\"float: left; width: 100%; border-top: 2px solid #003B7F; display: none\">\\n\\t\\t\\t\\t<div style=\"padding: 10px; text-align: center;\">\\n\\t\\t\\t\\t\\t<img id=\"imgOtpFailed\" style=\"width: 35px; margin-bottom:5px;\">\\n\\t\\t\\t\\t\\t<br>\\n\\t\\t\\t\\t\\t<span id=\"lblOtpFailed\" style=\"font-weight: bold;\"></span>\\n\\t\\t\\t\\t</div>\\n\\t\\t\\t\\t<div style=\"height:20px;margin-bottom:2px;background-color: #D8E2EE\"></div>\\n\\t\\t\\t\\t<div style=\"background-color:#EFF0F1;padding:20px;\">\\n\\t\\t\\t\\t\\t<span id=\"lblOtpFailedMsg\"></span>\\n\\t\\t\\t\\t</div>\\n\\t\\t\\t\\t<div class=\"eft_bottom\">\\n\\t\\t\\t\\t\\t<div class=\"eft_bottom_l\">\\n\\t\\t\\t\\t\\t\\t&nbsp;\\n\\t\\t\\t\\t\\t</div>\\n\\t\\t\\t\\t\\t<div class=\"eft_bottom_r\">\\n\\t\\t\\t\\t\\t\\t<input type=\"button\" class=\"btnClose btnGray\" style=\"margin-right: 15px\" onclick=\"closeAllBetSlipOverlay()\">\\n\\t\\t\\t\\t\\t</div>\\n\\t\\t\\t\\t</div>\\n\\t\\t\\t</div>\\n\\t\\t\\t<div id=\"DivLinkOtpValidate\" style=\"float: left; width: 100%; border-top: 2px solid #003B7F; background-color: #EEEEEE; display: none; height:442px;\">\\n\\t\\t\\t\\t<div id=\"divOtpResent\" style=\"width: 100%; background-color: #1B96D4; display: none; padding: 5px 0px 5px 0px; text-align: center; color: white; float: left;\">\\n\\t\\t\\t\\t\\t<span id=\"lblOtpResent\"></span>\\n\\t\\t\\t\\t</div>\\n\\t\\t\\t\\t<div id=\"divOtpInvalid\" style=\"width: 100%; background-color: #FAD3D8; display: none; padding: 5px 0px 5px 0px; text-align: center; color: #D42027; float: left;\">\\n\\t\\t\\t\\t\\t<span id=\"lblOtpInvalid\"></span>\\n\\t\\t\\t\\t</div>\\n\\t\\t\\t\\t<div style=\"margin:50px auto 50px auto; width:400px; padding:15px;background-color: #FFFFFF;\">\\n\\t\\t\\t\\t\\t<div class=\"biggerFont\" style=\"text-align: center; padding:5px;\"><span id=\"lblOtpsent\"></span></div>\\n\\t\\t\\t\\t\\t<div style=\"text-align: center; padding:5px; color: #9c9999\"><span id=\"lblOtpsentIncorrect\"></span>\\n\\t\\t\\t\\t\\t</div>\\n\\t\\t\\t\\t\\t<div class=\"biggerFont\" style=\"text-align: center; padding:15px 5px 10px 5px\"><span id=\"lblOtpInput\"></span></div>\\n\\t\\t\\t\\t\\t<div style=\"text-align: center\">\\n\\t\\t\\t\\t\\t\\t<input id=\"otpInput0\" class=\"otpCode\" maxlength=\"1\" inputmode=\"numeric\" pattern=\"[0-9]*\">\\n\\t\\t\\t\\t\\t\\t<input id=\"otpInput1\" class=\"otpCode\" maxlength=\"1\" inputmode=\"numeric\" pattern=\"[0-9]*\">\\n\\t\\t\\t\\t\\t\\t<input id=\"otpInput2\" class=\"otpCode\" maxlength=\"1\" inputmode=\"numeric\" pattern=\"[0-9]*\">\\n\\t\\t\\t\\t\\t\\t<input id=\"otpInput3\" class=\"otpCode\" maxlength=\"1\" inputmode=\"numeric\" pattern=\"[0-9]*\">\\n\\t\\t\\t\\t\\t\\t<input id=\"otpInput4\" class=\"otpCode\" maxlength=\"1\" inputmode=\"numeric\" pattern=\"[0-9]*\">\\n\\t\\t\\t\\t\\t\\t<input id=\"otpInput5\" class=\"otpCode\" maxlength=\"1\" inputmode=\"numeric\" pattern=\"[0-9]*\">\\n\\t\\t\\t\\t\\t</div>\\n\\t\\t\\t\\t\\t<div class=\"biggerFont\" style=\"text-align: center; padding:30px 0px 0px 5px;\"><span id=\"lblNoOtp\"></span></div>\\n\\t\\t\\t\\t\\t<div style=\"text-align: center; padding:5px;\"><a class=\"urlDisabled\" id=\"lnkOtpResend\"></a>\\n\\t\\t\\t\\t\\t\\t<span id=\"bracketLeft\">(</span><span id=\"otpTimer\"></span><span id=\"bracketRight\">)</span></div>\\n\\t\\t\\t\\t</div>\\n\\t\\t\\t\\t<div class=\"eft_bottom\">\\n\\t\\t\\t\\t\\t<div class=\"eft_bottom_l\">\\n\\t\\t\\t\\t\\t\\t<input type=\"button\" class=\"btnBack btnGray\" style=\"margin-left: 15px\" onclick=\"OnClickLinkBack()\">\\n\\t\\t\\t\\t\\t</div>\\n\\t\\t\\t\\t\\t<div class=\"eft_bottom_r\">\\n\\t\\t\\t\\t\\t\\t<input type=\"button\" id=\"btnOtpValidate\" disabled=\"disabled\" class=\"btnNext btnGray\" style=\"margin-right: 15px\" onclick=\"OtpCodeConfirm()\">\\n\\t\\t\\t\\t\\t</div>\\n\\t\\t\\t\\t</div>\\n\\t\\t\\t</div>\\n\\t\\t\\t<div id=\"DivLinkReply\" style=\"display: none; float: left; width: 100%; border-top: 2px solid #003B7F;\">\\n\\t\\t\\t\\t<div style=\"padding: 10px; text-align: center;\">\\n\\t\\t\\t\\t\\t<img id=\"imgLinkResult\" style=\"width: 35px; margin-bottom:5px;\">\\n\\t\\t\\t\\t\\t<br>\\n\\t\\t\\t\\t\\t<span id=\"lblLinkResult\" style=\"font-weight: bold;\"></span>\\n\\t\\t\\t\\t</div>\\n\\t\\t\\t\\t<div style=\"padding:5px;\"><span id=\"lblLinkReplyMsg\"></span></div>\\n\\t\\t\\t\\t<div id=\"DivLinkReplyResult\" style=\"display: none\">\\n\\t\\t\\t\\t\\t<div class=\"eft_item\">\\n\\t\\t\\t\\t\\t\\t<div class=\"eft_item_l\">\\n\\t\\t\\t\\t\\t\\t\\t<span id=\"lblLinkReplyName\"></span>:\\n\\t\\t\\t\\t\\t\\t</div>\\n\\t\\t\\t\\t\\t\\t<div class=\"eft_item_r\">\\n\\t\\t\\t\\t\\t\\t\\t<span id=\"lblLinkResultName\"></span>\\n\\t\\t\\t\\t\\t\\t</div>\\n\\t\\t\\t\\t\\t</div>\\n\\t\\t\\t\\t\\t<div class=\"eft_item\">\\n\\t\\t\\t\\t\\t\\t<div class=\"eft_item_l\">\\n\\t\\t\\t\\t\\t\\t\\t<span id=\"lblLinkReplyBankName\"></span>:\\n\\t\\t\\t\\t\\t\\t</div>\\n\\t\\t\\t\\t\\t\\t<div class=\"eft_item_r\">\\n\\t\\t\\t\\t\\t\\t\\t<span id=\"lblLinkResultBankName\"></span>\\n\\t\\t\\t\\t\\t\\t</div>\\n\\t\\t\\t\\t\\t</div>\\n\\t\\t\\t\\t\\t<div class=\"eft_item\">\\n\\t\\t\\t\\t\\t\\t<div class=\"eft_item_l\">\\n\\t\\t\\t\\t\\t\\t\\t<span id=\"lblLinkReplyBankAc\"></span>:\\n\\t\\t\\t\\t\\t\\t</div>\\n\\t\\t\\t\\t\\t\\t<div class=\"eft_item_r\">\\n\\t\\t\\t\\t\\t\\t\\t<span id=\"lblLinkResultBankAc\"></span>\\n\\t\\t\\t\\t\\t\\t</div>\\n\\t\\t\\t\\t\\t</div>\\n\\t\\t\\t\\t\\t<div class=\"eft_item\">\\n\\t\\t\\t\\t\\t\\t<div class=\"eft_item_l\">\\n\\t\\t\\t\\t\\t\\t\\t<span id=\"lblLinkReplyPhone\"></span>:\\n\\t\\t\\t\\t\\t\\t</div>\\n\\t\\t\\t\\t\\t\\t<div class=\"eft_item_r\">\\n\\t\\t\\t\\t\\t\\t\\t<span id=\"lblLinkResultPhone\"></span>\\n\\t\\t\\t\\t\\t\\t</div>\\n\\t\\t\\t\\t\\t</div>\\n\\t\\t\\t\\t\\t<div class=\"eft_item\" id=\"DivLinkDefaultDeposit\" style=\"display:none;\">\\n\\t\\t\\t\\t\\t\\t<div class=\"eft_item_l\">\\n\\t\\t\\t\\t\\t\\t\\t<span id=\"lblLinkReplyDefaultDeposit\"></span>:\\n\\t\\t\\t\\t\\t\\t</div>\\n\\t\\t\\t\\t\\t\\t<div class=\"eft_item_r\">\\n\\t\\t\\t\\t\\t\\t\\t$<span id=\"lblLinkResultDefaultDeposit\"></span>\\n\\t\\t\\t\\t\\t\\t</div>\\n\\t\\t\\t\\t\\t</div>\\n\\t\\t\\t\\t\\t<div id=\"DivLinkRejectReason\" class=\"eft_item\" style=\"display: none;\">\\n\\t\\t\\t\\t\\t\\t<div class=\"eft_item_l\">\\n\\t\\t\\t\\t\\t\\t\\t<span id=\"lblLinkReplyReject\"></span>:\\n\\t\\t\\t\\t\\t\\t</div>\\n\\t\\t\\t\\t\\t\\t<div class=\"eft_item_r\">\\n\\t\\t\\t\\t\\t\\t\\t<span id=\"lblLinkResultReject\"></span>\\n\\t\\t\\t\\t\\t\\t</div>\\n\\t\\t\\t\\t\\t</div>\\n\\t\\t\\t\\t\\t<div id=\"DivLinkReminder\" class=\"eft_item\" style=\"display: none; background-color: #FFF; padding: 10px 20px 5px 15px;\">\\n\\t\\t\\t\\t\\t\\t<span id=\"lblLinkResultReminder\"></span>\\n\\t\\t\\t\\t\\t</div>\\n\\t\\t\\t\\t\\t<div class=\"eft_bottom\">\\n\\t\\t\\t\\t\\t\\t<div class=\"eft_bottom_l\">&nbsp;\\n\\t\\t\\t\\t\\t\\t</div>\\n\\t\\t\\t\\t\\t\\t<div class=\"eft_bottom_r\">\\n\\t\\t\\t\\t\\t\\t\\t<input type=\"button\" class=\"btnDone btnGray\" style=\"margin-right: 15px\" onclick=\"EftOnLoad(2)\">\\n\\t\\t\\t\\t\\t\\t</div>\\n\\t\\t\\t\\t\\t</div>\\n\\t\\t\\t\\t</div>\\n\\t\\t\\t\\t<div id=\"DivLinkContent\" style=\"display:none; background-color: #EEEEEE;\">\\n\\t\\t\\t\\t\\t<div style=\"padding:10px;\">\\n\\t\\t\\t\\t\\t\\t<span id=\"lblLinkContent\"></span>\\n\\t\\t\\t\\t\\t</div>\\n\\t\\t\\t\\t\\t<div class=\"eft_bottom\">\\n\\t\\t\\t\\t\\t\\t<div class=\"eft_bottom_l\">&nbsp;\\n\\t\\t\\t\\t\\t\\t</div>\\n\\t\\t\\t\\t\\t\\t<div class=\"eft_bottom_r\">\\n\\t\\t\\t\\t\\t\\t\\t<input type=\"button\" class=\"btnDone btnGray\" style=\"margin-right: 15px\" onclick=\"EftOnLoad(0)\">\\n\\t\\t\\t\\t\\t\\t</div>\\n\\t\\t\\t\\t\\t</div>\\n\\t\\t\\t\\t</div>\\n\\t\\t\\t</div>\\n\\t\\t\\t<div id=\"DivFpsBankList\" style=\"float: left; width: 100%; border-top: 2px solid #003B7F; display: none\">\\n\\t\\t\\t\\t<div class=\"eft_item\">\\n\\t\\t\\t\\t\\t<div style=\"padding:10px\">\\n\\t\\t\\t\\t\\t\\t<span id=\"lbl_banklist_title\"></span>\\n\\t\\t\\t\\t\\t</div>\\n\\t\\t\\t\\t</div>\\n\\t\\t\\t\\t<div id=\"DivFpsTheList\" style=\"padding:0px 10px 10px 10px; overflow-y:auto;\">\\n\\t\\t\\t\\t\\t<table id=\"dgBanklist\" style=\"width:100%; border-spacing: 0px;\">\\n\\t\\t\\t\\t\\t\\t<tbody><tr>\\n\\t\\t\\t\\t\\t\\t\\t<td id=\"lblBankCode\" class=\"eft_banklist_header\" style=\"text-align: center;\"></td>\\n\\t\\t\\t\\t\\t\\t\\t<td id=\"lblBankName\" class=\"eft_banklist_header\"></td>\\n\\t\\t\\t\\t\\t\\t</tr>\\n\\t\\t\\t\\t\\t</tbody></table>\\n\\t\\t\\t\\t</div>\\n\\t\\t\\t\\t<div class=\"eft_bottom\">\\n\\t\\t\\t\\t\\t<div class=\"eft_bottom_l\">\\n\\t\\t\\t\\t\\t\\t<input type=\"button\" class=\"btnBack btnGray\" style=\"margin-left: 15px\" onclick=\"BackFpsBankList()\">\\n\\t\\t\\t\\t\\t</div>\\n\\t\\t\\t\\t\\t<div class=\"eft_bottom_r\">&nbsp;\\n\\t\\t\\t\\t\\t</div>\\n\\t\\t\\t\\t</div>\\n\\t\\t\\t</div>\\n\\t\\t\\t<div id=\"DivPpsResult\" style=\"float: left; width: 100%; border-top: 2px solid #003B7F; display: none\">\\n\\t\\t\\t\\t<div style=\"padding: 10px; text-align: center;\">\\n\\t\\t\\t\\t\\t<img id=\"imgPpsResult\" style=\"width: 40px;\">\\n\\t\\t\\t\\t\\t<br>\\n\\t\\t\\t\\t\\t<span id=\"lblPpsResult\" style=\"font-weight: bold;\"></span>\\n\\t\\t\\t\\t</div>\\n\\t\\t\\t\\t<div id=\"DivReplyPpsResult\">\\n\\t\\t\\t\\t\\t<div style=\"overflow-x: hidden; background-color: #D8E2EC; width: 100%; padding: 5px 0px 5px 0px;\">\\n\\t\\t\\t\\t\\t\\t<span id=\"lblPpsResultSummary\" style=\"padding-left: 15px; color: #05378E; font-weight: bold;\">Online Deposit Summary</span>\\n\\t\\t\\t\\t\\t</div>\\n\\t\\t\\t\\t\\t<div class=\"eft_item\">\\n\\t\\t\\t\\t\\t\\t<div class=\"eft_item_l\">\\n\\t\\t\\t\\t\\t\\t\\t<span id=\"lbl_ppsResult_txn_date\"></span>:\\n\\t\\t\\t\\t\\t\\t</div>\\n\\t\\t\\t\\t\\t\\t<div class=\"eft_item_r\">\\n\\t\\t\\t\\t\\t\\t\\t<span id=\"lbl_ppsResult_txn_date_text\"></span>\\n\\t\\t\\t\\t\\t\\t</div>\\n\\t\\t\\t\\t\\t</div>\\n\\t\\t\\t\\t\\t<div class=\"eft_item\">\\n\\t\\t\\t\\t\\t\\t<div class=\"eft_item_l\">\\n\\t\\t\\t\\t\\t\\t\\t<span id=\"lbl_ppsResult_ref_no\"></span>:\\n\\t\\t\\t\\t\\t\\t</div>\\n\\t\\t\\t\\t\\t\\t<div class=\"eft_item_r\">\\n\\t\\t\\t\\t\\t\\t\\t<span id=\"lbl_ppsResult_ref_no_text\">\\n\\t\\t\\t\\t\\t\\t</span></div>\\n\\t\\t\\t\\t\\t</div>\\n\\t\\t\\t\\t\\t<div class=\"eft_item\">\\n\\t\\t\\t\\t\\t\\t<div class=\"eft_item_l\">\\n\\t\\t\\t\\t\\t\\t\\t<span id=\"lbl_ppsResult_payment_no\"></span>:\\n\\t\\t\\t\\t\\t\\t</div>\\n\\t\\t\\t\\t\\t\\t<div class=\"eft_item_r\">\\n\\t\\t\\t\\t\\t\\t\\t<span id=\"lbl_ppsResult_payment_no_text\"></span>\\n\\t\\t\\t\\t\\t\\t</div>\\n\\t\\t\\t\\t\\t</div>\\n\\t\\t\\t\\t\\t<div class=\"eft_item\">\\n\\t\\t\\t\\t\\t\\t<div class=\"eft_item_l\">\\n\\t\\t\\t\\t\\t\\t\\t<span id=\"lbl_ppsResult_trans_amount\"></span>:\\n\\t\\t\\t\\t\\t\\t</div>\\n\\t\\t\\t\\t\\t\\t<div class=\"eft_item_r\">\\n\\t\\t\\t\\t\\t\\t\\t$<span id=\"lbl_ppsResult_trans_amount_text\"></span>\\n\\t\\t\\t\\t\\t\\t</div>\\n\\t\\t\\t\\t\\t</div>\\n\\t\\t\\t\\t\\t<div class=\"eft_item\">\\n\\t\\t\\t\\t\\t\\t<div class=\"eft_item_l\">\\n\\t\\t\\t\\t\\t\\t\\t<span id=\"lbl_ppsResult_result_msg\"></span>:\\n\\t\\t\\t\\t\\t\\t</div>\\n\\t\\t\\t\\t\\t\\t<div class=\"eft_item_r\">\\n\\t\\t\\t\\t\\t\\t\\t<span id=\"lbl_ppsResult_result_msg_text\"></span>\\n\\t\\t\\t\\t\\t\\t</div>\\n\\t\\t\\t\\t\\t</div>\\n\\t\\t\\t\\t</div>\\n\\t\\t\\t\\t<div class=\"eft_bottom\">\\n\\t\\t\\t\\t\\t<div class=\"eft_bottom_l\">&nbsp;\\n\\t\\t\\t\\t\\t</div>\\n\\t\\t\\t\\t\\t<div class=\"eft_bottom_r\">\\n\\t\\t\\t\\t\\t\\t<input type=\"button\" class=\"btnDone btnGray\" style=\"margin-right: 15px\" onclick=\"EftOnLoad(0)\">\\n\\t\\t\\t\\t\\t</div>\\n\\t\\t\\t\\t</div>\\n\\t\\t\\t</div>\\n\\t\\t</div>\\n\\t</div>\\n</div>\\n\\n<div id=\"divLogout\" onkeydown=\"return onKeyDown(event, true, \\'logout\\');\" tabindex=\"-1\">\\n\\t<div style=\"background-color:#FFFFFF\">\\n\\t\\t<iframe id=\"logoutFrame\" border=\"0\" marginwidth=\"0\" marginheight=\"0\" src=\"\" frameborder=\"0\" scrolling=\"no\" style=\"width:758px; height:358px;\"></iframe>\\n\\t</div>\\n\\t<div id=\"logoutCloseDiv\">\\n\\t\\t<div id=\"logoutClose\" onclick=\"OnClickCloseLogoutPopup();\"></div>\\n\\t</div>\\n</div>\\n\\n<script type=\"text/javascript\" src=\"/common/wa_tracker.js\"></script>\\n<script type=\"text/javascript\" src=\"/info/include/wa/wa_tracker_config.js\"></script>\\n\\n<div id=\"div_engine\" style=\"position:absolute\"></div>\\n<iframe id=\"tFrame\" style=\"display: none\" src=\"/reload.aspx?a=1690855864568\"></iframe>\\n\\n\\n</body></html>'"
      ]
     },
     "execution_count": 8,
     "metadata": {},
     "output_type": "execute_result"
    }
   ],
   "source": [
    "html"
   ]
  },
  {
   "cell_type": "code",
   "execution_count": 9,
   "id": "f559d799",
   "metadata": {},
   "outputs": [],
   "source": [
    "text_non= html.replace(\"\\n\",\"\")"
   ]
  },
  {
   "cell_type": "code",
   "execution_count": 10,
   "id": "e4a4b9f7",
   "metadata": {},
   "outputs": [],
   "source": [
    "bsObj = BeautifulSoup(text_non, \"html.parser\")"
   ]
  },
  {
   "cell_type": "code",
   "execution_count": 11,
   "id": "90ddbe2f",
   "metadata": {},
   "outputs": [],
   "source": [
    "drawResult=bsObj.find(\"td\", text=\"Draw Results : \")"
   ]
  },
  {
   "cell_type": "code",
   "execution_count": 11,
   "id": "c7ff2f57",
   "metadata": {},
   "outputs": [],
   "source": [
    "#drawResult.next_sibling"
   ]
  },
  {
   "cell_type": "code",
   "execution_count": 12,
   "id": "5952d41f",
   "metadata": {},
   "outputs": [
    {
     "data": {
      "text/plain": [
       "<td style=\"padding:0px 5px 0px 0px;\">Draw Results : </td>"
      ]
     },
     "execution_count": 12,
     "metadata": {},
     "output_type": "execute_result"
    }
   ],
   "source": [
    "drawResult"
   ]
  },
  {
   "cell_type": "code",
   "execution_count": 13,
   "id": "edd05b1b",
   "metadata": {},
   "outputs": [
    {
     "data": {
      "text/plain": [
       "'/marksix/info/images/icon/no_13.gif?CV=L4.04R2'"
      ]
     },
     "execution_count": 13,
     "metadata": {},
     "output_type": "execute_result"
    }
   ],
   "source": [
    "drawResult.next_sibling.img.get(\"src\")"
   ]
  },
  {
   "cell_type": "code",
   "execution_count": 14,
   "id": "531f50a7",
   "metadata": {},
   "outputs": [
    {
     "data": {
      "text/plain": [
       "'/marksix/info/images/icon/no_23.gif?CV=L4.04R2'"
      ]
     },
     "execution_count": 14,
     "metadata": {},
     "output_type": "execute_result"
    }
   ],
   "source": [
    "drawResult.next_sibling.next_sibling.img.get(\"src\")"
   ]
  },
  {
   "cell_type": "code",
   "execution_count": 15,
   "id": "32c045cd",
   "metadata": {},
   "outputs": [
    {
     "data": {
      "text/plain": [
       "'13'"
      ]
     },
     "execution_count": 15,
     "metadata": {},
     "output_type": "execute_result"
    }
   ],
   "source": [
    "src=drawResult.next_sibling.img.get(\"src\")\n",
    "#src[29:31]\n",
    "#src.find(\"_\")+1\n",
    "#src.find(\".gif\")\n",
    "src[src.find(\"_\")+1 : src.find(\".gif\") ]"
   ]
  },
  {
   "cell_type": "code",
   "execution_count": 16,
   "id": "1601d8f2",
   "metadata": {},
   "outputs": [
    {
     "data": {
      "text/plain": [
       "'23'"
      ]
     },
     "execution_count": 16,
     "metadata": {},
     "output_type": "execute_result"
    }
   ],
   "source": [
    "src=drawResult.next_sibling.next_sibling.img.get(\"src\")\n",
    "src[src.find(\"_\")+1 : src.find(\".gif\") ]"
   ]
  },
  {
   "cell_type": "code",
   "execution_count": 17,
   "id": "4d7fd917",
   "metadata": {},
   "outputs": [],
   "source": [
    "def getNo(dr,lv):\n",
    "    for i in range(lv):\n",
    "        dr=dr.next_sibling\n",
    "    return dr"
   ]
  },
  {
   "cell_type": "code",
   "execution_count": 18,
   "id": "3864b76e",
   "metadata": {},
   "outputs": [
    {
     "data": {
      "text/plain": [
       "'14'"
      ]
     },
     "execution_count": 18,
     "metadata": {},
     "output_type": "execute_result"
    }
   ],
   "source": [
    "src1=getNo(drawResult,8).img.get(\"src\")\n",
    "src1[src1.find(\"_\")+1 : src1.find(\".gif\") ]"
   ]
  },
  {
   "cell_type": "code",
   "execution_count": 19,
   "id": "52404524",
   "metadata": {},
   "outputs": [
    {
     "name": "stdout",
     "output_type": "stream",
     "text": [
      "13\n",
      "23\n",
      "26\n",
      "40\n",
      "41\n",
      "43\n",
      "special_no\n",
      "14\n"
     ]
    }
   ],
   "source": [
    "for i in range(1,9):\n",
    "    src1=getNo(drawResult,i).img.get(\"src\")\n",
    "    no=src1[src1.find(\"_\")+1 : src1.find(\".gif\") ]\n",
    "    print(no)"
   ]
  },
  {
   "cell_type": "code",
   "execution_count": 20,
   "id": "1158f5c1",
   "metadata": {},
   "outputs": [
    {
     "name": "stdout",
     "output_type": "stream",
     "text": [
      "13\n",
      "23\n",
      "26\n",
      "40\n",
      "41\n",
      "43\n",
      "+\n",
      "14\n"
     ]
    }
   ],
   "source": [
    "for i in range(1,9):\n",
    "    src1=getNo(drawResult,i).img.get(\"src\")\n",
    "    no=src1[src1.find(\"_\")+1 : src1.find(\".gif\") ]\n",
    "    if i == 7:\n",
    "        no = '+'\n",
    "    print(no)"
   ]
  },
  {
   "cell_type": "code",
   "execution_count": 21,
   "id": "377294ca",
   "metadata": {},
   "outputs": [],
   "source": [
    "currDrawResult={}\n",
    "currDrawResultList=[]\n",
    "for i in range(1,9):\n",
    "    src1=getNo(drawResult,i).img.get(\"src\")\n",
    "    no=src1[src1.find(\"_\")+1 : src1.find(\".gif\") ]\n",
    "    if i == 7:\n",
    "        no = '+'\n",
    "    currDrawResult[i]=no\n",
    "    currDrawResultList.append(no)\n"
   ]
  },
  {
   "cell_type": "code",
   "execution_count": 22,
   "id": "ef4207fd",
   "metadata": {},
   "outputs": [
    {
     "data": {
      "text/plain": [
       "{1: '13', 2: '23', 3: '26', 4: '40', 5: '41', 6: '43', 7: '+', 8: '14'}"
      ]
     },
     "execution_count": 22,
     "metadata": {},
     "output_type": "execute_result"
    }
   ],
   "source": [
    "currDrawResult"
   ]
  },
  {
   "cell_type": "code",
   "execution_count": 23,
   "id": "2082040b",
   "metadata": {},
   "outputs": [
    {
     "data": {
      "text/html": [
       "<div>\n",
       "<style scoped>\n",
       "    .dataframe tbody tr th:only-of-type {\n",
       "        vertical-align: middle;\n",
       "    }\n",
       "\n",
       "    .dataframe tbody tr th {\n",
       "        vertical-align: top;\n",
       "    }\n",
       "\n",
       "    .dataframe thead th {\n",
       "        text-align: right;\n",
       "    }\n",
       "</style>\n",
       "<table border=\"1\" class=\"dataframe\">\n",
       "  <thead>\n",
       "    <tr style=\"text-align: right;\">\n",
       "      <th></th>\n",
       "      <th>1</th>\n",
       "      <th>2</th>\n",
       "      <th>3</th>\n",
       "      <th>4</th>\n",
       "      <th>5</th>\n",
       "      <th>6</th>\n",
       "      <th>7</th>\n",
       "      <th>8</th>\n",
       "    </tr>\n",
       "  </thead>\n",
       "  <tbody>\n",
       "    <tr>\n",
       "      <th>0</th>\n",
       "      <td>13</td>\n",
       "      <td>23</td>\n",
       "      <td>26</td>\n",
       "      <td>40</td>\n",
       "      <td>41</td>\n",
       "      <td>43</td>\n",
       "      <td>+</td>\n",
       "      <td>14</td>\n",
       "    </tr>\n",
       "  </tbody>\n",
       "</table>\n",
       "</div>"
      ],
      "text/plain": [
       "    1   2   3   4   5   6  7   8\n",
       "0  13  23  26  40  41  43  +  14"
      ]
     },
     "execution_count": 23,
     "metadata": {},
     "output_type": "execute_result"
    }
   ],
   "source": [
    "cdl = []\n",
    "cdl.append(currDrawResult)\n",
    "#dfc=pd.DataFrame.from_records(cdl, columns=['1st','2nd', '3rd','4th','5th','6th','SP', 'SP No'])\n",
    "dfc=pd.DataFrame.from_records(cdl)\n",
    "#dfc[\"SP No\"]=dfc[8]\n",
    "#dfc.drop(columns=[7, 8])\n",
    "dfc"
   ]
  },
  {
   "cell_type": "code",
   "execution_count": 24,
   "id": "a1d9cab6",
   "metadata": {},
   "outputs": [],
   "source": [
    "#dfc.columns=[\"1\",\"2\",\"3\",\"4\",\"5\",\"6\",\"SP No\"]"
   ]
  },
  {
   "cell_type": "code",
   "execution_count": 24,
   "id": "61fcab0b",
   "metadata": {},
   "outputs": [
    {
     "data": {
      "text/plain": [
       "['13', '23', '26', '40', '41', '43', '+', '14']"
      ]
     },
     "execution_count": 24,
     "metadata": {},
     "output_type": "execute_result"
    }
   ],
   "source": [
    "currDrawResultList"
   ]
  },
  {
   "cell_type": "markdown",
   "id": "8c94de6a",
   "metadata": {},
   "source": [
    "## Historical Draw Results"
   ]
  },
  {
   "cell_type": "code",
   "execution_count": 25,
   "id": "d36ae100",
   "metadata": {},
   "outputs": [],
   "source": [
    "driver.get(\"https://bet.hkjc.com/marksix/Results.aspx?lang=en\")"
   ]
  },
  {
   "cell_type": "code",
   "execution_count": 26,
   "id": "48434d85",
   "metadata": {},
   "outputs": [],
   "source": [
    "time.sleep(10)"
   ]
  },
  {
   "cell_type": "code",
   "execution_count": 27,
   "id": "7a3696b0",
   "metadata": {},
   "outputs": [],
   "source": [
    "html2=driver.page_source"
   ]
  },
  {
   "cell_type": "code",
   "execution_count": 28,
   "id": "44351832",
   "metadata": {},
   "outputs": [],
   "source": [
    "text_non2 = html2.replace(\"\\n\",\"\")"
   ]
  },
  {
   "cell_type": "code",
   "execution_count": 29,
   "id": "11d94590",
   "metadata": {},
   "outputs": [],
   "source": [
    "bsObj2 = BeautifulSoup(text_non2, \"html.parser\")"
   ]
  },
  {
   "cell_type": "code",
   "execution_count": 30,
   "id": "5e56c23c",
   "metadata": {},
   "outputs": [],
   "source": [
    "histDrawResults=bsObj2.find_all(\"div\", { \"class\" : \"resultMainRow\"} )"
   ]
  },
  {
   "cell_type": "raw",
   "id": "d9a3a8bc",
   "metadata": {},
   "source": [
    "histDrawResults"
   ]
  },
  {
   "cell_type": "code",
   "execution_count": 31,
   "id": "4eaaa879",
   "metadata": {},
   "outputs": [
    {
     "name": "stdout",
     "output_type": "stream",
     "text": [
      "{'drawId': '23/084', 'drawDate': '29/07/2023'}\n",
      "{'drawId': '23/083', 'drawDate': '27/07/2023'}\n",
      "{'drawId': '23/082', 'drawDate': '25/07/2023'}\n",
      "{'drawId': '23/081', 'drawDate': '20/07/2023'}\n",
      "{'drawId': '23/080', 'drawDate': '18/07/2023'}\n",
      "{'drawId': '23/079', 'drawDate': '15/07/2023'}\n",
      "{'drawId': '23/078', 'drawDate': '13/07/2023'}\n",
      "{'drawId': '23/077', 'drawDate': '11/07/2023'}\n",
      "{'drawId': '23/076', 'drawDate': '08/07/2023'}\n",
      "{'drawId': '23/075', 'drawDate': '04/07/2023'}\n"
     ]
    }
   ],
   "source": [
    "allHistDR = []\n",
    "for hdr in histDrawResults:\n",
    "    eachHistDR = {}\n",
    "    drawId = \"\"\n",
    "    for idx, hdrc in enumerate(hdr.children):\n",
    "        if idx == 0:\n",
    "            drawId = hdrc.find(\"a\").get_text()\n",
    "            eachHistDR[\"drawId\"]=drawId[0:6]\n",
    "        if idx == 1:\n",
    "            drawDate = hdrc.get_text()    \n",
    "            eachHistDR[\"drawDate\"]=drawDate\n",
    "    allHistDR.append(eachHistDR)\n",
    "#print(allHistDR)\n",
    "for i in allHistDR:\n",
    "    print(i)"
   ]
  },
  {
   "cell_type": "code",
   "execution_count": 32,
   "id": "8ca689eb",
   "metadata": {},
   "outputs": [
    {
     "name": "stdout",
     "output_type": "stream",
     "text": [
      "23/084 29/07/2023\n",
      "['13', '23', '26', '40', '41', '43', '+', '14']\n",
      " \n",
      "23/083 27/07/2023\n",
      "['13', '15', '17', '18', '20', '43', '+', '39']\n",
      " \n",
      "23/082 25/07/2023\n",
      "['01', '02', '10', '13', '29', '47', '+', '09']\n",
      " \n",
      "23/081 20/07/2023\n",
      "['04', '16', '18', '34', '35', '46', '+', '47']\n",
      " \n",
      "23/080 18/07/2023\n",
      "['15', '16', '34', '36', '39', '40', '+', '42']\n",
      " \n",
      "23/079 15/07/2023\n",
      "['04', '09', '12', '33', '37', '42', '+', '03']\n",
      " \n",
      "23/078 13/07/2023\n",
      "['03', '08', '11', '23', '36', '38', '+', '33']\n",
      " \n",
      "23/077 11/07/2023\n",
      "['07', '19', '22', '27', '40', '47', '+', '13']\n",
      " \n",
      "23/076 08/07/2023\n",
      "['01', '11', '22', '26', '38', '39', '+', '27']\n",
      " \n",
      "23/075 04/07/2023\n",
      "['05', '15', '20', '29', '32', '37', '+', '18']\n",
      " \n"
     ]
    }
   ],
   "source": [
    "allHistDR = []\n",
    "for hdr in histDrawResults:\n",
    "    eachHistDR = {}\n",
    "    drawId = \"\"\n",
    "    for idx, hdrc in enumerate(hdr.children):\n",
    "        if idx == 0:\n",
    "            drawId = hdrc.find(\"a\").get_text()\n",
    "            eachHistDR[\"drawId\"]=drawId[0:6]\n",
    "        if idx == 1:\n",
    "            drawDate = hdrc.get_text()    \n",
    "            eachHistDR[\"drawDate\"]=drawDate\n",
    "        if idx == 3:\n",
    "            #print(hdrc)\n",
    "            eachDR = []\n",
    "            for idxe, r in enumerate(hdrc.children):\n",
    "                srce = r.find(\"img\").get(\"src\")\n",
    "                noe=srce[srce.find(\"_\")+1 : srce.find(\"_s.gif\") ]\n",
    "                if idxe == 6:\n",
    "                    noe = \"+\"\n",
    "                eachDR.append(noe)\n",
    "                #print(idxe,noe)\n",
    "            #print(\" \")\n",
    "            eachHistDR[\"drawNumber\"]=eachDR\n",
    "    allHistDR.append(eachHistDR)\n",
    "#print(allHistDR)\n",
    "for i in allHistDR:\n",
    "    print(i[\"drawId\"], i[\"drawDate\"])\n",
    "    print(i[\"drawNumber\"])\n",
    "    print(\" \")"
   ]
  },
  {
   "cell_type": "code",
   "execution_count": 33,
   "id": "de861362",
   "metadata": {},
   "outputs": [
    {
     "data": {
      "text/html": [
       "<div>\n",
       "<style scoped>\n",
       "    .dataframe tbody tr th:only-of-type {\n",
       "        vertical-align: middle;\n",
       "    }\n",
       "\n",
       "    .dataframe tbody tr th {\n",
       "        vertical-align: top;\n",
       "    }\n",
       "\n",
       "    .dataframe thead th {\n",
       "        text-align: right;\n",
       "    }\n",
       "</style>\n",
       "<table border=\"1\" class=\"dataframe\">\n",
       "  <thead>\n",
       "    <tr style=\"text-align: right;\">\n",
       "      <th></th>\n",
       "      <th>drawId</th>\n",
       "      <th>drawDate</th>\n",
       "      <th>1st</th>\n",
       "      <th>2nd</th>\n",
       "      <th>3rd</th>\n",
       "      <th>4th</th>\n",
       "      <th>5th</th>\n",
       "      <th>6th</th>\n",
       "      <th>SP No</th>\n",
       "    </tr>\n",
       "  </thead>\n",
       "  <tbody>\n",
       "    <tr>\n",
       "      <th>0</th>\n",
       "      <td>23/084</td>\n",
       "      <td>29/07/2023</td>\n",
       "      <td>13</td>\n",
       "      <td>23</td>\n",
       "      <td>26</td>\n",
       "      <td>40</td>\n",
       "      <td>41</td>\n",
       "      <td>43</td>\n",
       "      <td>14</td>\n",
       "    </tr>\n",
       "    <tr>\n",
       "      <th>1</th>\n",
       "      <td>23/083</td>\n",
       "      <td>27/07/2023</td>\n",
       "      <td>13</td>\n",
       "      <td>15</td>\n",
       "      <td>17</td>\n",
       "      <td>18</td>\n",
       "      <td>20</td>\n",
       "      <td>43</td>\n",
       "      <td>39</td>\n",
       "    </tr>\n",
       "    <tr>\n",
       "      <th>2</th>\n",
       "      <td>23/082</td>\n",
       "      <td>25/07/2023</td>\n",
       "      <td>01</td>\n",
       "      <td>02</td>\n",
       "      <td>10</td>\n",
       "      <td>13</td>\n",
       "      <td>29</td>\n",
       "      <td>47</td>\n",
       "      <td>09</td>\n",
       "    </tr>\n",
       "    <tr>\n",
       "      <th>3</th>\n",
       "      <td>23/081</td>\n",
       "      <td>20/07/2023</td>\n",
       "      <td>04</td>\n",
       "      <td>16</td>\n",
       "      <td>18</td>\n",
       "      <td>34</td>\n",
       "      <td>35</td>\n",
       "      <td>46</td>\n",
       "      <td>47</td>\n",
       "    </tr>\n",
       "    <tr>\n",
       "      <th>4</th>\n",
       "      <td>23/080</td>\n",
       "      <td>18/07/2023</td>\n",
       "      <td>15</td>\n",
       "      <td>16</td>\n",
       "      <td>34</td>\n",
       "      <td>36</td>\n",
       "      <td>39</td>\n",
       "      <td>40</td>\n",
       "      <td>42</td>\n",
       "    </tr>\n",
       "    <tr>\n",
       "      <th>5</th>\n",
       "      <td>23/079</td>\n",
       "      <td>15/07/2023</td>\n",
       "      <td>04</td>\n",
       "      <td>09</td>\n",
       "      <td>12</td>\n",
       "      <td>33</td>\n",
       "      <td>37</td>\n",
       "      <td>42</td>\n",
       "      <td>03</td>\n",
       "    </tr>\n",
       "    <tr>\n",
       "      <th>6</th>\n",
       "      <td>23/078</td>\n",
       "      <td>13/07/2023</td>\n",
       "      <td>03</td>\n",
       "      <td>08</td>\n",
       "      <td>11</td>\n",
       "      <td>23</td>\n",
       "      <td>36</td>\n",
       "      <td>38</td>\n",
       "      <td>33</td>\n",
       "    </tr>\n",
       "    <tr>\n",
       "      <th>7</th>\n",
       "      <td>23/077</td>\n",
       "      <td>11/07/2023</td>\n",
       "      <td>07</td>\n",
       "      <td>19</td>\n",
       "      <td>22</td>\n",
       "      <td>27</td>\n",
       "      <td>40</td>\n",
       "      <td>47</td>\n",
       "      <td>13</td>\n",
       "    </tr>\n",
       "    <tr>\n",
       "      <th>8</th>\n",
       "      <td>23/076</td>\n",
       "      <td>08/07/2023</td>\n",
       "      <td>01</td>\n",
       "      <td>11</td>\n",
       "      <td>22</td>\n",
       "      <td>26</td>\n",
       "      <td>38</td>\n",
       "      <td>39</td>\n",
       "      <td>27</td>\n",
       "    </tr>\n",
       "    <tr>\n",
       "      <th>9</th>\n",
       "      <td>23/075</td>\n",
       "      <td>04/07/2023</td>\n",
       "      <td>05</td>\n",
       "      <td>15</td>\n",
       "      <td>20</td>\n",
       "      <td>29</td>\n",
       "      <td>32</td>\n",
       "      <td>37</td>\n",
       "      <td>18</td>\n",
       "    </tr>\n",
       "  </tbody>\n",
       "</table>\n",
       "</div>"
      ],
      "text/plain": [
       "   drawId    drawDate 1st 2nd 3rd 4th 5th 6th SP No\n",
       "0  23/084  29/07/2023  13  23  26  40  41  43    14\n",
       "1  23/083  27/07/2023  13  15  17  18  20  43    39\n",
       "2  23/082  25/07/2023  01  02  10  13  29  47    09\n",
       "3  23/081  20/07/2023  04  16  18  34  35  46    47\n",
       "4  23/080  18/07/2023  15  16  34  36  39  40    42\n",
       "5  23/079  15/07/2023  04  09  12  33  37  42    03\n",
       "6  23/078  13/07/2023  03  08  11  23  36  38    33\n",
       "7  23/077  11/07/2023  07  19  22  27  40  47    13\n",
       "8  23/076  08/07/2023  01  11  22  26  38  39    27\n",
       "9  23/075  04/07/2023  05  15  20  29  32  37    18"
      ]
     },
     "execution_count": 33,
     "metadata": {},
     "output_type": "execute_result"
    }
   ],
   "source": [
    "allHistDR = []\n",
    "for hdr in histDrawResults:\n",
    "    eachHistDR = {}\n",
    "    drawId = \"\"\n",
    "    for idx, hdrc in enumerate(hdr.children):\n",
    "        if idx == 0:\n",
    "            drawId = hdrc.find(\"a\").get_text()\n",
    "            eachHistDR[\"drawId\"]=drawId[0:6]\n",
    "        if idx == 1:\n",
    "            drawDate = hdrc.get_text()    \n",
    "            eachHistDR[\"drawDate\"]=drawDate\n",
    "        if idx == 3:\n",
    "            #print(hdrc)\n",
    "            eachDR = []\n",
    "            for idxe, r in enumerate(hdrc.children):\n",
    "                srce = r.find(\"img\").get(\"src\")\n",
    "                noe=srce[srce.find(\"_\")+1 : srce.find(\"_s.gif\") ]\n",
    "                if idxe == 6:\n",
    "                    noe = \"+\"\n",
    "                eachDR.append(noe)\n",
    "            #eachHistDR[\"drawNumber\"]=eachDR\n",
    "            eachHistDR[\"1st\"]=eachDR[0]\n",
    "            eachHistDR[\"2nd\"]=eachDR[1]\n",
    "            eachHistDR[\"3rd\"]=eachDR[2]\n",
    "            eachHistDR[\"4th\"]=eachDR[3]\n",
    "            eachHistDR[\"5th\"]=eachDR[4]\n",
    "            eachHistDR[\"6th\"]=eachDR[5]\n",
    "            eachHistDR[\"SP No\"]=eachDR[7]\n",
    "    allHistDR.append(eachHistDR)\n",
    "#for i in allHistDR:\n",
    "#    print(i)\n",
    "df=pd.DataFrame.from_records(allHistDR)\n",
    "df"
   ]
  },
  {
   "cell_type": "code",
   "execution_count": 34,
   "id": "9dbc9d55",
   "metadata": {},
   "outputs": [
    {
     "name": "stdout",
     "output_type": "stream",
     "text": [
      "    1   2   3   4   5   6  7   8\n",
      "0  13  23  26  40  41  43  +  14\n",
      " \n",
      "   drawId    drawDate 1st 2nd 3rd 4th 5th 6th SP No\n",
      "0  23/084  29/07/2023  13  23  26  40  41  43    14\n",
      "1  23/083  27/07/2023  13  15  17  18  20  43    39\n",
      "2  23/082  25/07/2023  01  02  10  13  29  47    09\n",
      "3  23/081  20/07/2023  04  16  18  34  35  46    47\n",
      "4  23/080  18/07/2023  15  16  34  36  39  40    42\n",
      "5  23/079  15/07/2023  04  09  12  33  37  42    03\n",
      "6  23/078  13/07/2023  03  08  11  23  36  38    33\n",
      "7  23/077  11/07/2023  07  19  22  27  40  47    13\n",
      "8  23/076  08/07/2023  01  11  22  26  38  39    27\n",
      "9  23/075  04/07/2023  05  15  20  29  32  37    18\n"
     ]
    }
   ],
   "source": [
    "print(dfc)\n",
    "print(\" \")\n",
    "print(df)"
   ]
  },
  {
   "cell_type": "code",
   "execution_count": 35,
   "id": "a5efb46f",
   "metadata": {},
   "outputs": [],
   "source": [
    "driver.quit()\n",
    "# In the end, always close or quit the driver to ensure all system resources are freed up"
   ]
  },
  {
   "cell_type": "code",
   "execution_count": null,
   "id": "c97d20eb",
   "metadata": {},
   "outputs": [],
   "source": []
  }
 ],
 "metadata": {
  "kernelspec": {
   "display_name": "Python 3 (ipykernel)",
   "language": "python",
   "name": "python3"
  },
  "language_info": {
   "codemirror_mode": {
    "name": "ipython",
    "version": 3
   },
   "file_extension": ".py",
   "mimetype": "text/x-python",
   "name": "python",
   "nbconvert_exporter": "python",
   "pygments_lexer": "ipython3",
   "version": "3.10.9"
  }
 },
 "nbformat": 4,
 "nbformat_minor": 5
}
